{
 "cells": [
  {
   "cell_type": "code",
   "execution_count": 60,
   "id": "dd8ca505",
   "metadata": {},
   "outputs": [
    {
     "name": "stderr",
     "output_type": "stream",
     "text": [
      "<ipython-input-60-7ace8cc495f5>:7: UserWarning:\n",
      "\n",
      "\n",
      "The dash_core_components package is deprecated. Please replace\n",
      "`import dash_core_components as dcc` with `from dash import dcc`\n",
      "\n",
      "<ipython-input-60-7ace8cc495f5>:8: UserWarning:\n",
      "\n",
      "\n",
      "The dash_html_components package is deprecated. Please replace\n",
      "`import dash_html_components as html` with `from dash import html`\n",
      "\n"
     ]
    }
   ],
   "source": [
    "import pandas as pnd\n",
    "import plotly.express as px\n",
    "import seaborn as sns\n",
    "import numpy as np\n",
    "import matplotlib.pyplot as plt\n",
    "import dash\n",
    "import dash_core_components as dcc\n",
    "import dash_html_components as html\n",
    "from dash.dependencies import Input, Output"
   ]
  },
  {
   "cell_type": "code",
   "execution_count": 3,
   "id": "3596f85a",
   "metadata": {},
   "outputs": [],
   "source": [
    "data=pnd.read_csv('uber vs lyft.csv')\n",
    "pnd.set_option('max_columns', None)\n",
    "data=data.iloc[:,1:]"
   ]
  },
  {
   "cell_type": "code",
   "execution_count": 4,
   "id": "bedc6fa6",
   "metadata": {},
   "outputs": [],
   "source": [
    "uber_data=data[data['cab_type']=='Uber']\n",
    "uber_data=uber_data.reset_index()\n",
    "uber_data=uber_data.iloc[:,1:]"
   ]
  },
  {
   "cell_type": "code",
   "execution_count": 5,
   "id": "2693875b",
   "metadata": {},
   "outputs": [],
   "source": [
    "lyft_data=data[data['cab_type']=='Lyft']\n",
    "lyft_data=lyft_data.reset_index()\n",
    "lyft_data=lyft_data.iloc[:,1:]"
   ]
  },
  {
   "cell_type": "code",
   "execution_count": 6,
   "id": "70472256",
   "metadata": {},
   "outputs": [
    {
     "data": {
      "text/html": [
       "<div>\n",
       "<style scoped>\n",
       "    .dataframe tbody tr th:only-of-type {\n",
       "        vertical-align: middle;\n",
       "    }\n",
       "\n",
       "    .dataframe tbody tr th {\n",
       "        vertical-align: top;\n",
       "    }\n",
       "\n",
       "    .dataframe thead th {\n",
       "        text-align: right;\n",
       "    }\n",
       "</style>\n",
       "<table border=\"1\" class=\"dataframe\">\n",
       "  <thead>\n",
       "    <tr style=\"text-align: right;\">\n",
       "      <th></th>\n",
       "      <th>id</th>\n",
       "      <th>timestamp</th>\n",
       "      <th>hour</th>\n",
       "      <th>day</th>\n",
       "      <th>month</th>\n",
       "      <th>datetime</th>\n",
       "      <th>source</th>\n",
       "      <th>destination</th>\n",
       "      <th>cab_type</th>\n",
       "      <th>product_id</th>\n",
       "      <th>name</th>\n",
       "      <th>price</th>\n",
       "      <th>distance</th>\n",
       "      <th>surge_multiplier</th>\n",
       "      <th>temperature</th>\n",
       "      <th>long_summary</th>\n",
       "      <th>icon</th>\n",
       "      <th>visibility</th>\n",
       "      <th>temperatureHigh</th>\n",
       "      <th>temperatureLow</th>\n",
       "      <th>apparentTemperatureHigh</th>\n",
       "      <th>apparentTemperatureLow</th>\n",
       "      <th>latitude</th>\n",
       "      <th>longitude</th>\n",
       "      <th>days name</th>\n",
       "      <th>time of drive</th>\n",
       "    </tr>\n",
       "  </thead>\n",
       "  <tbody>\n",
       "    <tr>\n",
       "      <th>0</th>\n",
       "      <td>a7b50600-c6c5-4e6c-bea9-4487344196d4</td>\n",
       "      <td>1.543204e+09</td>\n",
       "      <td>3</td>\n",
       "      <td>26</td>\n",
       "      <td>11</td>\n",
       "      <td>2018-11-26 03:40:46</td>\n",
       "      <td>North Station</td>\n",
       "      <td>Haymarket Square</td>\n",
       "      <td>Uber</td>\n",
       "      <td>55c66225-fbe7-4fd5-9072-eab1ece5e23e</td>\n",
       "      <td>UberX</td>\n",
       "      <td>7.000000</td>\n",
       "      <td>0.56</td>\n",
       "      <td>1.0</td>\n",
       "      <td>41.83</td>\n",
       "      <td>Rain in the morning and afternoon.</td>\n",
       "      <td>fog</td>\n",
       "      <td>1.685</td>\n",
       "      <td>46.15</td>\n",
       "      <td>40.15</td>\n",
       "      <td>43.17</td>\n",
       "      <td>39.21</td>\n",
       "      <td>42.3429</td>\n",
       "      <td>-71.1003</td>\n",
       "      <td>Monday</td>\n",
       "      <td>Late Night</td>\n",
       "    </tr>\n",
       "    <tr>\n",
       "      <th>1</th>\n",
       "      <td>9962f244-8fce-4ae9-a583-139d5d7522e1</td>\n",
       "      <td>1.543204e+09</td>\n",
       "      <td>3</td>\n",
       "      <td>26</td>\n",
       "      <td>11</td>\n",
       "      <td>2018-11-26 03:40:46</td>\n",
       "      <td>Theatre District</td>\n",
       "      <td>North End</td>\n",
       "      <td>Uber</td>\n",
       "      <td>8cf7e821-f0d3-49c6-8eba-e679c0ebcf6a</td>\n",
       "      <td>Taxi</td>\n",
       "      <td>16.545125</td>\n",
       "      <td>1.57</td>\n",
       "      <td>1.0</td>\n",
       "      <td>41.83</td>\n",
       "      <td>Rain in the morning and afternoon.</td>\n",
       "      <td>fog</td>\n",
       "      <td>1.685</td>\n",
       "      <td>46.15</td>\n",
       "      <td>40.15</td>\n",
       "      <td>43.17</td>\n",
       "      <td>39.21</td>\n",
       "      <td>42.3429</td>\n",
       "      <td>-71.1003</td>\n",
       "      <td>Monday</td>\n",
       "      <td>Late Night</td>\n",
       "    </tr>\n",
       "    <tr>\n",
       "      <th>2</th>\n",
       "      <td>4aa68a5d-abc0-4fdf-a47f-0003617afbae</td>\n",
       "      <td>1.543204e+09</td>\n",
       "      <td>3</td>\n",
       "      <td>26</td>\n",
       "      <td>11</td>\n",
       "      <td>2018-11-26 03:40:46</td>\n",
       "      <td>North End</td>\n",
       "      <td>West End</td>\n",
       "      <td>Lyft</td>\n",
       "      <td>lyft</td>\n",
       "      <td>Lyft</td>\n",
       "      <td>7.000000</td>\n",
       "      <td>1.23</td>\n",
       "      <td>1.0</td>\n",
       "      <td>41.83</td>\n",
       "      <td>Rain in the morning and afternoon.</td>\n",
       "      <td>fog</td>\n",
       "      <td>1.685</td>\n",
       "      <td>46.15</td>\n",
       "      <td>40.15</td>\n",
       "      <td>43.17</td>\n",
       "      <td>39.21</td>\n",
       "      <td>42.3429</td>\n",
       "      <td>-71.1003</td>\n",
       "      <td>Monday</td>\n",
       "      <td>Late Night</td>\n",
       "    </tr>\n",
       "    <tr>\n",
       "      <th>3</th>\n",
       "      <td>ef8b695c-c24d-4ac1-b3fe-4aa1a7ed79f4</td>\n",
       "      <td>1.543204e+09</td>\n",
       "      <td>3</td>\n",
       "      <td>26</td>\n",
       "      <td>11</td>\n",
       "      <td>2018-11-26 03:40:46</td>\n",
       "      <td>Boston University</td>\n",
       "      <td>Beacon Hill</td>\n",
       "      <td>Lyft</td>\n",
       "      <td>lyft_premier</td>\n",
       "      <td>Lux</td>\n",
       "      <td>19.500000</td>\n",
       "      <td>2.66</td>\n",
       "      <td>1.0</td>\n",
       "      <td>41.83</td>\n",
       "      <td>Rain in the morning and afternoon.</td>\n",
       "      <td>fog</td>\n",
       "      <td>1.685</td>\n",
       "      <td>46.15</td>\n",
       "      <td>40.15</td>\n",
       "      <td>43.17</td>\n",
       "      <td>39.21</td>\n",
       "      <td>42.3429</td>\n",
       "      <td>-71.1003</td>\n",
       "      <td>Monday</td>\n",
       "      <td>Late Night</td>\n",
       "    </tr>\n",
       "    <tr>\n",
       "      <th>4</th>\n",
       "      <td>89f35ef7-7129-483d-b3e6-d89afdf6946d</td>\n",
       "      <td>1.543204e+09</td>\n",
       "      <td>3</td>\n",
       "      <td>26</td>\n",
       "      <td>11</td>\n",
       "      <td>2018-11-26 03:40:46</td>\n",
       "      <td>North End</td>\n",
       "      <td>West End</td>\n",
       "      <td>Lyft</td>\n",
       "      <td>lyft_line</td>\n",
       "      <td>Shared</td>\n",
       "      <td>5.000000</td>\n",
       "      <td>1.23</td>\n",
       "      <td>1.0</td>\n",
       "      <td>41.83</td>\n",
       "      <td>Rain in the morning and afternoon.</td>\n",
       "      <td>fog</td>\n",
       "      <td>1.685</td>\n",
       "      <td>46.15</td>\n",
       "      <td>40.15</td>\n",
       "      <td>43.17</td>\n",
       "      <td>39.21</td>\n",
       "      <td>42.3429</td>\n",
       "      <td>-71.1003</td>\n",
       "      <td>Monday</td>\n",
       "      <td>Late Night</td>\n",
       "    </tr>\n",
       "    <tr>\n",
       "      <th>...</th>\n",
       "      <td>...</td>\n",
       "      <td>...</td>\n",
       "      <td>...</td>\n",
       "      <td>...</td>\n",
       "      <td>...</td>\n",
       "      <td>...</td>\n",
       "      <td>...</td>\n",
       "      <td>...</td>\n",
       "      <td>...</td>\n",
       "      <td>...</td>\n",
       "      <td>...</td>\n",
       "      <td>...</td>\n",
       "      <td>...</td>\n",
       "      <td>...</td>\n",
       "      <td>...</td>\n",
       "      <td>...</td>\n",
       "      <td>...</td>\n",
       "      <td>...</td>\n",
       "      <td>...</td>\n",
       "      <td>...</td>\n",
       "      <td>...</td>\n",
       "      <td>...</td>\n",
       "      <td>...</td>\n",
       "      <td>...</td>\n",
       "      <td>...</td>\n",
       "      <td>...</td>\n",
       "    </tr>\n",
       "    <tr>\n",
       "      <th>693066</th>\n",
       "      <td>e299c3bf-a429-4b19-af4a-ebd8e9ad74f7</td>\n",
       "      <td>1.545161e+09</td>\n",
       "      <td>19</td>\n",
       "      <td>18</td>\n",
       "      <td>12</td>\n",
       "      <td>2018-12-18 19:15:10</td>\n",
       "      <td>Financial District</td>\n",
       "      <td>Haymarket Square</td>\n",
       "      <td>Uber</td>\n",
       "      <td>55c66225-fbe7-4fd5-9072-eab1ece5e23e</td>\n",
       "      <td>UberX</td>\n",
       "      <td>7.000000</td>\n",
       "      <td>1.25</td>\n",
       "      <td>1.0</td>\n",
       "      <td>32.34</td>\n",
       "      <td>Mostly cloudy throughout the day.</td>\n",
       "      <td>clear-day</td>\n",
       "      <td>9.883</td>\n",
       "      <td>32.97</td>\n",
       "      <td>20.95</td>\n",
       "      <td>22.90</td>\n",
       "      <td>14.26</td>\n",
       "      <td>42.3519</td>\n",
       "      <td>-71.0551</td>\n",
       "      <td>Tuesday</td>\n",
       "      <td>Evening</td>\n",
       "    </tr>\n",
       "    <tr>\n",
       "      <th>693067</th>\n",
       "      <td>20caa061-2ded-49f8-882b-1e7eae6285ff</td>\n",
       "      <td>1.545161e+09</td>\n",
       "      <td>19</td>\n",
       "      <td>18</td>\n",
       "      <td>12</td>\n",
       "      <td>2018-12-18 19:15:10</td>\n",
       "      <td>Fenway</td>\n",
       "      <td>Theatre District</td>\n",
       "      <td>Uber</td>\n",
       "      <td>6d318bcc-22a3-4af6-bddd-b409bfce1546</td>\n",
       "      <td>Black SUV</td>\n",
       "      <td>33.500000</td>\n",
       "      <td>2.66</td>\n",
       "      <td>1.0</td>\n",
       "      <td>32.34</td>\n",
       "      <td>Mostly cloudy throughout the day.</td>\n",
       "      <td>clear-day</td>\n",
       "      <td>9.883</td>\n",
       "      <td>32.97</td>\n",
       "      <td>20.95</td>\n",
       "      <td>22.90</td>\n",
       "      <td>14.26</td>\n",
       "      <td>42.3519</td>\n",
       "      <td>-71.0551</td>\n",
       "      <td>Tuesday</td>\n",
       "      <td>Evening</td>\n",
       "    </tr>\n",
       "    <tr>\n",
       "      <th>693068</th>\n",
       "      <td>7f1cbf41-2136-4e37-889d-dd0dfff02d38</td>\n",
       "      <td>1.545161e+09</td>\n",
       "      <td>19</td>\n",
       "      <td>18</td>\n",
       "      <td>12</td>\n",
       "      <td>2018-12-18 19:15:10</td>\n",
       "      <td>Haymarket Square</td>\n",
       "      <td>Back Bay</td>\n",
       "      <td>Uber</td>\n",
       "      <td>55c66225-fbe7-4fd5-9072-eab1ece5e23e</td>\n",
       "      <td>UberX</td>\n",
       "      <td>11.500000</td>\n",
       "      <td>2.30</td>\n",
       "      <td>1.0</td>\n",
       "      <td>32.34</td>\n",
       "      <td>Mostly cloudy throughout the day.</td>\n",
       "      <td>clear-day</td>\n",
       "      <td>9.883</td>\n",
       "      <td>32.97</td>\n",
       "      <td>20.95</td>\n",
       "      <td>22.90</td>\n",
       "      <td>14.26</td>\n",
       "      <td>42.3519</td>\n",
       "      <td>-71.0551</td>\n",
       "      <td>Tuesday</td>\n",
       "      <td>Evening</td>\n",
       "    </tr>\n",
       "    <tr>\n",
       "      <th>693069</th>\n",
       "      <td>8c28dc35-c4a8-41e8-abe8-d5d65849448d</td>\n",
       "      <td>1.545161e+09</td>\n",
       "      <td>19</td>\n",
       "      <td>18</td>\n",
       "      <td>12</td>\n",
       "      <td>2018-12-18 19:15:10</td>\n",
       "      <td>Northeastern University</td>\n",
       "      <td>Beacon Hill</td>\n",
       "      <td>Lyft</td>\n",
       "      <td>lyft_luxsuv</td>\n",
       "      <td>Lux Black XL</td>\n",
       "      <td>34.000000</td>\n",
       "      <td>3.00</td>\n",
       "      <td>1.0</td>\n",
       "      <td>32.34</td>\n",
       "      <td>Mostly cloudy throughout the day.</td>\n",
       "      <td>clear-day</td>\n",
       "      <td>9.883</td>\n",
       "      <td>32.97</td>\n",
       "      <td>20.95</td>\n",
       "      <td>22.90</td>\n",
       "      <td>14.26</td>\n",
       "      <td>42.3519</td>\n",
       "      <td>-71.0551</td>\n",
       "      <td>Tuesday</td>\n",
       "      <td>Evening</td>\n",
       "    </tr>\n",
       "    <tr>\n",
       "      <th>693070</th>\n",
       "      <td>9117e97f-c492-4964-b090-9328032e00c1</td>\n",
       "      <td>1.545161e+09</td>\n",
       "      <td>19</td>\n",
       "      <td>18</td>\n",
       "      <td>12</td>\n",
       "      <td>2018-12-18 19:15:10</td>\n",
       "      <td>Haymarket Square</td>\n",
       "      <td>Back Bay</td>\n",
       "      <td>Uber</td>\n",
       "      <td>6f72dfc5-27f1-42e8-84db-ccc7a75f6969</td>\n",
       "      <td>UberXL</td>\n",
       "      <td>16.500000</td>\n",
       "      <td>2.30</td>\n",
       "      <td>1.0</td>\n",
       "      <td>32.34</td>\n",
       "      <td>Mostly cloudy throughout the day.</td>\n",
       "      <td>clear-day</td>\n",
       "      <td>9.883</td>\n",
       "      <td>32.97</td>\n",
       "      <td>20.95</td>\n",
       "      <td>22.90</td>\n",
       "      <td>14.26</td>\n",
       "      <td>42.3519</td>\n",
       "      <td>-71.0551</td>\n",
       "      <td>Tuesday</td>\n",
       "      <td>Evening</td>\n",
       "    </tr>\n",
       "  </tbody>\n",
       "</table>\n",
       "<p>693071 rows × 26 columns</p>\n",
       "</div>"
      ],
      "text/plain": [
       "                                          id     timestamp  hour  day  month  \\\n",
       "0       a7b50600-c6c5-4e6c-bea9-4487344196d4  1.543204e+09     3   26     11   \n",
       "1       9962f244-8fce-4ae9-a583-139d5d7522e1  1.543204e+09     3   26     11   \n",
       "2       4aa68a5d-abc0-4fdf-a47f-0003617afbae  1.543204e+09     3   26     11   \n",
       "3       ef8b695c-c24d-4ac1-b3fe-4aa1a7ed79f4  1.543204e+09     3   26     11   \n",
       "4       89f35ef7-7129-483d-b3e6-d89afdf6946d  1.543204e+09     3   26     11   \n",
       "...                                      ...           ...   ...  ...    ...   \n",
       "693066  e299c3bf-a429-4b19-af4a-ebd8e9ad74f7  1.545161e+09    19   18     12   \n",
       "693067  20caa061-2ded-49f8-882b-1e7eae6285ff  1.545161e+09    19   18     12   \n",
       "693068  7f1cbf41-2136-4e37-889d-dd0dfff02d38  1.545161e+09    19   18     12   \n",
       "693069  8c28dc35-c4a8-41e8-abe8-d5d65849448d  1.545161e+09    19   18     12   \n",
       "693070  9117e97f-c492-4964-b090-9328032e00c1  1.545161e+09    19   18     12   \n",
       "\n",
       "                   datetime                   source       destination  \\\n",
       "0       2018-11-26 03:40:46            North Station  Haymarket Square   \n",
       "1       2018-11-26 03:40:46         Theatre District         North End   \n",
       "2       2018-11-26 03:40:46                North End          West End   \n",
       "3       2018-11-26 03:40:46        Boston University       Beacon Hill   \n",
       "4       2018-11-26 03:40:46                North End          West End   \n",
       "...                     ...                      ...               ...   \n",
       "693066  2018-12-18 19:15:10       Financial District  Haymarket Square   \n",
       "693067  2018-12-18 19:15:10                   Fenway  Theatre District   \n",
       "693068  2018-12-18 19:15:10         Haymarket Square          Back Bay   \n",
       "693069  2018-12-18 19:15:10  Northeastern University       Beacon Hill   \n",
       "693070  2018-12-18 19:15:10         Haymarket Square          Back Bay   \n",
       "\n",
       "       cab_type                            product_id          name  \\\n",
       "0          Uber  55c66225-fbe7-4fd5-9072-eab1ece5e23e         UberX   \n",
       "1          Uber  8cf7e821-f0d3-49c6-8eba-e679c0ebcf6a          Taxi   \n",
       "2          Lyft                                  lyft          Lyft   \n",
       "3          Lyft                          lyft_premier           Lux   \n",
       "4          Lyft                             lyft_line        Shared   \n",
       "...         ...                                   ...           ...   \n",
       "693066     Uber  55c66225-fbe7-4fd5-9072-eab1ece5e23e         UberX   \n",
       "693067     Uber  6d318bcc-22a3-4af6-bddd-b409bfce1546     Black SUV   \n",
       "693068     Uber  55c66225-fbe7-4fd5-9072-eab1ece5e23e         UberX   \n",
       "693069     Lyft                           lyft_luxsuv  Lux Black XL   \n",
       "693070     Uber  6f72dfc5-27f1-42e8-84db-ccc7a75f6969        UberXL   \n",
       "\n",
       "            price  distance  surge_multiplier  temperature  \\\n",
       "0        7.000000      0.56               1.0        41.83   \n",
       "1       16.545125      1.57               1.0        41.83   \n",
       "2        7.000000      1.23               1.0        41.83   \n",
       "3       19.500000      2.66               1.0        41.83   \n",
       "4        5.000000      1.23               1.0        41.83   \n",
       "...           ...       ...               ...          ...   \n",
       "693066   7.000000      1.25               1.0        32.34   \n",
       "693067  33.500000      2.66               1.0        32.34   \n",
       "693068  11.500000      2.30               1.0        32.34   \n",
       "693069  34.000000      3.00               1.0        32.34   \n",
       "693070  16.500000      2.30               1.0        32.34   \n",
       "\n",
       "                                long_summary         icon  visibility  \\\n",
       "0        Rain in the morning and afternoon.          fog        1.685   \n",
       "1        Rain in the morning and afternoon.          fog        1.685   \n",
       "2        Rain in the morning and afternoon.          fog        1.685   \n",
       "3        Rain in the morning and afternoon.          fog        1.685   \n",
       "4        Rain in the morning and afternoon.          fog        1.685   \n",
       "...                                      ...          ...         ...   \n",
       "693066    Mostly cloudy throughout the day.    clear-day        9.883   \n",
       "693067    Mostly cloudy throughout the day.    clear-day        9.883   \n",
       "693068    Mostly cloudy throughout the day.    clear-day        9.883   \n",
       "693069    Mostly cloudy throughout the day.    clear-day        9.883   \n",
       "693070    Mostly cloudy throughout the day.    clear-day        9.883   \n",
       "\n",
       "        temperatureHigh  temperatureLow  apparentTemperatureHigh  \\\n",
       "0                 46.15           40.15                    43.17   \n",
       "1                 46.15           40.15                    43.17   \n",
       "2                 46.15           40.15                    43.17   \n",
       "3                 46.15           40.15                    43.17   \n",
       "4                 46.15           40.15                    43.17   \n",
       "...                 ...             ...                      ...   \n",
       "693066            32.97           20.95                    22.90   \n",
       "693067            32.97           20.95                    22.90   \n",
       "693068            32.97           20.95                    22.90   \n",
       "693069            32.97           20.95                    22.90   \n",
       "693070            32.97           20.95                    22.90   \n",
       "\n",
       "        apparentTemperatureLow  latitude  longitude days name time of drive  \n",
       "0                        39.21   42.3429   -71.1003    Monday    Late Night  \n",
       "1                        39.21   42.3429   -71.1003    Monday    Late Night  \n",
       "2                        39.21   42.3429   -71.1003    Monday    Late Night  \n",
       "3                        39.21   42.3429   -71.1003    Monday    Late Night  \n",
       "4                        39.21   42.3429   -71.1003    Monday    Late Night  \n",
       "...                        ...       ...        ...       ...           ...  \n",
       "693066                   14.26   42.3519   -71.0551   Tuesday       Evening  \n",
       "693067                   14.26   42.3519   -71.0551   Tuesday       Evening  \n",
       "693068                   14.26   42.3519   -71.0551   Tuesday       Evening  \n",
       "693069                   14.26   42.3519   -71.0551   Tuesday       Evening  \n",
       "693070                   14.26   42.3519   -71.0551   Tuesday       Evening  \n",
       "\n",
       "[693071 rows x 26 columns]"
      ]
     },
     "execution_count": 6,
     "metadata": {},
     "output_type": "execute_result"
    }
   ],
   "source": [
    "data"
   ]
  },
  {
   "cell_type": "code",
   "execution_count": 92,
   "id": "9884ff8e",
   "metadata": {},
   "outputs": [
    {
     "data": {
      "text/plain": [
       "Black        65\n",
       "Taxi         64\n",
       "Black SUV    62\n",
       "UberPool     62\n",
       "UberX        61\n",
       "UberXL       54\n",
       "WAV          54\n",
       "Name: name, dtype: int64"
      ]
     },
     "execution_count": 92,
     "metadata": {},
     "output_type": "execute_result"
    }
   ],
   "source": [
    "uber_days=uber_data['days name'].value_counts()\n",
    "lyft_days=lyft_data['days name'].value_counts()\n",
    "d=uber_data.drop_duplicates(subset = ['distance'])\n",
    "d=d.sort_values('distance', ascending=True)\n",
    "d['name'].value_counts()"
   ]
  },
  {
   "cell_type": "code",
   "execution_count": 97,
   "id": "10aa0433",
   "metadata": {},
   "outputs": [
    {
     "name": "stdout",
     "output_type": "stream",
     "text": [
      "Dash is running on http://127.0.0.1:8050/\n",
      "\n",
      "Dash is running on http://127.0.0.1:8050/\n",
      "\n",
      "Dash is running on http://127.0.0.1:8050/\n",
      "\n",
      "Dash is running on http://127.0.0.1:8050/\n",
      "\n",
      "Dash is running on http://127.0.0.1:8050/\n",
      "\n",
      "Dash is running on http://127.0.0.1:8050/\n",
      "\n",
      "Dash is running on http://127.0.0.1:8050/\n",
      "\n",
      "Dash is running on http://127.0.0.1:8050/\n",
      "\n",
      "Dash is running on http://127.0.0.1:8050/\n",
      "\n",
      " * Serving Flask app \"__main__\" (lazy loading)\n",
      " * Environment: production\n",
      "\u001b[31m   WARNING: This is a development server. Do not use it in a production deployment.\u001b[0m\n",
      "\u001b[2m   Use a production WSGI server instead.\u001b[0m\n",
      " * Debug mode: on\n"
     ]
    },
    {
     "ename": "OSError",
     "evalue": "[Errno 48] Address already in use",
     "output_type": "error",
     "traceback": [
      "\u001b[0;31m---------------------------------------------------------------------------\u001b[0m",
      "\u001b[0;31mOSError\u001b[0m                                   Traceback (most recent call last)",
      "\u001b[0;32m<ipython-input-97-8ac2a680fa22>\u001b[0m in \u001b[0;36m<module>\u001b[0;34m\u001b[0m\n\u001b[1;32m     21\u001b[0m     \u001b[0mfig\u001b[0m \u001b[0;34m=\u001b[0m \u001b[0mpx\u001b[0m\u001b[0;34m.\u001b[0m\u001b[0mline\u001b[0m\u001b[0;34m(\u001b[0m\u001b[0md\u001b[0m\u001b[0;34m[\u001b[0m\u001b[0mmask\u001b[0m\u001b[0;34m]\u001b[0m\u001b[0;34m,\u001b[0m \u001b[0mx\u001b[0m\u001b[0;34m=\u001b[0m\u001b[0;34m\"distance\"\u001b[0m\u001b[0;34m,\u001b[0m \u001b[0my\u001b[0m\u001b[0;34m=\u001b[0m\u001b[0;34m\"price\"\u001b[0m\u001b[0;34m,\u001b[0m \u001b[0mcolor\u001b[0m\u001b[0;34m=\u001b[0m\u001b[0;34m'name'\u001b[0m\u001b[0;34m)\u001b[0m\u001b[0;34m\u001b[0m\u001b[0;34m\u001b[0m\u001b[0m\n\u001b[1;32m     22\u001b[0m     \u001b[0;32mreturn\u001b[0m \u001b[0mfig\u001b[0m\u001b[0;34m\u001b[0m\u001b[0;34m\u001b[0m\u001b[0m\n\u001b[0;32m---> 23\u001b[0;31m \u001b[0mapp\u001b[0m\u001b[0;34m.\u001b[0m\u001b[0mrun_server\u001b[0m\u001b[0;34m(\u001b[0m\u001b[0mdebug\u001b[0m\u001b[0;34m=\u001b[0m\u001b[0;32mTrue\u001b[0m\u001b[0;34m)\u001b[0m\u001b[0;34m\u001b[0m\u001b[0;34m\u001b[0m\u001b[0m\n\u001b[0m",
      "\u001b[0;32m~/opt/anaconda3/lib/python3.8/site-packages/dash/dash.py\u001b[0m in \u001b[0;36mrun_server\u001b[0;34m(self, host, port, proxy, debug, dev_tools_ui, dev_tools_props_check, dev_tools_serve_dev_bundles, dev_tools_hot_reload, dev_tools_hot_reload_interval, dev_tools_hot_reload_watch_interval, dev_tools_hot_reload_max_retry, dev_tools_silence_routes_logging, dev_tools_prune_errors, **flask_run_options)\u001b[0m\n\u001b[1;32m   2031\u001b[0m                     \u001b[0mextra_files\u001b[0m\u001b[0;34m.\u001b[0m\u001b[0mappend\u001b[0m\u001b[0;34m(\u001b[0m\u001b[0mpath\u001b[0m\u001b[0;34m)\u001b[0m\u001b[0;34m\u001b[0m\u001b[0;34m\u001b[0m\u001b[0m\n\u001b[1;32m   2032\u001b[0m \u001b[0;34m\u001b[0m\u001b[0m\n\u001b[0;32m-> 2033\u001b[0;31m         \u001b[0mself\u001b[0m\u001b[0;34m.\u001b[0m\u001b[0mserver\u001b[0m\u001b[0;34m.\u001b[0m\u001b[0mrun\u001b[0m\u001b[0;34m(\u001b[0m\u001b[0mhost\u001b[0m\u001b[0;34m=\u001b[0m\u001b[0mhost\u001b[0m\u001b[0;34m,\u001b[0m \u001b[0mport\u001b[0m\u001b[0;34m=\u001b[0m\u001b[0mport\u001b[0m\u001b[0;34m,\u001b[0m \u001b[0mdebug\u001b[0m\u001b[0;34m=\u001b[0m\u001b[0mdebug\u001b[0m\u001b[0;34m,\u001b[0m \u001b[0;34m**\u001b[0m\u001b[0mflask_run_options\u001b[0m\u001b[0;34m)\u001b[0m\u001b[0;34m\u001b[0m\u001b[0;34m\u001b[0m\u001b[0m\n\u001b[0m",
      "\u001b[0;32m~/opt/anaconda3/lib/python3.8/site-packages/flask/app.py\u001b[0m in \u001b[0;36mrun\u001b[0;34m(self, host, port, debug, load_dotenv, **options)\u001b[0m\n\u001b[1;32m    988\u001b[0m \u001b[0;34m\u001b[0m\u001b[0m\n\u001b[1;32m    989\u001b[0m         \u001b[0;32mtry\u001b[0m\u001b[0;34m:\u001b[0m\u001b[0;34m\u001b[0m\u001b[0;34m\u001b[0m\u001b[0m\n\u001b[0;32m--> 990\u001b[0;31m             \u001b[0mrun_simple\u001b[0m\u001b[0;34m(\u001b[0m\u001b[0mhost\u001b[0m\u001b[0;34m,\u001b[0m \u001b[0mport\u001b[0m\u001b[0;34m,\u001b[0m \u001b[0mself\u001b[0m\u001b[0;34m,\u001b[0m \u001b[0;34m**\u001b[0m\u001b[0moptions\u001b[0m\u001b[0;34m)\u001b[0m\u001b[0;34m\u001b[0m\u001b[0;34m\u001b[0m\u001b[0m\n\u001b[0m\u001b[1;32m    991\u001b[0m         \u001b[0;32mfinally\u001b[0m\u001b[0;34m:\u001b[0m\u001b[0;34m\u001b[0m\u001b[0;34m\u001b[0m\u001b[0m\n\u001b[1;32m    992\u001b[0m             \u001b[0;31m# reset the first request information if the development server\u001b[0m\u001b[0;34m\u001b[0m\u001b[0;34m\u001b[0m\u001b[0;34m\u001b[0m\u001b[0m\n",
      "\u001b[0;32m~/opt/anaconda3/lib/python3.8/site-packages/werkzeug/serving.py\u001b[0m in \u001b[0;36mrun_simple\u001b[0;34m(hostname, port, application, use_reloader, use_debugger, use_evalex, extra_files, reloader_interval, reloader_type, threaded, processes, request_handler, static_files, passthrough_errors, ssl_context)\u001b[0m\n\u001b[1;32m   1028\u001b[0m             \u001b[0ms\u001b[0m \u001b[0;34m=\u001b[0m \u001b[0msocket\u001b[0m\u001b[0;34m.\u001b[0m\u001b[0msocket\u001b[0m\u001b[0;34m(\u001b[0m\u001b[0maddress_family\u001b[0m\u001b[0;34m,\u001b[0m \u001b[0msocket\u001b[0m\u001b[0;34m.\u001b[0m\u001b[0mSOCK_STREAM\u001b[0m\u001b[0;34m)\u001b[0m\u001b[0;34m\u001b[0m\u001b[0;34m\u001b[0m\u001b[0m\n\u001b[1;32m   1029\u001b[0m             \u001b[0ms\u001b[0m\u001b[0;34m.\u001b[0m\u001b[0msetsockopt\u001b[0m\u001b[0;34m(\u001b[0m\u001b[0msocket\u001b[0m\u001b[0;34m.\u001b[0m\u001b[0mSOL_SOCKET\u001b[0m\u001b[0;34m,\u001b[0m \u001b[0msocket\u001b[0m\u001b[0;34m.\u001b[0m\u001b[0mSO_REUSEADDR\u001b[0m\u001b[0;34m,\u001b[0m \u001b[0;36m1\u001b[0m\u001b[0;34m)\u001b[0m\u001b[0;34m\u001b[0m\u001b[0;34m\u001b[0m\u001b[0m\n\u001b[0;32m-> 1030\u001b[0;31m             \u001b[0ms\u001b[0m\u001b[0;34m.\u001b[0m\u001b[0mbind\u001b[0m\u001b[0;34m(\u001b[0m\u001b[0mserver_address\u001b[0m\u001b[0;34m)\u001b[0m\u001b[0;34m\u001b[0m\u001b[0;34m\u001b[0m\u001b[0m\n\u001b[0m\u001b[1;32m   1031\u001b[0m             \u001b[0;32mif\u001b[0m \u001b[0mhasattr\u001b[0m\u001b[0;34m(\u001b[0m\u001b[0ms\u001b[0m\u001b[0;34m,\u001b[0m \u001b[0;34m\"set_inheritable\"\u001b[0m\u001b[0;34m)\u001b[0m\u001b[0;34m:\u001b[0m\u001b[0;34m\u001b[0m\u001b[0;34m\u001b[0m\u001b[0m\n\u001b[1;32m   1032\u001b[0m                 \u001b[0ms\u001b[0m\u001b[0;34m.\u001b[0m\u001b[0mset_inheritable\u001b[0m\u001b[0;34m(\u001b[0m\u001b[0;32mTrue\u001b[0m\u001b[0;34m)\u001b[0m\u001b[0;34m\u001b[0m\u001b[0;34m\u001b[0m\u001b[0m\n",
      "\u001b[0;31mOSError\u001b[0m: [Errno 48] Address already in use"
     ]
    }
   ],
   "source": [
    "all_continents = d.name.unique()\n",
    "\n",
    "app = dash.Dash(__name__)\n",
    "\n",
    "app.layout = html.Div([\n",
    "    dcc.Checklist(\n",
    "        id=\"checklist\",\n",
    "        options=[{\"label\": x, \"value\": x} \n",
    "                 for x in all_continents],\n",
    "        value=all_continents[:],\n",
    "        labelStyle={'display': 'inline-block'}\n",
    "    ),\n",
    "    dcc.Graph(id=\"line-chart\"),\n",
    "])\n",
    "\n",
    "@app.callback(\n",
    "    Output(\"line-chart\", \"figure\"), \n",
    "    [Input(\"checklist\", \"value\")])\n",
    "def update_line_chart(continents):\n",
    "    mask = d.name.isin(continents)\n",
    "    fig = px.line(d[mask], x=\"distance\", y=\"price\", color='name')\n",
    "    return fig\n",
    "app.run_server(debug=True)"
   ]
  },
  {
   "cell_type": "code",
   "execution_count": 95,
   "id": "016acc9a",
   "metadata": {},
   "outputs": [
    {
     "data": {
      "application/vnd.plotly.v1+json": {
       "config": {
        "plotlyServerURL": "https://plot.ly"
       },
       "data": [
        {
         "hovertemplate": "name=UberX<br>distance=%{x}<br>price=%{y}<extra></extra>",
         "legendgroup": "UberX",
         "line": {
          "color": "#636efa",
          "dash": "solid"
         },
         "marker": {
          "symbol": "circle"
         },
         "mode": "lines",
         "name": "UberX",
         "orientation": "v",
         "showlegend": true,
         "type": "scatter",
         "x": [
          0.02,
          0.12,
          0.3,
          0.35,
          0.52,
          0.56,
          0.62,
          0.73,
          0.76,
          0.8,
          1.1,
          1.18,
          1.43,
          1.5,
          1.56,
          1.62,
          1.75,
          1.8,
          1.82,
          1.84,
          1.91,
          2,
          2.05,
          2.11,
          2.19,
          2.2,
          2.22,
          2.33,
          2.34,
          2.37,
          2.39,
          2.47,
          2.55,
          2.57,
          2.61,
          2.67,
          2.71,
          2.73,
          2.79,
          2.81,
          2.83,
          2.96,
          3.17,
          3.25,
          3.33,
          3.38,
          3.58,
          3.63,
          3.71,
          3.78,
          3.97,
          4.1,
          4.28,
          4.38,
          4.43,
          4.5,
          4.79,
          4.96,
          5.56,
          7.36,
          7.45
         ],
         "xaxis": "x",
         "y": [
          6.5,
          7,
          7,
          7,
          7.5,
          7,
          7.5,
          8.5,
          7.5,
          7,
          7.5,
          7,
          7.5,
          7.5,
          8.5,
          8.5,
          8.5,
          10.5,
          17.5,
          8,
          10.5,
          10.5,
          9.5,
          8.5,
          8,
          10.5,
          10.5,
          12,
          9.5,
          13.5,
          18,
          12.5,
          10.5,
          21.5,
          9.5,
          9.5,
          19.5,
          10.5,
          9.5,
          8.5,
          11,
          10.5,
          11,
          12,
          10.5,
          11.5,
          11.5,
          14,
          13,
          15,
          26,
          13.5,
          14,
          16.5,
          12.5,
          12.5,
          27,
          14.5,
          13.5,
          17,
          16
         ],
         "yaxis": "y"
        },
        {
         "hovertemplate": "name=Black<br>distance=%{x}<br>price=%{y}<extra></extra>",
         "legendgroup": "Black",
         "line": {
          "color": "#EF553B",
          "dash": "solid"
         },
         "marker": {
          "symbol": "circle"
         },
         "mode": "lines",
         "name": "Black",
         "orientation": "v",
         "showlegend": true,
         "type": "scatter",
         "x": [
          0.03,
          0.55,
          0.59,
          0.63,
          0.72,
          0.79,
          0.85,
          0.86,
          0.88,
          0.91,
          0.92,
          1.2,
          1.26,
          1.3,
          1.42,
          1.46,
          1.49,
          1.51,
          1.64,
          1.74,
          1.81,
          1.94,
          2.03,
          2.07,
          2.08,
          2.12,
          2.15,
          2.38,
          2.42,
          2.53,
          2.54,
          2.74,
          2.77,
          2.93,
          3.01,
          3.04,
          3.07,
          3.09,
          3.1,
          3.12,
          3.13,
          3.15,
          3.18,
          3.19,
          3.21,
          3.22,
          3.23,
          3.37,
          3.42,
          3.45,
          3.51,
          3.61,
          3.7,
          4.49,
          4.52,
          4.53,
          4.54,
          4.55,
          4.74,
          4.82,
          6.26,
          6.83,
          6.91,
          7.25,
          7.38
         ],
         "xaxis": "x",
         "y": [
          14,
          15,
          16,
          16,
          15,
          15,
          16,
          16,
          15.5,
          15.5,
          16,
          15,
          15,
          18.5,
          17,
          21.5,
          20.5,
          18.5,
          17.5,
          20.5,
          17.5,
          16,
          19.5,
          24,
          22,
          19.5,
          19.5,
          20.5,
          21,
          21,
          21,
          23,
          25,
          24,
          22.5,
          22,
          25,
          23,
          28,
          25,
          26,
          24,
          29,
          23.5,
          26,
          25,
          30.5,
          26.5,
          28,
          28,
          27,
          28.5,
          26,
          25,
          28.5,
          27,
          29,
          33,
          33,
          31.5,
          34,
          40.5,
          36,
          42.5,
          33
         ],
         "yaxis": "y"
        },
        {
         "hovertemplate": "name=WAV<br>distance=%{x}<br>price=%{y}<extra></extra>",
         "legendgroup": "WAV",
         "line": {
          "color": "#00cc96",
          "dash": "solid"
         },
         "marker": {
          "symbol": "circle"
         },
         "mode": "lines",
         "name": "WAV",
         "orientation": "v",
         "showlegend": true,
         "type": "scatter",
         "x": [
          0.04,
          0.29,
          0.38,
          0.39,
          0.4,
          0.65,
          0.78,
          0.94,
          0.98,
          1.01,
          1.02,
          1.04,
          1.08,
          1.25,
          1.31,
          1.32,
          1.34,
          1.44,
          1.65,
          1.71,
          1.88,
          1.89,
          1.95,
          1.99,
          2.04,
          2.06,
          2.17,
          2.18,
          2.21,
          2.24,
          2.25,
          2.4,
          2.43,
          2.88,
          2.89,
          2.91,
          3.03,
          3.05,
          3.06,
          3.27,
          3.28,
          3.32,
          3.41,
          3.52,
          3.57,
          3.65,
          3.98,
          4.05,
          4.15,
          4.44,
          4.46,
          4.72,
          4.94,
          7.46
         ],
         "xaxis": "x",
         "y": [
          7,
          7,
          7,
          7,
          7,
          6,
          7.5,
          7,
          8.5,
          8.5,
          7,
          8.5,
          7,
          8.5,
          8.5,
          9,
          9,
          8.5,
          11.5,
          8.5,
          8,
          9.5,
          12,
          8.5,
          8.5,
          14,
          9,
          8.5,
          8.5,
          9.5,
          8.5,
          10.5,
          12,
          9.5,
          11.5,
          10.5,
          16,
          10.5,
          11.5,
          12,
          13,
          15,
          11.5,
          17,
          11,
          11.5,
          16,
          14,
          14,
          20.5,
          12.5,
          20.5,
          25,
          16
         ],
         "yaxis": "y"
        },
        {
         "hovertemplate": "name=Black SUV<br>distance=%{x}<br>price=%{y}<extra></extra>",
         "legendgroup": "Black SUV",
         "line": {
          "color": "#ab63fa",
          "dash": "solid"
         },
         "marker": {
          "symbol": "circle"
         },
         "mode": "lines",
         "name": "Black SUV",
         "orientation": "v",
         "showlegend": true,
         "type": "scatter",
         "x": [
          0.17,
          0.5,
          0.53,
          0.67,
          0.71,
          0.97,
          0.99,
          1.14,
          1.22,
          1.33,
          1.48,
          1.55,
          1.61,
          1.68,
          1.72,
          1.79,
          1.87,
          2.09,
          2.14,
          2.16,
          2.28,
          2.3,
          2.35,
          2.46,
          2.48,
          2.5,
          2.51,
          2.59,
          2.65,
          2.66,
          2.69,
          2.82,
          2.85,
          2.86,
          2.87,
          2.9,
          3.2,
          3.24,
          3.4,
          3.44,
          3.56,
          3.66,
          3.8,
          3.85,
          3.89,
          3.96,
          4.12,
          4.3,
          4.33,
          4.35,
          4.48,
          4.51,
          4.57,
          4.59,
          4.7,
          4.8,
          4.84,
          5.02,
          5.1,
          5.66,
          7.19,
          7.24
         ],
         "xaxis": "x",
         "y": [
          27,
          27.5,
          26.5,
          26,
          27.5,
          27,
          26.5,
          26,
          27,
          27,
          28,
          27.5,
          27.5,
          32,
          27,
          29.5,
          30.5,
          30.5,
          27,
          27.5,
          31.5,
          33,
          34,
          29.5,
          27.5,
          28.5,
          32,
          28.5,
          29.5,
          27.5,
          34,
          29,
          29.5,
          30.5,
          32.5,
          34,
          30.5,
          34.5,
          35.5,
          35,
          35,
          40.5,
          37.5,
          39.5,
          34,
          38.5,
          39.5,
          42.5,
          37,
          39.5,
          37,
          42.5,
          36,
          40.5,
          48,
          43.5,
          43,
          37.5,
          43,
          47.5,
          48,
          52.5
         ],
         "yaxis": "y"
        },
        {
         "hovertemplate": "name=Taxi<br>distance=%{x}<br>price=%{y}<extra></extra>",
         "legendgroup": "Taxi",
         "line": {
          "color": "#FFA15A",
          "dash": "solid"
         },
         "marker": {
          "symbol": "circle"
         },
         "mode": "lines",
         "name": "Taxi",
         "orientation": "v",
         "showlegend": true,
         "type": "scatter",
         "x": [
          0.27,
          0.49,
          0.54,
          0.82,
          0.9,
          1.06,
          1.07,
          1.09,
          1.16,
          1.19,
          1.21,
          1.24,
          1.28,
          1.45,
          1.57,
          1.7,
          1.76,
          1.77,
          1.83,
          1.85,
          1.9,
          1.93,
          2.26,
          2.31,
          2.32,
          2.41,
          2.45,
          2.72,
          2.78,
          2.84,
          2.92,
          2.95,
          2.97,
          3,
          3.14,
          3.34,
          3.46,
          3.59,
          3.64,
          3.72,
          3.91,
          3.92,
          3.99,
          4,
          4.03,
          4.07,
          4.13,
          4.39,
          4.47,
          4.62,
          4.71,
          4.73,
          4.78,
          4.86,
          4.91,
          4.93,
          4.98,
          5.12,
          5.16,
          5.69,
          6.27,
          6.97,
          7.2,
          7.5
         ],
         "xaxis": "x",
         "y": [
          16.545125490614065,
          16.545125490614065,
          16.545125490614065,
          16.545125490614065,
          16.545125490614065,
          16.545125490614065,
          16.545125490614065,
          16.545125490614065,
          16.545125490614065,
          16.545125490614065,
          16.545125490614065,
          16.545125490614065,
          16.545125490614065,
          16.545125490614065,
          16.545125490614065,
          16.545125490614065,
          16.545125490614065,
          16.545125490614065,
          16.545125490614065,
          16.545125490614065,
          16.545125490614065,
          16.545125490614065,
          16.545125490614065,
          16.545125490614065,
          16.545125490614065,
          16.545125490614065,
          16.545125490614065,
          16.545125490614065,
          16.545125490614065,
          16.545125490614065,
          16.545125490614065,
          16.545125490614065,
          16.545125490614065,
          16.545125490614065,
          16.545125490614065,
          16.545125490614065,
          16.545125490614065,
          16.545125490614065,
          16.545125490614065,
          16.545125490614065,
          16.545125490614065,
          16.545125490614065,
          16.545125490614065,
          16.545125490614065,
          16.545125490614065,
          16.545125490614065,
          16.545125490614065,
          16.545125490614065,
          16.545125490614065,
          16.545125490614065,
          16.545125490614065,
          16.545125490614065,
          16.545125490614065,
          16.545125490614065,
          16.545125490614065,
          16.545125490614065,
          16.545125490614065,
          16.545125490614065,
          16.545125490614065,
          16.545125490614065,
          16.545125490614065,
          16.545125490614065,
          16.545125490614065,
          16.545125490614065
         ],
         "yaxis": "y"
        },
        {
         "hovertemplate": "name=UberXL<br>distance=%{x}<br>price=%{y}<extra></extra>",
         "legendgroup": "UberXL",
         "line": {
          "color": "#19d3f3",
          "dash": "solid"
         },
         "marker": {
          "symbol": "circle"
         },
         "mode": "lines",
         "name": "UberXL",
         "orientation": "v",
         "showlegend": true,
         "type": "scatter",
         "x": [
          0.47,
          0.61,
          0.7,
          0.89,
          1,
          1.03,
          1.05,
          1.12,
          1.23,
          1.27,
          1.35,
          1.41,
          1.47,
          1.53,
          1.54,
          1.58,
          1.59,
          1.66,
          1.97,
          2.01,
          2.23,
          2.29,
          2.36,
          2.56,
          2.68,
          2.7,
          2.75,
          2.99,
          3.02,
          3.11,
          3.26,
          3.3,
          3.31,
          3.39,
          3.5,
          3.74,
          3.75,
          3.76,
          3.82,
          3.94,
          3.95,
          4.04,
          4.17,
          4.31,
          4.42,
          4.56,
          4.58,
          4.65,
          4.76,
          4.9,
          5.46,
          7.04,
          7.18,
          7.86
         ],
         "xaxis": "x",
         "y": [
          10.5,
          10.5,
          11,
          12,
          12.5,
          11.5,
          15,
          14.5,
          12.5,
          14,
          14,
          11.5,
          11.5,
          15,
          13,
          15,
          13,
          15,
          14,
          15,
          15,
          13.5,
          17,
          18,
          18,
          19.5,
          19.5,
          19,
          17.5,
          18,
          17.5,
          18.5,
          18,
          18,
          22.5,
          21.5,
          23,
          23,
          20.5,
          22.5,
          26,
          25,
          24,
          25,
          21.5,
          23,
          20.5,
          24,
          26,
          43.5,
          22.5,
          27.5,
          27,
          29.5
         ],
         "yaxis": "y"
        },
        {
         "hovertemplate": "name=UberPool<br>distance=%{x}<br>price=%{y}<extra></extra>",
         "legendgroup": "UberPool",
         "line": {
          "color": "#FF6692",
          "dash": "solid"
         },
         "marker": {
          "symbol": "circle"
         },
         "mode": "lines",
         "name": "UberPool",
         "orientation": "v",
         "showlegend": true,
         "type": "scatter",
         "x": [
          0.58,
          0.6,
          0.66,
          0.68,
          0.81,
          0.93,
          1.11,
          1.13,
          1.17,
          1.29,
          1.36,
          1.37,
          1.38,
          1.39,
          1.4,
          1.52,
          1.6,
          1.63,
          1.67,
          1.69,
          1.73,
          1.78,
          1.86,
          1.92,
          1.96,
          1.98,
          2.02,
          2.1,
          2.13,
          2.27,
          2.44,
          2.49,
          2.52,
          2.58,
          2.6,
          2.62,
          2.63,
          2.64,
          2.8,
          2.94,
          2.98,
          3.08,
          3.16,
          3.29,
          3.35,
          3.43,
          3.47,
          3.53,
          3.54,
          3.55,
          3.67,
          3.69,
          3.73,
          3.79,
          3.81,
          4.4,
          4.41,
          4.6,
          5.47,
          5.7,
          7.34,
          7.62
         ],
         "xaxis": "x",
         "y": [
          6.5,
          7,
          6.5,
          5.5,
          6.5,
          6.5,
          7,
          8,
          4.5,
          8,
          9,
          7.5,
          7.5,
          8,
          4.5,
          10,
          6.5,
          8,
          6,
          8.5,
          10,
          8,
          7.5,
          8.5,
          8,
          7.5,
          7.5,
          10,
          9,
          9.5,
          9,
          12.5,
          9,
          8,
          8,
          8.5,
          9,
          15.5,
          10,
          9,
          8.5,
          11,
          10,
          16.5,
          24,
          10,
          9.5,
          11,
          9,
          10,
          12,
          11.5,
          10,
          11,
          9.5,
          12,
          10,
          10,
          11,
          12.5,
          15.5,
          13.5
         ],
         "yaxis": "y"
        }
       ],
       "layout": {
        "legend": {
         "title": {
          "text": "name"
         },
         "tracegroupgap": 0
        },
        "margin": {
         "t": 60
        },
        "template": {
         "data": {
          "bar": [
           {
            "error_x": {
             "color": "#2a3f5f"
            },
            "error_y": {
             "color": "#2a3f5f"
            },
            "marker": {
             "line": {
              "color": "#E5ECF6",
              "width": 0.5
             },
             "pattern": {
              "fillmode": "overlay",
              "size": 10,
              "solidity": 0.2
             }
            },
            "type": "bar"
           }
          ],
          "barpolar": [
           {
            "marker": {
             "line": {
              "color": "#E5ECF6",
              "width": 0.5
             },
             "pattern": {
              "fillmode": "overlay",
              "size": 10,
              "solidity": 0.2
             }
            },
            "type": "barpolar"
           }
          ],
          "carpet": [
           {
            "aaxis": {
             "endlinecolor": "#2a3f5f",
             "gridcolor": "white",
             "linecolor": "white",
             "minorgridcolor": "white",
             "startlinecolor": "#2a3f5f"
            },
            "baxis": {
             "endlinecolor": "#2a3f5f",
             "gridcolor": "white",
             "linecolor": "white",
             "minorgridcolor": "white",
             "startlinecolor": "#2a3f5f"
            },
            "type": "carpet"
           }
          ],
          "choropleth": [
           {
            "colorbar": {
             "outlinewidth": 0,
             "ticks": ""
            },
            "type": "choropleth"
           }
          ],
          "contour": [
           {
            "colorbar": {
             "outlinewidth": 0,
             "ticks": ""
            },
            "colorscale": [
             [
              0,
              "#0d0887"
             ],
             [
              0.1111111111111111,
              "#46039f"
             ],
             [
              0.2222222222222222,
              "#7201a8"
             ],
             [
              0.3333333333333333,
              "#9c179e"
             ],
             [
              0.4444444444444444,
              "#bd3786"
             ],
             [
              0.5555555555555556,
              "#d8576b"
             ],
             [
              0.6666666666666666,
              "#ed7953"
             ],
             [
              0.7777777777777778,
              "#fb9f3a"
             ],
             [
              0.8888888888888888,
              "#fdca26"
             ],
             [
              1,
              "#f0f921"
             ]
            ],
            "type": "contour"
           }
          ],
          "contourcarpet": [
           {
            "colorbar": {
             "outlinewidth": 0,
             "ticks": ""
            },
            "type": "contourcarpet"
           }
          ],
          "heatmap": [
           {
            "colorbar": {
             "outlinewidth": 0,
             "ticks": ""
            },
            "colorscale": [
             [
              0,
              "#0d0887"
             ],
             [
              0.1111111111111111,
              "#46039f"
             ],
             [
              0.2222222222222222,
              "#7201a8"
             ],
             [
              0.3333333333333333,
              "#9c179e"
             ],
             [
              0.4444444444444444,
              "#bd3786"
             ],
             [
              0.5555555555555556,
              "#d8576b"
             ],
             [
              0.6666666666666666,
              "#ed7953"
             ],
             [
              0.7777777777777778,
              "#fb9f3a"
             ],
             [
              0.8888888888888888,
              "#fdca26"
             ],
             [
              1,
              "#f0f921"
             ]
            ],
            "type": "heatmap"
           }
          ],
          "heatmapgl": [
           {
            "colorbar": {
             "outlinewidth": 0,
             "ticks": ""
            },
            "colorscale": [
             [
              0,
              "#0d0887"
             ],
             [
              0.1111111111111111,
              "#46039f"
             ],
             [
              0.2222222222222222,
              "#7201a8"
             ],
             [
              0.3333333333333333,
              "#9c179e"
             ],
             [
              0.4444444444444444,
              "#bd3786"
             ],
             [
              0.5555555555555556,
              "#d8576b"
             ],
             [
              0.6666666666666666,
              "#ed7953"
             ],
             [
              0.7777777777777778,
              "#fb9f3a"
             ],
             [
              0.8888888888888888,
              "#fdca26"
             ],
             [
              1,
              "#f0f921"
             ]
            ],
            "type": "heatmapgl"
           }
          ],
          "histogram": [
           {
            "marker": {
             "pattern": {
              "fillmode": "overlay",
              "size": 10,
              "solidity": 0.2
             }
            },
            "type": "histogram"
           }
          ],
          "histogram2d": [
           {
            "colorbar": {
             "outlinewidth": 0,
             "ticks": ""
            },
            "colorscale": [
             [
              0,
              "#0d0887"
             ],
             [
              0.1111111111111111,
              "#46039f"
             ],
             [
              0.2222222222222222,
              "#7201a8"
             ],
             [
              0.3333333333333333,
              "#9c179e"
             ],
             [
              0.4444444444444444,
              "#bd3786"
             ],
             [
              0.5555555555555556,
              "#d8576b"
             ],
             [
              0.6666666666666666,
              "#ed7953"
             ],
             [
              0.7777777777777778,
              "#fb9f3a"
             ],
             [
              0.8888888888888888,
              "#fdca26"
             ],
             [
              1,
              "#f0f921"
             ]
            ],
            "type": "histogram2d"
           }
          ],
          "histogram2dcontour": [
           {
            "colorbar": {
             "outlinewidth": 0,
             "ticks": ""
            },
            "colorscale": [
             [
              0,
              "#0d0887"
             ],
             [
              0.1111111111111111,
              "#46039f"
             ],
             [
              0.2222222222222222,
              "#7201a8"
             ],
             [
              0.3333333333333333,
              "#9c179e"
             ],
             [
              0.4444444444444444,
              "#bd3786"
             ],
             [
              0.5555555555555556,
              "#d8576b"
             ],
             [
              0.6666666666666666,
              "#ed7953"
             ],
             [
              0.7777777777777778,
              "#fb9f3a"
             ],
             [
              0.8888888888888888,
              "#fdca26"
             ],
             [
              1,
              "#f0f921"
             ]
            ],
            "type": "histogram2dcontour"
           }
          ],
          "mesh3d": [
           {
            "colorbar": {
             "outlinewidth": 0,
             "ticks": ""
            },
            "type": "mesh3d"
           }
          ],
          "parcoords": [
           {
            "line": {
             "colorbar": {
              "outlinewidth": 0,
              "ticks": ""
             }
            },
            "type": "parcoords"
           }
          ],
          "pie": [
           {
            "automargin": true,
            "type": "pie"
           }
          ],
          "scatter": [
           {
            "marker": {
             "colorbar": {
              "outlinewidth": 0,
              "ticks": ""
             }
            },
            "type": "scatter"
           }
          ],
          "scatter3d": [
           {
            "line": {
             "colorbar": {
              "outlinewidth": 0,
              "ticks": ""
             }
            },
            "marker": {
             "colorbar": {
              "outlinewidth": 0,
              "ticks": ""
             }
            },
            "type": "scatter3d"
           }
          ],
          "scattercarpet": [
           {
            "marker": {
             "colorbar": {
              "outlinewidth": 0,
              "ticks": ""
             }
            },
            "type": "scattercarpet"
           }
          ],
          "scattergeo": [
           {
            "marker": {
             "colorbar": {
              "outlinewidth": 0,
              "ticks": ""
             }
            },
            "type": "scattergeo"
           }
          ],
          "scattergl": [
           {
            "marker": {
             "colorbar": {
              "outlinewidth": 0,
              "ticks": ""
             }
            },
            "type": "scattergl"
           }
          ],
          "scattermapbox": [
           {
            "marker": {
             "colorbar": {
              "outlinewidth": 0,
              "ticks": ""
             }
            },
            "type": "scattermapbox"
           }
          ],
          "scatterpolar": [
           {
            "marker": {
             "colorbar": {
              "outlinewidth": 0,
              "ticks": ""
             }
            },
            "type": "scatterpolar"
           }
          ],
          "scatterpolargl": [
           {
            "marker": {
             "colorbar": {
              "outlinewidth": 0,
              "ticks": ""
             }
            },
            "type": "scatterpolargl"
           }
          ],
          "scatterternary": [
           {
            "marker": {
             "colorbar": {
              "outlinewidth": 0,
              "ticks": ""
             }
            },
            "type": "scatterternary"
           }
          ],
          "surface": [
           {
            "colorbar": {
             "outlinewidth": 0,
             "ticks": ""
            },
            "colorscale": [
             [
              0,
              "#0d0887"
             ],
             [
              0.1111111111111111,
              "#46039f"
             ],
             [
              0.2222222222222222,
              "#7201a8"
             ],
             [
              0.3333333333333333,
              "#9c179e"
             ],
             [
              0.4444444444444444,
              "#bd3786"
             ],
             [
              0.5555555555555556,
              "#d8576b"
             ],
             [
              0.6666666666666666,
              "#ed7953"
             ],
             [
              0.7777777777777778,
              "#fb9f3a"
             ],
             [
              0.8888888888888888,
              "#fdca26"
             ],
             [
              1,
              "#f0f921"
             ]
            ],
            "type": "surface"
           }
          ],
          "table": [
           {
            "cells": {
             "fill": {
              "color": "#EBF0F8"
             },
             "line": {
              "color": "white"
             }
            },
            "header": {
             "fill": {
              "color": "#C8D4E3"
             },
             "line": {
              "color": "white"
             }
            },
            "type": "table"
           }
          ]
         },
         "layout": {
          "annotationdefaults": {
           "arrowcolor": "#2a3f5f",
           "arrowhead": 0,
           "arrowwidth": 1
          },
          "autotypenumbers": "strict",
          "coloraxis": {
           "colorbar": {
            "outlinewidth": 0,
            "ticks": ""
           }
          },
          "colorscale": {
           "diverging": [
            [
             0,
             "#8e0152"
            ],
            [
             0.1,
             "#c51b7d"
            ],
            [
             0.2,
             "#de77ae"
            ],
            [
             0.3,
             "#f1b6da"
            ],
            [
             0.4,
             "#fde0ef"
            ],
            [
             0.5,
             "#f7f7f7"
            ],
            [
             0.6,
             "#e6f5d0"
            ],
            [
             0.7,
             "#b8e186"
            ],
            [
             0.8,
             "#7fbc41"
            ],
            [
             0.9,
             "#4d9221"
            ],
            [
             1,
             "#276419"
            ]
           ],
           "sequential": [
            [
             0,
             "#0d0887"
            ],
            [
             0.1111111111111111,
             "#46039f"
            ],
            [
             0.2222222222222222,
             "#7201a8"
            ],
            [
             0.3333333333333333,
             "#9c179e"
            ],
            [
             0.4444444444444444,
             "#bd3786"
            ],
            [
             0.5555555555555556,
             "#d8576b"
            ],
            [
             0.6666666666666666,
             "#ed7953"
            ],
            [
             0.7777777777777778,
             "#fb9f3a"
            ],
            [
             0.8888888888888888,
             "#fdca26"
            ],
            [
             1,
             "#f0f921"
            ]
           ],
           "sequentialminus": [
            [
             0,
             "#0d0887"
            ],
            [
             0.1111111111111111,
             "#46039f"
            ],
            [
             0.2222222222222222,
             "#7201a8"
            ],
            [
             0.3333333333333333,
             "#9c179e"
            ],
            [
             0.4444444444444444,
             "#bd3786"
            ],
            [
             0.5555555555555556,
             "#d8576b"
            ],
            [
             0.6666666666666666,
             "#ed7953"
            ],
            [
             0.7777777777777778,
             "#fb9f3a"
            ],
            [
             0.8888888888888888,
             "#fdca26"
            ],
            [
             1,
             "#f0f921"
            ]
           ]
          },
          "colorway": [
           "#636efa",
           "#EF553B",
           "#00cc96",
           "#ab63fa",
           "#FFA15A",
           "#19d3f3",
           "#FF6692",
           "#B6E880",
           "#FF97FF",
           "#FECB52"
          ],
          "font": {
           "color": "#2a3f5f"
          },
          "geo": {
           "bgcolor": "white",
           "lakecolor": "white",
           "landcolor": "#E5ECF6",
           "showlakes": true,
           "showland": true,
           "subunitcolor": "white"
          },
          "hoverlabel": {
           "align": "left"
          },
          "hovermode": "closest",
          "mapbox": {
           "style": "light"
          },
          "paper_bgcolor": "white",
          "plot_bgcolor": "#E5ECF6",
          "polar": {
           "angularaxis": {
            "gridcolor": "white",
            "linecolor": "white",
            "ticks": ""
           },
           "bgcolor": "#E5ECF6",
           "radialaxis": {
            "gridcolor": "white",
            "linecolor": "white",
            "ticks": ""
           }
          },
          "scene": {
           "xaxis": {
            "backgroundcolor": "#E5ECF6",
            "gridcolor": "white",
            "gridwidth": 2,
            "linecolor": "white",
            "showbackground": true,
            "ticks": "",
            "zerolinecolor": "white"
           },
           "yaxis": {
            "backgroundcolor": "#E5ECF6",
            "gridcolor": "white",
            "gridwidth": 2,
            "linecolor": "white",
            "showbackground": true,
            "ticks": "",
            "zerolinecolor": "white"
           },
           "zaxis": {
            "backgroundcolor": "#E5ECF6",
            "gridcolor": "white",
            "gridwidth": 2,
            "linecolor": "white",
            "showbackground": true,
            "ticks": "",
            "zerolinecolor": "white"
           }
          },
          "shapedefaults": {
           "line": {
            "color": "#2a3f5f"
           }
          },
          "ternary": {
           "aaxis": {
            "gridcolor": "white",
            "linecolor": "white",
            "ticks": ""
           },
           "baxis": {
            "gridcolor": "white",
            "linecolor": "white",
            "ticks": ""
           },
           "bgcolor": "#E5ECF6",
           "caxis": {
            "gridcolor": "white",
            "linecolor": "white",
            "ticks": ""
           }
          },
          "title": {
           "x": 0.05
          },
          "xaxis": {
           "automargin": true,
           "gridcolor": "white",
           "linecolor": "white",
           "ticks": "",
           "title": {
            "standoff": 15
           },
           "zerolinecolor": "white",
           "zerolinewidth": 2
          },
          "yaxis": {
           "automargin": true,
           "gridcolor": "white",
           "linecolor": "white",
           "ticks": "",
           "title": {
            "standoff": 15
           },
           "zerolinecolor": "white",
           "zerolinewidth": 2
          }
         }
        },
        "xaxis": {
         "anchor": "y",
         "domain": [
          0,
          1
         ],
         "title": {
          "text": "distance"
         }
        },
        "yaxis": {
         "anchor": "x",
         "domain": [
          0,
          1
         ],
         "title": {
          "text": "price"
         }
        }
       }
      },
      "text/html": [
       "<div>                            <div id=\"c50711ad-cb29-4667-8388-0d575cf4786c\" class=\"plotly-graph-div\" style=\"height:525px; width:100%;\"></div>            <script type=\"text/javascript\">                require([\"plotly\"], function(Plotly) {                    window.PLOTLYENV=window.PLOTLYENV || {};                                    if (document.getElementById(\"c50711ad-cb29-4667-8388-0d575cf4786c\")) {                    Plotly.newPlot(                        \"c50711ad-cb29-4667-8388-0d575cf4786c\",                        [{\"hovertemplate\":\"name=UberX<br>distance=%{x}<br>price=%{y}<extra></extra>\",\"legendgroup\":\"UberX\",\"line\":{\"color\":\"#636efa\",\"dash\":\"solid\"},\"marker\":{\"symbol\":\"circle\"},\"mode\":\"lines\",\"name\":\"UberX\",\"orientation\":\"v\",\"showlegend\":true,\"type\":\"scatter\",\"x\":[0.02,0.12,0.3,0.35,0.52,0.56,0.62,0.73,0.76,0.8,1.1,1.18,1.43,1.5,1.56,1.62,1.75,1.8,1.82,1.84,1.91,2.0,2.05,2.11,2.19,2.2,2.22,2.33,2.34,2.37,2.39,2.47,2.55,2.57,2.61,2.67,2.71,2.73,2.79,2.81,2.83,2.96,3.17,3.25,3.33,3.38,3.58,3.63,3.71,3.78,3.97,4.1,4.28,4.38,4.43,4.5,4.79,4.96,5.56,7.36,7.45],\"xaxis\":\"x\",\"y\":[6.5,7.0,7.0,7.0,7.5,7.0,7.5,8.5,7.5,7.0,7.5,7.0,7.5,7.5,8.5,8.5,8.5,10.5,17.5,8.0,10.5,10.5,9.5,8.5,8.0,10.5,10.5,12.0,9.5,13.5,18.0,12.5,10.5,21.5,9.5,9.5,19.5,10.5,9.5,8.5,11.0,10.5,11.0,12.0,10.5,11.5,11.5,14.0,13.0,15.0,26.0,13.5,14.0,16.5,12.5,12.5,27.0,14.5,13.5,17.0,16.0],\"yaxis\":\"y\"},{\"hovertemplate\":\"name=Black<br>distance=%{x}<br>price=%{y}<extra></extra>\",\"legendgroup\":\"Black\",\"line\":{\"color\":\"#EF553B\",\"dash\":\"solid\"},\"marker\":{\"symbol\":\"circle\"},\"mode\":\"lines\",\"name\":\"Black\",\"orientation\":\"v\",\"showlegend\":true,\"type\":\"scatter\",\"x\":[0.03,0.55,0.59,0.63,0.72,0.79,0.85,0.86,0.88,0.91,0.92,1.2,1.26,1.3,1.42,1.46,1.49,1.51,1.64,1.74,1.81,1.94,2.03,2.07,2.08,2.12,2.15,2.38,2.42,2.53,2.54,2.74,2.77,2.93,3.01,3.04,3.07,3.09,3.1,3.12,3.13,3.15,3.18,3.19,3.21,3.22,3.23,3.37,3.42,3.45,3.51,3.61,3.7,4.49,4.52,4.53,4.54,4.55,4.74,4.82,6.26,6.83,6.91,7.25,7.38],\"xaxis\":\"x\",\"y\":[14.0,15.0,16.0,16.0,15.0,15.0,16.0,16.0,15.5,15.5,16.0,15.0,15.0,18.5,17.0,21.5,20.5,18.5,17.5,20.5,17.5,16.0,19.5,24.0,22.0,19.5,19.5,20.5,21.0,21.0,21.0,23.0,25.0,24.0,22.5,22.0,25.0,23.0,28.0,25.0,26.0,24.0,29.0,23.5,26.0,25.0,30.5,26.5,28.0,28.0,27.0,28.5,26.0,25.0,28.5,27.0,29.0,33.0,33.0,31.5,34.0,40.5,36.0,42.5,33.0],\"yaxis\":\"y\"},{\"hovertemplate\":\"name=WAV<br>distance=%{x}<br>price=%{y}<extra></extra>\",\"legendgroup\":\"WAV\",\"line\":{\"color\":\"#00cc96\",\"dash\":\"solid\"},\"marker\":{\"symbol\":\"circle\"},\"mode\":\"lines\",\"name\":\"WAV\",\"orientation\":\"v\",\"showlegend\":true,\"type\":\"scatter\",\"x\":[0.04,0.29,0.38,0.39,0.4,0.65,0.78,0.94,0.98,1.01,1.02,1.04,1.08,1.25,1.31,1.32,1.34,1.44,1.65,1.71,1.88,1.89,1.95,1.99,2.04,2.06,2.17,2.18,2.21,2.24,2.25,2.4,2.43,2.88,2.89,2.91,3.03,3.05,3.06,3.27,3.28,3.32,3.41,3.52,3.57,3.65,3.98,4.05,4.15,4.44,4.46,4.72,4.94,7.46],\"xaxis\":\"x\",\"y\":[7.0,7.0,7.0,7.0,7.0,6.0,7.5,7.0,8.5,8.5,7.0,8.5,7.0,8.5,8.5,9.0,9.0,8.5,11.5,8.5,8.0,9.5,12.0,8.5,8.5,14.0,9.0,8.5,8.5,9.5,8.5,10.5,12.0,9.5,11.5,10.5,16.0,10.5,11.5,12.0,13.0,15.0,11.5,17.0,11.0,11.5,16.0,14.0,14.0,20.5,12.5,20.5,25.0,16.0],\"yaxis\":\"y\"},{\"hovertemplate\":\"name=Black SUV<br>distance=%{x}<br>price=%{y}<extra></extra>\",\"legendgroup\":\"Black SUV\",\"line\":{\"color\":\"#ab63fa\",\"dash\":\"solid\"},\"marker\":{\"symbol\":\"circle\"},\"mode\":\"lines\",\"name\":\"Black SUV\",\"orientation\":\"v\",\"showlegend\":true,\"type\":\"scatter\",\"x\":[0.17,0.5,0.53,0.67,0.71,0.97,0.99,1.14,1.22,1.33,1.48,1.55,1.61,1.68,1.72,1.79,1.87,2.09,2.14,2.16,2.28,2.3,2.35,2.46,2.48,2.5,2.51,2.59,2.65,2.66,2.69,2.82,2.85,2.86,2.87,2.9,3.2,3.24,3.4,3.44,3.56,3.66,3.8,3.85,3.89,3.96,4.12,4.3,4.33,4.35,4.48,4.51,4.57,4.59,4.7,4.8,4.84,5.02,5.1,5.66,7.19,7.24],\"xaxis\":\"x\",\"y\":[27.0,27.5,26.5,26.0,27.5,27.0,26.5,26.0,27.0,27.0,28.0,27.5,27.5,32.0,27.0,29.5,30.5,30.5,27.0,27.5,31.5,33.0,34.0,29.5,27.5,28.5,32.0,28.5,29.5,27.5,34.0,29.0,29.5,30.5,32.5,34.0,30.5,34.5,35.5,35.0,35.0,40.5,37.5,39.5,34.0,38.5,39.5,42.5,37.0,39.5,37.0,42.5,36.0,40.5,48.0,43.5,43.0,37.5,43.0,47.5,48.0,52.5],\"yaxis\":\"y\"},{\"hovertemplate\":\"name=Taxi<br>distance=%{x}<br>price=%{y}<extra></extra>\",\"legendgroup\":\"Taxi\",\"line\":{\"color\":\"#FFA15A\",\"dash\":\"solid\"},\"marker\":{\"symbol\":\"circle\"},\"mode\":\"lines\",\"name\":\"Taxi\",\"orientation\":\"v\",\"showlegend\":true,\"type\":\"scatter\",\"x\":[0.27,0.49,0.54,0.82,0.9,1.06,1.07,1.09,1.16,1.19,1.21,1.24,1.28,1.45,1.57,1.7,1.76,1.77,1.83,1.85,1.9,1.93,2.26,2.31,2.32,2.41,2.45,2.72,2.78,2.84,2.92,2.95,2.97,3.0,3.14,3.34,3.46,3.59,3.64,3.72,3.91,3.92,3.99,4.0,4.03,4.07,4.13,4.39,4.47,4.62,4.71,4.73,4.78,4.86,4.91,4.93,4.98,5.12,5.16,5.69,6.27,6.97,7.2,7.5],\"xaxis\":\"x\",\"y\":[16.545125490614065,16.545125490614065,16.545125490614065,16.545125490614065,16.545125490614065,16.545125490614065,16.545125490614065,16.545125490614065,16.545125490614065,16.545125490614065,16.545125490614065,16.545125490614065,16.545125490614065,16.545125490614065,16.545125490614065,16.545125490614065,16.545125490614065,16.545125490614065,16.545125490614065,16.545125490614065,16.545125490614065,16.545125490614065,16.545125490614065,16.545125490614065,16.545125490614065,16.545125490614065,16.545125490614065,16.545125490614065,16.545125490614065,16.545125490614065,16.545125490614065,16.545125490614065,16.545125490614065,16.545125490614065,16.545125490614065,16.545125490614065,16.545125490614065,16.545125490614065,16.545125490614065,16.545125490614065,16.545125490614065,16.545125490614065,16.545125490614065,16.545125490614065,16.545125490614065,16.545125490614065,16.545125490614065,16.545125490614065,16.545125490614065,16.545125490614065,16.545125490614065,16.545125490614065,16.545125490614065,16.545125490614065,16.545125490614065,16.545125490614065,16.545125490614065,16.545125490614065,16.545125490614065,16.545125490614065,16.545125490614065,16.545125490614065,16.545125490614065,16.545125490614065],\"yaxis\":\"y\"},{\"hovertemplate\":\"name=UberXL<br>distance=%{x}<br>price=%{y}<extra></extra>\",\"legendgroup\":\"UberXL\",\"line\":{\"color\":\"#19d3f3\",\"dash\":\"solid\"},\"marker\":{\"symbol\":\"circle\"},\"mode\":\"lines\",\"name\":\"UberXL\",\"orientation\":\"v\",\"showlegend\":true,\"type\":\"scatter\",\"x\":[0.47,0.61,0.7,0.89,1.0,1.03,1.05,1.12,1.23,1.27,1.35,1.41,1.47,1.53,1.54,1.58,1.59,1.66,1.97,2.01,2.23,2.29,2.36,2.56,2.68,2.7,2.75,2.99,3.02,3.11,3.26,3.3,3.31,3.39,3.5,3.74,3.75,3.76,3.82,3.94,3.95,4.04,4.17,4.31,4.42,4.56,4.58,4.65,4.76,4.9,5.46,7.04,7.18,7.86],\"xaxis\":\"x\",\"y\":[10.5,10.5,11.0,12.0,12.5,11.5,15.0,14.5,12.5,14.0,14.0,11.5,11.5,15.0,13.0,15.0,13.0,15.0,14.0,15.0,15.0,13.5,17.0,18.0,18.0,19.5,19.5,19.0,17.5,18.0,17.5,18.5,18.0,18.0,22.5,21.5,23.0,23.0,20.5,22.5,26.0,25.0,24.0,25.0,21.5,23.0,20.5,24.0,26.0,43.5,22.5,27.5,27.0,29.5],\"yaxis\":\"y\"},{\"hovertemplate\":\"name=UberPool<br>distance=%{x}<br>price=%{y}<extra></extra>\",\"legendgroup\":\"UberPool\",\"line\":{\"color\":\"#FF6692\",\"dash\":\"solid\"},\"marker\":{\"symbol\":\"circle\"},\"mode\":\"lines\",\"name\":\"UberPool\",\"orientation\":\"v\",\"showlegend\":true,\"type\":\"scatter\",\"x\":[0.58,0.6,0.66,0.68,0.81,0.93,1.11,1.13,1.17,1.29,1.36,1.37,1.38,1.39,1.4,1.52,1.6,1.63,1.67,1.69,1.73,1.78,1.86,1.92,1.96,1.98,2.02,2.1,2.13,2.27,2.44,2.49,2.52,2.58,2.6,2.62,2.63,2.64,2.8,2.94,2.98,3.08,3.16,3.29,3.35,3.43,3.47,3.53,3.54,3.55,3.67,3.69,3.73,3.79,3.81,4.4,4.41,4.6,5.47,5.7,7.34,7.62],\"xaxis\":\"x\",\"y\":[6.5,7.0,6.5,5.5,6.5,6.5,7.0,8.0,4.5,8.0,9.0,7.5,7.5,8.0,4.5,10.0,6.5,8.0,6.0,8.5,10.0,8.0,7.5,8.5,8.0,7.5,7.5,10.0,9.0,9.5,9.0,12.5,9.0,8.0,8.0,8.5,9.0,15.5,10.0,9.0,8.5,11.0,10.0,16.5,24.0,10.0,9.5,11.0,9.0,10.0,12.0,11.5,10.0,11.0,9.5,12.0,10.0,10.0,11.0,12.5,15.5,13.5],\"yaxis\":\"y\"}],                        {\"legend\":{\"title\":{\"text\":\"name\"},\"tracegroupgap\":0},\"margin\":{\"t\":60},\"template\":{\"data\":{\"bar\":[{\"error_x\":{\"color\":\"#2a3f5f\"},\"error_y\":{\"color\":\"#2a3f5f\"},\"marker\":{\"line\":{\"color\":\"#E5ECF6\",\"width\":0.5},\"pattern\":{\"fillmode\":\"overlay\",\"size\":10,\"solidity\":0.2}},\"type\":\"bar\"}],\"barpolar\":[{\"marker\":{\"line\":{\"color\":\"#E5ECF6\",\"width\":0.5},\"pattern\":{\"fillmode\":\"overlay\",\"size\":10,\"solidity\":0.2}},\"type\":\"barpolar\"}],\"carpet\":[{\"aaxis\":{\"endlinecolor\":\"#2a3f5f\",\"gridcolor\":\"white\",\"linecolor\":\"white\",\"minorgridcolor\":\"white\",\"startlinecolor\":\"#2a3f5f\"},\"baxis\":{\"endlinecolor\":\"#2a3f5f\",\"gridcolor\":\"white\",\"linecolor\":\"white\",\"minorgridcolor\":\"white\",\"startlinecolor\":\"#2a3f5f\"},\"type\":\"carpet\"}],\"choropleth\":[{\"colorbar\":{\"outlinewidth\":0,\"ticks\":\"\"},\"type\":\"choropleth\"}],\"contour\":[{\"colorbar\":{\"outlinewidth\":0,\"ticks\":\"\"},\"colorscale\":[[0.0,\"#0d0887\"],[0.1111111111111111,\"#46039f\"],[0.2222222222222222,\"#7201a8\"],[0.3333333333333333,\"#9c179e\"],[0.4444444444444444,\"#bd3786\"],[0.5555555555555556,\"#d8576b\"],[0.6666666666666666,\"#ed7953\"],[0.7777777777777778,\"#fb9f3a\"],[0.8888888888888888,\"#fdca26\"],[1.0,\"#f0f921\"]],\"type\":\"contour\"}],\"contourcarpet\":[{\"colorbar\":{\"outlinewidth\":0,\"ticks\":\"\"},\"type\":\"contourcarpet\"}],\"heatmap\":[{\"colorbar\":{\"outlinewidth\":0,\"ticks\":\"\"},\"colorscale\":[[0.0,\"#0d0887\"],[0.1111111111111111,\"#46039f\"],[0.2222222222222222,\"#7201a8\"],[0.3333333333333333,\"#9c179e\"],[0.4444444444444444,\"#bd3786\"],[0.5555555555555556,\"#d8576b\"],[0.6666666666666666,\"#ed7953\"],[0.7777777777777778,\"#fb9f3a\"],[0.8888888888888888,\"#fdca26\"],[1.0,\"#f0f921\"]],\"type\":\"heatmap\"}],\"heatmapgl\":[{\"colorbar\":{\"outlinewidth\":0,\"ticks\":\"\"},\"colorscale\":[[0.0,\"#0d0887\"],[0.1111111111111111,\"#46039f\"],[0.2222222222222222,\"#7201a8\"],[0.3333333333333333,\"#9c179e\"],[0.4444444444444444,\"#bd3786\"],[0.5555555555555556,\"#d8576b\"],[0.6666666666666666,\"#ed7953\"],[0.7777777777777778,\"#fb9f3a\"],[0.8888888888888888,\"#fdca26\"],[1.0,\"#f0f921\"]],\"type\":\"heatmapgl\"}],\"histogram\":[{\"marker\":{\"pattern\":{\"fillmode\":\"overlay\",\"size\":10,\"solidity\":0.2}},\"type\":\"histogram\"}],\"histogram2d\":[{\"colorbar\":{\"outlinewidth\":0,\"ticks\":\"\"},\"colorscale\":[[0.0,\"#0d0887\"],[0.1111111111111111,\"#46039f\"],[0.2222222222222222,\"#7201a8\"],[0.3333333333333333,\"#9c179e\"],[0.4444444444444444,\"#bd3786\"],[0.5555555555555556,\"#d8576b\"],[0.6666666666666666,\"#ed7953\"],[0.7777777777777778,\"#fb9f3a\"],[0.8888888888888888,\"#fdca26\"],[1.0,\"#f0f921\"]],\"type\":\"histogram2d\"}],\"histogram2dcontour\":[{\"colorbar\":{\"outlinewidth\":0,\"ticks\":\"\"},\"colorscale\":[[0.0,\"#0d0887\"],[0.1111111111111111,\"#46039f\"],[0.2222222222222222,\"#7201a8\"],[0.3333333333333333,\"#9c179e\"],[0.4444444444444444,\"#bd3786\"],[0.5555555555555556,\"#d8576b\"],[0.6666666666666666,\"#ed7953\"],[0.7777777777777778,\"#fb9f3a\"],[0.8888888888888888,\"#fdca26\"],[1.0,\"#f0f921\"]],\"type\":\"histogram2dcontour\"}],\"mesh3d\":[{\"colorbar\":{\"outlinewidth\":0,\"ticks\":\"\"},\"type\":\"mesh3d\"}],\"parcoords\":[{\"line\":{\"colorbar\":{\"outlinewidth\":0,\"ticks\":\"\"}},\"type\":\"parcoords\"}],\"pie\":[{\"automargin\":true,\"type\":\"pie\"}],\"scatter\":[{\"marker\":{\"colorbar\":{\"outlinewidth\":0,\"ticks\":\"\"}},\"type\":\"scatter\"}],\"scatter3d\":[{\"line\":{\"colorbar\":{\"outlinewidth\":0,\"ticks\":\"\"}},\"marker\":{\"colorbar\":{\"outlinewidth\":0,\"ticks\":\"\"}},\"type\":\"scatter3d\"}],\"scattercarpet\":[{\"marker\":{\"colorbar\":{\"outlinewidth\":0,\"ticks\":\"\"}},\"type\":\"scattercarpet\"}],\"scattergeo\":[{\"marker\":{\"colorbar\":{\"outlinewidth\":0,\"ticks\":\"\"}},\"type\":\"scattergeo\"}],\"scattergl\":[{\"marker\":{\"colorbar\":{\"outlinewidth\":0,\"ticks\":\"\"}},\"type\":\"scattergl\"}],\"scattermapbox\":[{\"marker\":{\"colorbar\":{\"outlinewidth\":0,\"ticks\":\"\"}},\"type\":\"scattermapbox\"}],\"scatterpolar\":[{\"marker\":{\"colorbar\":{\"outlinewidth\":0,\"ticks\":\"\"}},\"type\":\"scatterpolar\"}],\"scatterpolargl\":[{\"marker\":{\"colorbar\":{\"outlinewidth\":0,\"ticks\":\"\"}},\"type\":\"scatterpolargl\"}],\"scatterternary\":[{\"marker\":{\"colorbar\":{\"outlinewidth\":0,\"ticks\":\"\"}},\"type\":\"scatterternary\"}],\"surface\":[{\"colorbar\":{\"outlinewidth\":0,\"ticks\":\"\"},\"colorscale\":[[0.0,\"#0d0887\"],[0.1111111111111111,\"#46039f\"],[0.2222222222222222,\"#7201a8\"],[0.3333333333333333,\"#9c179e\"],[0.4444444444444444,\"#bd3786\"],[0.5555555555555556,\"#d8576b\"],[0.6666666666666666,\"#ed7953\"],[0.7777777777777778,\"#fb9f3a\"],[0.8888888888888888,\"#fdca26\"],[1.0,\"#f0f921\"]],\"type\":\"surface\"}],\"table\":[{\"cells\":{\"fill\":{\"color\":\"#EBF0F8\"},\"line\":{\"color\":\"white\"}},\"header\":{\"fill\":{\"color\":\"#C8D4E3\"},\"line\":{\"color\":\"white\"}},\"type\":\"table\"}]},\"layout\":{\"annotationdefaults\":{\"arrowcolor\":\"#2a3f5f\",\"arrowhead\":0,\"arrowwidth\":1},\"autotypenumbers\":\"strict\",\"coloraxis\":{\"colorbar\":{\"outlinewidth\":0,\"ticks\":\"\"}},\"colorscale\":{\"diverging\":[[0,\"#8e0152\"],[0.1,\"#c51b7d\"],[0.2,\"#de77ae\"],[0.3,\"#f1b6da\"],[0.4,\"#fde0ef\"],[0.5,\"#f7f7f7\"],[0.6,\"#e6f5d0\"],[0.7,\"#b8e186\"],[0.8,\"#7fbc41\"],[0.9,\"#4d9221\"],[1,\"#276419\"]],\"sequential\":[[0.0,\"#0d0887\"],[0.1111111111111111,\"#46039f\"],[0.2222222222222222,\"#7201a8\"],[0.3333333333333333,\"#9c179e\"],[0.4444444444444444,\"#bd3786\"],[0.5555555555555556,\"#d8576b\"],[0.6666666666666666,\"#ed7953\"],[0.7777777777777778,\"#fb9f3a\"],[0.8888888888888888,\"#fdca26\"],[1.0,\"#f0f921\"]],\"sequentialminus\":[[0.0,\"#0d0887\"],[0.1111111111111111,\"#46039f\"],[0.2222222222222222,\"#7201a8\"],[0.3333333333333333,\"#9c179e\"],[0.4444444444444444,\"#bd3786\"],[0.5555555555555556,\"#d8576b\"],[0.6666666666666666,\"#ed7953\"],[0.7777777777777778,\"#fb9f3a\"],[0.8888888888888888,\"#fdca26\"],[1.0,\"#f0f921\"]]},\"colorway\":[\"#636efa\",\"#EF553B\",\"#00cc96\",\"#ab63fa\",\"#FFA15A\",\"#19d3f3\",\"#FF6692\",\"#B6E880\",\"#FF97FF\",\"#FECB52\"],\"font\":{\"color\":\"#2a3f5f\"},\"geo\":{\"bgcolor\":\"white\",\"lakecolor\":\"white\",\"landcolor\":\"#E5ECF6\",\"showlakes\":true,\"showland\":true,\"subunitcolor\":\"white\"},\"hoverlabel\":{\"align\":\"left\"},\"hovermode\":\"closest\",\"mapbox\":{\"style\":\"light\"},\"paper_bgcolor\":\"white\",\"plot_bgcolor\":\"#E5ECF6\",\"polar\":{\"angularaxis\":{\"gridcolor\":\"white\",\"linecolor\":\"white\",\"ticks\":\"\"},\"bgcolor\":\"#E5ECF6\",\"radialaxis\":{\"gridcolor\":\"white\",\"linecolor\":\"white\",\"ticks\":\"\"}},\"scene\":{\"xaxis\":{\"backgroundcolor\":\"#E5ECF6\",\"gridcolor\":\"white\",\"gridwidth\":2,\"linecolor\":\"white\",\"showbackground\":true,\"ticks\":\"\",\"zerolinecolor\":\"white\"},\"yaxis\":{\"backgroundcolor\":\"#E5ECF6\",\"gridcolor\":\"white\",\"gridwidth\":2,\"linecolor\":\"white\",\"showbackground\":true,\"ticks\":\"\",\"zerolinecolor\":\"white\"},\"zaxis\":{\"backgroundcolor\":\"#E5ECF6\",\"gridcolor\":\"white\",\"gridwidth\":2,\"linecolor\":\"white\",\"showbackground\":true,\"ticks\":\"\",\"zerolinecolor\":\"white\"}},\"shapedefaults\":{\"line\":{\"color\":\"#2a3f5f\"}},\"ternary\":{\"aaxis\":{\"gridcolor\":\"white\",\"linecolor\":\"white\",\"ticks\":\"\"},\"baxis\":{\"gridcolor\":\"white\",\"linecolor\":\"white\",\"ticks\":\"\"},\"bgcolor\":\"#E5ECF6\",\"caxis\":{\"gridcolor\":\"white\",\"linecolor\":\"white\",\"ticks\":\"\"}},\"title\":{\"x\":0.05},\"xaxis\":{\"automargin\":true,\"gridcolor\":\"white\",\"linecolor\":\"white\",\"ticks\":\"\",\"title\":{\"standoff\":15},\"zerolinecolor\":\"white\",\"zerolinewidth\":2},\"yaxis\":{\"automargin\":true,\"gridcolor\":\"white\",\"linecolor\":\"white\",\"ticks\":\"\",\"title\":{\"standoff\":15},\"zerolinecolor\":\"white\",\"zerolinewidth\":2}}},\"xaxis\":{\"anchor\":\"y\",\"domain\":[0.0,1.0],\"title\":{\"text\":\"distance\"}},\"yaxis\":{\"anchor\":\"x\",\"domain\":[0.0,1.0],\"title\":{\"text\":\"price\"}}},                        {\"responsive\": true}                    ).then(function(){\n",
       "                            \n",
       "var gd = document.getElementById('c50711ad-cb29-4667-8388-0d575cf4786c');\n",
       "var x = new MutationObserver(function (mutations, observer) {{\n",
       "        var display = window.getComputedStyle(gd).display;\n",
       "        if (!display || display === 'none') {{\n",
       "            console.log([gd, 'removed!']);\n",
       "            Plotly.purge(gd);\n",
       "            observer.disconnect();\n",
       "        }}\n",
       "}});\n",
       "\n",
       "// Listen for the removal of the full notebook cells\n",
       "var notebookContainer = gd.closest('#notebook-container');\n",
       "if (notebookContainer) {{\n",
       "    x.observe(notebookContainer, {childList: true});\n",
       "}}\n",
       "\n",
       "// Listen for the clearing of the current output cell\n",
       "var outputEl = gd.closest('.output');\n",
       "if (outputEl) {{\n",
       "    x.observe(outputEl, {childList: true});\n",
       "}}\n",
       "\n",
       "                        })                };                });            </script>        </div>"
      ]
     },
     "metadata": {},
     "output_type": "display_data"
    }
   ],
   "source": [
    "d = d.query(\"name in ['UberX', 'Black','WAV','Taxi','Black SUV','UberPool','UberXL']\")\n",
    "fig=px.line(d,x='distance',y='price',color=\"name\")\n",
    "fig.show()"
   ]
  },
  {
   "cell_type": "code",
   "execution_count": null,
   "id": "e3a1bc3d",
   "metadata": {},
   "outputs": [],
   "source": []
  }
 ],
 "metadata": {
  "kernelspec": {
   "display_name": "Python 3",
   "language": "python",
   "name": "python3"
  },
  "language_info": {
   "codemirror_mode": {
    "name": "ipython",
    "version": 3
   },
   "file_extension": ".py",
   "mimetype": "text/x-python",
   "name": "python",
   "nbconvert_exporter": "python",
   "pygments_lexer": "ipython3",
   "version": "3.8.8"
  }
 },
 "nbformat": 4,
 "nbformat_minor": 5
}
