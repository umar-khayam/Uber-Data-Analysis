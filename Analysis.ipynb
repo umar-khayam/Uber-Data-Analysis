{
 "cells": [
  {
   "cell_type": "code",
   "execution_count": 29,
   "id": "dd8ca505",
   "metadata": {},
   "outputs": [],
   "source": [
    "import pandas as pnd\n",
    "import plotly.express as px\n",
    "import seaborn as sns\n",
    "import numpy as np\n",
    "import matplotlib.pyplot as plt\n",
    "import operator"
   ]
  },
  {
   "cell_type": "code",
   "execution_count": 30,
   "id": "3596f85a",
   "metadata": {},
   "outputs": [],
   "source": [
    "data=pnd.read_csv('uber vs lyft.csv')\n",
    "pnd.set_option('max_columns', None)\n",
    "data=data.iloc[:,1:]"
   ]
  },
  {
   "cell_type": "code",
   "execution_count": 31,
   "id": "bedc6fa6",
   "metadata": {},
   "outputs": [],
   "source": [
    "uber_data=data[data['cab_type']=='Uber']\n",
    "uber_data=uber_data.reset_index()\n",
    "uber_data=uber_data.iloc[:,1:]"
   ]
  },
  {
   "cell_type": "code",
   "execution_count": 32,
   "id": "2693875b",
   "metadata": {},
   "outputs": [],
   "source": [
    "lyft_data=data[data['cab_type']=='Lyft']\n",
    "lyft_data=lyft_data.reset_index()\n",
    "lyft_data=lyft_data.iloc[:,1:]"
   ]
  },
  {
   "cell_type": "code",
   "execution_count": 33,
   "id": "9884ff8e",
   "metadata": {},
   "outputs": [],
   "source": [
    "data_cab_ubber=uber_data.drop_duplicates(subset = ['distance'])\n",
    "data_cab_ubber=data_cab_ubber.sort_values('distance', ascending=True)"
   ]
  },
  {
   "cell_type": "markdown",
   "id": "12f9ca1d",
   "metadata": {},
   "source": [
    "# Cab type Ubber\n",
    "1. Ubber ride type for distance and price analysis. \n",
    "2. How much they take for a distance km."
   ]
  },
  {
   "cell_type": "markdown",
   "id": "5319bbb0",
   "metadata": {},
   "source": [
    "## Black_SUV the most expensive Uber's type"
   ]
  },
  {
   "cell_type": "code",
   "execution_count": 43,
   "id": "8a7a2bde",
   "metadata": {},
   "outputs": [
    {
     "data": {
      "application/vnd.plotly.v1+json": {
       "config": {
        "plotlyServerURL": "https://plot.ly"
       },
       "data": [
        {
         "hovertemplate": "Uber type=Black SUV<br>Distance (km)=%{x}<br>Price for distance (km)=%{y}<extra></extra>",
         "legendgroup": "Black SUV",
         "line": {
          "color": "#636efa",
          "dash": "solid"
         },
         "marker": {
          "symbol": "circle"
         },
         "mode": "lines",
         "name": "Black SUV",
         "orientation": "v",
         "showlegend": true,
         "type": "scatter",
         "x": [
          0.17,
          0.5,
          0.53,
          0.67,
          0.71,
          0.97,
          0.99,
          1.14,
          1.22,
          1.33,
          1.48,
          1.55,
          1.61,
          1.68,
          1.72,
          1.79,
          1.87,
          2.09,
          2.14,
          2.16,
          2.28,
          2.3,
          2.35,
          2.46,
          2.48,
          2.5,
          2.51,
          2.59,
          2.65,
          2.66,
          2.69,
          2.82,
          2.85,
          2.86,
          2.87,
          2.9,
          3.2,
          3.24,
          3.4,
          3.44,
          3.56,
          3.66,
          3.8,
          3.85,
          3.89,
          3.96,
          4.12,
          4.3,
          4.33,
          4.35,
          4.48,
          4.51,
          4.57,
          4.59,
          4.7,
          4.8,
          4.84,
          5.02,
          5.1,
          5.66,
          7.19,
          7.24
         ],
         "xaxis": "x",
         "y": [
          27,
          27.5,
          26.5,
          26,
          27.5,
          27,
          26.5,
          26,
          27,
          27,
          28,
          27.5,
          27.5,
          32,
          27,
          29.5,
          30.5,
          30.5,
          27,
          27.5,
          31.5,
          33,
          34,
          29.5,
          27.5,
          28.5,
          32,
          28.5,
          29.5,
          27.5,
          34,
          29,
          29.5,
          30.5,
          32.5,
          34,
          30.5,
          34.5,
          35.5,
          35,
          35,
          40.5,
          37.5,
          39.5,
          34,
          38.5,
          39.5,
          42.5,
          37,
          39.5,
          37,
          42.5,
          36,
          40.5,
          48,
          43.5,
          43,
          37.5,
          43,
          47.5,
          48,
          52.5
         ],
         "yaxis": "y"
        }
       ],
       "layout": {
        "font": {
         "color": "black",
         "family": "Times New Roman"
        },
        "legend": {
         "title": {
          "font": {
           "color": "Green"
          },
          "text": "Uber type"
         },
         "tracegroupgap": 0
        },
        "template": {
         "data": {
          "bar": [
           {
            "error_x": {
             "color": "#2a3f5f"
            },
            "error_y": {
             "color": "#2a3f5f"
            },
            "marker": {
             "line": {
              "color": "#E5ECF6",
              "width": 0.5
             },
             "pattern": {
              "fillmode": "overlay",
              "size": 10,
              "solidity": 0.2
             }
            },
            "type": "bar"
           }
          ],
          "barpolar": [
           {
            "marker": {
             "line": {
              "color": "#E5ECF6",
              "width": 0.5
             },
             "pattern": {
              "fillmode": "overlay",
              "size": 10,
              "solidity": 0.2
             }
            },
            "type": "barpolar"
           }
          ],
          "carpet": [
           {
            "aaxis": {
             "endlinecolor": "#2a3f5f",
             "gridcolor": "white",
             "linecolor": "white",
             "minorgridcolor": "white",
             "startlinecolor": "#2a3f5f"
            },
            "baxis": {
             "endlinecolor": "#2a3f5f",
             "gridcolor": "white",
             "linecolor": "white",
             "minorgridcolor": "white",
             "startlinecolor": "#2a3f5f"
            },
            "type": "carpet"
           }
          ],
          "choropleth": [
           {
            "colorbar": {
             "outlinewidth": 0,
             "ticks": ""
            },
            "type": "choropleth"
           }
          ],
          "contour": [
           {
            "colorbar": {
             "outlinewidth": 0,
             "ticks": ""
            },
            "colorscale": [
             [
              0,
              "#0d0887"
             ],
             [
              0.1111111111111111,
              "#46039f"
             ],
             [
              0.2222222222222222,
              "#7201a8"
             ],
             [
              0.3333333333333333,
              "#9c179e"
             ],
             [
              0.4444444444444444,
              "#bd3786"
             ],
             [
              0.5555555555555556,
              "#d8576b"
             ],
             [
              0.6666666666666666,
              "#ed7953"
             ],
             [
              0.7777777777777778,
              "#fb9f3a"
             ],
             [
              0.8888888888888888,
              "#fdca26"
             ],
             [
              1,
              "#f0f921"
             ]
            ],
            "type": "contour"
           }
          ],
          "contourcarpet": [
           {
            "colorbar": {
             "outlinewidth": 0,
             "ticks": ""
            },
            "type": "contourcarpet"
           }
          ],
          "heatmap": [
           {
            "colorbar": {
             "outlinewidth": 0,
             "ticks": ""
            },
            "colorscale": [
             [
              0,
              "#0d0887"
             ],
             [
              0.1111111111111111,
              "#46039f"
             ],
             [
              0.2222222222222222,
              "#7201a8"
             ],
             [
              0.3333333333333333,
              "#9c179e"
             ],
             [
              0.4444444444444444,
              "#bd3786"
             ],
             [
              0.5555555555555556,
              "#d8576b"
             ],
             [
              0.6666666666666666,
              "#ed7953"
             ],
             [
              0.7777777777777778,
              "#fb9f3a"
             ],
             [
              0.8888888888888888,
              "#fdca26"
             ],
             [
              1,
              "#f0f921"
             ]
            ],
            "type": "heatmap"
           }
          ],
          "heatmapgl": [
           {
            "colorbar": {
             "outlinewidth": 0,
             "ticks": ""
            },
            "colorscale": [
             [
              0,
              "#0d0887"
             ],
             [
              0.1111111111111111,
              "#46039f"
             ],
             [
              0.2222222222222222,
              "#7201a8"
             ],
             [
              0.3333333333333333,
              "#9c179e"
             ],
             [
              0.4444444444444444,
              "#bd3786"
             ],
             [
              0.5555555555555556,
              "#d8576b"
             ],
             [
              0.6666666666666666,
              "#ed7953"
             ],
             [
              0.7777777777777778,
              "#fb9f3a"
             ],
             [
              0.8888888888888888,
              "#fdca26"
             ],
             [
              1,
              "#f0f921"
             ]
            ],
            "type": "heatmapgl"
           }
          ],
          "histogram": [
           {
            "marker": {
             "pattern": {
              "fillmode": "overlay",
              "size": 10,
              "solidity": 0.2
             }
            },
            "type": "histogram"
           }
          ],
          "histogram2d": [
           {
            "colorbar": {
             "outlinewidth": 0,
             "ticks": ""
            },
            "colorscale": [
             [
              0,
              "#0d0887"
             ],
             [
              0.1111111111111111,
              "#46039f"
             ],
             [
              0.2222222222222222,
              "#7201a8"
             ],
             [
              0.3333333333333333,
              "#9c179e"
             ],
             [
              0.4444444444444444,
              "#bd3786"
             ],
             [
              0.5555555555555556,
              "#d8576b"
             ],
             [
              0.6666666666666666,
              "#ed7953"
             ],
             [
              0.7777777777777778,
              "#fb9f3a"
             ],
             [
              0.8888888888888888,
              "#fdca26"
             ],
             [
              1,
              "#f0f921"
             ]
            ],
            "type": "histogram2d"
           }
          ],
          "histogram2dcontour": [
           {
            "colorbar": {
             "outlinewidth": 0,
             "ticks": ""
            },
            "colorscale": [
             [
              0,
              "#0d0887"
             ],
             [
              0.1111111111111111,
              "#46039f"
             ],
             [
              0.2222222222222222,
              "#7201a8"
             ],
             [
              0.3333333333333333,
              "#9c179e"
             ],
             [
              0.4444444444444444,
              "#bd3786"
             ],
             [
              0.5555555555555556,
              "#d8576b"
             ],
             [
              0.6666666666666666,
              "#ed7953"
             ],
             [
              0.7777777777777778,
              "#fb9f3a"
             ],
             [
              0.8888888888888888,
              "#fdca26"
             ],
             [
              1,
              "#f0f921"
             ]
            ],
            "type": "histogram2dcontour"
           }
          ],
          "mesh3d": [
           {
            "colorbar": {
             "outlinewidth": 0,
             "ticks": ""
            },
            "type": "mesh3d"
           }
          ],
          "parcoords": [
           {
            "line": {
             "colorbar": {
              "outlinewidth": 0,
              "ticks": ""
             }
            },
            "type": "parcoords"
           }
          ],
          "pie": [
           {
            "automargin": true,
            "type": "pie"
           }
          ],
          "scatter": [
           {
            "marker": {
             "colorbar": {
              "outlinewidth": 0,
              "ticks": ""
             }
            },
            "type": "scatter"
           }
          ],
          "scatter3d": [
           {
            "line": {
             "colorbar": {
              "outlinewidth": 0,
              "ticks": ""
             }
            },
            "marker": {
             "colorbar": {
              "outlinewidth": 0,
              "ticks": ""
             }
            },
            "type": "scatter3d"
           }
          ],
          "scattercarpet": [
           {
            "marker": {
             "colorbar": {
              "outlinewidth": 0,
              "ticks": ""
             }
            },
            "type": "scattercarpet"
           }
          ],
          "scattergeo": [
           {
            "marker": {
             "colorbar": {
              "outlinewidth": 0,
              "ticks": ""
             }
            },
            "type": "scattergeo"
           }
          ],
          "scattergl": [
           {
            "marker": {
             "colorbar": {
              "outlinewidth": 0,
              "ticks": ""
             }
            },
            "type": "scattergl"
           }
          ],
          "scattermapbox": [
           {
            "marker": {
             "colorbar": {
              "outlinewidth": 0,
              "ticks": ""
             }
            },
            "type": "scattermapbox"
           }
          ],
          "scatterpolar": [
           {
            "marker": {
             "colorbar": {
              "outlinewidth": 0,
              "ticks": ""
             }
            },
            "type": "scatterpolar"
           }
          ],
          "scatterpolargl": [
           {
            "marker": {
             "colorbar": {
              "outlinewidth": 0,
              "ticks": ""
             }
            },
            "type": "scatterpolargl"
           }
          ],
          "scatterternary": [
           {
            "marker": {
             "colorbar": {
              "outlinewidth": 0,
              "ticks": ""
             }
            },
            "type": "scatterternary"
           }
          ],
          "surface": [
           {
            "colorbar": {
             "outlinewidth": 0,
             "ticks": ""
            },
            "colorscale": [
             [
              0,
              "#0d0887"
             ],
             [
              0.1111111111111111,
              "#46039f"
             ],
             [
              0.2222222222222222,
              "#7201a8"
             ],
             [
              0.3333333333333333,
              "#9c179e"
             ],
             [
              0.4444444444444444,
              "#bd3786"
             ],
             [
              0.5555555555555556,
              "#d8576b"
             ],
             [
              0.6666666666666666,
              "#ed7953"
             ],
             [
              0.7777777777777778,
              "#fb9f3a"
             ],
             [
              0.8888888888888888,
              "#fdca26"
             ],
             [
              1,
              "#f0f921"
             ]
            ],
            "type": "surface"
           }
          ],
          "table": [
           {
            "cells": {
             "fill": {
              "color": "#EBF0F8"
             },
             "line": {
              "color": "white"
             }
            },
            "header": {
             "fill": {
              "color": "#C8D4E3"
             },
             "line": {
              "color": "white"
             }
            },
            "type": "table"
           }
          ]
         },
         "layout": {
          "annotationdefaults": {
           "arrowcolor": "#2a3f5f",
           "arrowhead": 0,
           "arrowwidth": 1
          },
          "autotypenumbers": "strict",
          "coloraxis": {
           "colorbar": {
            "outlinewidth": 0,
            "ticks": ""
           }
          },
          "colorscale": {
           "diverging": [
            [
             0,
             "#8e0152"
            ],
            [
             0.1,
             "#c51b7d"
            ],
            [
             0.2,
             "#de77ae"
            ],
            [
             0.3,
             "#f1b6da"
            ],
            [
             0.4,
             "#fde0ef"
            ],
            [
             0.5,
             "#f7f7f7"
            ],
            [
             0.6,
             "#e6f5d0"
            ],
            [
             0.7,
             "#b8e186"
            ],
            [
             0.8,
             "#7fbc41"
            ],
            [
             0.9,
             "#4d9221"
            ],
            [
             1,
             "#276419"
            ]
           ],
           "sequential": [
            [
             0,
             "#0d0887"
            ],
            [
             0.1111111111111111,
             "#46039f"
            ],
            [
             0.2222222222222222,
             "#7201a8"
            ],
            [
             0.3333333333333333,
             "#9c179e"
            ],
            [
             0.4444444444444444,
             "#bd3786"
            ],
            [
             0.5555555555555556,
             "#d8576b"
            ],
            [
             0.6666666666666666,
             "#ed7953"
            ],
            [
             0.7777777777777778,
             "#fb9f3a"
            ],
            [
             0.8888888888888888,
             "#fdca26"
            ],
            [
             1,
             "#f0f921"
            ]
           ],
           "sequentialminus": [
            [
             0,
             "#0d0887"
            ],
            [
             0.1111111111111111,
             "#46039f"
            ],
            [
             0.2222222222222222,
             "#7201a8"
            ],
            [
             0.3333333333333333,
             "#9c179e"
            ],
            [
             0.4444444444444444,
             "#bd3786"
            ],
            [
             0.5555555555555556,
             "#d8576b"
            ],
            [
             0.6666666666666666,
             "#ed7953"
            ],
            [
             0.7777777777777778,
             "#fb9f3a"
            ],
            [
             0.8888888888888888,
             "#fdca26"
            ],
            [
             1,
             "#f0f921"
            ]
           ]
          },
          "colorway": [
           "#636efa",
           "#EF553B",
           "#00cc96",
           "#ab63fa",
           "#FFA15A",
           "#19d3f3",
           "#FF6692",
           "#B6E880",
           "#FF97FF",
           "#FECB52"
          ],
          "font": {
           "color": "#2a3f5f"
          },
          "geo": {
           "bgcolor": "white",
           "lakecolor": "white",
           "landcolor": "#E5ECF6",
           "showlakes": true,
           "showland": true,
           "subunitcolor": "white"
          },
          "hoverlabel": {
           "align": "left"
          },
          "hovermode": "closest",
          "mapbox": {
           "style": "light"
          },
          "paper_bgcolor": "white",
          "plot_bgcolor": "#E5ECF6",
          "polar": {
           "angularaxis": {
            "gridcolor": "white",
            "linecolor": "white",
            "ticks": ""
           },
           "bgcolor": "#E5ECF6",
           "radialaxis": {
            "gridcolor": "white",
            "linecolor": "white",
            "ticks": ""
           }
          },
          "scene": {
           "xaxis": {
            "backgroundcolor": "#E5ECF6",
            "gridcolor": "white",
            "gridwidth": 2,
            "linecolor": "white",
            "showbackground": true,
            "ticks": "",
            "zerolinecolor": "white"
           },
           "yaxis": {
            "backgroundcolor": "#E5ECF6",
            "gridcolor": "white",
            "gridwidth": 2,
            "linecolor": "white",
            "showbackground": true,
            "ticks": "",
            "zerolinecolor": "white"
           },
           "zaxis": {
            "backgroundcolor": "#E5ECF6",
            "gridcolor": "white",
            "gridwidth": 2,
            "linecolor": "white",
            "showbackground": true,
            "ticks": "",
            "zerolinecolor": "white"
           }
          },
          "shapedefaults": {
           "line": {
            "color": "#2a3f5f"
           }
          },
          "ternary": {
           "aaxis": {
            "gridcolor": "white",
            "linecolor": "white",
            "ticks": ""
           },
           "baxis": {
            "gridcolor": "white",
            "linecolor": "white",
            "ticks": ""
           },
           "bgcolor": "#E5ECF6",
           "caxis": {
            "gridcolor": "white",
            "linecolor": "white",
            "ticks": ""
           }
          },
          "title": {
           "x": 0.05
          },
          "xaxis": {
           "automargin": true,
           "gridcolor": "white",
           "linecolor": "white",
           "ticks": "",
           "title": {
            "standoff": 15
           },
           "zerolinecolor": "white",
           "zerolinewidth": 2
          },
          "yaxis": {
           "automargin": true,
           "gridcolor": "white",
           "linecolor": "white",
           "ticks": "",
           "title": {
            "standoff": 15
           },
           "zerolinecolor": "white",
           "zerolinewidth": 2
          }
         }
        },
        "title": {
         "font": {
          "color": "Green"
         },
         "text": "Black SUV prices($) for distance(km)"
        },
        "xaxis": {
         "anchor": "y",
         "domain": [
          0,
          1
         ],
         "title": {
          "text": "Distance (km)"
         }
        },
        "yaxis": {
         "anchor": "x",
         "domain": [
          0,
          1
         ],
         "title": {
          "text": "Price for distance (km)"
         }
        }
       }
      },
      "text/html": [
       "<div>                            <div id=\"f6927012-9a03-400d-a30f-d6c633dd9298\" class=\"plotly-graph-div\" style=\"height:525px; width:100%;\"></div>            <script type=\"text/javascript\">                require([\"plotly\"], function(Plotly) {                    window.PLOTLYENV=window.PLOTLYENV || {};                                    if (document.getElementById(\"f6927012-9a03-400d-a30f-d6c633dd9298\")) {                    Plotly.newPlot(                        \"f6927012-9a03-400d-a30f-d6c633dd9298\",                        [{\"hovertemplate\":\"Uber type=Black SUV<br>Distance (km)=%{x}<br>Price for distance (km)=%{y}<extra></extra>\",\"legendgroup\":\"Black SUV\",\"line\":{\"color\":\"#636efa\",\"dash\":\"solid\"},\"marker\":{\"symbol\":\"circle\"},\"mode\":\"lines\",\"name\":\"Black SUV\",\"orientation\":\"v\",\"showlegend\":true,\"type\":\"scatter\",\"x\":[0.17,0.5,0.53,0.67,0.71,0.97,0.99,1.14,1.22,1.33,1.48,1.55,1.61,1.68,1.72,1.79,1.87,2.09,2.14,2.16,2.28,2.3,2.35,2.46,2.48,2.5,2.51,2.59,2.65,2.66,2.69,2.82,2.85,2.86,2.87,2.9,3.2,3.24,3.4,3.44,3.56,3.66,3.8,3.85,3.89,3.96,4.12,4.3,4.33,4.35,4.48,4.51,4.57,4.59,4.7,4.8,4.84,5.02,5.1,5.66,7.19,7.24],\"xaxis\":\"x\",\"y\":[27.0,27.5,26.5,26.0,27.5,27.0,26.5,26.0,27.0,27.0,28.0,27.5,27.5,32.0,27.0,29.5,30.5,30.5,27.0,27.5,31.5,33.0,34.0,29.5,27.5,28.5,32.0,28.5,29.5,27.5,34.0,29.0,29.5,30.5,32.5,34.0,30.5,34.5,35.5,35.0,35.0,40.5,37.5,39.5,34.0,38.5,39.5,42.5,37.0,39.5,37.0,42.5,36.0,40.5,48.0,43.5,43.0,37.5,43.0,47.5,48.0,52.5],\"yaxis\":\"y\"}],                        {\"font\":{\"color\":\"black\",\"family\":\"Times New Roman\"},\"legend\":{\"title\":{\"font\":{\"color\":\"Green\"},\"text\":\"Uber type\"},\"tracegroupgap\":0},\"template\":{\"data\":{\"bar\":[{\"error_x\":{\"color\":\"#2a3f5f\"},\"error_y\":{\"color\":\"#2a3f5f\"},\"marker\":{\"line\":{\"color\":\"#E5ECF6\",\"width\":0.5},\"pattern\":{\"fillmode\":\"overlay\",\"size\":10,\"solidity\":0.2}},\"type\":\"bar\"}],\"barpolar\":[{\"marker\":{\"line\":{\"color\":\"#E5ECF6\",\"width\":0.5},\"pattern\":{\"fillmode\":\"overlay\",\"size\":10,\"solidity\":0.2}},\"type\":\"barpolar\"}],\"carpet\":[{\"aaxis\":{\"endlinecolor\":\"#2a3f5f\",\"gridcolor\":\"white\",\"linecolor\":\"white\",\"minorgridcolor\":\"white\",\"startlinecolor\":\"#2a3f5f\"},\"baxis\":{\"endlinecolor\":\"#2a3f5f\",\"gridcolor\":\"white\",\"linecolor\":\"white\",\"minorgridcolor\":\"white\",\"startlinecolor\":\"#2a3f5f\"},\"type\":\"carpet\"}],\"choropleth\":[{\"colorbar\":{\"outlinewidth\":0,\"ticks\":\"\"},\"type\":\"choropleth\"}],\"contour\":[{\"colorbar\":{\"outlinewidth\":0,\"ticks\":\"\"},\"colorscale\":[[0.0,\"#0d0887\"],[0.1111111111111111,\"#46039f\"],[0.2222222222222222,\"#7201a8\"],[0.3333333333333333,\"#9c179e\"],[0.4444444444444444,\"#bd3786\"],[0.5555555555555556,\"#d8576b\"],[0.6666666666666666,\"#ed7953\"],[0.7777777777777778,\"#fb9f3a\"],[0.8888888888888888,\"#fdca26\"],[1.0,\"#f0f921\"]],\"type\":\"contour\"}],\"contourcarpet\":[{\"colorbar\":{\"outlinewidth\":0,\"ticks\":\"\"},\"type\":\"contourcarpet\"}],\"heatmap\":[{\"colorbar\":{\"outlinewidth\":0,\"ticks\":\"\"},\"colorscale\":[[0.0,\"#0d0887\"],[0.1111111111111111,\"#46039f\"],[0.2222222222222222,\"#7201a8\"],[0.3333333333333333,\"#9c179e\"],[0.4444444444444444,\"#bd3786\"],[0.5555555555555556,\"#d8576b\"],[0.6666666666666666,\"#ed7953\"],[0.7777777777777778,\"#fb9f3a\"],[0.8888888888888888,\"#fdca26\"],[1.0,\"#f0f921\"]],\"type\":\"heatmap\"}],\"heatmapgl\":[{\"colorbar\":{\"outlinewidth\":0,\"ticks\":\"\"},\"colorscale\":[[0.0,\"#0d0887\"],[0.1111111111111111,\"#46039f\"],[0.2222222222222222,\"#7201a8\"],[0.3333333333333333,\"#9c179e\"],[0.4444444444444444,\"#bd3786\"],[0.5555555555555556,\"#d8576b\"],[0.6666666666666666,\"#ed7953\"],[0.7777777777777778,\"#fb9f3a\"],[0.8888888888888888,\"#fdca26\"],[1.0,\"#f0f921\"]],\"type\":\"heatmapgl\"}],\"histogram\":[{\"marker\":{\"pattern\":{\"fillmode\":\"overlay\",\"size\":10,\"solidity\":0.2}},\"type\":\"histogram\"}],\"histogram2d\":[{\"colorbar\":{\"outlinewidth\":0,\"ticks\":\"\"},\"colorscale\":[[0.0,\"#0d0887\"],[0.1111111111111111,\"#46039f\"],[0.2222222222222222,\"#7201a8\"],[0.3333333333333333,\"#9c179e\"],[0.4444444444444444,\"#bd3786\"],[0.5555555555555556,\"#d8576b\"],[0.6666666666666666,\"#ed7953\"],[0.7777777777777778,\"#fb9f3a\"],[0.8888888888888888,\"#fdca26\"],[1.0,\"#f0f921\"]],\"type\":\"histogram2d\"}],\"histogram2dcontour\":[{\"colorbar\":{\"outlinewidth\":0,\"ticks\":\"\"},\"colorscale\":[[0.0,\"#0d0887\"],[0.1111111111111111,\"#46039f\"],[0.2222222222222222,\"#7201a8\"],[0.3333333333333333,\"#9c179e\"],[0.4444444444444444,\"#bd3786\"],[0.5555555555555556,\"#d8576b\"],[0.6666666666666666,\"#ed7953\"],[0.7777777777777778,\"#fb9f3a\"],[0.8888888888888888,\"#fdca26\"],[1.0,\"#f0f921\"]],\"type\":\"histogram2dcontour\"}],\"mesh3d\":[{\"colorbar\":{\"outlinewidth\":0,\"ticks\":\"\"},\"type\":\"mesh3d\"}],\"parcoords\":[{\"line\":{\"colorbar\":{\"outlinewidth\":0,\"ticks\":\"\"}},\"type\":\"parcoords\"}],\"pie\":[{\"automargin\":true,\"type\":\"pie\"}],\"scatter\":[{\"marker\":{\"colorbar\":{\"outlinewidth\":0,\"ticks\":\"\"}},\"type\":\"scatter\"}],\"scatter3d\":[{\"line\":{\"colorbar\":{\"outlinewidth\":0,\"ticks\":\"\"}},\"marker\":{\"colorbar\":{\"outlinewidth\":0,\"ticks\":\"\"}},\"type\":\"scatter3d\"}],\"scattercarpet\":[{\"marker\":{\"colorbar\":{\"outlinewidth\":0,\"ticks\":\"\"}},\"type\":\"scattercarpet\"}],\"scattergeo\":[{\"marker\":{\"colorbar\":{\"outlinewidth\":0,\"ticks\":\"\"}},\"type\":\"scattergeo\"}],\"scattergl\":[{\"marker\":{\"colorbar\":{\"outlinewidth\":0,\"ticks\":\"\"}},\"type\":\"scattergl\"}],\"scattermapbox\":[{\"marker\":{\"colorbar\":{\"outlinewidth\":0,\"ticks\":\"\"}},\"type\":\"scattermapbox\"}],\"scatterpolar\":[{\"marker\":{\"colorbar\":{\"outlinewidth\":0,\"ticks\":\"\"}},\"type\":\"scatterpolar\"}],\"scatterpolargl\":[{\"marker\":{\"colorbar\":{\"outlinewidth\":0,\"ticks\":\"\"}},\"type\":\"scatterpolargl\"}],\"scatterternary\":[{\"marker\":{\"colorbar\":{\"outlinewidth\":0,\"ticks\":\"\"}},\"type\":\"scatterternary\"}],\"surface\":[{\"colorbar\":{\"outlinewidth\":0,\"ticks\":\"\"},\"colorscale\":[[0.0,\"#0d0887\"],[0.1111111111111111,\"#46039f\"],[0.2222222222222222,\"#7201a8\"],[0.3333333333333333,\"#9c179e\"],[0.4444444444444444,\"#bd3786\"],[0.5555555555555556,\"#d8576b\"],[0.6666666666666666,\"#ed7953\"],[0.7777777777777778,\"#fb9f3a\"],[0.8888888888888888,\"#fdca26\"],[1.0,\"#f0f921\"]],\"type\":\"surface\"}],\"table\":[{\"cells\":{\"fill\":{\"color\":\"#EBF0F8\"},\"line\":{\"color\":\"white\"}},\"header\":{\"fill\":{\"color\":\"#C8D4E3\"},\"line\":{\"color\":\"white\"}},\"type\":\"table\"}]},\"layout\":{\"annotationdefaults\":{\"arrowcolor\":\"#2a3f5f\",\"arrowhead\":0,\"arrowwidth\":1},\"autotypenumbers\":\"strict\",\"coloraxis\":{\"colorbar\":{\"outlinewidth\":0,\"ticks\":\"\"}},\"colorscale\":{\"diverging\":[[0,\"#8e0152\"],[0.1,\"#c51b7d\"],[0.2,\"#de77ae\"],[0.3,\"#f1b6da\"],[0.4,\"#fde0ef\"],[0.5,\"#f7f7f7\"],[0.6,\"#e6f5d0\"],[0.7,\"#b8e186\"],[0.8,\"#7fbc41\"],[0.9,\"#4d9221\"],[1,\"#276419\"]],\"sequential\":[[0.0,\"#0d0887\"],[0.1111111111111111,\"#46039f\"],[0.2222222222222222,\"#7201a8\"],[0.3333333333333333,\"#9c179e\"],[0.4444444444444444,\"#bd3786\"],[0.5555555555555556,\"#d8576b\"],[0.6666666666666666,\"#ed7953\"],[0.7777777777777778,\"#fb9f3a\"],[0.8888888888888888,\"#fdca26\"],[1.0,\"#f0f921\"]],\"sequentialminus\":[[0.0,\"#0d0887\"],[0.1111111111111111,\"#46039f\"],[0.2222222222222222,\"#7201a8\"],[0.3333333333333333,\"#9c179e\"],[0.4444444444444444,\"#bd3786\"],[0.5555555555555556,\"#d8576b\"],[0.6666666666666666,\"#ed7953\"],[0.7777777777777778,\"#fb9f3a\"],[0.8888888888888888,\"#fdca26\"],[1.0,\"#f0f921\"]]},\"colorway\":[\"#636efa\",\"#EF553B\",\"#00cc96\",\"#ab63fa\",\"#FFA15A\",\"#19d3f3\",\"#FF6692\",\"#B6E880\",\"#FF97FF\",\"#FECB52\"],\"font\":{\"color\":\"#2a3f5f\"},\"geo\":{\"bgcolor\":\"white\",\"lakecolor\":\"white\",\"landcolor\":\"#E5ECF6\",\"showlakes\":true,\"showland\":true,\"subunitcolor\":\"white\"},\"hoverlabel\":{\"align\":\"left\"},\"hovermode\":\"closest\",\"mapbox\":{\"style\":\"light\"},\"paper_bgcolor\":\"white\",\"plot_bgcolor\":\"#E5ECF6\",\"polar\":{\"angularaxis\":{\"gridcolor\":\"white\",\"linecolor\":\"white\",\"ticks\":\"\"},\"bgcolor\":\"#E5ECF6\",\"radialaxis\":{\"gridcolor\":\"white\",\"linecolor\":\"white\",\"ticks\":\"\"}},\"scene\":{\"xaxis\":{\"backgroundcolor\":\"#E5ECF6\",\"gridcolor\":\"white\",\"gridwidth\":2,\"linecolor\":\"white\",\"showbackground\":true,\"ticks\":\"\",\"zerolinecolor\":\"white\"},\"yaxis\":{\"backgroundcolor\":\"#E5ECF6\",\"gridcolor\":\"white\",\"gridwidth\":2,\"linecolor\":\"white\",\"showbackground\":true,\"ticks\":\"\",\"zerolinecolor\":\"white\"},\"zaxis\":{\"backgroundcolor\":\"#E5ECF6\",\"gridcolor\":\"white\",\"gridwidth\":2,\"linecolor\":\"white\",\"showbackground\":true,\"ticks\":\"\",\"zerolinecolor\":\"white\"}},\"shapedefaults\":{\"line\":{\"color\":\"#2a3f5f\"}},\"ternary\":{\"aaxis\":{\"gridcolor\":\"white\",\"linecolor\":\"white\",\"ticks\":\"\"},\"baxis\":{\"gridcolor\":\"white\",\"linecolor\":\"white\",\"ticks\":\"\"},\"bgcolor\":\"#E5ECF6\",\"caxis\":{\"gridcolor\":\"white\",\"linecolor\":\"white\",\"ticks\":\"\"}},\"title\":{\"x\":0.05},\"xaxis\":{\"automargin\":true,\"gridcolor\":\"white\",\"linecolor\":\"white\",\"ticks\":\"\",\"title\":{\"standoff\":15},\"zerolinecolor\":\"white\",\"zerolinewidth\":2},\"yaxis\":{\"automargin\":true,\"gridcolor\":\"white\",\"linecolor\":\"white\",\"ticks\":\"\",\"title\":{\"standoff\":15},\"zerolinecolor\":\"white\",\"zerolinewidth\":2}}},\"title\":{\"font\":{\"color\":\"Green\"},\"text\":\"Black SUV prices($) for distance(km)\"},\"xaxis\":{\"anchor\":\"y\",\"domain\":[0.0,1.0],\"title\":{\"text\":\"Distance (km)\"}},\"yaxis\":{\"anchor\":\"x\",\"domain\":[0.0,1.0],\"title\":{\"text\":\"Price for distance (km)\"}}},                        {\"responsive\": true}                    ).then(function(){\n",
       "                            \n",
       "var gd = document.getElementById('f6927012-9a03-400d-a30f-d6c633dd9298');\n",
       "var x = new MutationObserver(function (mutations, observer) {{\n",
       "        var display = window.getComputedStyle(gd).display;\n",
       "        if (!display || display === 'none') {{\n",
       "            console.log([gd, 'removed!']);\n",
       "            Plotly.purge(gd);\n",
       "            observer.disconnect();\n",
       "        }}\n",
       "}});\n",
       "\n",
       "// Listen for the removal of the full notebook cells\n",
       "var notebookContainer = gd.closest('#notebook-container');\n",
       "if (notebookContainer) {{\n",
       "    x.observe(notebookContainer, {childList: true});\n",
       "}}\n",
       "\n",
       "// Listen for the clearing of the current output cell\n",
       "var outputEl = gd.closest('.output');\n",
       "if (outputEl) {{\n",
       "    x.observe(outputEl, {childList: true});\n",
       "}}\n",
       "\n",
       "                        })                };                });            </script>        </div>"
      ]
     },
     "metadata": {},
     "output_type": "display_data"
    }
   ],
   "source": [
    "black_SUV = data_cab_ubber.query(\"name in ['Black SUV']\")\n",
    "fig=px.line(black_SUV.head(2000),x='distance',y='price',color=\"name\",\n",
    "            title = \"Black SUV prices($) for distance(km)\",\n",
    "           labels={\n",
    "                     \"price\": \"Price for distance (km)\",\n",
    "                     \"distance\": \"Distance (km)\",\n",
    "                     \"name\": \"Uber type\"\n",
    "                 })\n",
    "fig.update_layout(\n",
    "    font_family=\"Times New Roman\",\n",
    "    font_color=\"black\",\n",
    "    title_font_color=\"Green\",\n",
    "    legend_title_font_color=\"Green\"\n",
    ")\n",
    "fig.show()"
   ]
  },
  {
   "cell_type": "markdown",
   "id": "4e3f04d9",
   "metadata": {},
   "source": [
    "\n",
    "## Taxi the Most cheapest Uber's type"
   ]
  },
  {
   "cell_type": "code",
   "execution_count": 35,
   "id": "f4fdb622",
   "metadata": {},
   "outputs": [
    {
     "data": {
      "application/vnd.plotly.v1+json": {
       "config": {
        "plotlyServerURL": "https://plot.ly"
       },
       "data": [
        {
         "hovertemplate": "Uber type=Taxi<br>Distance (km)=%{x}<br>Price for distance (km)=%{y}<extra></extra>",
         "legendgroup": "Taxi",
         "line": {
          "color": "#636efa",
          "dash": "solid"
         },
         "marker": {
          "symbol": "circle"
         },
         "mode": "lines",
         "name": "Taxi",
         "orientation": "v",
         "showlegend": true,
         "type": "scatter",
         "x": [
          0.27,
          0.49,
          0.54,
          0.82,
          0.9,
          1.06,
          1.07,
          1.09,
          1.16,
          1.19,
          1.21,
          1.24,
          1.28,
          1.45,
          1.57,
          1.7,
          1.76,
          1.77,
          1.83,
          1.85,
          1.9,
          1.93,
          2.26,
          2.31,
          2.32,
          2.41,
          2.45,
          2.72,
          2.78,
          2.84,
          2.92,
          2.95,
          2.97,
          3,
          3.14,
          3.34,
          3.46,
          3.59,
          3.64,
          3.72,
          3.91,
          3.92,
          3.99,
          4,
          4.03,
          4.07,
          4.13,
          4.39,
          4.47,
          4.62,
          4.71,
          4.73,
          4.78,
          4.86,
          4.91,
          4.93,
          4.98,
          5.12,
          5.16,
          5.69,
          6.27,
          6.97,
          7.2,
          7.5
         ],
         "xaxis": "x",
         "y": [
          0.3915,
          0.7105,
          0.783,
          1.1889999999999998,
          1.305,
          1.537,
          1.5515,
          1.5805,
          1.682,
          1.7254999999999998,
          1.7545,
          1.798,
          1.856,
          2.1025,
          2.2765,
          2.465,
          2.552,
          2.5665,
          2.6535,
          2.6825,
          2.755,
          2.7985,
          3.277,
          3.3495,
          3.364,
          3.4945,
          3.5525,
          3.944,
          4.031,
          4.117999999999999,
          4.234,
          4.2775,
          4.3065,
          4.35,
          4.553,
          4.843,
          5.017,
          5.2055,
          5.278,
          5.394,
          5.6695,
          5.684,
          5.7855,
          5.8,
          5.843500000000001,
          5.9015,
          5.988499999999999,
          6.365499999999999,
          6.4815,
          6.699,
          6.8295,
          6.8585,
          6.931,
          7.047000000000001,
          7.1195,
          7.148499999999999,
          7.221,
          7.423999999999999,
          7.482,
          8.2505,
          9.0915,
          10.1065,
          10.44,
          10.875
         ],
         "yaxis": "y"
        }
       ],
       "layout": {
        "font": {
         "color": "black",
         "family": "Times New Roman"
        },
        "legend": {
         "title": {
          "font": {
           "color": "Green"
          },
          "text": "Uber type"
         },
         "tracegroupgap": 0
        },
        "template": {
         "data": {
          "bar": [
           {
            "error_x": {
             "color": "#2a3f5f"
            },
            "error_y": {
             "color": "#2a3f5f"
            },
            "marker": {
             "line": {
              "color": "#E5ECF6",
              "width": 0.5
             },
             "pattern": {
              "fillmode": "overlay",
              "size": 10,
              "solidity": 0.2
             }
            },
            "type": "bar"
           }
          ],
          "barpolar": [
           {
            "marker": {
             "line": {
              "color": "#E5ECF6",
              "width": 0.5
             },
             "pattern": {
              "fillmode": "overlay",
              "size": 10,
              "solidity": 0.2
             }
            },
            "type": "barpolar"
           }
          ],
          "carpet": [
           {
            "aaxis": {
             "endlinecolor": "#2a3f5f",
             "gridcolor": "white",
             "linecolor": "white",
             "minorgridcolor": "white",
             "startlinecolor": "#2a3f5f"
            },
            "baxis": {
             "endlinecolor": "#2a3f5f",
             "gridcolor": "white",
             "linecolor": "white",
             "minorgridcolor": "white",
             "startlinecolor": "#2a3f5f"
            },
            "type": "carpet"
           }
          ],
          "choropleth": [
           {
            "colorbar": {
             "outlinewidth": 0,
             "ticks": ""
            },
            "type": "choropleth"
           }
          ],
          "contour": [
           {
            "colorbar": {
             "outlinewidth": 0,
             "ticks": ""
            },
            "colorscale": [
             [
              0,
              "#0d0887"
             ],
             [
              0.1111111111111111,
              "#46039f"
             ],
             [
              0.2222222222222222,
              "#7201a8"
             ],
             [
              0.3333333333333333,
              "#9c179e"
             ],
             [
              0.4444444444444444,
              "#bd3786"
             ],
             [
              0.5555555555555556,
              "#d8576b"
             ],
             [
              0.6666666666666666,
              "#ed7953"
             ],
             [
              0.7777777777777778,
              "#fb9f3a"
             ],
             [
              0.8888888888888888,
              "#fdca26"
             ],
             [
              1,
              "#f0f921"
             ]
            ],
            "type": "contour"
           }
          ],
          "contourcarpet": [
           {
            "colorbar": {
             "outlinewidth": 0,
             "ticks": ""
            },
            "type": "contourcarpet"
           }
          ],
          "heatmap": [
           {
            "colorbar": {
             "outlinewidth": 0,
             "ticks": ""
            },
            "colorscale": [
             [
              0,
              "#0d0887"
             ],
             [
              0.1111111111111111,
              "#46039f"
             ],
             [
              0.2222222222222222,
              "#7201a8"
             ],
             [
              0.3333333333333333,
              "#9c179e"
             ],
             [
              0.4444444444444444,
              "#bd3786"
             ],
             [
              0.5555555555555556,
              "#d8576b"
             ],
             [
              0.6666666666666666,
              "#ed7953"
             ],
             [
              0.7777777777777778,
              "#fb9f3a"
             ],
             [
              0.8888888888888888,
              "#fdca26"
             ],
             [
              1,
              "#f0f921"
             ]
            ],
            "type": "heatmap"
           }
          ],
          "heatmapgl": [
           {
            "colorbar": {
             "outlinewidth": 0,
             "ticks": ""
            },
            "colorscale": [
             [
              0,
              "#0d0887"
             ],
             [
              0.1111111111111111,
              "#46039f"
             ],
             [
              0.2222222222222222,
              "#7201a8"
             ],
             [
              0.3333333333333333,
              "#9c179e"
             ],
             [
              0.4444444444444444,
              "#bd3786"
             ],
             [
              0.5555555555555556,
              "#d8576b"
             ],
             [
              0.6666666666666666,
              "#ed7953"
             ],
             [
              0.7777777777777778,
              "#fb9f3a"
             ],
             [
              0.8888888888888888,
              "#fdca26"
             ],
             [
              1,
              "#f0f921"
             ]
            ],
            "type": "heatmapgl"
           }
          ],
          "histogram": [
           {
            "marker": {
             "pattern": {
              "fillmode": "overlay",
              "size": 10,
              "solidity": 0.2
             }
            },
            "type": "histogram"
           }
          ],
          "histogram2d": [
           {
            "colorbar": {
             "outlinewidth": 0,
             "ticks": ""
            },
            "colorscale": [
             [
              0,
              "#0d0887"
             ],
             [
              0.1111111111111111,
              "#46039f"
             ],
             [
              0.2222222222222222,
              "#7201a8"
             ],
             [
              0.3333333333333333,
              "#9c179e"
             ],
             [
              0.4444444444444444,
              "#bd3786"
             ],
             [
              0.5555555555555556,
              "#d8576b"
             ],
             [
              0.6666666666666666,
              "#ed7953"
             ],
             [
              0.7777777777777778,
              "#fb9f3a"
             ],
             [
              0.8888888888888888,
              "#fdca26"
             ],
             [
              1,
              "#f0f921"
             ]
            ],
            "type": "histogram2d"
           }
          ],
          "histogram2dcontour": [
           {
            "colorbar": {
             "outlinewidth": 0,
             "ticks": ""
            },
            "colorscale": [
             [
              0,
              "#0d0887"
             ],
             [
              0.1111111111111111,
              "#46039f"
             ],
             [
              0.2222222222222222,
              "#7201a8"
             ],
             [
              0.3333333333333333,
              "#9c179e"
             ],
             [
              0.4444444444444444,
              "#bd3786"
             ],
             [
              0.5555555555555556,
              "#d8576b"
             ],
             [
              0.6666666666666666,
              "#ed7953"
             ],
             [
              0.7777777777777778,
              "#fb9f3a"
             ],
             [
              0.8888888888888888,
              "#fdca26"
             ],
             [
              1,
              "#f0f921"
             ]
            ],
            "type": "histogram2dcontour"
           }
          ],
          "mesh3d": [
           {
            "colorbar": {
             "outlinewidth": 0,
             "ticks": ""
            },
            "type": "mesh3d"
           }
          ],
          "parcoords": [
           {
            "line": {
             "colorbar": {
              "outlinewidth": 0,
              "ticks": ""
             }
            },
            "type": "parcoords"
           }
          ],
          "pie": [
           {
            "automargin": true,
            "type": "pie"
           }
          ],
          "scatter": [
           {
            "marker": {
             "colorbar": {
              "outlinewidth": 0,
              "ticks": ""
             }
            },
            "type": "scatter"
           }
          ],
          "scatter3d": [
           {
            "line": {
             "colorbar": {
              "outlinewidth": 0,
              "ticks": ""
             }
            },
            "marker": {
             "colorbar": {
              "outlinewidth": 0,
              "ticks": ""
             }
            },
            "type": "scatter3d"
           }
          ],
          "scattercarpet": [
           {
            "marker": {
             "colorbar": {
              "outlinewidth": 0,
              "ticks": ""
             }
            },
            "type": "scattercarpet"
           }
          ],
          "scattergeo": [
           {
            "marker": {
             "colorbar": {
              "outlinewidth": 0,
              "ticks": ""
             }
            },
            "type": "scattergeo"
           }
          ],
          "scattergl": [
           {
            "marker": {
             "colorbar": {
              "outlinewidth": 0,
              "ticks": ""
             }
            },
            "type": "scattergl"
           }
          ],
          "scattermapbox": [
           {
            "marker": {
             "colorbar": {
              "outlinewidth": 0,
              "ticks": ""
             }
            },
            "type": "scattermapbox"
           }
          ],
          "scatterpolar": [
           {
            "marker": {
             "colorbar": {
              "outlinewidth": 0,
              "ticks": ""
             }
            },
            "type": "scatterpolar"
           }
          ],
          "scatterpolargl": [
           {
            "marker": {
             "colorbar": {
              "outlinewidth": 0,
              "ticks": ""
             }
            },
            "type": "scatterpolargl"
           }
          ],
          "scatterternary": [
           {
            "marker": {
             "colorbar": {
              "outlinewidth": 0,
              "ticks": ""
             }
            },
            "type": "scatterternary"
           }
          ],
          "surface": [
           {
            "colorbar": {
             "outlinewidth": 0,
             "ticks": ""
            },
            "colorscale": [
             [
              0,
              "#0d0887"
             ],
             [
              0.1111111111111111,
              "#46039f"
             ],
             [
              0.2222222222222222,
              "#7201a8"
             ],
             [
              0.3333333333333333,
              "#9c179e"
             ],
             [
              0.4444444444444444,
              "#bd3786"
             ],
             [
              0.5555555555555556,
              "#d8576b"
             ],
             [
              0.6666666666666666,
              "#ed7953"
             ],
             [
              0.7777777777777778,
              "#fb9f3a"
             ],
             [
              0.8888888888888888,
              "#fdca26"
             ],
             [
              1,
              "#f0f921"
             ]
            ],
            "type": "surface"
           }
          ],
          "table": [
           {
            "cells": {
             "fill": {
              "color": "#EBF0F8"
             },
             "line": {
              "color": "white"
             }
            },
            "header": {
             "fill": {
              "color": "#C8D4E3"
             },
             "line": {
              "color": "white"
             }
            },
            "type": "table"
           }
          ]
         },
         "layout": {
          "annotationdefaults": {
           "arrowcolor": "#2a3f5f",
           "arrowhead": 0,
           "arrowwidth": 1
          },
          "autotypenumbers": "strict",
          "coloraxis": {
           "colorbar": {
            "outlinewidth": 0,
            "ticks": ""
           }
          },
          "colorscale": {
           "diverging": [
            [
             0,
             "#8e0152"
            ],
            [
             0.1,
             "#c51b7d"
            ],
            [
             0.2,
             "#de77ae"
            ],
            [
             0.3,
             "#f1b6da"
            ],
            [
             0.4,
             "#fde0ef"
            ],
            [
             0.5,
             "#f7f7f7"
            ],
            [
             0.6,
             "#e6f5d0"
            ],
            [
             0.7,
             "#b8e186"
            ],
            [
             0.8,
             "#7fbc41"
            ],
            [
             0.9,
             "#4d9221"
            ],
            [
             1,
             "#276419"
            ]
           ],
           "sequential": [
            [
             0,
             "#0d0887"
            ],
            [
             0.1111111111111111,
             "#46039f"
            ],
            [
             0.2222222222222222,
             "#7201a8"
            ],
            [
             0.3333333333333333,
             "#9c179e"
            ],
            [
             0.4444444444444444,
             "#bd3786"
            ],
            [
             0.5555555555555556,
             "#d8576b"
            ],
            [
             0.6666666666666666,
             "#ed7953"
            ],
            [
             0.7777777777777778,
             "#fb9f3a"
            ],
            [
             0.8888888888888888,
             "#fdca26"
            ],
            [
             1,
             "#f0f921"
            ]
           ],
           "sequentialminus": [
            [
             0,
             "#0d0887"
            ],
            [
             0.1111111111111111,
             "#46039f"
            ],
            [
             0.2222222222222222,
             "#7201a8"
            ],
            [
             0.3333333333333333,
             "#9c179e"
            ],
            [
             0.4444444444444444,
             "#bd3786"
            ],
            [
             0.5555555555555556,
             "#d8576b"
            ],
            [
             0.6666666666666666,
             "#ed7953"
            ],
            [
             0.7777777777777778,
             "#fb9f3a"
            ],
            [
             0.8888888888888888,
             "#fdca26"
            ],
            [
             1,
             "#f0f921"
            ]
           ]
          },
          "colorway": [
           "#636efa",
           "#EF553B",
           "#00cc96",
           "#ab63fa",
           "#FFA15A",
           "#19d3f3",
           "#FF6692",
           "#B6E880",
           "#FF97FF",
           "#FECB52"
          ],
          "font": {
           "color": "#2a3f5f"
          },
          "geo": {
           "bgcolor": "white",
           "lakecolor": "white",
           "landcolor": "#E5ECF6",
           "showlakes": true,
           "showland": true,
           "subunitcolor": "white"
          },
          "hoverlabel": {
           "align": "left"
          },
          "hovermode": "closest",
          "mapbox": {
           "style": "light"
          },
          "paper_bgcolor": "white",
          "plot_bgcolor": "#E5ECF6",
          "polar": {
           "angularaxis": {
            "gridcolor": "white",
            "linecolor": "white",
            "ticks": ""
           },
           "bgcolor": "#E5ECF6",
           "radialaxis": {
            "gridcolor": "white",
            "linecolor": "white",
            "ticks": ""
           }
          },
          "scene": {
           "xaxis": {
            "backgroundcolor": "#E5ECF6",
            "gridcolor": "white",
            "gridwidth": 2,
            "linecolor": "white",
            "showbackground": true,
            "ticks": "",
            "zerolinecolor": "white"
           },
           "yaxis": {
            "backgroundcolor": "#E5ECF6",
            "gridcolor": "white",
            "gridwidth": 2,
            "linecolor": "white",
            "showbackground": true,
            "ticks": "",
            "zerolinecolor": "white"
           },
           "zaxis": {
            "backgroundcolor": "#E5ECF6",
            "gridcolor": "white",
            "gridwidth": 2,
            "linecolor": "white",
            "showbackground": true,
            "ticks": "",
            "zerolinecolor": "white"
           }
          },
          "shapedefaults": {
           "line": {
            "color": "#2a3f5f"
           }
          },
          "ternary": {
           "aaxis": {
            "gridcolor": "white",
            "linecolor": "white",
            "ticks": ""
           },
           "baxis": {
            "gridcolor": "white",
            "linecolor": "white",
            "ticks": ""
           },
           "bgcolor": "#E5ECF6",
           "caxis": {
            "gridcolor": "white",
            "linecolor": "white",
            "ticks": ""
           }
          },
          "title": {
           "x": 0.05
          },
          "xaxis": {
           "automargin": true,
           "gridcolor": "white",
           "linecolor": "white",
           "ticks": "",
           "title": {
            "standoff": 15
           },
           "zerolinecolor": "white",
           "zerolinewidth": 2
          },
          "yaxis": {
           "automargin": true,
           "gridcolor": "white",
           "linecolor": "white",
           "ticks": "",
           "title": {
            "standoff": 15
           },
           "zerolinecolor": "white",
           "zerolinewidth": 2
          }
         }
        },
        "title": {
         "font": {
          "color": "Green"
         },
         "text": "Uber Taxi charge price($) for distance(km) <br><sup>As we see in graph they charge per km their fix price per (km) is 1.43</sup>"
        },
        "xaxis": {
         "anchor": "y",
         "domain": [
          0,
          1
         ],
         "title": {
          "text": "Distance (km)"
         }
        },
        "yaxis": {
         "anchor": "x",
         "domain": [
          0,
          1
         ],
         "title": {
          "text": "Price for distance (km)"
         }
        }
       }
      },
      "text/html": [
       "<div>                            <div id=\"4c2aceb7-c32a-4855-9a86-8a1042ef484f\" class=\"plotly-graph-div\" style=\"height:525px; width:100%;\"></div>            <script type=\"text/javascript\">                require([\"plotly\"], function(Plotly) {                    window.PLOTLYENV=window.PLOTLYENV || {};                                    if (document.getElementById(\"4c2aceb7-c32a-4855-9a86-8a1042ef484f\")) {                    Plotly.newPlot(                        \"4c2aceb7-c32a-4855-9a86-8a1042ef484f\",                        [{\"hovertemplate\":\"Uber type=Taxi<br>Distance (km)=%{x}<br>Price for distance (km)=%{y}<extra></extra>\",\"legendgroup\":\"Taxi\",\"line\":{\"color\":\"#636efa\",\"dash\":\"solid\"},\"marker\":{\"symbol\":\"circle\"},\"mode\":\"lines\",\"name\":\"Taxi\",\"orientation\":\"v\",\"showlegend\":true,\"type\":\"scatter\",\"x\":[0.27,0.49,0.54,0.82,0.9,1.06,1.07,1.09,1.16,1.19,1.21,1.24,1.28,1.45,1.57,1.7,1.76,1.77,1.83,1.85,1.9,1.93,2.26,2.31,2.32,2.41,2.45,2.72,2.78,2.84,2.92,2.95,2.97,3.0,3.14,3.34,3.46,3.59,3.64,3.72,3.91,3.92,3.99,4.0,4.03,4.07,4.13,4.39,4.47,4.62,4.71,4.73,4.78,4.86,4.91,4.93,4.98,5.12,5.16,5.69,6.27,6.97,7.2,7.5],\"xaxis\":\"x\",\"y\":[0.3915,0.7105,0.783,1.1889999999999998,1.305,1.537,1.5515,1.5805,1.682,1.7254999999999998,1.7545,1.798,1.856,2.1025,2.2765,2.465,2.552,2.5665,2.6535,2.6825,2.755,2.7985,3.277,3.3495,3.364,3.4945,3.5525,3.944,4.031,4.117999999999999,4.234,4.2775,4.3065,4.35,4.553,4.843,5.017,5.2055,5.278,5.394,5.6695,5.684,5.7855,5.8,5.843500000000001,5.9015,5.988499999999999,6.365499999999999,6.4815,6.699,6.8295,6.8585,6.931,7.047000000000001,7.1195,7.148499999999999,7.221,7.423999999999999,7.482,8.2505,9.0915,10.1065,10.44,10.875],\"yaxis\":\"y\"}],                        {\"font\":{\"color\":\"black\",\"family\":\"Times New Roman\"},\"legend\":{\"title\":{\"font\":{\"color\":\"Green\"},\"text\":\"Uber type\"},\"tracegroupgap\":0},\"template\":{\"data\":{\"bar\":[{\"error_x\":{\"color\":\"#2a3f5f\"},\"error_y\":{\"color\":\"#2a3f5f\"},\"marker\":{\"line\":{\"color\":\"#E5ECF6\",\"width\":0.5},\"pattern\":{\"fillmode\":\"overlay\",\"size\":10,\"solidity\":0.2}},\"type\":\"bar\"}],\"barpolar\":[{\"marker\":{\"line\":{\"color\":\"#E5ECF6\",\"width\":0.5},\"pattern\":{\"fillmode\":\"overlay\",\"size\":10,\"solidity\":0.2}},\"type\":\"barpolar\"}],\"carpet\":[{\"aaxis\":{\"endlinecolor\":\"#2a3f5f\",\"gridcolor\":\"white\",\"linecolor\":\"white\",\"minorgridcolor\":\"white\",\"startlinecolor\":\"#2a3f5f\"},\"baxis\":{\"endlinecolor\":\"#2a3f5f\",\"gridcolor\":\"white\",\"linecolor\":\"white\",\"minorgridcolor\":\"white\",\"startlinecolor\":\"#2a3f5f\"},\"type\":\"carpet\"}],\"choropleth\":[{\"colorbar\":{\"outlinewidth\":0,\"ticks\":\"\"},\"type\":\"choropleth\"}],\"contour\":[{\"colorbar\":{\"outlinewidth\":0,\"ticks\":\"\"},\"colorscale\":[[0.0,\"#0d0887\"],[0.1111111111111111,\"#46039f\"],[0.2222222222222222,\"#7201a8\"],[0.3333333333333333,\"#9c179e\"],[0.4444444444444444,\"#bd3786\"],[0.5555555555555556,\"#d8576b\"],[0.6666666666666666,\"#ed7953\"],[0.7777777777777778,\"#fb9f3a\"],[0.8888888888888888,\"#fdca26\"],[1.0,\"#f0f921\"]],\"type\":\"contour\"}],\"contourcarpet\":[{\"colorbar\":{\"outlinewidth\":0,\"ticks\":\"\"},\"type\":\"contourcarpet\"}],\"heatmap\":[{\"colorbar\":{\"outlinewidth\":0,\"ticks\":\"\"},\"colorscale\":[[0.0,\"#0d0887\"],[0.1111111111111111,\"#46039f\"],[0.2222222222222222,\"#7201a8\"],[0.3333333333333333,\"#9c179e\"],[0.4444444444444444,\"#bd3786\"],[0.5555555555555556,\"#d8576b\"],[0.6666666666666666,\"#ed7953\"],[0.7777777777777778,\"#fb9f3a\"],[0.8888888888888888,\"#fdca26\"],[1.0,\"#f0f921\"]],\"type\":\"heatmap\"}],\"heatmapgl\":[{\"colorbar\":{\"outlinewidth\":0,\"ticks\":\"\"},\"colorscale\":[[0.0,\"#0d0887\"],[0.1111111111111111,\"#46039f\"],[0.2222222222222222,\"#7201a8\"],[0.3333333333333333,\"#9c179e\"],[0.4444444444444444,\"#bd3786\"],[0.5555555555555556,\"#d8576b\"],[0.6666666666666666,\"#ed7953\"],[0.7777777777777778,\"#fb9f3a\"],[0.8888888888888888,\"#fdca26\"],[1.0,\"#f0f921\"]],\"type\":\"heatmapgl\"}],\"histogram\":[{\"marker\":{\"pattern\":{\"fillmode\":\"overlay\",\"size\":10,\"solidity\":0.2}},\"type\":\"histogram\"}],\"histogram2d\":[{\"colorbar\":{\"outlinewidth\":0,\"ticks\":\"\"},\"colorscale\":[[0.0,\"#0d0887\"],[0.1111111111111111,\"#46039f\"],[0.2222222222222222,\"#7201a8\"],[0.3333333333333333,\"#9c179e\"],[0.4444444444444444,\"#bd3786\"],[0.5555555555555556,\"#d8576b\"],[0.6666666666666666,\"#ed7953\"],[0.7777777777777778,\"#fb9f3a\"],[0.8888888888888888,\"#fdca26\"],[1.0,\"#f0f921\"]],\"type\":\"histogram2d\"}],\"histogram2dcontour\":[{\"colorbar\":{\"outlinewidth\":0,\"ticks\":\"\"},\"colorscale\":[[0.0,\"#0d0887\"],[0.1111111111111111,\"#46039f\"],[0.2222222222222222,\"#7201a8\"],[0.3333333333333333,\"#9c179e\"],[0.4444444444444444,\"#bd3786\"],[0.5555555555555556,\"#d8576b\"],[0.6666666666666666,\"#ed7953\"],[0.7777777777777778,\"#fb9f3a\"],[0.8888888888888888,\"#fdca26\"],[1.0,\"#f0f921\"]],\"type\":\"histogram2dcontour\"}],\"mesh3d\":[{\"colorbar\":{\"outlinewidth\":0,\"ticks\":\"\"},\"type\":\"mesh3d\"}],\"parcoords\":[{\"line\":{\"colorbar\":{\"outlinewidth\":0,\"ticks\":\"\"}},\"type\":\"parcoords\"}],\"pie\":[{\"automargin\":true,\"type\":\"pie\"}],\"scatter\":[{\"marker\":{\"colorbar\":{\"outlinewidth\":0,\"ticks\":\"\"}},\"type\":\"scatter\"}],\"scatter3d\":[{\"line\":{\"colorbar\":{\"outlinewidth\":0,\"ticks\":\"\"}},\"marker\":{\"colorbar\":{\"outlinewidth\":0,\"ticks\":\"\"}},\"type\":\"scatter3d\"}],\"scattercarpet\":[{\"marker\":{\"colorbar\":{\"outlinewidth\":0,\"ticks\":\"\"}},\"type\":\"scattercarpet\"}],\"scattergeo\":[{\"marker\":{\"colorbar\":{\"outlinewidth\":0,\"ticks\":\"\"}},\"type\":\"scattergeo\"}],\"scattergl\":[{\"marker\":{\"colorbar\":{\"outlinewidth\":0,\"ticks\":\"\"}},\"type\":\"scattergl\"}],\"scattermapbox\":[{\"marker\":{\"colorbar\":{\"outlinewidth\":0,\"ticks\":\"\"}},\"type\":\"scattermapbox\"}],\"scatterpolar\":[{\"marker\":{\"colorbar\":{\"outlinewidth\":0,\"ticks\":\"\"}},\"type\":\"scatterpolar\"}],\"scatterpolargl\":[{\"marker\":{\"colorbar\":{\"outlinewidth\":0,\"ticks\":\"\"}},\"type\":\"scatterpolargl\"}],\"scatterternary\":[{\"marker\":{\"colorbar\":{\"outlinewidth\":0,\"ticks\":\"\"}},\"type\":\"scatterternary\"}],\"surface\":[{\"colorbar\":{\"outlinewidth\":0,\"ticks\":\"\"},\"colorscale\":[[0.0,\"#0d0887\"],[0.1111111111111111,\"#46039f\"],[0.2222222222222222,\"#7201a8\"],[0.3333333333333333,\"#9c179e\"],[0.4444444444444444,\"#bd3786\"],[0.5555555555555556,\"#d8576b\"],[0.6666666666666666,\"#ed7953\"],[0.7777777777777778,\"#fb9f3a\"],[0.8888888888888888,\"#fdca26\"],[1.0,\"#f0f921\"]],\"type\":\"surface\"}],\"table\":[{\"cells\":{\"fill\":{\"color\":\"#EBF0F8\"},\"line\":{\"color\":\"white\"}},\"header\":{\"fill\":{\"color\":\"#C8D4E3\"},\"line\":{\"color\":\"white\"}},\"type\":\"table\"}]},\"layout\":{\"annotationdefaults\":{\"arrowcolor\":\"#2a3f5f\",\"arrowhead\":0,\"arrowwidth\":1},\"autotypenumbers\":\"strict\",\"coloraxis\":{\"colorbar\":{\"outlinewidth\":0,\"ticks\":\"\"}},\"colorscale\":{\"diverging\":[[0,\"#8e0152\"],[0.1,\"#c51b7d\"],[0.2,\"#de77ae\"],[0.3,\"#f1b6da\"],[0.4,\"#fde0ef\"],[0.5,\"#f7f7f7\"],[0.6,\"#e6f5d0\"],[0.7,\"#b8e186\"],[0.8,\"#7fbc41\"],[0.9,\"#4d9221\"],[1,\"#276419\"]],\"sequential\":[[0.0,\"#0d0887\"],[0.1111111111111111,\"#46039f\"],[0.2222222222222222,\"#7201a8\"],[0.3333333333333333,\"#9c179e\"],[0.4444444444444444,\"#bd3786\"],[0.5555555555555556,\"#d8576b\"],[0.6666666666666666,\"#ed7953\"],[0.7777777777777778,\"#fb9f3a\"],[0.8888888888888888,\"#fdca26\"],[1.0,\"#f0f921\"]],\"sequentialminus\":[[0.0,\"#0d0887\"],[0.1111111111111111,\"#46039f\"],[0.2222222222222222,\"#7201a8\"],[0.3333333333333333,\"#9c179e\"],[0.4444444444444444,\"#bd3786\"],[0.5555555555555556,\"#d8576b\"],[0.6666666666666666,\"#ed7953\"],[0.7777777777777778,\"#fb9f3a\"],[0.8888888888888888,\"#fdca26\"],[1.0,\"#f0f921\"]]},\"colorway\":[\"#636efa\",\"#EF553B\",\"#00cc96\",\"#ab63fa\",\"#FFA15A\",\"#19d3f3\",\"#FF6692\",\"#B6E880\",\"#FF97FF\",\"#FECB52\"],\"font\":{\"color\":\"#2a3f5f\"},\"geo\":{\"bgcolor\":\"white\",\"lakecolor\":\"white\",\"landcolor\":\"#E5ECF6\",\"showlakes\":true,\"showland\":true,\"subunitcolor\":\"white\"},\"hoverlabel\":{\"align\":\"left\"},\"hovermode\":\"closest\",\"mapbox\":{\"style\":\"light\"},\"paper_bgcolor\":\"white\",\"plot_bgcolor\":\"#E5ECF6\",\"polar\":{\"angularaxis\":{\"gridcolor\":\"white\",\"linecolor\":\"white\",\"ticks\":\"\"},\"bgcolor\":\"#E5ECF6\",\"radialaxis\":{\"gridcolor\":\"white\",\"linecolor\":\"white\",\"ticks\":\"\"}},\"scene\":{\"xaxis\":{\"backgroundcolor\":\"#E5ECF6\",\"gridcolor\":\"white\",\"gridwidth\":2,\"linecolor\":\"white\",\"showbackground\":true,\"ticks\":\"\",\"zerolinecolor\":\"white\"},\"yaxis\":{\"backgroundcolor\":\"#E5ECF6\",\"gridcolor\":\"white\",\"gridwidth\":2,\"linecolor\":\"white\",\"showbackground\":true,\"ticks\":\"\",\"zerolinecolor\":\"white\"},\"zaxis\":{\"backgroundcolor\":\"#E5ECF6\",\"gridcolor\":\"white\",\"gridwidth\":2,\"linecolor\":\"white\",\"showbackground\":true,\"ticks\":\"\",\"zerolinecolor\":\"white\"}},\"shapedefaults\":{\"line\":{\"color\":\"#2a3f5f\"}},\"ternary\":{\"aaxis\":{\"gridcolor\":\"white\",\"linecolor\":\"white\",\"ticks\":\"\"},\"baxis\":{\"gridcolor\":\"white\",\"linecolor\":\"white\",\"ticks\":\"\"},\"bgcolor\":\"#E5ECF6\",\"caxis\":{\"gridcolor\":\"white\",\"linecolor\":\"white\",\"ticks\":\"\"}},\"title\":{\"x\":0.05},\"xaxis\":{\"automargin\":true,\"gridcolor\":\"white\",\"linecolor\":\"white\",\"ticks\":\"\",\"title\":{\"standoff\":15},\"zerolinecolor\":\"white\",\"zerolinewidth\":2},\"yaxis\":{\"automargin\":true,\"gridcolor\":\"white\",\"linecolor\":\"white\",\"ticks\":\"\",\"title\":{\"standoff\":15},\"zerolinecolor\":\"white\",\"zerolinewidth\":2}}},\"title\":{\"font\":{\"color\":\"Green\"},\"text\":\"Uber Taxi charge price($) for distance(km) <br><sup>As we see in graph they charge per km their fix price per (km) is 1.43</sup>\"},\"xaxis\":{\"anchor\":\"y\",\"domain\":[0.0,1.0],\"title\":{\"text\":\"Distance (km)\"}},\"yaxis\":{\"anchor\":\"x\",\"domain\":[0.0,1.0],\"title\":{\"text\":\"Price for distance (km)\"}}},                        {\"responsive\": true}                    ).then(function(){\n",
       "                            \n",
       "var gd = document.getElementById('4c2aceb7-c32a-4855-9a86-8a1042ef484f');\n",
       "var x = new MutationObserver(function (mutations, observer) {{\n",
       "        var display = window.getComputedStyle(gd).display;\n",
       "        if (!display || display === 'none') {{\n",
       "            console.log([gd, 'removed!']);\n",
       "            Plotly.purge(gd);\n",
       "            observer.disconnect();\n",
       "        }}\n",
       "}});\n",
       "\n",
       "// Listen for the removal of the full notebook cells\n",
       "var notebookContainer = gd.closest('#notebook-container');\n",
       "if (notebookContainer) {{\n",
       "    x.observe(notebookContainer, {childList: true});\n",
       "}}\n",
       "\n",
       "// Listen for the clearing of the current output cell\n",
       "var outputEl = gd.closest('.output');\n",
       "if (outputEl) {{\n",
       "    x.observe(outputEl, {childList: true});\n",
       "}}\n",
       "\n",
       "                        })                };                });            </script>        </div>"
      ]
     },
     "metadata": {},
     "output_type": "display_data"
    }
   ],
   "source": [
    "Taxi= data_cab_ubber.query(\"name in ['Taxi']\")\n",
    "fig=px.line(Taxi.head(2000),x='distance',y='price',color=\"name\",\n",
    "            title = \"Uber Taxi charge price($) for distance(km) <br><sup>As we see in graph they charge per km their fix price per (km) is 1.43</sup>\",\n",
    "           labels={\n",
    "                     \"price\": \"Price for distance (km)\",\n",
    "                     \"distance\": \"Distance (km)\",\n",
    "                     \"name\": \"Uber type\"\n",
    "                 })\n",
    "fig.update_layout(\n",
    "    font_family=\"Times New Roman\",\n",
    "    font_color=\"black\",\n",
    "    title_font_color=\"Green\",\n",
    "    legend_title_font_color=\"Green\"\n",
    ")\n",
    "fig.show()"
   ]
  },
  {
   "cell_type": "markdown",
   "id": "881db336",
   "metadata": {},
   "source": [
    "## UberXL\n",
    "Variation in line graph, prices are same for some distance we will check and analyze that next"
   ]
  },
  {
   "cell_type": "code",
   "execution_count": 36,
   "id": "52b67ac2",
   "metadata": {},
   "outputs": [
    {
     "data": {
      "application/vnd.plotly.v1+json": {
       "config": {
        "plotlyServerURL": "https://plot.ly"
       },
       "data": [
        {
         "hovertemplate": "Uber type=UberXL<br>Distance (km)=%{x}<br>Price for distance (km)=%{y}<extra></extra>",
         "legendgroup": "UberXL",
         "line": {
          "color": "#636efa",
          "dash": "solid"
         },
         "marker": {
          "symbol": "circle"
         },
         "mode": "lines",
         "name": "UberXL",
         "orientation": "v",
         "showlegend": true,
         "type": "scatter",
         "x": [
          0.47,
          0.61,
          0.7,
          0.89,
          1,
          1.03,
          1.05,
          1.12,
          1.23,
          1.27,
          1.35,
          1.41,
          1.47,
          1.53,
          1.54,
          1.58,
          1.59,
          1.66,
          1.97,
          2.01,
          2.23,
          2.29,
          2.36,
          2.56,
          2.68,
          2.7,
          2.75,
          2.99,
          3.02,
          3.11,
          3.26,
          3.3,
          3.31,
          3.39,
          3.5,
          3.74,
          3.75,
          3.76,
          3.82,
          3.94,
          3.95,
          4.04,
          4.17,
          4.31,
          4.42,
          4.56,
          4.58,
          4.65,
          4.76,
          4.9,
          5.46,
          7.04,
          7.18,
          7.86
         ],
         "xaxis": "x",
         "y": [
          10.5,
          10.5,
          11,
          12,
          12.5,
          11.5,
          15,
          14.5,
          12.5,
          14,
          14,
          11.5,
          11.5,
          15,
          13,
          15,
          13,
          15,
          14,
          15,
          15,
          13.5,
          17,
          18,
          18,
          19.5,
          19.5,
          19,
          17.5,
          18,
          17.5,
          18.5,
          18,
          18,
          22.5,
          21.5,
          23,
          23,
          20.5,
          22.5,
          26,
          25,
          24,
          25,
          21.5,
          23,
          20.5,
          24,
          26,
          43.5,
          22.5,
          27.5,
          27,
          29.5
         ],
         "yaxis": "y"
        }
       ],
       "layout": {
        "annotations": [
         {
          "arrowhead": 2,
          "showarrow": true,
          "text": "Price is same for distance 4.76 and 5.4 (km)",
          "x": 4.76,
          "y": 26
         }
        ],
        "font": {
         "color": "black",
         "family": "Times New Roman"
        },
        "legend": {
         "title": {
          "font": {
           "color": "Green"
          },
          "text": "Uber type"
         },
         "tracegroupgap": 0
        },
        "template": {
         "data": {
          "bar": [
           {
            "error_x": {
             "color": "#2a3f5f"
            },
            "error_y": {
             "color": "#2a3f5f"
            },
            "marker": {
             "line": {
              "color": "#E5ECF6",
              "width": 0.5
             },
             "pattern": {
              "fillmode": "overlay",
              "size": 10,
              "solidity": 0.2
             }
            },
            "type": "bar"
           }
          ],
          "barpolar": [
           {
            "marker": {
             "line": {
              "color": "#E5ECF6",
              "width": 0.5
             },
             "pattern": {
              "fillmode": "overlay",
              "size": 10,
              "solidity": 0.2
             }
            },
            "type": "barpolar"
           }
          ],
          "carpet": [
           {
            "aaxis": {
             "endlinecolor": "#2a3f5f",
             "gridcolor": "white",
             "linecolor": "white",
             "minorgridcolor": "white",
             "startlinecolor": "#2a3f5f"
            },
            "baxis": {
             "endlinecolor": "#2a3f5f",
             "gridcolor": "white",
             "linecolor": "white",
             "minorgridcolor": "white",
             "startlinecolor": "#2a3f5f"
            },
            "type": "carpet"
           }
          ],
          "choropleth": [
           {
            "colorbar": {
             "outlinewidth": 0,
             "ticks": ""
            },
            "type": "choropleth"
           }
          ],
          "contour": [
           {
            "colorbar": {
             "outlinewidth": 0,
             "ticks": ""
            },
            "colorscale": [
             [
              0,
              "#0d0887"
             ],
             [
              0.1111111111111111,
              "#46039f"
             ],
             [
              0.2222222222222222,
              "#7201a8"
             ],
             [
              0.3333333333333333,
              "#9c179e"
             ],
             [
              0.4444444444444444,
              "#bd3786"
             ],
             [
              0.5555555555555556,
              "#d8576b"
             ],
             [
              0.6666666666666666,
              "#ed7953"
             ],
             [
              0.7777777777777778,
              "#fb9f3a"
             ],
             [
              0.8888888888888888,
              "#fdca26"
             ],
             [
              1,
              "#f0f921"
             ]
            ],
            "type": "contour"
           }
          ],
          "contourcarpet": [
           {
            "colorbar": {
             "outlinewidth": 0,
             "ticks": ""
            },
            "type": "contourcarpet"
           }
          ],
          "heatmap": [
           {
            "colorbar": {
             "outlinewidth": 0,
             "ticks": ""
            },
            "colorscale": [
             [
              0,
              "#0d0887"
             ],
             [
              0.1111111111111111,
              "#46039f"
             ],
             [
              0.2222222222222222,
              "#7201a8"
             ],
             [
              0.3333333333333333,
              "#9c179e"
             ],
             [
              0.4444444444444444,
              "#bd3786"
             ],
             [
              0.5555555555555556,
              "#d8576b"
             ],
             [
              0.6666666666666666,
              "#ed7953"
             ],
             [
              0.7777777777777778,
              "#fb9f3a"
             ],
             [
              0.8888888888888888,
              "#fdca26"
             ],
             [
              1,
              "#f0f921"
             ]
            ],
            "type": "heatmap"
           }
          ],
          "heatmapgl": [
           {
            "colorbar": {
             "outlinewidth": 0,
             "ticks": ""
            },
            "colorscale": [
             [
              0,
              "#0d0887"
             ],
             [
              0.1111111111111111,
              "#46039f"
             ],
             [
              0.2222222222222222,
              "#7201a8"
             ],
             [
              0.3333333333333333,
              "#9c179e"
             ],
             [
              0.4444444444444444,
              "#bd3786"
             ],
             [
              0.5555555555555556,
              "#d8576b"
             ],
             [
              0.6666666666666666,
              "#ed7953"
             ],
             [
              0.7777777777777778,
              "#fb9f3a"
             ],
             [
              0.8888888888888888,
              "#fdca26"
             ],
             [
              1,
              "#f0f921"
             ]
            ],
            "type": "heatmapgl"
           }
          ],
          "histogram": [
           {
            "marker": {
             "pattern": {
              "fillmode": "overlay",
              "size": 10,
              "solidity": 0.2
             }
            },
            "type": "histogram"
           }
          ],
          "histogram2d": [
           {
            "colorbar": {
             "outlinewidth": 0,
             "ticks": ""
            },
            "colorscale": [
             [
              0,
              "#0d0887"
             ],
             [
              0.1111111111111111,
              "#46039f"
             ],
             [
              0.2222222222222222,
              "#7201a8"
             ],
             [
              0.3333333333333333,
              "#9c179e"
             ],
             [
              0.4444444444444444,
              "#bd3786"
             ],
             [
              0.5555555555555556,
              "#d8576b"
             ],
             [
              0.6666666666666666,
              "#ed7953"
             ],
             [
              0.7777777777777778,
              "#fb9f3a"
             ],
             [
              0.8888888888888888,
              "#fdca26"
             ],
             [
              1,
              "#f0f921"
             ]
            ],
            "type": "histogram2d"
           }
          ],
          "histogram2dcontour": [
           {
            "colorbar": {
             "outlinewidth": 0,
             "ticks": ""
            },
            "colorscale": [
             [
              0,
              "#0d0887"
             ],
             [
              0.1111111111111111,
              "#46039f"
             ],
             [
              0.2222222222222222,
              "#7201a8"
             ],
             [
              0.3333333333333333,
              "#9c179e"
             ],
             [
              0.4444444444444444,
              "#bd3786"
             ],
             [
              0.5555555555555556,
              "#d8576b"
             ],
             [
              0.6666666666666666,
              "#ed7953"
             ],
             [
              0.7777777777777778,
              "#fb9f3a"
             ],
             [
              0.8888888888888888,
              "#fdca26"
             ],
             [
              1,
              "#f0f921"
             ]
            ],
            "type": "histogram2dcontour"
           }
          ],
          "mesh3d": [
           {
            "colorbar": {
             "outlinewidth": 0,
             "ticks": ""
            },
            "type": "mesh3d"
           }
          ],
          "parcoords": [
           {
            "line": {
             "colorbar": {
              "outlinewidth": 0,
              "ticks": ""
             }
            },
            "type": "parcoords"
           }
          ],
          "pie": [
           {
            "automargin": true,
            "type": "pie"
           }
          ],
          "scatter": [
           {
            "marker": {
             "colorbar": {
              "outlinewidth": 0,
              "ticks": ""
             }
            },
            "type": "scatter"
           }
          ],
          "scatter3d": [
           {
            "line": {
             "colorbar": {
              "outlinewidth": 0,
              "ticks": ""
             }
            },
            "marker": {
             "colorbar": {
              "outlinewidth": 0,
              "ticks": ""
             }
            },
            "type": "scatter3d"
           }
          ],
          "scattercarpet": [
           {
            "marker": {
             "colorbar": {
              "outlinewidth": 0,
              "ticks": ""
             }
            },
            "type": "scattercarpet"
           }
          ],
          "scattergeo": [
           {
            "marker": {
             "colorbar": {
              "outlinewidth": 0,
              "ticks": ""
             }
            },
            "type": "scattergeo"
           }
          ],
          "scattergl": [
           {
            "marker": {
             "colorbar": {
              "outlinewidth": 0,
              "ticks": ""
             }
            },
            "type": "scattergl"
           }
          ],
          "scattermapbox": [
           {
            "marker": {
             "colorbar": {
              "outlinewidth": 0,
              "ticks": ""
             }
            },
            "type": "scattermapbox"
           }
          ],
          "scatterpolar": [
           {
            "marker": {
             "colorbar": {
              "outlinewidth": 0,
              "ticks": ""
             }
            },
            "type": "scatterpolar"
           }
          ],
          "scatterpolargl": [
           {
            "marker": {
             "colorbar": {
              "outlinewidth": 0,
              "ticks": ""
             }
            },
            "type": "scatterpolargl"
           }
          ],
          "scatterternary": [
           {
            "marker": {
             "colorbar": {
              "outlinewidth": 0,
              "ticks": ""
             }
            },
            "type": "scatterternary"
           }
          ],
          "surface": [
           {
            "colorbar": {
             "outlinewidth": 0,
             "ticks": ""
            },
            "colorscale": [
             [
              0,
              "#0d0887"
             ],
             [
              0.1111111111111111,
              "#46039f"
             ],
             [
              0.2222222222222222,
              "#7201a8"
             ],
             [
              0.3333333333333333,
              "#9c179e"
             ],
             [
              0.4444444444444444,
              "#bd3786"
             ],
             [
              0.5555555555555556,
              "#d8576b"
             ],
             [
              0.6666666666666666,
              "#ed7953"
             ],
             [
              0.7777777777777778,
              "#fb9f3a"
             ],
             [
              0.8888888888888888,
              "#fdca26"
             ],
             [
              1,
              "#f0f921"
             ]
            ],
            "type": "surface"
           }
          ],
          "table": [
           {
            "cells": {
             "fill": {
              "color": "#EBF0F8"
             },
             "line": {
              "color": "white"
             }
            },
            "header": {
             "fill": {
              "color": "#C8D4E3"
             },
             "line": {
              "color": "white"
             }
            },
            "type": "table"
           }
          ]
         },
         "layout": {
          "annotationdefaults": {
           "arrowcolor": "#2a3f5f",
           "arrowhead": 0,
           "arrowwidth": 1
          },
          "autotypenumbers": "strict",
          "coloraxis": {
           "colorbar": {
            "outlinewidth": 0,
            "ticks": ""
           }
          },
          "colorscale": {
           "diverging": [
            [
             0,
             "#8e0152"
            ],
            [
             0.1,
             "#c51b7d"
            ],
            [
             0.2,
             "#de77ae"
            ],
            [
             0.3,
             "#f1b6da"
            ],
            [
             0.4,
             "#fde0ef"
            ],
            [
             0.5,
             "#f7f7f7"
            ],
            [
             0.6,
             "#e6f5d0"
            ],
            [
             0.7,
             "#b8e186"
            ],
            [
             0.8,
             "#7fbc41"
            ],
            [
             0.9,
             "#4d9221"
            ],
            [
             1,
             "#276419"
            ]
           ],
           "sequential": [
            [
             0,
             "#0d0887"
            ],
            [
             0.1111111111111111,
             "#46039f"
            ],
            [
             0.2222222222222222,
             "#7201a8"
            ],
            [
             0.3333333333333333,
             "#9c179e"
            ],
            [
             0.4444444444444444,
             "#bd3786"
            ],
            [
             0.5555555555555556,
             "#d8576b"
            ],
            [
             0.6666666666666666,
             "#ed7953"
            ],
            [
             0.7777777777777778,
             "#fb9f3a"
            ],
            [
             0.8888888888888888,
             "#fdca26"
            ],
            [
             1,
             "#f0f921"
            ]
           ],
           "sequentialminus": [
            [
             0,
             "#0d0887"
            ],
            [
             0.1111111111111111,
             "#46039f"
            ],
            [
             0.2222222222222222,
             "#7201a8"
            ],
            [
             0.3333333333333333,
             "#9c179e"
            ],
            [
             0.4444444444444444,
             "#bd3786"
            ],
            [
             0.5555555555555556,
             "#d8576b"
            ],
            [
             0.6666666666666666,
             "#ed7953"
            ],
            [
             0.7777777777777778,
             "#fb9f3a"
            ],
            [
             0.8888888888888888,
             "#fdca26"
            ],
            [
             1,
             "#f0f921"
            ]
           ]
          },
          "colorway": [
           "#636efa",
           "#EF553B",
           "#00cc96",
           "#ab63fa",
           "#FFA15A",
           "#19d3f3",
           "#FF6692",
           "#B6E880",
           "#FF97FF",
           "#FECB52"
          ],
          "font": {
           "color": "#2a3f5f"
          },
          "geo": {
           "bgcolor": "white",
           "lakecolor": "white",
           "landcolor": "#E5ECF6",
           "showlakes": true,
           "showland": true,
           "subunitcolor": "white"
          },
          "hoverlabel": {
           "align": "left"
          },
          "hovermode": "closest",
          "mapbox": {
           "style": "light"
          },
          "paper_bgcolor": "white",
          "plot_bgcolor": "#E5ECF6",
          "polar": {
           "angularaxis": {
            "gridcolor": "white",
            "linecolor": "white",
            "ticks": ""
           },
           "bgcolor": "#E5ECF6",
           "radialaxis": {
            "gridcolor": "white",
            "linecolor": "white",
            "ticks": ""
           }
          },
          "scene": {
           "xaxis": {
            "backgroundcolor": "#E5ECF6",
            "gridcolor": "white",
            "gridwidth": 2,
            "linecolor": "white",
            "showbackground": true,
            "ticks": "",
            "zerolinecolor": "white"
           },
           "yaxis": {
            "backgroundcolor": "#E5ECF6",
            "gridcolor": "white",
            "gridwidth": 2,
            "linecolor": "white",
            "showbackground": true,
            "ticks": "",
            "zerolinecolor": "white"
           },
           "zaxis": {
            "backgroundcolor": "#E5ECF6",
            "gridcolor": "white",
            "gridwidth": 2,
            "linecolor": "white",
            "showbackground": true,
            "ticks": "",
            "zerolinecolor": "white"
           }
          },
          "shapedefaults": {
           "line": {
            "color": "#2a3f5f"
           }
          },
          "ternary": {
           "aaxis": {
            "gridcolor": "white",
            "linecolor": "white",
            "ticks": ""
           },
           "baxis": {
            "gridcolor": "white",
            "linecolor": "white",
            "ticks": ""
           },
           "bgcolor": "#E5ECF6",
           "caxis": {
            "gridcolor": "white",
            "linecolor": "white",
            "ticks": ""
           }
          },
          "title": {
           "x": 0.05
          },
          "xaxis": {
           "automargin": true,
           "gridcolor": "white",
           "linecolor": "white",
           "ticks": "",
           "title": {
            "standoff": 15
           },
           "zerolinecolor": "white",
           "zerolinewidth": 2
          },
          "yaxis": {
           "automargin": true,
           "gridcolor": "white",
           "linecolor": "white",
           "ticks": "",
           "title": {
            "standoff": 15
           },
           "zerolinecolor": "white",
           "zerolinewidth": 2
          }
         }
        },
        "title": {
         "font": {
          "color": "Green"
         },
         "text": "UberXL prices($) for distance(km)"
        },
        "xaxis": {
         "anchor": "y",
         "domain": [
          0,
          1
         ],
         "title": {
          "text": "Distance (km)"
         }
        },
        "yaxis": {
         "anchor": "x",
         "domain": [
          0,
          1
         ],
         "title": {
          "text": "Price for distance (km)"
         }
        }
       }
      },
      "text/html": [
       "<div>                            <div id=\"79cc1a01-bb73-4fa3-b128-a2da6bf070f2\" class=\"plotly-graph-div\" style=\"height:525px; width:100%;\"></div>            <script type=\"text/javascript\">                require([\"plotly\"], function(Plotly) {                    window.PLOTLYENV=window.PLOTLYENV || {};                                    if (document.getElementById(\"79cc1a01-bb73-4fa3-b128-a2da6bf070f2\")) {                    Plotly.newPlot(                        \"79cc1a01-bb73-4fa3-b128-a2da6bf070f2\",                        [{\"hovertemplate\":\"Uber type=UberXL<br>Distance (km)=%{x}<br>Price for distance (km)=%{y}<extra></extra>\",\"legendgroup\":\"UberXL\",\"line\":{\"color\":\"#636efa\",\"dash\":\"solid\"},\"marker\":{\"symbol\":\"circle\"},\"mode\":\"lines\",\"name\":\"UberXL\",\"orientation\":\"v\",\"showlegend\":true,\"type\":\"scatter\",\"x\":[0.47,0.61,0.7,0.89,1.0,1.03,1.05,1.12,1.23,1.27,1.35,1.41,1.47,1.53,1.54,1.58,1.59,1.66,1.97,2.01,2.23,2.29,2.36,2.56,2.68,2.7,2.75,2.99,3.02,3.11,3.26,3.3,3.31,3.39,3.5,3.74,3.75,3.76,3.82,3.94,3.95,4.04,4.17,4.31,4.42,4.56,4.58,4.65,4.76,4.9,5.46,7.04,7.18,7.86],\"xaxis\":\"x\",\"y\":[10.5,10.5,11.0,12.0,12.5,11.5,15.0,14.5,12.5,14.0,14.0,11.5,11.5,15.0,13.0,15.0,13.0,15.0,14.0,15.0,15.0,13.5,17.0,18.0,18.0,19.5,19.5,19.0,17.5,18.0,17.5,18.5,18.0,18.0,22.5,21.5,23.0,23.0,20.5,22.5,26.0,25.0,24.0,25.0,21.5,23.0,20.5,24.0,26.0,43.5,22.5,27.5,27.0,29.5],\"yaxis\":\"y\"}],                        {\"annotations\":[{\"arrowhead\":2,\"showarrow\":true,\"text\":\"Price is same for distance 4.76 and 5.4 (km)\",\"x\":4.76,\"y\":26}],\"font\":{\"color\":\"black\",\"family\":\"Times New Roman\"},\"legend\":{\"title\":{\"font\":{\"color\":\"Green\"},\"text\":\"Uber type\"},\"tracegroupgap\":0},\"template\":{\"data\":{\"bar\":[{\"error_x\":{\"color\":\"#2a3f5f\"},\"error_y\":{\"color\":\"#2a3f5f\"},\"marker\":{\"line\":{\"color\":\"#E5ECF6\",\"width\":0.5},\"pattern\":{\"fillmode\":\"overlay\",\"size\":10,\"solidity\":0.2}},\"type\":\"bar\"}],\"barpolar\":[{\"marker\":{\"line\":{\"color\":\"#E5ECF6\",\"width\":0.5},\"pattern\":{\"fillmode\":\"overlay\",\"size\":10,\"solidity\":0.2}},\"type\":\"barpolar\"}],\"carpet\":[{\"aaxis\":{\"endlinecolor\":\"#2a3f5f\",\"gridcolor\":\"white\",\"linecolor\":\"white\",\"minorgridcolor\":\"white\",\"startlinecolor\":\"#2a3f5f\"},\"baxis\":{\"endlinecolor\":\"#2a3f5f\",\"gridcolor\":\"white\",\"linecolor\":\"white\",\"minorgridcolor\":\"white\",\"startlinecolor\":\"#2a3f5f\"},\"type\":\"carpet\"}],\"choropleth\":[{\"colorbar\":{\"outlinewidth\":0,\"ticks\":\"\"},\"type\":\"choropleth\"}],\"contour\":[{\"colorbar\":{\"outlinewidth\":0,\"ticks\":\"\"},\"colorscale\":[[0.0,\"#0d0887\"],[0.1111111111111111,\"#46039f\"],[0.2222222222222222,\"#7201a8\"],[0.3333333333333333,\"#9c179e\"],[0.4444444444444444,\"#bd3786\"],[0.5555555555555556,\"#d8576b\"],[0.6666666666666666,\"#ed7953\"],[0.7777777777777778,\"#fb9f3a\"],[0.8888888888888888,\"#fdca26\"],[1.0,\"#f0f921\"]],\"type\":\"contour\"}],\"contourcarpet\":[{\"colorbar\":{\"outlinewidth\":0,\"ticks\":\"\"},\"type\":\"contourcarpet\"}],\"heatmap\":[{\"colorbar\":{\"outlinewidth\":0,\"ticks\":\"\"},\"colorscale\":[[0.0,\"#0d0887\"],[0.1111111111111111,\"#46039f\"],[0.2222222222222222,\"#7201a8\"],[0.3333333333333333,\"#9c179e\"],[0.4444444444444444,\"#bd3786\"],[0.5555555555555556,\"#d8576b\"],[0.6666666666666666,\"#ed7953\"],[0.7777777777777778,\"#fb9f3a\"],[0.8888888888888888,\"#fdca26\"],[1.0,\"#f0f921\"]],\"type\":\"heatmap\"}],\"heatmapgl\":[{\"colorbar\":{\"outlinewidth\":0,\"ticks\":\"\"},\"colorscale\":[[0.0,\"#0d0887\"],[0.1111111111111111,\"#46039f\"],[0.2222222222222222,\"#7201a8\"],[0.3333333333333333,\"#9c179e\"],[0.4444444444444444,\"#bd3786\"],[0.5555555555555556,\"#d8576b\"],[0.6666666666666666,\"#ed7953\"],[0.7777777777777778,\"#fb9f3a\"],[0.8888888888888888,\"#fdca26\"],[1.0,\"#f0f921\"]],\"type\":\"heatmapgl\"}],\"histogram\":[{\"marker\":{\"pattern\":{\"fillmode\":\"overlay\",\"size\":10,\"solidity\":0.2}},\"type\":\"histogram\"}],\"histogram2d\":[{\"colorbar\":{\"outlinewidth\":0,\"ticks\":\"\"},\"colorscale\":[[0.0,\"#0d0887\"],[0.1111111111111111,\"#46039f\"],[0.2222222222222222,\"#7201a8\"],[0.3333333333333333,\"#9c179e\"],[0.4444444444444444,\"#bd3786\"],[0.5555555555555556,\"#d8576b\"],[0.6666666666666666,\"#ed7953\"],[0.7777777777777778,\"#fb9f3a\"],[0.8888888888888888,\"#fdca26\"],[1.0,\"#f0f921\"]],\"type\":\"histogram2d\"}],\"histogram2dcontour\":[{\"colorbar\":{\"outlinewidth\":0,\"ticks\":\"\"},\"colorscale\":[[0.0,\"#0d0887\"],[0.1111111111111111,\"#46039f\"],[0.2222222222222222,\"#7201a8\"],[0.3333333333333333,\"#9c179e\"],[0.4444444444444444,\"#bd3786\"],[0.5555555555555556,\"#d8576b\"],[0.6666666666666666,\"#ed7953\"],[0.7777777777777778,\"#fb9f3a\"],[0.8888888888888888,\"#fdca26\"],[1.0,\"#f0f921\"]],\"type\":\"histogram2dcontour\"}],\"mesh3d\":[{\"colorbar\":{\"outlinewidth\":0,\"ticks\":\"\"},\"type\":\"mesh3d\"}],\"parcoords\":[{\"line\":{\"colorbar\":{\"outlinewidth\":0,\"ticks\":\"\"}},\"type\":\"parcoords\"}],\"pie\":[{\"automargin\":true,\"type\":\"pie\"}],\"scatter\":[{\"marker\":{\"colorbar\":{\"outlinewidth\":0,\"ticks\":\"\"}},\"type\":\"scatter\"}],\"scatter3d\":[{\"line\":{\"colorbar\":{\"outlinewidth\":0,\"ticks\":\"\"}},\"marker\":{\"colorbar\":{\"outlinewidth\":0,\"ticks\":\"\"}},\"type\":\"scatter3d\"}],\"scattercarpet\":[{\"marker\":{\"colorbar\":{\"outlinewidth\":0,\"ticks\":\"\"}},\"type\":\"scattercarpet\"}],\"scattergeo\":[{\"marker\":{\"colorbar\":{\"outlinewidth\":0,\"ticks\":\"\"}},\"type\":\"scattergeo\"}],\"scattergl\":[{\"marker\":{\"colorbar\":{\"outlinewidth\":0,\"ticks\":\"\"}},\"type\":\"scattergl\"}],\"scattermapbox\":[{\"marker\":{\"colorbar\":{\"outlinewidth\":0,\"ticks\":\"\"}},\"type\":\"scattermapbox\"}],\"scatterpolar\":[{\"marker\":{\"colorbar\":{\"outlinewidth\":0,\"ticks\":\"\"}},\"type\":\"scatterpolar\"}],\"scatterpolargl\":[{\"marker\":{\"colorbar\":{\"outlinewidth\":0,\"ticks\":\"\"}},\"type\":\"scatterpolargl\"}],\"scatterternary\":[{\"marker\":{\"colorbar\":{\"outlinewidth\":0,\"ticks\":\"\"}},\"type\":\"scatterternary\"}],\"surface\":[{\"colorbar\":{\"outlinewidth\":0,\"ticks\":\"\"},\"colorscale\":[[0.0,\"#0d0887\"],[0.1111111111111111,\"#46039f\"],[0.2222222222222222,\"#7201a8\"],[0.3333333333333333,\"#9c179e\"],[0.4444444444444444,\"#bd3786\"],[0.5555555555555556,\"#d8576b\"],[0.6666666666666666,\"#ed7953\"],[0.7777777777777778,\"#fb9f3a\"],[0.8888888888888888,\"#fdca26\"],[1.0,\"#f0f921\"]],\"type\":\"surface\"}],\"table\":[{\"cells\":{\"fill\":{\"color\":\"#EBF0F8\"},\"line\":{\"color\":\"white\"}},\"header\":{\"fill\":{\"color\":\"#C8D4E3\"},\"line\":{\"color\":\"white\"}},\"type\":\"table\"}]},\"layout\":{\"annotationdefaults\":{\"arrowcolor\":\"#2a3f5f\",\"arrowhead\":0,\"arrowwidth\":1},\"autotypenumbers\":\"strict\",\"coloraxis\":{\"colorbar\":{\"outlinewidth\":0,\"ticks\":\"\"}},\"colorscale\":{\"diverging\":[[0,\"#8e0152\"],[0.1,\"#c51b7d\"],[0.2,\"#de77ae\"],[0.3,\"#f1b6da\"],[0.4,\"#fde0ef\"],[0.5,\"#f7f7f7\"],[0.6,\"#e6f5d0\"],[0.7,\"#b8e186\"],[0.8,\"#7fbc41\"],[0.9,\"#4d9221\"],[1,\"#276419\"]],\"sequential\":[[0.0,\"#0d0887\"],[0.1111111111111111,\"#46039f\"],[0.2222222222222222,\"#7201a8\"],[0.3333333333333333,\"#9c179e\"],[0.4444444444444444,\"#bd3786\"],[0.5555555555555556,\"#d8576b\"],[0.6666666666666666,\"#ed7953\"],[0.7777777777777778,\"#fb9f3a\"],[0.8888888888888888,\"#fdca26\"],[1.0,\"#f0f921\"]],\"sequentialminus\":[[0.0,\"#0d0887\"],[0.1111111111111111,\"#46039f\"],[0.2222222222222222,\"#7201a8\"],[0.3333333333333333,\"#9c179e\"],[0.4444444444444444,\"#bd3786\"],[0.5555555555555556,\"#d8576b\"],[0.6666666666666666,\"#ed7953\"],[0.7777777777777778,\"#fb9f3a\"],[0.8888888888888888,\"#fdca26\"],[1.0,\"#f0f921\"]]},\"colorway\":[\"#636efa\",\"#EF553B\",\"#00cc96\",\"#ab63fa\",\"#FFA15A\",\"#19d3f3\",\"#FF6692\",\"#B6E880\",\"#FF97FF\",\"#FECB52\"],\"font\":{\"color\":\"#2a3f5f\"},\"geo\":{\"bgcolor\":\"white\",\"lakecolor\":\"white\",\"landcolor\":\"#E5ECF6\",\"showlakes\":true,\"showland\":true,\"subunitcolor\":\"white\"},\"hoverlabel\":{\"align\":\"left\"},\"hovermode\":\"closest\",\"mapbox\":{\"style\":\"light\"},\"paper_bgcolor\":\"white\",\"plot_bgcolor\":\"#E5ECF6\",\"polar\":{\"angularaxis\":{\"gridcolor\":\"white\",\"linecolor\":\"white\",\"ticks\":\"\"},\"bgcolor\":\"#E5ECF6\",\"radialaxis\":{\"gridcolor\":\"white\",\"linecolor\":\"white\",\"ticks\":\"\"}},\"scene\":{\"xaxis\":{\"backgroundcolor\":\"#E5ECF6\",\"gridcolor\":\"white\",\"gridwidth\":2,\"linecolor\":\"white\",\"showbackground\":true,\"ticks\":\"\",\"zerolinecolor\":\"white\"},\"yaxis\":{\"backgroundcolor\":\"#E5ECF6\",\"gridcolor\":\"white\",\"gridwidth\":2,\"linecolor\":\"white\",\"showbackground\":true,\"ticks\":\"\",\"zerolinecolor\":\"white\"},\"zaxis\":{\"backgroundcolor\":\"#E5ECF6\",\"gridcolor\":\"white\",\"gridwidth\":2,\"linecolor\":\"white\",\"showbackground\":true,\"ticks\":\"\",\"zerolinecolor\":\"white\"}},\"shapedefaults\":{\"line\":{\"color\":\"#2a3f5f\"}},\"ternary\":{\"aaxis\":{\"gridcolor\":\"white\",\"linecolor\":\"white\",\"ticks\":\"\"},\"baxis\":{\"gridcolor\":\"white\",\"linecolor\":\"white\",\"ticks\":\"\"},\"bgcolor\":\"#E5ECF6\",\"caxis\":{\"gridcolor\":\"white\",\"linecolor\":\"white\",\"ticks\":\"\"}},\"title\":{\"x\":0.05},\"xaxis\":{\"automargin\":true,\"gridcolor\":\"white\",\"linecolor\":\"white\",\"ticks\":\"\",\"title\":{\"standoff\":15},\"zerolinecolor\":\"white\",\"zerolinewidth\":2},\"yaxis\":{\"automargin\":true,\"gridcolor\":\"white\",\"linecolor\":\"white\",\"ticks\":\"\",\"title\":{\"standoff\":15},\"zerolinecolor\":\"white\",\"zerolinewidth\":2}}},\"title\":{\"font\":{\"color\":\"Green\"},\"text\":\"UberXL prices($) for distance(km)\"},\"xaxis\":{\"anchor\":\"y\",\"domain\":[0.0,1.0],\"title\":{\"text\":\"Distance (km)\"}},\"yaxis\":{\"anchor\":\"x\",\"domain\":[0.0,1.0],\"title\":{\"text\":\"Price for distance (km)\"}}},                        {\"responsive\": true}                    ).then(function(){\n",
       "                            \n",
       "var gd = document.getElementById('79cc1a01-bb73-4fa3-b128-a2da6bf070f2');\n",
       "var x = new MutationObserver(function (mutations, observer) {{\n",
       "        var display = window.getComputedStyle(gd).display;\n",
       "        if (!display || display === 'none') {{\n",
       "            console.log([gd, 'removed!']);\n",
       "            Plotly.purge(gd);\n",
       "            observer.disconnect();\n",
       "        }}\n",
       "}});\n",
       "\n",
       "// Listen for the removal of the full notebook cells\n",
       "var notebookContainer = gd.closest('#notebook-container');\n",
       "if (notebookContainer) {{\n",
       "    x.observe(notebookContainer, {childList: true});\n",
       "}}\n",
       "\n",
       "// Listen for the clearing of the current output cell\n",
       "var outputEl = gd.closest('.output');\n",
       "if (outputEl) {{\n",
       "    x.observe(outputEl, {childList: true});\n",
       "}}\n",
       "\n",
       "                        })                };                });            </script>        </div>"
      ]
     },
     "metadata": {},
     "output_type": "display_data"
    }
   ],
   "source": [
    "UberXL = data_cab_ubber.query(\"name in ['UberXL']\")\n",
    "fig=px.line(UberXL.head(2000),x='distance',y='price',color=\"name\",\n",
    "            title = \"UberXL prices($) for distance(km)\",\n",
    "           labels={\n",
    "                     \"price\": \"Price for distance (km)\",\n",
    "                     \"distance\": \"Distance (km)\",\n",
    "                     \"name\": \"Uber type\"\n",
    "                 })\n",
    "fig.update_layout(\n",
    "    font_family=\"Times New Roman\",\n",
    "    font_color=\"black\",\n",
    "    title_font_color=\"Green\",\n",
    "    legend_title_font_color=\"Green\"\n",
    ")\n",
    "fig.add_annotation(x=4.76, y=26,\n",
    "            text=\"Price is same for distance 4.76 and 5.4 (km)\",\n",
    "                  showarrow=True,\n",
    "                  arrowhead=2)\n",
    "fig.show()"
   ]
  },
  {
   "cell_type": "markdown",
   "id": "75f91315",
   "metadata": {},
   "source": [
    "## The remaning Uber's type"
   ]
  },
  {
   "cell_type": "code",
   "execution_count": 37,
   "id": "016acc9a",
   "metadata": {},
   "outputs": [
    {
     "data": {
      "application/vnd.plotly.v1+json": {
       "config": {
        "plotlyServerURL": "https://plot.ly"
       },
       "data": [
        {
         "hovertemplate": "Uber type=UberX<br>Distance (km)=%{x}<br>Price for distance (km)=%{y}<extra></extra>",
         "legendgroup": "UberX",
         "line": {
          "color": "#636efa",
          "dash": "solid"
         },
         "marker": {
          "symbol": "circle"
         },
         "mode": "lines",
         "name": "UberX",
         "orientation": "v",
         "showlegend": true,
         "type": "scatter",
         "x": [
          0.02,
          0.12,
          0.3,
          0.35,
          0.52,
          0.56,
          0.62,
          0.73,
          0.76,
          0.8,
          1.1,
          1.18,
          1.43,
          1.5,
          1.56,
          1.62,
          1.75,
          1.8,
          1.82,
          1.84,
          1.91,
          2,
          2.05,
          2.11,
          2.19,
          2.2,
          2.22,
          2.33,
          2.34,
          2.37,
          2.39,
          2.47,
          2.55,
          2.57,
          2.61,
          2.67,
          2.71,
          2.73,
          2.79,
          2.81,
          2.83,
          2.96,
          3.17,
          3.25,
          3.33,
          3.38,
          3.58,
          3.63,
          3.71,
          3.78,
          3.97,
          4.1,
          4.28,
          4.38,
          4.43,
          4.5,
          4.79,
          4.96,
          5.56,
          7.36,
          7.45
         ],
         "xaxis": "x",
         "y": [
          6.5,
          7,
          7,
          7,
          7.5,
          7,
          7.5,
          8.5,
          7.5,
          7,
          7.5,
          7,
          7.5,
          7.5,
          8.5,
          8.5,
          8.5,
          10.5,
          17.5,
          8,
          10.5,
          10.5,
          9.5,
          8.5,
          8,
          10.5,
          10.5,
          12,
          9.5,
          13.5,
          18,
          12.5,
          10.5,
          21.5,
          9.5,
          9.5,
          19.5,
          10.5,
          9.5,
          8.5,
          11,
          10.5,
          11,
          12,
          10.5,
          11.5,
          11.5,
          14,
          13,
          15,
          26,
          13.5,
          14,
          16.5,
          12.5,
          12.5,
          27,
          14.5,
          13.5,
          17,
          16
         ],
         "yaxis": "y"
        },
        {
         "hovertemplate": "Uber type=Black<br>Distance (km)=%{x}<br>Price for distance (km)=%{y}<extra></extra>",
         "legendgroup": "Black",
         "line": {
          "color": "#EF553B",
          "dash": "solid"
         },
         "marker": {
          "symbol": "circle"
         },
         "mode": "lines",
         "name": "Black",
         "orientation": "v",
         "showlegend": true,
         "type": "scatter",
         "x": [
          0.03,
          0.55,
          0.59,
          0.63,
          0.72,
          0.79,
          0.85,
          0.86,
          0.88,
          0.91,
          0.92,
          1.2,
          1.26,
          1.3,
          1.42,
          1.46,
          1.49,
          1.51,
          1.64,
          1.74,
          1.81,
          1.94,
          2.03,
          2.07,
          2.08,
          2.12,
          2.15,
          2.38,
          2.42,
          2.53,
          2.54,
          2.74,
          2.77,
          2.93,
          3.01,
          3.04,
          3.07,
          3.09,
          3.1,
          3.12,
          3.13,
          3.15,
          3.18,
          3.19,
          3.21,
          3.22,
          3.23,
          3.37,
          3.42,
          3.45,
          3.51,
          3.61,
          3.7,
          4.49,
          4.52,
          4.53,
          4.54,
          4.55,
          4.74,
          4.82,
          6.26,
          6.83,
          6.91,
          7.25,
          7.38
         ],
         "xaxis": "x",
         "y": [
          14,
          15,
          16,
          16,
          15,
          15,
          16,
          16,
          15.5,
          15.5,
          16,
          15,
          15,
          18.5,
          17,
          21.5,
          20.5,
          18.5,
          17.5,
          20.5,
          17.5,
          16,
          19.5,
          24,
          22,
          19.5,
          19.5,
          20.5,
          21,
          21,
          21,
          23,
          25,
          24,
          22.5,
          22,
          25,
          23,
          28,
          25,
          26,
          24,
          29,
          23.5,
          26,
          25,
          30.5,
          26.5,
          28,
          28,
          27,
          28.5,
          26,
          25,
          28.5,
          27,
          29,
          33,
          33,
          31.5,
          34,
          40.5,
          36,
          42.5,
          33
         ],
         "yaxis": "y"
        },
        {
         "hovertemplate": "Uber type=WAV<br>Distance (km)=%{x}<br>Price for distance (km)=%{y}<extra></extra>",
         "legendgroup": "WAV",
         "line": {
          "color": "#00cc96",
          "dash": "solid"
         },
         "marker": {
          "symbol": "circle"
         },
         "mode": "lines",
         "name": "WAV",
         "orientation": "v",
         "showlegend": true,
         "type": "scatter",
         "x": [
          0.04,
          0.29,
          0.38,
          0.39,
          0.4,
          0.65,
          0.78,
          0.94,
          0.98,
          1.01,
          1.02,
          1.04,
          1.08,
          1.25,
          1.31,
          1.32,
          1.34,
          1.44,
          1.65,
          1.71,
          1.88,
          1.89,
          1.95,
          1.99,
          2.04,
          2.06,
          2.17,
          2.18,
          2.21,
          2.24,
          2.25,
          2.4,
          2.43,
          2.88,
          2.89,
          2.91,
          3.03,
          3.05,
          3.06,
          3.27,
          3.28,
          3.32,
          3.41,
          3.52,
          3.57,
          3.65,
          3.98,
          4.05,
          4.15,
          4.44,
          4.46,
          4.72,
          4.94,
          7.46
         ],
         "xaxis": "x",
         "y": [
          7,
          7,
          7,
          7,
          7,
          6,
          7.5,
          7,
          8.5,
          8.5,
          7,
          8.5,
          7,
          8.5,
          8.5,
          9,
          9,
          8.5,
          11.5,
          8.5,
          8,
          9.5,
          12,
          8.5,
          8.5,
          14,
          9,
          8.5,
          8.5,
          9.5,
          8.5,
          10.5,
          12,
          9.5,
          11.5,
          10.5,
          16,
          10.5,
          11.5,
          12,
          13,
          15,
          11.5,
          17,
          11,
          11.5,
          16,
          14,
          14,
          20.5,
          12.5,
          20.5,
          25,
          16
         ],
         "yaxis": "y"
        },
        {
         "hovertemplate": "Uber type=UberPool<br>Distance (km)=%{x}<br>Price for distance (km)=%{y}<extra></extra>",
         "legendgroup": "UberPool",
         "line": {
          "color": "#ab63fa",
          "dash": "solid"
         },
         "marker": {
          "symbol": "circle"
         },
         "mode": "lines",
         "name": "UberPool",
         "orientation": "v",
         "showlegend": true,
         "type": "scatter",
         "x": [
          0.58,
          0.6,
          0.66,
          0.68,
          0.81,
          0.93,
          1.11,
          1.13,
          1.17,
          1.29,
          1.36,
          1.37,
          1.38,
          1.39,
          1.4,
          1.52,
          1.6,
          1.63,
          1.67,
          1.69,
          1.73,
          1.78,
          1.86,
          1.92,
          1.96,
          1.98,
          2.02,
          2.1,
          2.13,
          2.27,
          2.44,
          2.49,
          2.52,
          2.58,
          2.6,
          2.62,
          2.63,
          2.64,
          2.8,
          2.94,
          2.98,
          3.08,
          3.16,
          3.29,
          3.35,
          3.43,
          3.47,
          3.53,
          3.54,
          3.55,
          3.67,
          3.69,
          3.73,
          3.79,
          3.81,
          4.4,
          4.41,
          4.6,
          5.47,
          5.7,
          7.34,
          7.62
         ],
         "xaxis": "x",
         "y": [
          6.5,
          7,
          6.5,
          5.5,
          6.5,
          6.5,
          7,
          8,
          4.5,
          8,
          9,
          7.5,
          7.5,
          8,
          4.5,
          10,
          6.5,
          8,
          6,
          8.5,
          10,
          8,
          7.5,
          8.5,
          8,
          7.5,
          7.5,
          10,
          9,
          9.5,
          9,
          12.5,
          9,
          8,
          8,
          8.5,
          9,
          15.5,
          10,
          9,
          8.5,
          11,
          10,
          16.5,
          24,
          10,
          9.5,
          11,
          9,
          10,
          12,
          11.5,
          10,
          11,
          9.5,
          12,
          10,
          10,
          11,
          12.5,
          15.5,
          13.5
         ],
         "yaxis": "y"
        }
       ],
       "layout": {
        "font": {
         "color": "black",
         "family": "Times New Roman"
        },
        "legend": {
         "title": {
          "font": {
           "color": "Green"
          },
          "text": "Uber type"
         },
         "tracegroupgap": 0
        },
        "template": {
         "data": {
          "bar": [
           {
            "error_x": {
             "color": "#2a3f5f"
            },
            "error_y": {
             "color": "#2a3f5f"
            },
            "marker": {
             "line": {
              "color": "#E5ECF6",
              "width": 0.5
             },
             "pattern": {
              "fillmode": "overlay",
              "size": 10,
              "solidity": 0.2
             }
            },
            "type": "bar"
           }
          ],
          "barpolar": [
           {
            "marker": {
             "line": {
              "color": "#E5ECF6",
              "width": 0.5
             },
             "pattern": {
              "fillmode": "overlay",
              "size": 10,
              "solidity": 0.2
             }
            },
            "type": "barpolar"
           }
          ],
          "carpet": [
           {
            "aaxis": {
             "endlinecolor": "#2a3f5f",
             "gridcolor": "white",
             "linecolor": "white",
             "minorgridcolor": "white",
             "startlinecolor": "#2a3f5f"
            },
            "baxis": {
             "endlinecolor": "#2a3f5f",
             "gridcolor": "white",
             "linecolor": "white",
             "minorgridcolor": "white",
             "startlinecolor": "#2a3f5f"
            },
            "type": "carpet"
           }
          ],
          "choropleth": [
           {
            "colorbar": {
             "outlinewidth": 0,
             "ticks": ""
            },
            "type": "choropleth"
           }
          ],
          "contour": [
           {
            "colorbar": {
             "outlinewidth": 0,
             "ticks": ""
            },
            "colorscale": [
             [
              0,
              "#0d0887"
             ],
             [
              0.1111111111111111,
              "#46039f"
             ],
             [
              0.2222222222222222,
              "#7201a8"
             ],
             [
              0.3333333333333333,
              "#9c179e"
             ],
             [
              0.4444444444444444,
              "#bd3786"
             ],
             [
              0.5555555555555556,
              "#d8576b"
             ],
             [
              0.6666666666666666,
              "#ed7953"
             ],
             [
              0.7777777777777778,
              "#fb9f3a"
             ],
             [
              0.8888888888888888,
              "#fdca26"
             ],
             [
              1,
              "#f0f921"
             ]
            ],
            "type": "contour"
           }
          ],
          "contourcarpet": [
           {
            "colorbar": {
             "outlinewidth": 0,
             "ticks": ""
            },
            "type": "contourcarpet"
           }
          ],
          "heatmap": [
           {
            "colorbar": {
             "outlinewidth": 0,
             "ticks": ""
            },
            "colorscale": [
             [
              0,
              "#0d0887"
             ],
             [
              0.1111111111111111,
              "#46039f"
             ],
             [
              0.2222222222222222,
              "#7201a8"
             ],
             [
              0.3333333333333333,
              "#9c179e"
             ],
             [
              0.4444444444444444,
              "#bd3786"
             ],
             [
              0.5555555555555556,
              "#d8576b"
             ],
             [
              0.6666666666666666,
              "#ed7953"
             ],
             [
              0.7777777777777778,
              "#fb9f3a"
             ],
             [
              0.8888888888888888,
              "#fdca26"
             ],
             [
              1,
              "#f0f921"
             ]
            ],
            "type": "heatmap"
           }
          ],
          "heatmapgl": [
           {
            "colorbar": {
             "outlinewidth": 0,
             "ticks": ""
            },
            "colorscale": [
             [
              0,
              "#0d0887"
             ],
             [
              0.1111111111111111,
              "#46039f"
             ],
             [
              0.2222222222222222,
              "#7201a8"
             ],
             [
              0.3333333333333333,
              "#9c179e"
             ],
             [
              0.4444444444444444,
              "#bd3786"
             ],
             [
              0.5555555555555556,
              "#d8576b"
             ],
             [
              0.6666666666666666,
              "#ed7953"
             ],
             [
              0.7777777777777778,
              "#fb9f3a"
             ],
             [
              0.8888888888888888,
              "#fdca26"
             ],
             [
              1,
              "#f0f921"
             ]
            ],
            "type": "heatmapgl"
           }
          ],
          "histogram": [
           {
            "marker": {
             "pattern": {
              "fillmode": "overlay",
              "size": 10,
              "solidity": 0.2
             }
            },
            "type": "histogram"
           }
          ],
          "histogram2d": [
           {
            "colorbar": {
             "outlinewidth": 0,
             "ticks": ""
            },
            "colorscale": [
             [
              0,
              "#0d0887"
             ],
             [
              0.1111111111111111,
              "#46039f"
             ],
             [
              0.2222222222222222,
              "#7201a8"
             ],
             [
              0.3333333333333333,
              "#9c179e"
             ],
             [
              0.4444444444444444,
              "#bd3786"
             ],
             [
              0.5555555555555556,
              "#d8576b"
             ],
             [
              0.6666666666666666,
              "#ed7953"
             ],
             [
              0.7777777777777778,
              "#fb9f3a"
             ],
             [
              0.8888888888888888,
              "#fdca26"
             ],
             [
              1,
              "#f0f921"
             ]
            ],
            "type": "histogram2d"
           }
          ],
          "histogram2dcontour": [
           {
            "colorbar": {
             "outlinewidth": 0,
             "ticks": ""
            },
            "colorscale": [
             [
              0,
              "#0d0887"
             ],
             [
              0.1111111111111111,
              "#46039f"
             ],
             [
              0.2222222222222222,
              "#7201a8"
             ],
             [
              0.3333333333333333,
              "#9c179e"
             ],
             [
              0.4444444444444444,
              "#bd3786"
             ],
             [
              0.5555555555555556,
              "#d8576b"
             ],
             [
              0.6666666666666666,
              "#ed7953"
             ],
             [
              0.7777777777777778,
              "#fb9f3a"
             ],
             [
              0.8888888888888888,
              "#fdca26"
             ],
             [
              1,
              "#f0f921"
             ]
            ],
            "type": "histogram2dcontour"
           }
          ],
          "mesh3d": [
           {
            "colorbar": {
             "outlinewidth": 0,
             "ticks": ""
            },
            "type": "mesh3d"
           }
          ],
          "parcoords": [
           {
            "line": {
             "colorbar": {
              "outlinewidth": 0,
              "ticks": ""
             }
            },
            "type": "parcoords"
           }
          ],
          "pie": [
           {
            "automargin": true,
            "type": "pie"
           }
          ],
          "scatter": [
           {
            "marker": {
             "colorbar": {
              "outlinewidth": 0,
              "ticks": ""
             }
            },
            "type": "scatter"
           }
          ],
          "scatter3d": [
           {
            "line": {
             "colorbar": {
              "outlinewidth": 0,
              "ticks": ""
             }
            },
            "marker": {
             "colorbar": {
              "outlinewidth": 0,
              "ticks": ""
             }
            },
            "type": "scatter3d"
           }
          ],
          "scattercarpet": [
           {
            "marker": {
             "colorbar": {
              "outlinewidth": 0,
              "ticks": ""
             }
            },
            "type": "scattercarpet"
           }
          ],
          "scattergeo": [
           {
            "marker": {
             "colorbar": {
              "outlinewidth": 0,
              "ticks": ""
             }
            },
            "type": "scattergeo"
           }
          ],
          "scattergl": [
           {
            "marker": {
             "colorbar": {
              "outlinewidth": 0,
              "ticks": ""
             }
            },
            "type": "scattergl"
           }
          ],
          "scattermapbox": [
           {
            "marker": {
             "colorbar": {
              "outlinewidth": 0,
              "ticks": ""
             }
            },
            "type": "scattermapbox"
           }
          ],
          "scatterpolar": [
           {
            "marker": {
             "colorbar": {
              "outlinewidth": 0,
              "ticks": ""
             }
            },
            "type": "scatterpolar"
           }
          ],
          "scatterpolargl": [
           {
            "marker": {
             "colorbar": {
              "outlinewidth": 0,
              "ticks": ""
             }
            },
            "type": "scatterpolargl"
           }
          ],
          "scatterternary": [
           {
            "marker": {
             "colorbar": {
              "outlinewidth": 0,
              "ticks": ""
             }
            },
            "type": "scatterternary"
           }
          ],
          "surface": [
           {
            "colorbar": {
             "outlinewidth": 0,
             "ticks": ""
            },
            "colorscale": [
             [
              0,
              "#0d0887"
             ],
             [
              0.1111111111111111,
              "#46039f"
             ],
             [
              0.2222222222222222,
              "#7201a8"
             ],
             [
              0.3333333333333333,
              "#9c179e"
             ],
             [
              0.4444444444444444,
              "#bd3786"
             ],
             [
              0.5555555555555556,
              "#d8576b"
             ],
             [
              0.6666666666666666,
              "#ed7953"
             ],
             [
              0.7777777777777778,
              "#fb9f3a"
             ],
             [
              0.8888888888888888,
              "#fdca26"
             ],
             [
              1,
              "#f0f921"
             ]
            ],
            "type": "surface"
           }
          ],
          "table": [
           {
            "cells": {
             "fill": {
              "color": "#EBF0F8"
             },
             "line": {
              "color": "white"
             }
            },
            "header": {
             "fill": {
              "color": "#C8D4E3"
             },
             "line": {
              "color": "white"
             }
            },
            "type": "table"
           }
          ]
         },
         "layout": {
          "annotationdefaults": {
           "arrowcolor": "#2a3f5f",
           "arrowhead": 0,
           "arrowwidth": 1
          },
          "autotypenumbers": "strict",
          "coloraxis": {
           "colorbar": {
            "outlinewidth": 0,
            "ticks": ""
           }
          },
          "colorscale": {
           "diverging": [
            [
             0,
             "#8e0152"
            ],
            [
             0.1,
             "#c51b7d"
            ],
            [
             0.2,
             "#de77ae"
            ],
            [
             0.3,
             "#f1b6da"
            ],
            [
             0.4,
             "#fde0ef"
            ],
            [
             0.5,
             "#f7f7f7"
            ],
            [
             0.6,
             "#e6f5d0"
            ],
            [
             0.7,
             "#b8e186"
            ],
            [
             0.8,
             "#7fbc41"
            ],
            [
             0.9,
             "#4d9221"
            ],
            [
             1,
             "#276419"
            ]
           ],
           "sequential": [
            [
             0,
             "#0d0887"
            ],
            [
             0.1111111111111111,
             "#46039f"
            ],
            [
             0.2222222222222222,
             "#7201a8"
            ],
            [
             0.3333333333333333,
             "#9c179e"
            ],
            [
             0.4444444444444444,
             "#bd3786"
            ],
            [
             0.5555555555555556,
             "#d8576b"
            ],
            [
             0.6666666666666666,
             "#ed7953"
            ],
            [
             0.7777777777777778,
             "#fb9f3a"
            ],
            [
             0.8888888888888888,
             "#fdca26"
            ],
            [
             1,
             "#f0f921"
            ]
           ],
           "sequentialminus": [
            [
             0,
             "#0d0887"
            ],
            [
             0.1111111111111111,
             "#46039f"
            ],
            [
             0.2222222222222222,
             "#7201a8"
            ],
            [
             0.3333333333333333,
             "#9c179e"
            ],
            [
             0.4444444444444444,
             "#bd3786"
            ],
            [
             0.5555555555555556,
             "#d8576b"
            ],
            [
             0.6666666666666666,
             "#ed7953"
            ],
            [
             0.7777777777777778,
             "#fb9f3a"
            ],
            [
             0.8888888888888888,
             "#fdca26"
            ],
            [
             1,
             "#f0f921"
            ]
           ]
          },
          "colorway": [
           "#636efa",
           "#EF553B",
           "#00cc96",
           "#ab63fa",
           "#FFA15A",
           "#19d3f3",
           "#FF6692",
           "#B6E880",
           "#FF97FF",
           "#FECB52"
          ],
          "font": {
           "color": "#2a3f5f"
          },
          "geo": {
           "bgcolor": "white",
           "lakecolor": "white",
           "landcolor": "#E5ECF6",
           "showlakes": true,
           "showland": true,
           "subunitcolor": "white"
          },
          "hoverlabel": {
           "align": "left"
          },
          "hovermode": "closest",
          "mapbox": {
           "style": "light"
          },
          "paper_bgcolor": "white",
          "plot_bgcolor": "#E5ECF6",
          "polar": {
           "angularaxis": {
            "gridcolor": "white",
            "linecolor": "white",
            "ticks": ""
           },
           "bgcolor": "#E5ECF6",
           "radialaxis": {
            "gridcolor": "white",
            "linecolor": "white",
            "ticks": ""
           }
          },
          "scene": {
           "xaxis": {
            "backgroundcolor": "#E5ECF6",
            "gridcolor": "white",
            "gridwidth": 2,
            "linecolor": "white",
            "showbackground": true,
            "ticks": "",
            "zerolinecolor": "white"
           },
           "yaxis": {
            "backgroundcolor": "#E5ECF6",
            "gridcolor": "white",
            "gridwidth": 2,
            "linecolor": "white",
            "showbackground": true,
            "ticks": "",
            "zerolinecolor": "white"
           },
           "zaxis": {
            "backgroundcolor": "#E5ECF6",
            "gridcolor": "white",
            "gridwidth": 2,
            "linecolor": "white",
            "showbackground": true,
            "ticks": "",
            "zerolinecolor": "white"
           }
          },
          "shapedefaults": {
           "line": {
            "color": "#2a3f5f"
           }
          },
          "ternary": {
           "aaxis": {
            "gridcolor": "white",
            "linecolor": "white",
            "ticks": ""
           },
           "baxis": {
            "gridcolor": "white",
            "linecolor": "white",
            "ticks": ""
           },
           "bgcolor": "#E5ECF6",
           "caxis": {
            "gridcolor": "white",
            "linecolor": "white",
            "ticks": ""
           }
          },
          "title": {
           "x": 0.05
          },
          "xaxis": {
           "automargin": true,
           "gridcolor": "white",
           "linecolor": "white",
           "ticks": "",
           "title": {
            "standoff": 15
           },
           "zerolinecolor": "white",
           "zerolinewidth": 2
          },
          "yaxis": {
           "automargin": true,
           "gridcolor": "white",
           "linecolor": "white",
           "ticks": "",
           "title": {
            "standoff": 15
           },
           "zerolinecolor": "white",
           "zerolinewidth": 2
          }
         }
        },
        "title": {
         "font": {
          "color": "Green"
         },
         "text": "Uber cab types of Uber and their prices($) for distance(km)"
        },
        "xaxis": {
         "anchor": "y",
         "domain": [
          0,
          1
         ],
         "title": {
          "text": "Distance (km)"
         }
        },
        "yaxis": {
         "anchor": "x",
         "domain": [
          0,
          1
         ],
         "title": {
          "text": "Price for distance (km)"
         }
        }
       }
      },
      "text/html": [
       "<div>                            <div id=\"cfbb41e7-beda-4f0d-9924-11cee3a9acaf\" class=\"plotly-graph-div\" style=\"height:525px; width:100%;\"></div>            <script type=\"text/javascript\">                require([\"plotly\"], function(Plotly) {                    window.PLOTLYENV=window.PLOTLYENV || {};                                    if (document.getElementById(\"cfbb41e7-beda-4f0d-9924-11cee3a9acaf\")) {                    Plotly.newPlot(                        \"cfbb41e7-beda-4f0d-9924-11cee3a9acaf\",                        [{\"hovertemplate\":\"Uber type=UberX<br>Distance (km)=%{x}<br>Price for distance (km)=%{y}<extra></extra>\",\"legendgroup\":\"UberX\",\"line\":{\"color\":\"#636efa\",\"dash\":\"solid\"},\"marker\":{\"symbol\":\"circle\"},\"mode\":\"lines\",\"name\":\"UberX\",\"orientation\":\"v\",\"showlegend\":true,\"type\":\"scatter\",\"x\":[0.02,0.12,0.3,0.35,0.52,0.56,0.62,0.73,0.76,0.8,1.1,1.18,1.43,1.5,1.56,1.62,1.75,1.8,1.82,1.84,1.91,2.0,2.05,2.11,2.19,2.2,2.22,2.33,2.34,2.37,2.39,2.47,2.55,2.57,2.61,2.67,2.71,2.73,2.79,2.81,2.83,2.96,3.17,3.25,3.33,3.38,3.58,3.63,3.71,3.78,3.97,4.1,4.28,4.38,4.43,4.5,4.79,4.96,5.56,7.36,7.45],\"xaxis\":\"x\",\"y\":[6.5,7.0,7.0,7.0,7.5,7.0,7.5,8.5,7.5,7.0,7.5,7.0,7.5,7.5,8.5,8.5,8.5,10.5,17.5,8.0,10.5,10.5,9.5,8.5,8.0,10.5,10.5,12.0,9.5,13.5,18.0,12.5,10.5,21.5,9.5,9.5,19.5,10.5,9.5,8.5,11.0,10.5,11.0,12.0,10.5,11.5,11.5,14.0,13.0,15.0,26.0,13.5,14.0,16.5,12.5,12.5,27.0,14.5,13.5,17.0,16.0],\"yaxis\":\"y\"},{\"hovertemplate\":\"Uber type=Black<br>Distance (km)=%{x}<br>Price for distance (km)=%{y}<extra></extra>\",\"legendgroup\":\"Black\",\"line\":{\"color\":\"#EF553B\",\"dash\":\"solid\"},\"marker\":{\"symbol\":\"circle\"},\"mode\":\"lines\",\"name\":\"Black\",\"orientation\":\"v\",\"showlegend\":true,\"type\":\"scatter\",\"x\":[0.03,0.55,0.59,0.63,0.72,0.79,0.85,0.86,0.88,0.91,0.92,1.2,1.26,1.3,1.42,1.46,1.49,1.51,1.64,1.74,1.81,1.94,2.03,2.07,2.08,2.12,2.15,2.38,2.42,2.53,2.54,2.74,2.77,2.93,3.01,3.04,3.07,3.09,3.1,3.12,3.13,3.15,3.18,3.19,3.21,3.22,3.23,3.37,3.42,3.45,3.51,3.61,3.7,4.49,4.52,4.53,4.54,4.55,4.74,4.82,6.26,6.83,6.91,7.25,7.38],\"xaxis\":\"x\",\"y\":[14.0,15.0,16.0,16.0,15.0,15.0,16.0,16.0,15.5,15.5,16.0,15.0,15.0,18.5,17.0,21.5,20.5,18.5,17.5,20.5,17.5,16.0,19.5,24.0,22.0,19.5,19.5,20.5,21.0,21.0,21.0,23.0,25.0,24.0,22.5,22.0,25.0,23.0,28.0,25.0,26.0,24.0,29.0,23.5,26.0,25.0,30.5,26.5,28.0,28.0,27.0,28.5,26.0,25.0,28.5,27.0,29.0,33.0,33.0,31.5,34.0,40.5,36.0,42.5,33.0],\"yaxis\":\"y\"},{\"hovertemplate\":\"Uber type=WAV<br>Distance (km)=%{x}<br>Price for distance (km)=%{y}<extra></extra>\",\"legendgroup\":\"WAV\",\"line\":{\"color\":\"#00cc96\",\"dash\":\"solid\"},\"marker\":{\"symbol\":\"circle\"},\"mode\":\"lines\",\"name\":\"WAV\",\"orientation\":\"v\",\"showlegend\":true,\"type\":\"scatter\",\"x\":[0.04,0.29,0.38,0.39,0.4,0.65,0.78,0.94,0.98,1.01,1.02,1.04,1.08,1.25,1.31,1.32,1.34,1.44,1.65,1.71,1.88,1.89,1.95,1.99,2.04,2.06,2.17,2.18,2.21,2.24,2.25,2.4,2.43,2.88,2.89,2.91,3.03,3.05,3.06,3.27,3.28,3.32,3.41,3.52,3.57,3.65,3.98,4.05,4.15,4.44,4.46,4.72,4.94,7.46],\"xaxis\":\"x\",\"y\":[7.0,7.0,7.0,7.0,7.0,6.0,7.5,7.0,8.5,8.5,7.0,8.5,7.0,8.5,8.5,9.0,9.0,8.5,11.5,8.5,8.0,9.5,12.0,8.5,8.5,14.0,9.0,8.5,8.5,9.5,8.5,10.5,12.0,9.5,11.5,10.5,16.0,10.5,11.5,12.0,13.0,15.0,11.5,17.0,11.0,11.5,16.0,14.0,14.0,20.5,12.5,20.5,25.0,16.0],\"yaxis\":\"y\"},{\"hovertemplate\":\"Uber type=UberPool<br>Distance (km)=%{x}<br>Price for distance (km)=%{y}<extra></extra>\",\"legendgroup\":\"UberPool\",\"line\":{\"color\":\"#ab63fa\",\"dash\":\"solid\"},\"marker\":{\"symbol\":\"circle\"},\"mode\":\"lines\",\"name\":\"UberPool\",\"orientation\":\"v\",\"showlegend\":true,\"type\":\"scatter\",\"x\":[0.58,0.6,0.66,0.68,0.81,0.93,1.11,1.13,1.17,1.29,1.36,1.37,1.38,1.39,1.4,1.52,1.6,1.63,1.67,1.69,1.73,1.78,1.86,1.92,1.96,1.98,2.02,2.1,2.13,2.27,2.44,2.49,2.52,2.58,2.6,2.62,2.63,2.64,2.8,2.94,2.98,3.08,3.16,3.29,3.35,3.43,3.47,3.53,3.54,3.55,3.67,3.69,3.73,3.79,3.81,4.4,4.41,4.6,5.47,5.7,7.34,7.62],\"xaxis\":\"x\",\"y\":[6.5,7.0,6.5,5.5,6.5,6.5,7.0,8.0,4.5,8.0,9.0,7.5,7.5,8.0,4.5,10.0,6.5,8.0,6.0,8.5,10.0,8.0,7.5,8.5,8.0,7.5,7.5,10.0,9.0,9.5,9.0,12.5,9.0,8.0,8.0,8.5,9.0,15.5,10.0,9.0,8.5,11.0,10.0,16.5,24.0,10.0,9.5,11.0,9.0,10.0,12.0,11.5,10.0,11.0,9.5,12.0,10.0,10.0,11.0,12.5,15.5,13.5],\"yaxis\":\"y\"}],                        {\"font\":{\"color\":\"black\",\"family\":\"Times New Roman\"},\"legend\":{\"title\":{\"font\":{\"color\":\"Green\"},\"text\":\"Uber type\"},\"tracegroupgap\":0},\"template\":{\"data\":{\"bar\":[{\"error_x\":{\"color\":\"#2a3f5f\"},\"error_y\":{\"color\":\"#2a3f5f\"},\"marker\":{\"line\":{\"color\":\"#E5ECF6\",\"width\":0.5},\"pattern\":{\"fillmode\":\"overlay\",\"size\":10,\"solidity\":0.2}},\"type\":\"bar\"}],\"barpolar\":[{\"marker\":{\"line\":{\"color\":\"#E5ECF6\",\"width\":0.5},\"pattern\":{\"fillmode\":\"overlay\",\"size\":10,\"solidity\":0.2}},\"type\":\"barpolar\"}],\"carpet\":[{\"aaxis\":{\"endlinecolor\":\"#2a3f5f\",\"gridcolor\":\"white\",\"linecolor\":\"white\",\"minorgridcolor\":\"white\",\"startlinecolor\":\"#2a3f5f\"},\"baxis\":{\"endlinecolor\":\"#2a3f5f\",\"gridcolor\":\"white\",\"linecolor\":\"white\",\"minorgridcolor\":\"white\",\"startlinecolor\":\"#2a3f5f\"},\"type\":\"carpet\"}],\"choropleth\":[{\"colorbar\":{\"outlinewidth\":0,\"ticks\":\"\"},\"type\":\"choropleth\"}],\"contour\":[{\"colorbar\":{\"outlinewidth\":0,\"ticks\":\"\"},\"colorscale\":[[0.0,\"#0d0887\"],[0.1111111111111111,\"#46039f\"],[0.2222222222222222,\"#7201a8\"],[0.3333333333333333,\"#9c179e\"],[0.4444444444444444,\"#bd3786\"],[0.5555555555555556,\"#d8576b\"],[0.6666666666666666,\"#ed7953\"],[0.7777777777777778,\"#fb9f3a\"],[0.8888888888888888,\"#fdca26\"],[1.0,\"#f0f921\"]],\"type\":\"contour\"}],\"contourcarpet\":[{\"colorbar\":{\"outlinewidth\":0,\"ticks\":\"\"},\"type\":\"contourcarpet\"}],\"heatmap\":[{\"colorbar\":{\"outlinewidth\":0,\"ticks\":\"\"},\"colorscale\":[[0.0,\"#0d0887\"],[0.1111111111111111,\"#46039f\"],[0.2222222222222222,\"#7201a8\"],[0.3333333333333333,\"#9c179e\"],[0.4444444444444444,\"#bd3786\"],[0.5555555555555556,\"#d8576b\"],[0.6666666666666666,\"#ed7953\"],[0.7777777777777778,\"#fb9f3a\"],[0.8888888888888888,\"#fdca26\"],[1.0,\"#f0f921\"]],\"type\":\"heatmap\"}],\"heatmapgl\":[{\"colorbar\":{\"outlinewidth\":0,\"ticks\":\"\"},\"colorscale\":[[0.0,\"#0d0887\"],[0.1111111111111111,\"#46039f\"],[0.2222222222222222,\"#7201a8\"],[0.3333333333333333,\"#9c179e\"],[0.4444444444444444,\"#bd3786\"],[0.5555555555555556,\"#d8576b\"],[0.6666666666666666,\"#ed7953\"],[0.7777777777777778,\"#fb9f3a\"],[0.8888888888888888,\"#fdca26\"],[1.0,\"#f0f921\"]],\"type\":\"heatmapgl\"}],\"histogram\":[{\"marker\":{\"pattern\":{\"fillmode\":\"overlay\",\"size\":10,\"solidity\":0.2}},\"type\":\"histogram\"}],\"histogram2d\":[{\"colorbar\":{\"outlinewidth\":0,\"ticks\":\"\"},\"colorscale\":[[0.0,\"#0d0887\"],[0.1111111111111111,\"#46039f\"],[0.2222222222222222,\"#7201a8\"],[0.3333333333333333,\"#9c179e\"],[0.4444444444444444,\"#bd3786\"],[0.5555555555555556,\"#d8576b\"],[0.6666666666666666,\"#ed7953\"],[0.7777777777777778,\"#fb9f3a\"],[0.8888888888888888,\"#fdca26\"],[1.0,\"#f0f921\"]],\"type\":\"histogram2d\"}],\"histogram2dcontour\":[{\"colorbar\":{\"outlinewidth\":0,\"ticks\":\"\"},\"colorscale\":[[0.0,\"#0d0887\"],[0.1111111111111111,\"#46039f\"],[0.2222222222222222,\"#7201a8\"],[0.3333333333333333,\"#9c179e\"],[0.4444444444444444,\"#bd3786\"],[0.5555555555555556,\"#d8576b\"],[0.6666666666666666,\"#ed7953\"],[0.7777777777777778,\"#fb9f3a\"],[0.8888888888888888,\"#fdca26\"],[1.0,\"#f0f921\"]],\"type\":\"histogram2dcontour\"}],\"mesh3d\":[{\"colorbar\":{\"outlinewidth\":0,\"ticks\":\"\"},\"type\":\"mesh3d\"}],\"parcoords\":[{\"line\":{\"colorbar\":{\"outlinewidth\":0,\"ticks\":\"\"}},\"type\":\"parcoords\"}],\"pie\":[{\"automargin\":true,\"type\":\"pie\"}],\"scatter\":[{\"marker\":{\"colorbar\":{\"outlinewidth\":0,\"ticks\":\"\"}},\"type\":\"scatter\"}],\"scatter3d\":[{\"line\":{\"colorbar\":{\"outlinewidth\":0,\"ticks\":\"\"}},\"marker\":{\"colorbar\":{\"outlinewidth\":0,\"ticks\":\"\"}},\"type\":\"scatter3d\"}],\"scattercarpet\":[{\"marker\":{\"colorbar\":{\"outlinewidth\":0,\"ticks\":\"\"}},\"type\":\"scattercarpet\"}],\"scattergeo\":[{\"marker\":{\"colorbar\":{\"outlinewidth\":0,\"ticks\":\"\"}},\"type\":\"scattergeo\"}],\"scattergl\":[{\"marker\":{\"colorbar\":{\"outlinewidth\":0,\"ticks\":\"\"}},\"type\":\"scattergl\"}],\"scattermapbox\":[{\"marker\":{\"colorbar\":{\"outlinewidth\":0,\"ticks\":\"\"}},\"type\":\"scattermapbox\"}],\"scatterpolar\":[{\"marker\":{\"colorbar\":{\"outlinewidth\":0,\"ticks\":\"\"}},\"type\":\"scatterpolar\"}],\"scatterpolargl\":[{\"marker\":{\"colorbar\":{\"outlinewidth\":0,\"ticks\":\"\"}},\"type\":\"scatterpolargl\"}],\"scatterternary\":[{\"marker\":{\"colorbar\":{\"outlinewidth\":0,\"ticks\":\"\"}},\"type\":\"scatterternary\"}],\"surface\":[{\"colorbar\":{\"outlinewidth\":0,\"ticks\":\"\"},\"colorscale\":[[0.0,\"#0d0887\"],[0.1111111111111111,\"#46039f\"],[0.2222222222222222,\"#7201a8\"],[0.3333333333333333,\"#9c179e\"],[0.4444444444444444,\"#bd3786\"],[0.5555555555555556,\"#d8576b\"],[0.6666666666666666,\"#ed7953\"],[0.7777777777777778,\"#fb9f3a\"],[0.8888888888888888,\"#fdca26\"],[1.0,\"#f0f921\"]],\"type\":\"surface\"}],\"table\":[{\"cells\":{\"fill\":{\"color\":\"#EBF0F8\"},\"line\":{\"color\":\"white\"}},\"header\":{\"fill\":{\"color\":\"#C8D4E3\"},\"line\":{\"color\":\"white\"}},\"type\":\"table\"}]},\"layout\":{\"annotationdefaults\":{\"arrowcolor\":\"#2a3f5f\",\"arrowhead\":0,\"arrowwidth\":1},\"autotypenumbers\":\"strict\",\"coloraxis\":{\"colorbar\":{\"outlinewidth\":0,\"ticks\":\"\"}},\"colorscale\":{\"diverging\":[[0,\"#8e0152\"],[0.1,\"#c51b7d\"],[0.2,\"#de77ae\"],[0.3,\"#f1b6da\"],[0.4,\"#fde0ef\"],[0.5,\"#f7f7f7\"],[0.6,\"#e6f5d0\"],[0.7,\"#b8e186\"],[0.8,\"#7fbc41\"],[0.9,\"#4d9221\"],[1,\"#276419\"]],\"sequential\":[[0.0,\"#0d0887\"],[0.1111111111111111,\"#46039f\"],[0.2222222222222222,\"#7201a8\"],[0.3333333333333333,\"#9c179e\"],[0.4444444444444444,\"#bd3786\"],[0.5555555555555556,\"#d8576b\"],[0.6666666666666666,\"#ed7953\"],[0.7777777777777778,\"#fb9f3a\"],[0.8888888888888888,\"#fdca26\"],[1.0,\"#f0f921\"]],\"sequentialminus\":[[0.0,\"#0d0887\"],[0.1111111111111111,\"#46039f\"],[0.2222222222222222,\"#7201a8\"],[0.3333333333333333,\"#9c179e\"],[0.4444444444444444,\"#bd3786\"],[0.5555555555555556,\"#d8576b\"],[0.6666666666666666,\"#ed7953\"],[0.7777777777777778,\"#fb9f3a\"],[0.8888888888888888,\"#fdca26\"],[1.0,\"#f0f921\"]]},\"colorway\":[\"#636efa\",\"#EF553B\",\"#00cc96\",\"#ab63fa\",\"#FFA15A\",\"#19d3f3\",\"#FF6692\",\"#B6E880\",\"#FF97FF\",\"#FECB52\"],\"font\":{\"color\":\"#2a3f5f\"},\"geo\":{\"bgcolor\":\"white\",\"lakecolor\":\"white\",\"landcolor\":\"#E5ECF6\",\"showlakes\":true,\"showland\":true,\"subunitcolor\":\"white\"},\"hoverlabel\":{\"align\":\"left\"},\"hovermode\":\"closest\",\"mapbox\":{\"style\":\"light\"},\"paper_bgcolor\":\"white\",\"plot_bgcolor\":\"#E5ECF6\",\"polar\":{\"angularaxis\":{\"gridcolor\":\"white\",\"linecolor\":\"white\",\"ticks\":\"\"},\"bgcolor\":\"#E5ECF6\",\"radialaxis\":{\"gridcolor\":\"white\",\"linecolor\":\"white\",\"ticks\":\"\"}},\"scene\":{\"xaxis\":{\"backgroundcolor\":\"#E5ECF6\",\"gridcolor\":\"white\",\"gridwidth\":2,\"linecolor\":\"white\",\"showbackground\":true,\"ticks\":\"\",\"zerolinecolor\":\"white\"},\"yaxis\":{\"backgroundcolor\":\"#E5ECF6\",\"gridcolor\":\"white\",\"gridwidth\":2,\"linecolor\":\"white\",\"showbackground\":true,\"ticks\":\"\",\"zerolinecolor\":\"white\"},\"zaxis\":{\"backgroundcolor\":\"#E5ECF6\",\"gridcolor\":\"white\",\"gridwidth\":2,\"linecolor\":\"white\",\"showbackground\":true,\"ticks\":\"\",\"zerolinecolor\":\"white\"}},\"shapedefaults\":{\"line\":{\"color\":\"#2a3f5f\"}},\"ternary\":{\"aaxis\":{\"gridcolor\":\"white\",\"linecolor\":\"white\",\"ticks\":\"\"},\"baxis\":{\"gridcolor\":\"white\",\"linecolor\":\"white\",\"ticks\":\"\"},\"bgcolor\":\"#E5ECF6\",\"caxis\":{\"gridcolor\":\"white\",\"linecolor\":\"white\",\"ticks\":\"\"}},\"title\":{\"x\":0.05},\"xaxis\":{\"automargin\":true,\"gridcolor\":\"white\",\"linecolor\":\"white\",\"ticks\":\"\",\"title\":{\"standoff\":15},\"zerolinecolor\":\"white\",\"zerolinewidth\":2},\"yaxis\":{\"automargin\":true,\"gridcolor\":\"white\",\"linecolor\":\"white\",\"ticks\":\"\",\"title\":{\"standoff\":15},\"zerolinecolor\":\"white\",\"zerolinewidth\":2}}},\"title\":{\"font\":{\"color\":\"Green\"},\"text\":\"Uber cab types of Uber and their prices($) for distance(km)\"},\"xaxis\":{\"anchor\":\"y\",\"domain\":[0.0,1.0],\"title\":{\"text\":\"Distance (km)\"}},\"yaxis\":{\"anchor\":\"x\",\"domain\":[0.0,1.0],\"title\":{\"text\":\"Price for distance (km)\"}}},                        {\"responsive\": true}                    ).then(function(){\n",
       "                            \n",
       "var gd = document.getElementById('cfbb41e7-beda-4f0d-9924-11cee3a9acaf');\n",
       "var x = new MutationObserver(function (mutations, observer) {{\n",
       "        var display = window.getComputedStyle(gd).display;\n",
       "        if (!display || display === 'none') {{\n",
       "            console.log([gd, 'removed!']);\n",
       "            Plotly.purge(gd);\n",
       "            observer.disconnect();\n",
       "        }}\n",
       "}});\n",
       "\n",
       "// Listen for the removal of the full notebook cells\n",
       "var notebookContainer = gd.closest('#notebook-container');\n",
       "if (notebookContainer) {{\n",
       "    x.observe(notebookContainer, {childList: true});\n",
       "}}\n",
       "\n",
       "// Listen for the clearing of the current output cell\n",
       "var outputEl = gd.closest('.output');\n",
       "if (outputEl) {{\n",
       "    x.observe(outputEl, {childList: true});\n",
       "}}\n",
       "\n",
       "                        })                };                });            </script>        </div>"
      ]
     },
     "metadata": {},
     "output_type": "display_data"
    }
   ],
   "source": [
    "all_uber = data_cab_ubber.query(\"name in ['Black','WAV','UberPool','UberX']\")\n",
    "fig=px.line(all_uber.head(2000),x='distance',y='price',color=\"name\",title=\"Uber cab types of Uber and their prices($) for distance(km)\",\n",
    "           labels={\n",
    "                     \"price\": \"Price for distance (km)\",\n",
    "                     \"distance\": \"Distance (km)\",\n",
    "                     \"name\": \"Uber type\"\n",
    "                 })\n",
    "fig.update_layout(\n",
    "    font_family=\"Times New Roman\",\n",
    "    font_color=\"black\",\n",
    "    title_font_color=\"Green\",\n",
    "    legend_title_font_color=\"Green\"\n",
    ")\n",
    "fig.show()"
   ]
  },
  {
   "cell_type": "code",
   "execution_count": 38,
   "id": "07824065",
   "metadata": {},
   "outputs": [
    {
     "data": {
      "application/vnd.plotly.v1+json": {
       "config": {
        "plotlyServerURL": "https://plot.ly"
       },
       "data": [
        {
         "alignmentgroup": "True",
         "boxpoints": "all",
         "fillcolor": "rgba(255,255,255,0)",
         "hoveron": "points",
         "hovertemplate": "name=%{y}<br>price=%{x}<extra></extra>",
         "legendgroup": "UberX",
         "line": {
          "color": "rgba(255,255,255,0)"
         },
         "marker": {
          "color": "#636efa"
         },
         "name": "UberX",
         "offsetgroup": "UberX",
         "orientation": "h",
         "pointpos": 0,
         "showlegend": true,
         "type": "box",
         "x": [
          7,
          19.5,
          8,
          10.5,
          9.5,
          8.5,
          10.5,
          7,
          11,
          11.5,
          15.5,
          9.5,
          10.5,
          9.5,
          11,
          9.5,
          9.5,
          9.5,
          9.5,
          8.5,
          10.5,
          10.5,
          8.5,
          9,
          8,
          7.5,
          10.5,
          8,
          21.5,
          10.5,
          8.5,
          8.5,
          7.5,
          11.5,
          7,
          13.5,
          13.5,
          7.5,
          9,
          12,
          7,
          7.5,
          9.5,
          6,
          10.5,
          9.5,
          12.5,
          7.5,
          8,
          12.5,
          9,
          9.5,
          12.5,
          9.5,
          13,
          10.5,
          10.5,
          7,
          9.5,
          7,
          8.5,
          11,
          10.5,
          8,
          9.5,
          10.5,
          10.5,
          7,
          8.5,
          10.5,
          12,
          9.5,
          9.5,
          8.5,
          12,
          10.5,
          9,
          7.5,
          7.5,
          9.5,
          9.5,
          12,
          12.5,
          9,
          10.5,
          12,
          8.5,
          9.5,
          6.5,
          9.5,
          7,
          10.5,
          10.5,
          8.5,
          9.5,
          11.5,
          11,
          10.5,
          18,
          8.5,
          10.5,
          8,
          11.5,
          9.5,
          9.5,
          7,
          8.5,
          12.5,
          10.5,
          16,
          7,
          9.5,
          8.5,
          9.5,
          7,
          7.5,
          11.5,
          7.5,
          9.5,
          8.5,
          8,
          8.5,
          9.5,
          9,
          20.5,
          8.5,
          7,
          8.5,
          8.5,
          17.5,
          8,
          11.5,
          10.5,
          10.5,
          10.5,
          9,
          6,
          8.5,
          8,
          11,
          9.5,
          7,
          8,
          10.5,
          7,
          10.5,
          13,
          11.5,
          8,
          8,
          8.5,
          8.5,
          10.5,
          9.5,
          8.5,
          12,
          9.5,
          9.5,
          9.5,
          10.5,
          8,
          9.5,
          8,
          7,
          9,
          7,
          7,
          12.5,
          9.5,
          12,
          7,
          10.5,
          9,
          9.5,
          13,
          8.5,
          7,
          9.5,
          9.5,
          8.5,
          9.5,
          9.5,
          6.5,
          10.5,
          11,
          7,
          7,
          10.5,
          8,
          8,
          7,
          8.5,
          7.5,
          7,
          7.5,
          10.5,
          8,
          10.5,
          9.5,
          12.5,
          8.5,
          8,
          11.5,
          7,
          10.5,
          7,
          12,
          11,
          10.5,
          8.5,
          8,
          13,
          13.5,
          13,
          10.5,
          9.5,
          17.5,
          7,
          11.5,
          9.5,
          7,
          9.5,
          10.5,
          7.5,
          8.5,
          8,
          9.5,
          12,
          9.5,
          14,
          7.5,
          8.5,
          8,
          10.5,
          10.5,
          15,
          11.5,
          14,
          10.5,
          8.5,
          9,
          8,
          9.5,
          9.5,
          10.5,
          8,
          7,
          7.5,
          7.5,
          8.5,
          9,
          7,
          9.5,
          14,
          8,
          11,
          14,
          7,
          12,
          12,
          8.5,
          10.5,
          9,
          8.5,
          9,
          11.5,
          7,
          7.5,
          9.5,
          14,
          10.5,
          21.5,
          12.5,
          8.5,
          9.5,
          9.5,
          7.5,
          10.5,
          9.5,
          10.5,
          12.5,
          9.5,
          11.5,
          13.5,
          10.5
         ],
         "x0": " ",
         "xaxis": "x",
         "y": [
          "UberX",
          "UberX",
          "UberX",
          "UberX",
          "UberX",
          "UberX",
          "UberX",
          "UberX",
          "UberX",
          "UberX",
          "UberX",
          "UberX",
          "UberX",
          "UberX",
          "UberX",
          "UberX",
          "UberX",
          "UberX",
          "UberX",
          "UberX",
          "UberX",
          "UberX",
          "UberX",
          "UberX",
          "UberX",
          "UberX",
          "UberX",
          "UberX",
          "UberX",
          "UberX",
          "UberX",
          "UberX",
          "UberX",
          "UberX",
          "UberX",
          "UberX",
          "UberX",
          "UberX",
          "UberX",
          "UberX",
          "UberX",
          "UberX",
          "UberX",
          "UberX",
          "UberX",
          "UberX",
          "UberX",
          "UberX",
          "UberX",
          "UberX",
          "UberX",
          "UberX",
          "UberX",
          "UberX",
          "UberX",
          "UberX",
          "UberX",
          "UberX",
          "UberX",
          "UberX",
          "UberX",
          "UberX",
          "UberX",
          "UberX",
          "UberX",
          "UberX",
          "UberX",
          "UberX",
          "UberX",
          "UberX",
          "UberX",
          "UberX",
          "UberX",
          "UberX",
          "UberX",
          "UberX",
          "UberX",
          "UberX",
          "UberX",
          "UberX",
          "UberX",
          "UberX",
          "UberX",
          "UberX",
          "UberX",
          "UberX",
          "UberX",
          "UberX",
          "UberX",
          "UberX",
          "UberX",
          "UberX",
          "UberX",
          "UberX",
          "UberX",
          "UberX",
          "UberX",
          "UberX",
          "UberX",
          "UberX",
          "UberX",
          "UberX",
          "UberX",
          "UberX",
          "UberX",
          "UberX",
          "UberX",
          "UberX",
          "UberX",
          "UberX",
          "UberX",
          "UberX",
          "UberX",
          "UberX",
          "UberX",
          "UberX",
          "UberX",
          "UberX",
          "UberX",
          "UberX",
          "UberX",
          "UberX",
          "UberX",
          "UberX",
          "UberX",
          "UberX",
          "UberX",
          "UberX",
          "UberX",
          "UberX",
          "UberX",
          "UberX",
          "UberX",
          "UberX",
          "UberX",
          "UberX",
          "UberX",
          "UberX",
          "UberX",
          "UberX",
          "UberX",
          "UberX",
          "UberX",
          "UberX",
          "UberX",
          "UberX",
          "UberX",
          "UberX",
          "UberX",
          "UberX",
          "UberX",
          "UberX",
          "UberX",
          "UberX",
          "UberX",
          "UberX",
          "UberX",
          "UberX",
          "UberX",
          "UberX",
          "UberX",
          "UberX",
          "UberX",
          "UberX",
          "UberX",
          "UberX",
          "UberX",
          "UberX",
          "UberX",
          "UberX",
          "UberX",
          "UberX",
          "UberX",
          "UberX",
          "UberX",
          "UberX",
          "UberX",
          "UberX",
          "UberX",
          "UberX",
          "UberX",
          "UberX",
          "UberX",
          "UberX",
          "UberX",
          "UberX",
          "UberX",
          "UberX",
          "UberX",
          "UberX",
          "UberX",
          "UberX",
          "UberX",
          "UberX",
          "UberX",
          "UberX",
          "UberX",
          "UberX",
          "UberX",
          "UberX",
          "UberX",
          "UberX",
          "UberX",
          "UberX",
          "UberX",
          "UberX",
          "UberX",
          "UberX",
          "UberX",
          "UberX",
          "UberX",
          "UberX",
          "UberX",
          "UberX",
          "UberX",
          "UberX",
          "UberX",
          "UberX",
          "UberX",
          "UberX",
          "UberX",
          "UberX",
          "UberX",
          "UberX",
          "UberX",
          "UberX",
          "UberX",
          "UberX",
          "UberX",
          "UberX",
          "UberX",
          "UberX",
          "UberX",
          "UberX",
          "UberX",
          "UberX",
          "UberX",
          "UberX",
          "UberX",
          "UberX",
          "UberX",
          "UberX",
          "UberX",
          "UberX",
          "UberX",
          "UberX",
          "UberX",
          "UberX",
          "UberX",
          "UberX",
          "UberX",
          "UberX",
          "UberX",
          "UberX",
          "UberX",
          "UberX",
          "UberX",
          "UberX",
          "UberX",
          "UberX",
          "UberX",
          "UberX",
          "UberX",
          "UberX",
          "UberX",
          "UberX",
          "UberX",
          "UberX",
          "UberX",
          "UberX",
          "UberX",
          "UberX",
          "UberX",
          "UberX",
          "UberX",
          "UberX",
          "UberX",
          "UberX",
          "UberX",
          "UberX",
          "UberX",
          "UberX",
          "UberX",
          "UberX",
          "UberX"
         ],
         "y0": " ",
         "yaxis": "y"
        },
        {
         "alignmentgroup": "True",
         "boxpoints": "all",
         "fillcolor": "rgba(255,255,255,0)",
         "hoveron": "points",
         "hovertemplate": "name=%{y}<br>price=%{x}<extra></extra>",
         "legendgroup": "Taxi",
         "line": {
          "color": "rgba(255,255,255,0)"
         },
         "marker": {
          "color": "#EF553B"
         },
         "name": "Taxi",
         "offsetgroup": "Taxi",
         "orientation": "h",
         "pointpos": 0,
         "showlegend": true,
         "type": "box",
         "x": [
          2.2765,
          3.9295,
          3.857,
          1.682,
          3.625,
          4.117999999999999,
          3.857,
          6.8585,
          3.596,
          3.944,
          4.5675,
          0.812,
          1.9575,
          1.8125,
          6.6265,
          3.364,
          2.465,
          0.783,
          4.6690000000000005,
          4.843,
          2.204,
          4.959,
          4.784999999999999,
          1.769,
          1.1889999999999998,
          2.7405,
          0.3915,
          2.61,
          1.769,
          5.2345,
          2.2765,
          3.1465,
          3.364,
          7.221,
          2.2765,
          8.062,
          1.7835,
          3.393,
          0.7105,
          8.062,
          3.857,
          2.668,
          3.944,
          4.784999999999999,
          1.9575,
          4.422499999999999,
          2.755,
          4.8865,
          3.103,
          1.4645,
          6.843999999999999,
          4.9155,
          1.7545,
          3.799,
          3.1465,
          3.944,
          4.6690000000000005,
          1.943,
          4.64,
          0.7105,
          1.45,
          4.6690000000000005,
          1.16,
          3.9295,
          4.06,
          3.625,
          2.5955,
          2.175,
          1.4645,
          0.5655,
          2.3345,
          1.044,
          2.0445,
          2.755,
          2.2765,
          5.7855,
          4.422499999999999,
          4.117999999999999,
          1.885,
          3.103,
          4.031,
          2.2765,
          2.262,
          0.9425,
          3.074,
          3.364,
          4.466,
          1.566,
          2.175,
          3.451,
          5.2345,
          6.843999999999999,
          1.044,
          4.06,
          0.5655,
          2.8565,
          1.334,
          2.2765,
          2.813,
          2.088,
          3.0304999999999995,
          0.7975,
          4.422499999999999,
          3.1755,
          4.321,
          3.712,
          0.812,
          3.538,
          0.812,
          3.7845,
          0.812,
          3.799,
          3.9295,
          6.496,
          2.117,
          3.7845,
          1.45,
          1.5515,
          1.682,
          3.944,
          4.3645,
          3.7845,
          1.044,
          6.496,
          1.885,
          4.466,
          0.812,
          1.044,
          8.265,
          0.783,
          1.885,
          2.5955,
          1.9575,
          1.4935,
          6.438000000000001,
          1.7545,
          5.4955,
          1.3195,
          3.5525,
          1.9575,
          4.8865,
          1.7545,
          1.4935,
          4.3645,
          4.9155,
          5.2345,
          1.9575,
          4.117999999999999,
          0.5655,
          1.7545,
          2.175,
          2.958,
          4.422499999999999,
          2.378,
          1.9575,
          4.292,
          3.538,
          3.944,
          2.3345,
          1.4355,
          2.2765,
          1.856,
          1.4355,
          2.436,
          3.741,
          2.262,
          4.2485,
          3.2915,
          0.7105,
          4.0455,
          3.7845,
          2.2765,
          5.2055,
          4.480499999999999,
          3.7845,
          1.682,
          4.5385,
          4.9155,
          3.393,
          3.596,
          4.117999999999999,
          4.466,
          0.7105,
          6.38,
          3.364,
          6.438000000000001,
          0.5655,
          3.596,
          6.438000000000001,
          4.0455,
          3.857,
          3.2915,
          6.843999999999999,
          3.364,
          4.321,
          1.566,
          1.885,
          4.422499999999999,
          2.0445,
          3.857,
          2.3345,
          3.3349999999999995,
          0.7975,
          4.988,
          2.5955,
          1.305,
          1.45,
          4.3645,
          4.146999999999999,
          1.566,
          4.784999999999999,
          0.5655,
          0.7975,
          4.9155,
          3.103,
          1.7545,
          10.1065,
          6.843999999999999,
          1.769,
          4.422499999999999,
          1.5515,
          1.769,
          1.9575,
          2.2185,
          3.8715,
          1.8125,
          1.508,
          0.9135,
          0.7975,
          9.0915,
          2.204,
          3.9585,
          2.4795,
          3.7845,
          1.885,
          2.3345,
          5.4955,
          2.1895,
          1.0585,
          1.682,
          2.7695,
          2.1025,
          6.409,
          4.784999999999999,
          4.321,
          6.873,
          3.3495,
          2.6825,
          1.8125,
          2.3345,
          4.146999999999999,
          3.741,
          4.422499999999999,
          1.595,
          2.61,
          1.8125,
          1.566,
          3.393,
          2.436,
          4.93,
          2.262,
          6.496,
          1.885,
          1.4355,
          2.0445,
          2.61,
          4.422499999999999,
          1.885,
          1.508,
          2.117,
          0.5655,
          3.857,
          6.597499999999999,
          2.61,
          1.682,
          1.943,
          2.0445,
          4.451499999999999,
          3.8715,
          2.0445,
          1.537,
          6.843999999999999,
          4.3645,
          1.6095000000000002,
          2.3345,
          4.3645,
          3.1465,
          4.0455,
          6.38,
          0.8845,
          1.943,
          4.451499999999999,
          0.9135,
          1.943,
          6.843999999999999,
          3.944,
          1.885,
          2.0155
         ],
         "x0": " ",
         "xaxis": "x",
         "y": [
          "Taxi",
          "Taxi",
          "Taxi",
          "Taxi",
          "Taxi",
          "Taxi",
          "Taxi",
          "Taxi",
          "Taxi",
          "Taxi",
          "Taxi",
          "Taxi",
          "Taxi",
          "Taxi",
          "Taxi",
          "Taxi",
          "Taxi",
          "Taxi",
          "Taxi",
          "Taxi",
          "Taxi",
          "Taxi",
          "Taxi",
          "Taxi",
          "Taxi",
          "Taxi",
          "Taxi",
          "Taxi",
          "Taxi",
          "Taxi",
          "Taxi",
          "Taxi",
          "Taxi",
          "Taxi",
          "Taxi",
          "Taxi",
          "Taxi",
          "Taxi",
          "Taxi",
          "Taxi",
          "Taxi",
          "Taxi",
          "Taxi",
          "Taxi",
          "Taxi",
          "Taxi",
          "Taxi",
          "Taxi",
          "Taxi",
          "Taxi",
          "Taxi",
          "Taxi",
          "Taxi",
          "Taxi",
          "Taxi",
          "Taxi",
          "Taxi",
          "Taxi",
          "Taxi",
          "Taxi",
          "Taxi",
          "Taxi",
          "Taxi",
          "Taxi",
          "Taxi",
          "Taxi",
          "Taxi",
          "Taxi",
          "Taxi",
          "Taxi",
          "Taxi",
          "Taxi",
          "Taxi",
          "Taxi",
          "Taxi",
          "Taxi",
          "Taxi",
          "Taxi",
          "Taxi",
          "Taxi",
          "Taxi",
          "Taxi",
          "Taxi",
          "Taxi",
          "Taxi",
          "Taxi",
          "Taxi",
          "Taxi",
          "Taxi",
          "Taxi",
          "Taxi",
          "Taxi",
          "Taxi",
          "Taxi",
          "Taxi",
          "Taxi",
          "Taxi",
          "Taxi",
          "Taxi",
          "Taxi",
          "Taxi",
          "Taxi",
          "Taxi",
          "Taxi",
          "Taxi",
          "Taxi",
          "Taxi",
          "Taxi",
          "Taxi",
          "Taxi",
          "Taxi",
          "Taxi",
          "Taxi",
          "Taxi",
          "Taxi",
          "Taxi",
          "Taxi",
          "Taxi",
          "Taxi",
          "Taxi",
          "Taxi",
          "Taxi",
          "Taxi",
          "Taxi",
          "Taxi",
          "Taxi",
          "Taxi",
          "Taxi",
          "Taxi",
          "Taxi",
          "Taxi",
          "Taxi",
          "Taxi",
          "Taxi",
          "Taxi",
          "Taxi",
          "Taxi",
          "Taxi",
          "Taxi",
          "Taxi",
          "Taxi",
          "Taxi",
          "Taxi",
          "Taxi",
          "Taxi",
          "Taxi",
          "Taxi",
          "Taxi",
          "Taxi",
          "Taxi",
          "Taxi",
          "Taxi",
          "Taxi",
          "Taxi",
          "Taxi",
          "Taxi",
          "Taxi",
          "Taxi",
          "Taxi",
          "Taxi",
          "Taxi",
          "Taxi",
          "Taxi",
          "Taxi",
          "Taxi",
          "Taxi",
          "Taxi",
          "Taxi",
          "Taxi",
          "Taxi",
          "Taxi",
          "Taxi",
          "Taxi",
          "Taxi",
          "Taxi",
          "Taxi",
          "Taxi",
          "Taxi",
          "Taxi",
          "Taxi",
          "Taxi",
          "Taxi",
          "Taxi",
          "Taxi",
          "Taxi",
          "Taxi",
          "Taxi",
          "Taxi",
          "Taxi",
          "Taxi",
          "Taxi",
          "Taxi",
          "Taxi",
          "Taxi",
          "Taxi",
          "Taxi",
          "Taxi",
          "Taxi",
          "Taxi",
          "Taxi",
          "Taxi",
          "Taxi",
          "Taxi",
          "Taxi",
          "Taxi",
          "Taxi",
          "Taxi",
          "Taxi",
          "Taxi",
          "Taxi",
          "Taxi",
          "Taxi",
          "Taxi",
          "Taxi",
          "Taxi",
          "Taxi",
          "Taxi",
          "Taxi",
          "Taxi",
          "Taxi",
          "Taxi",
          "Taxi",
          "Taxi",
          "Taxi",
          "Taxi",
          "Taxi",
          "Taxi",
          "Taxi",
          "Taxi",
          "Taxi",
          "Taxi",
          "Taxi",
          "Taxi",
          "Taxi",
          "Taxi",
          "Taxi",
          "Taxi",
          "Taxi",
          "Taxi",
          "Taxi",
          "Taxi",
          "Taxi",
          "Taxi",
          "Taxi",
          "Taxi",
          "Taxi",
          "Taxi",
          "Taxi",
          "Taxi",
          "Taxi",
          "Taxi",
          "Taxi",
          "Taxi",
          "Taxi",
          "Taxi",
          "Taxi",
          "Taxi",
          "Taxi",
          "Taxi",
          "Taxi",
          "Taxi",
          "Taxi",
          "Taxi",
          "Taxi",
          "Taxi",
          "Taxi",
          "Taxi",
          "Taxi",
          "Taxi",
          "Taxi",
          "Taxi",
          "Taxi",
          "Taxi",
          "Taxi",
          "Taxi",
          "Taxi",
          "Taxi",
          "Taxi",
          "Taxi",
          "Taxi",
          "Taxi",
          "Taxi",
          "Taxi",
          "Taxi",
          "Taxi",
          "Taxi",
          "Taxi",
          "Taxi",
          "Taxi",
          "Taxi",
          "Taxi",
          "Taxi",
          "Taxi",
          "Taxi",
          "Taxi",
          "Taxi",
          "Taxi",
          "Taxi"
         ],
         "y0": " ",
         "yaxis": "y"
        },
        {
         "alignmentgroup": "True",
         "boxpoints": "all",
         "fillcolor": "rgba(255,255,255,0)",
         "hoveron": "points",
         "hovertemplate": "name=%{y}<br>price=%{x}<extra></extra>",
         "legendgroup": "WAV",
         "line": {
          "color": "rgba(255,255,255,0)"
         },
         "marker": {
          "color": "#00cc96"
         },
         "name": "WAV",
         "offsetgroup": "WAV",
         "orientation": "h",
         "pointpos": 0,
         "showlegend": true,
         "type": "box",
         "x": [
          10.5,
          9.5,
          10.5,
          8.5,
          7,
          11,
          7,
          20.5,
          7,
          9,
          9.5,
          11.5,
          8,
          9.5,
          8.5,
          9.5,
          11,
          10.5,
          7.5,
          8.5,
          13.5,
          8.5,
          9.5,
          9.5,
          8.5,
          11.5,
          9.5,
          9,
          10.5,
          8.5,
          10.5,
          10.5,
          8.5,
          9.5,
          7,
          10.5,
          8,
          9.5,
          10.5,
          7,
          9,
          7,
          7.5,
          13.5,
          13.5,
          9.5,
          10.5,
          12,
          10.5,
          14,
          9.5,
          9.5,
          10.5,
          6,
          9.5,
          12.5,
          8.5,
          8.5,
          9.5,
          8.5,
          12.5,
          9.5,
          8.5,
          13,
          10.5,
          10.5,
          10.5,
          17,
          7,
          10.5,
          14,
          10.5,
          9.5,
          8,
          7.5,
          8.5,
          7,
          10.5,
          8.5,
          8,
          9.5,
          11.5,
          11.5,
          10.5,
          12,
          9,
          10.5,
          12,
          8,
          7.5,
          6,
          8.5,
          12,
          6.5,
          9.5,
          12,
          9.5,
          7.5,
          8.5,
          8.5,
          7,
          8.5,
          10.5,
          8,
          8.5,
          10.5,
          8,
          9.5,
          8.5,
          8.5,
          9,
          9.5,
          8,
          7.5,
          7,
          10.5,
          10.5,
          10.5,
          8.5,
          11.5,
          16,
          14,
          11.5,
          7,
          9.5,
          11.5,
          7,
          10.5,
          9.5,
          9.5,
          8.5,
          7.5,
          9.5,
          9.5,
          20.5,
          8.5,
          8.5,
          9,
          7,
          10.5,
          8.5,
          8.5,
          11.5,
          17.5,
          8.5,
          8,
          10.5,
          9.5,
          9.5,
          7.5,
          10.5,
          12,
          6,
          7,
          7,
          9.5,
          7,
          8,
          7,
          16,
          9.5,
          8.5,
          8.5,
          8.5,
          9.5,
          11.5,
          10.5,
          12,
          12.5,
          8.5,
          7,
          9.5,
          8.5,
          7,
          10.5,
          8,
          9.5,
          11.5,
          9.5,
          11.5,
          7,
          8,
          11,
          9.5,
          10.5,
          8.5,
          11.5,
          7,
          19,
          9,
          10.5,
          8.5,
          8.5,
          13,
          13,
          7,
          11,
          9.5,
          9.5,
          8.5,
          9.5,
          10.5,
          6.5,
          8.5,
          10.5,
          7,
          10.5,
          7,
          10.5,
          7.5,
          10.5,
          8,
          7.5,
          8,
          10.5,
          8.5,
          12,
          7,
          12.5,
          7,
          11.5,
          10.5,
          11,
          10.5,
          12.5,
          15,
          9.5,
          9.5,
          7.5,
          17.5,
          9.5,
          11.5,
          15,
          9.5,
          10.5,
          7,
          7,
          10.5,
          9.5,
          7.5,
          10.5,
          10.5,
          7,
          11.5,
          12.5,
          8,
          8.5,
          10.5,
          13,
          15,
          14,
          17,
          8,
          8,
          9,
          8,
          7,
          8,
          9.5,
          10.5,
          7,
          12,
          7.5,
          7.5,
          9,
          9.5,
          9.5,
          11,
          11.5,
          9.5,
          7,
          12,
          7,
          7.5,
          8.5,
          8.5,
          9,
          14,
          9.5,
          10.5,
          7.5,
          10.5,
          8.5,
          9.5,
          21.5,
          7.5,
          8.5,
          12,
          7.5,
          10.5,
          7.5,
          11.5,
          7.5,
          7,
          8.5,
          10.5,
          9.5,
          9.5,
          8.5,
          11.5,
          11.5,
          11,
          18,
          9.5,
          8.5
         ],
         "x0": " ",
         "xaxis": "x",
         "y": [
          "WAV",
          "WAV",
          "WAV",
          "WAV",
          "WAV",
          "WAV",
          "WAV",
          "WAV",
          "WAV",
          "WAV",
          "WAV",
          "WAV",
          "WAV",
          "WAV",
          "WAV",
          "WAV",
          "WAV",
          "WAV",
          "WAV",
          "WAV",
          "WAV",
          "WAV",
          "WAV",
          "WAV",
          "WAV",
          "WAV",
          "WAV",
          "WAV",
          "WAV",
          "WAV",
          "WAV",
          "WAV",
          "WAV",
          "WAV",
          "WAV",
          "WAV",
          "WAV",
          "WAV",
          "WAV",
          "WAV",
          "WAV",
          "WAV",
          "WAV",
          "WAV",
          "WAV",
          "WAV",
          "WAV",
          "WAV",
          "WAV",
          "WAV",
          "WAV",
          "WAV",
          "WAV",
          "WAV",
          "WAV",
          "WAV",
          "WAV",
          "WAV",
          "WAV",
          "WAV",
          "WAV",
          "WAV",
          "WAV",
          "WAV",
          "WAV",
          "WAV",
          "WAV",
          "WAV",
          "WAV",
          "WAV",
          "WAV",
          "WAV",
          "WAV",
          "WAV",
          "WAV",
          "WAV",
          "WAV",
          "WAV",
          "WAV",
          "WAV",
          "WAV",
          "WAV",
          "WAV",
          "WAV",
          "WAV",
          "WAV",
          "WAV",
          "WAV",
          "WAV",
          "WAV",
          "WAV",
          "WAV",
          "WAV",
          "WAV",
          "WAV",
          "WAV",
          "WAV",
          "WAV",
          "WAV",
          "WAV",
          "WAV",
          "WAV",
          "WAV",
          "WAV",
          "WAV",
          "WAV",
          "WAV",
          "WAV",
          "WAV",
          "WAV",
          "WAV",
          "WAV",
          "WAV",
          "WAV",
          "WAV",
          "WAV",
          "WAV",
          "WAV",
          "WAV",
          "WAV",
          "WAV",
          "WAV",
          "WAV",
          "WAV",
          "WAV",
          "WAV",
          "WAV",
          "WAV",
          "WAV",
          "WAV",
          "WAV",
          "WAV",
          "WAV",
          "WAV",
          "WAV",
          "WAV",
          "WAV",
          "WAV",
          "WAV",
          "WAV",
          "WAV",
          "WAV",
          "WAV",
          "WAV",
          "WAV",
          "WAV",
          "WAV",
          "WAV",
          "WAV",
          "WAV",
          "WAV",
          "WAV",
          "WAV",
          "WAV",
          "WAV",
          "WAV",
          "WAV",
          "WAV",
          "WAV",
          "WAV",
          "WAV",
          "WAV",
          "WAV",
          "WAV",
          "WAV",
          "WAV",
          "WAV",
          "WAV",
          "WAV",
          "WAV",
          "WAV",
          "WAV",
          "WAV",
          "WAV",
          "WAV",
          "WAV",
          "WAV",
          "WAV",
          "WAV",
          "WAV",
          "WAV",
          "WAV",
          "WAV",
          "WAV",
          "WAV",
          "WAV",
          "WAV",
          "WAV",
          "WAV",
          "WAV",
          "WAV",
          "WAV",
          "WAV",
          "WAV",
          "WAV",
          "WAV",
          "WAV",
          "WAV",
          "WAV",
          "WAV",
          "WAV",
          "WAV",
          "WAV",
          "WAV",
          "WAV",
          "WAV",
          "WAV",
          "WAV",
          "WAV",
          "WAV",
          "WAV",
          "WAV",
          "WAV",
          "WAV",
          "WAV",
          "WAV",
          "WAV",
          "WAV",
          "WAV",
          "WAV",
          "WAV",
          "WAV",
          "WAV",
          "WAV",
          "WAV",
          "WAV",
          "WAV",
          "WAV",
          "WAV",
          "WAV",
          "WAV",
          "WAV",
          "WAV",
          "WAV",
          "WAV",
          "WAV",
          "WAV",
          "WAV",
          "WAV",
          "WAV",
          "WAV",
          "WAV",
          "WAV",
          "WAV",
          "WAV",
          "WAV",
          "WAV",
          "WAV",
          "WAV",
          "WAV",
          "WAV",
          "WAV",
          "WAV",
          "WAV",
          "WAV",
          "WAV",
          "WAV",
          "WAV",
          "WAV",
          "WAV",
          "WAV",
          "WAV",
          "WAV",
          "WAV",
          "WAV",
          "WAV",
          "WAV",
          "WAV",
          "WAV",
          "WAV",
          "WAV",
          "WAV",
          "WAV",
          "WAV",
          "WAV",
          "WAV",
          "WAV",
          "WAV",
          "WAV",
          "WAV",
          "WAV",
          "WAV",
          "WAV",
          "WAV",
          "WAV",
          "WAV",
          "WAV",
          "WAV",
          "WAV",
          "WAV",
          "WAV",
          "WAV",
          "WAV",
          "WAV",
          "WAV",
          "WAV",
          "WAV",
          "WAV",
          "WAV",
          "WAV",
          "WAV",
          "WAV",
          "WAV",
          "WAV",
          "WAV"
         ],
         "y0": " ",
         "yaxis": "y"
        },
        {
         "alignmentgroup": "True",
         "boxpoints": "all",
         "fillcolor": "rgba(255,255,255,0)",
         "hoveron": "points",
         "hovertemplate": "name=%{y}<br>price=%{x}<extra></extra>",
         "legendgroup": "UberXL",
         "line": {
          "color": "rgba(255,255,255,0)"
         },
         "marker": {
          "color": "#ab63fa"
         },
         "name": "UberXL",
         "offsetgroup": "UberXL",
         "orientation": "h",
         "pointpos": 0,
         "showlegend": true,
         "type": "box",
         "x": [
          32,
          16,
          13,
          10.5,
          14,
          21.5,
          18,
          14,
          16,
          10.5,
          9.5,
          16,
          14,
          22,
          11.5,
          14,
          19.5,
          10.5,
          15,
          15,
          18.5,
          15,
          18,
          18.5,
          22,
          19.5,
          15,
          13,
          14,
          17,
          12.5,
          15,
          13.5,
          12.5,
          14.5,
          8.5,
          18.5,
          13,
          16,
          15,
          14,
          11,
          15,
          14,
          22.5,
          20.5,
          11.5,
          19,
          17,
          26,
          16,
          18.5,
          11.5,
          21.5,
          12,
          17,
          12.5,
          10.5,
          17,
          18,
          12.5,
          27.5,
          17.5,
          15,
          12.5,
          27,
          10.5,
          10.5,
          16.5,
          14,
          16,
          17.5,
          13,
          14,
          9.5,
          9.5,
          16,
          11,
          13,
          17.5,
          16.5,
          20.5,
          16,
          16.5,
          14,
          14,
          16,
          14,
          13,
          18,
          22.5,
          9.5,
          15,
          11,
          19.5,
          16,
          18,
          15.5,
          17,
          10.5,
          12.5,
          13,
          19.5,
          18.5,
          18,
          22,
          16,
          18.5,
          15,
          10.5,
          16.5,
          10.5,
          19.5,
          17,
          20.5,
          18,
          18,
          15,
          16,
          12.5,
          16,
          18,
          14,
          37,
          10.5,
          13.5,
          15,
          25,
          10.5,
          12,
          12,
          32.5,
          12.5,
          21.5,
          12,
          18.5,
          20.5,
          9.5,
          12,
          13.5,
          9.5,
          18,
          11.5,
          10.5,
          10.5,
          16.5,
          19.5,
          23,
          9.5,
          13,
          13,
          17,
          18,
          18,
          17,
          17,
          14,
          12.5,
          19.5,
          20.5,
          16,
          9.5,
          16.5,
          17.5,
          34,
          10.5,
          14.5,
          16,
          8.5,
          20.5,
          13,
          16,
          21,
          16,
          14,
          22.5,
          14.5,
          21.5,
          15,
          10.5,
          11,
          11,
          18.5,
          17.5,
          20.5,
          17,
          17.5,
          13,
          12.5,
          11.5,
          10.5,
          16,
          19.5,
          18.5,
          17.5,
          11.5,
          9,
          9.5,
          18,
          9.5,
          22,
          13,
          35,
          12,
          20.5,
          19.5,
          15,
          19.5,
          11.5,
          14,
          21.5,
          11.5,
          21.5,
          14,
          18,
          19.5,
          16,
          13,
          24,
          19.5,
          12.5,
          15,
          11.5,
          16,
          19.5,
          26.5,
          19.5,
          10.5,
          15,
          15.5,
          12,
          13.5,
          16,
          13,
          20.5,
          16,
          15,
          12,
          14,
          15,
          17.5,
          13,
          15,
          18.5,
          18.5,
          22.5,
          12.5,
          8.5,
          13.5,
          13.5,
          14,
          17,
          16,
          13.5,
          23,
          37.5,
          12,
          15,
          17,
          19,
          17,
          16.5,
          9.5,
          17.5,
          24.5,
          11,
          12,
          9.5,
          12,
          16,
          10.5,
          14,
          17.5,
          25
         ],
         "x0": " ",
         "xaxis": "x",
         "y": [
          "UberXL",
          "UberXL",
          "UberXL",
          "UberXL",
          "UberXL",
          "UberXL",
          "UberXL",
          "UberXL",
          "UberXL",
          "UberXL",
          "UberXL",
          "UberXL",
          "UberXL",
          "UberXL",
          "UberXL",
          "UberXL",
          "UberXL",
          "UberXL",
          "UberXL",
          "UberXL",
          "UberXL",
          "UberXL",
          "UberXL",
          "UberXL",
          "UberXL",
          "UberXL",
          "UberXL",
          "UberXL",
          "UberXL",
          "UberXL",
          "UberXL",
          "UberXL",
          "UberXL",
          "UberXL",
          "UberXL",
          "UberXL",
          "UberXL",
          "UberXL",
          "UberXL",
          "UberXL",
          "UberXL",
          "UberXL",
          "UberXL",
          "UberXL",
          "UberXL",
          "UberXL",
          "UberXL",
          "UberXL",
          "UberXL",
          "UberXL",
          "UberXL",
          "UberXL",
          "UberXL",
          "UberXL",
          "UberXL",
          "UberXL",
          "UberXL",
          "UberXL",
          "UberXL",
          "UberXL",
          "UberXL",
          "UberXL",
          "UberXL",
          "UberXL",
          "UberXL",
          "UberXL",
          "UberXL",
          "UberXL",
          "UberXL",
          "UberXL",
          "UberXL",
          "UberXL",
          "UberXL",
          "UberXL",
          "UberXL",
          "UberXL",
          "UberXL",
          "UberXL",
          "UberXL",
          "UberXL",
          "UberXL",
          "UberXL",
          "UberXL",
          "UberXL",
          "UberXL",
          "UberXL",
          "UberXL",
          "UberXL",
          "UberXL",
          "UberXL",
          "UberXL",
          "UberXL",
          "UberXL",
          "UberXL",
          "UberXL",
          "UberXL",
          "UberXL",
          "UberXL",
          "UberXL",
          "UberXL",
          "UberXL",
          "UberXL",
          "UberXL",
          "UberXL",
          "UberXL",
          "UberXL",
          "UberXL",
          "UberXL",
          "UberXL",
          "UberXL",
          "UberXL",
          "UberXL",
          "UberXL",
          "UberXL",
          "UberXL",
          "UberXL",
          "UberXL",
          "UberXL",
          "UberXL",
          "UberXL",
          "UberXL",
          "UberXL",
          "UberXL",
          "UberXL",
          "UberXL",
          "UberXL",
          "UberXL",
          "UberXL",
          "UberXL",
          "UberXL",
          "UberXL",
          "UberXL",
          "UberXL",
          "UberXL",
          "UberXL",
          "UberXL",
          "UberXL",
          "UberXL",
          "UberXL",
          "UberXL",
          "UberXL",
          "UberXL",
          "UberXL",
          "UberXL",
          "UberXL",
          "UberXL",
          "UberXL",
          "UberXL",
          "UberXL",
          "UberXL",
          "UberXL",
          "UberXL",
          "UberXL",
          "UberXL",
          "UberXL",
          "UberXL",
          "UberXL",
          "UberXL",
          "UberXL",
          "UberXL",
          "UberXL",
          "UberXL",
          "UberXL",
          "UberXL",
          "UberXL",
          "UberXL",
          "UberXL",
          "UberXL",
          "UberXL",
          "UberXL",
          "UberXL",
          "UberXL",
          "UberXL",
          "UberXL",
          "UberXL",
          "UberXL",
          "UberXL",
          "UberXL",
          "UberXL",
          "UberXL",
          "UberXL",
          "UberXL",
          "UberXL",
          "UberXL",
          "UberXL",
          "UberXL",
          "UberXL",
          "UberXL",
          "UberXL",
          "UberXL",
          "UberXL",
          "UberXL",
          "UberXL",
          "UberXL",
          "UberXL",
          "UberXL",
          "UberXL",
          "UberXL",
          "UberXL",
          "UberXL",
          "UberXL",
          "UberXL",
          "UberXL",
          "UberXL",
          "UberXL",
          "UberXL",
          "UberXL",
          "UberXL",
          "UberXL",
          "UberXL",
          "UberXL",
          "UberXL",
          "UberXL",
          "UberXL",
          "UberXL",
          "UberXL",
          "UberXL",
          "UberXL",
          "UberXL",
          "UberXL",
          "UberXL",
          "UberXL",
          "UberXL",
          "UberXL",
          "UberXL",
          "UberXL",
          "UberXL",
          "UberXL",
          "UberXL",
          "UberXL",
          "UberXL",
          "UberXL",
          "UberXL",
          "UberXL",
          "UberXL",
          "UberXL",
          "UberXL",
          "UberXL",
          "UberXL",
          "UberXL",
          "UberXL",
          "UberXL",
          "UberXL",
          "UberXL",
          "UberXL",
          "UberXL",
          "UberXL",
          "UberXL",
          "UberXL",
          "UberXL",
          "UberXL",
          "UberXL",
          "UberXL",
          "UberXL",
          "UberXL",
          "UberXL",
          "UberXL",
          "UberXL",
          "UberXL",
          "UberXL",
          "UberXL",
          "UberXL",
          "UberXL",
          "UberXL",
          "UberXL",
          "UberXL",
          "UberXL",
          "UberXL",
          "UberXL",
          "UberXL",
          "UberXL",
          "UberXL",
          "UberXL",
          "UberXL"
         ],
         "y0": " ",
         "yaxis": "y"
        },
        {
         "alignmentgroup": "True",
         "boxpoints": "all",
         "fillcolor": "rgba(255,255,255,0)",
         "hoveron": "points",
         "hovertemplate": "name=%{y}<br>price=%{x}<extra></extra>",
         "legendgroup": "Black SUV",
         "line": {
          "color": "rgba(255,255,255,0)"
         },
         "marker": {
          "color": "#FFA15A"
         },
         "name": "Black SUV",
         "offsetgroup": "Black SUV",
         "orientation": "h",
         "pointpos": 0,
         "showlegend": true,
         "type": "box",
         "x": [
          27.5,
          28.5,
          26,
          35,
          29.5,
          26,
          33,
          36,
          27,
          29,
          27.5,
          27.5,
          30.5,
          38.5,
          31,
          27.5,
          29.5,
          37,
          30.5,
          35,
          30.5,
          27,
          27,
          31.5,
          43.5,
          27,
          26.5,
          30.5,
          27.5,
          26.5,
          30.5,
          32.5,
          27.5,
          27.5,
          32.5,
          39,
          25,
          30,
          42,
          48,
          26,
          37,
          34,
          32.5,
          31.5,
          32,
          28.5,
          31.5,
          27,
          31.5,
          27.5,
          27.5,
          26.5,
          39.5,
          26.5,
          31.5,
          32,
          30.5,
          30.5,
          27.5,
          48,
          27.5,
          32,
          27.5,
          32.5,
          29.5,
          27.5,
          27,
          26,
          28.5,
          26,
          44,
          26.5,
          26.5,
          27,
          35,
          33,
          27.5,
          26,
          32.5,
          27.5,
          25,
          26,
          26,
          26,
          28,
          39.5,
          27.5,
          32.5,
          28.5,
          27.5,
          27.5,
          39.5,
          26.5,
          29,
          30.5,
          26.5,
          29.5,
          36,
          27.5,
          32,
          27.5,
          27.5,
          33,
          44,
          26,
          37.5,
          26.5,
          26.5,
          26.5,
          28.5,
          29.5,
          26.5,
          33,
          28.5,
          32,
          26.5,
          27,
          32,
          26.5,
          26.5,
          27.5,
          33,
          31.5,
          43,
          27,
          27.5,
          29.5,
          27.5,
          26,
          26.5,
          35,
          26.5,
          26,
          35,
          33,
          37,
          27,
          27,
          34,
          27.5,
          29.5,
          26.5,
          27.5,
          27.5,
          35,
          32.5,
          36,
          27.5,
          27,
          28.5,
          27,
          24,
          26.5,
          28,
          29.5,
          33,
          36.5,
          34,
          25,
          36,
          33.5,
          29.5,
          29.5,
          30.5,
          26,
          37,
          27.5,
          29.5,
          26.5,
          31.5,
          25,
          30.5,
          43,
          30.5,
          26.5,
          26,
          28.5,
          29,
          29.5,
          27.5,
          26,
          30.5,
          26,
          28.5,
          30.5,
          28.5,
          35,
          27.5,
          35,
          32.5,
          27.5,
          26,
          26.5,
          26,
          26,
          26.5,
          27,
          27.5,
          29,
          26,
          32.5,
          37,
          26.5,
          36,
          28.5,
          35.5,
          34,
          41.5,
          31.5,
          39,
          38.5,
          27,
          34,
          40.5,
          27.5,
          26.5,
          35,
          27,
          27.5,
          27.5,
          27,
          31.5,
          30.5,
          27.5,
          32.5,
          27,
          27.5,
          27.5,
          37.5,
          37,
          34,
          32.5,
          31.5,
          32.5,
          40.5,
          31,
          26,
          28,
          26,
          27.5,
          27.5,
          33.5,
          26,
          32.5,
          27,
          27,
          32,
          29.5,
          29.5,
          27,
          31.5,
          31,
          32.5,
          39,
          34,
          35,
          27.5,
          26,
          28.5,
          31.5,
          27.5,
          26,
          41,
          27.5,
          31,
          36,
          28.5,
          27,
          28.5,
          33.5,
          34,
          26.5,
          31.5,
          23
         ],
         "x0": " ",
         "xaxis": "x",
         "y": [
          "Black SUV",
          "Black SUV",
          "Black SUV",
          "Black SUV",
          "Black SUV",
          "Black SUV",
          "Black SUV",
          "Black SUV",
          "Black SUV",
          "Black SUV",
          "Black SUV",
          "Black SUV",
          "Black SUV",
          "Black SUV",
          "Black SUV",
          "Black SUV",
          "Black SUV",
          "Black SUV",
          "Black SUV",
          "Black SUV",
          "Black SUV",
          "Black SUV",
          "Black SUV",
          "Black SUV",
          "Black SUV",
          "Black SUV",
          "Black SUV",
          "Black SUV",
          "Black SUV",
          "Black SUV",
          "Black SUV",
          "Black SUV",
          "Black SUV",
          "Black SUV",
          "Black SUV",
          "Black SUV",
          "Black SUV",
          "Black SUV",
          "Black SUV",
          "Black SUV",
          "Black SUV",
          "Black SUV",
          "Black SUV",
          "Black SUV",
          "Black SUV",
          "Black SUV",
          "Black SUV",
          "Black SUV",
          "Black SUV",
          "Black SUV",
          "Black SUV",
          "Black SUV",
          "Black SUV",
          "Black SUV",
          "Black SUV",
          "Black SUV",
          "Black SUV",
          "Black SUV",
          "Black SUV",
          "Black SUV",
          "Black SUV",
          "Black SUV",
          "Black SUV",
          "Black SUV",
          "Black SUV",
          "Black SUV",
          "Black SUV",
          "Black SUV",
          "Black SUV",
          "Black SUV",
          "Black SUV",
          "Black SUV",
          "Black SUV",
          "Black SUV",
          "Black SUV",
          "Black SUV",
          "Black SUV",
          "Black SUV",
          "Black SUV",
          "Black SUV",
          "Black SUV",
          "Black SUV",
          "Black SUV",
          "Black SUV",
          "Black SUV",
          "Black SUV",
          "Black SUV",
          "Black SUV",
          "Black SUV",
          "Black SUV",
          "Black SUV",
          "Black SUV",
          "Black SUV",
          "Black SUV",
          "Black SUV",
          "Black SUV",
          "Black SUV",
          "Black SUV",
          "Black SUV",
          "Black SUV",
          "Black SUV",
          "Black SUV",
          "Black SUV",
          "Black SUV",
          "Black SUV",
          "Black SUV",
          "Black SUV",
          "Black SUV",
          "Black SUV",
          "Black SUV",
          "Black SUV",
          "Black SUV",
          "Black SUV",
          "Black SUV",
          "Black SUV",
          "Black SUV",
          "Black SUV",
          "Black SUV",
          "Black SUV",
          "Black SUV",
          "Black SUV",
          "Black SUV",
          "Black SUV",
          "Black SUV",
          "Black SUV",
          "Black SUV",
          "Black SUV",
          "Black SUV",
          "Black SUV",
          "Black SUV",
          "Black SUV",
          "Black SUV",
          "Black SUV",
          "Black SUV",
          "Black SUV",
          "Black SUV",
          "Black SUV",
          "Black SUV",
          "Black SUV",
          "Black SUV",
          "Black SUV",
          "Black SUV",
          "Black SUV",
          "Black SUV",
          "Black SUV",
          "Black SUV",
          "Black SUV",
          "Black SUV",
          "Black SUV",
          "Black SUV",
          "Black SUV",
          "Black SUV",
          "Black SUV",
          "Black SUV",
          "Black SUV",
          "Black SUV",
          "Black SUV",
          "Black SUV",
          "Black SUV",
          "Black SUV",
          "Black SUV",
          "Black SUV",
          "Black SUV",
          "Black SUV",
          "Black SUV",
          "Black SUV",
          "Black SUV",
          "Black SUV",
          "Black SUV",
          "Black SUV",
          "Black SUV",
          "Black SUV",
          "Black SUV",
          "Black SUV",
          "Black SUV",
          "Black SUV",
          "Black SUV",
          "Black SUV",
          "Black SUV",
          "Black SUV",
          "Black SUV",
          "Black SUV",
          "Black SUV",
          "Black SUV",
          "Black SUV",
          "Black SUV",
          "Black SUV",
          "Black SUV",
          "Black SUV",
          "Black SUV",
          "Black SUV",
          "Black SUV",
          "Black SUV",
          "Black SUV",
          "Black SUV",
          "Black SUV",
          "Black SUV",
          "Black SUV",
          "Black SUV",
          "Black SUV",
          "Black SUV",
          "Black SUV",
          "Black SUV",
          "Black SUV",
          "Black SUV",
          "Black SUV",
          "Black SUV",
          "Black SUV",
          "Black SUV",
          "Black SUV",
          "Black SUV",
          "Black SUV",
          "Black SUV",
          "Black SUV",
          "Black SUV",
          "Black SUV",
          "Black SUV",
          "Black SUV",
          "Black SUV",
          "Black SUV",
          "Black SUV",
          "Black SUV",
          "Black SUV",
          "Black SUV",
          "Black SUV",
          "Black SUV",
          "Black SUV",
          "Black SUV",
          "Black SUV",
          "Black SUV",
          "Black SUV",
          "Black SUV",
          "Black SUV",
          "Black SUV",
          "Black SUV",
          "Black SUV",
          "Black SUV",
          "Black SUV",
          "Black SUV",
          "Black SUV",
          "Black SUV",
          "Black SUV",
          "Black SUV",
          "Black SUV",
          "Black SUV",
          "Black SUV",
          "Black SUV",
          "Black SUV",
          "Black SUV",
          "Black SUV",
          "Black SUV",
          "Black SUV",
          "Black SUV",
          "Black SUV",
          "Black SUV",
          "Black SUV",
          "Black SUV",
          "Black SUV",
          "Black SUV",
          "Black SUV",
          "Black SUV",
          "Black SUV",
          "Black SUV",
          "Black SUV",
          "Black SUV",
          "Black SUV",
          "Black SUV",
          "Black SUV",
          "Black SUV",
          "Black SUV",
          "Black SUV",
          "Black SUV",
          "Black SUV",
          "Black SUV",
          "Black SUV"
         ],
         "y0": " ",
         "yaxis": "y"
        },
        {
         "alignmentgroup": "True",
         "boxpoints": "all",
         "fillcolor": "rgba(255,255,255,0)",
         "hoveron": "points",
         "hovertemplate": "name=%{y}<br>price=%{x}<extra></extra>",
         "legendgroup": "Black",
         "line": {
          "color": "rgba(255,255,255,0)"
         },
         "marker": {
          "color": "#19d3f3"
         },
         "name": "Black",
         "offsetgroup": "Black",
         "orientation": "h",
         "pointpos": 0,
         "showlegend": true,
         "type": "box",
         "x": [
          20.5,
          34,
          17.5,
          18.5,
          15,
          20.5,
          19,
          25,
          17.5,
          24,
          36,
          23,
          26,
          18.5,
          16,
          16,
          15,
          16,
          26.5,
          15,
          18.5,
          20.5,
          23.5,
          28,
          20,
          20.5,
          24,
          18.5,
          18.5,
          18.5,
          26,
          20.5,
          16,
          16.5,
          16.5,
          28,
          25,
          28.5,
          30.5,
          21,
          17,
          16,
          24,
          30.5,
          22,
          21.5,
          15.5,
          24,
          39.5,
          16.5,
          21.5,
          15.5,
          15,
          17,
          23,
          21.5,
          27,
          24,
          15,
          22.5,
          19.5,
          24,
          16,
          18.5,
          22.5,
          16.5,
          20.5,
          25,
          20.5,
          23,
          22.5,
          15,
          17,
          15,
          18,
          21,
          15,
          21,
          15,
          19.5,
          17,
          23.5,
          17,
          23.5,
          24,
          28,
          24,
          15,
          28.5,
          17,
          17.5,
          16,
          29,
          18,
          17,
          24,
          20.5,
          25,
          20.5,
          26.5,
          15,
          16,
          17.5,
          23,
          18.5,
          15.5,
          21.5,
          23.5,
          19,
          16.5,
          20.5,
          25,
          20.5,
          16,
          16,
          21.5,
          23,
          28,
          28,
          19.5,
          23,
          21,
          33,
          16,
          16,
          24,
          16,
          16,
          16,
          21.5,
          18.5,
          15,
          21,
          15,
          18,
          18.5,
          15,
          16,
          22.5,
          16,
          25,
          16,
          18.5,
          15.5,
          15,
          15,
          15,
          19.5,
          20.5,
          26,
          15,
          17,
          16.5,
          24,
          22,
          19,
          21,
          18.5,
          15,
          24,
          20.5,
          23,
          23,
          26,
          16,
          15,
          23,
          16,
          23,
          16,
          22,
          31.5,
          23.5,
          19.5,
          19.5,
          32.5,
          20.5,
          19.5,
          15,
          27,
          22,
          34,
          33,
          17,
          19.5,
          24.5,
          15,
          21,
          21.5,
          19.5,
          22.5,
          20.5,
          25,
          17.5,
          15,
          15,
          23,
          17,
          15.5,
          26,
          30.5,
          24,
          22,
          25,
          16,
          16,
          33,
          19.5,
          18.5,
          25.5,
          15,
          24,
          15.5,
          16.5,
          27.5,
          25,
          26.5,
          25,
          19.5,
          21.5,
          15,
          15.5,
          23,
          15,
          21.5,
          20.5,
          25,
          20.5,
          15,
          27,
          19.5,
          28.5,
          26,
          23,
          27,
          19,
          23,
          30.5,
          21,
          18.5,
          23.5,
          18,
          22,
          17.5,
          20.5,
          23,
          16,
          18.5,
          15,
          15,
          18.5,
          24,
          16,
          21.5,
          17,
          22.5,
          24,
          26,
          15,
          18.5,
          35,
          27,
          15,
          17.5,
          25,
          15.5,
          37,
          17.5,
          29.5,
          25,
          23,
          32.5,
          18.5,
          21,
          25,
          16,
          21.5,
          16,
          26,
          17.5,
          17.5,
          16,
          19.5
         ],
         "x0": " ",
         "xaxis": "x",
         "y": [
          "Black",
          "Black",
          "Black",
          "Black",
          "Black",
          "Black",
          "Black",
          "Black",
          "Black",
          "Black",
          "Black",
          "Black",
          "Black",
          "Black",
          "Black",
          "Black",
          "Black",
          "Black",
          "Black",
          "Black",
          "Black",
          "Black",
          "Black",
          "Black",
          "Black",
          "Black",
          "Black",
          "Black",
          "Black",
          "Black",
          "Black",
          "Black",
          "Black",
          "Black",
          "Black",
          "Black",
          "Black",
          "Black",
          "Black",
          "Black",
          "Black",
          "Black",
          "Black",
          "Black",
          "Black",
          "Black",
          "Black",
          "Black",
          "Black",
          "Black",
          "Black",
          "Black",
          "Black",
          "Black",
          "Black",
          "Black",
          "Black",
          "Black",
          "Black",
          "Black",
          "Black",
          "Black",
          "Black",
          "Black",
          "Black",
          "Black",
          "Black",
          "Black",
          "Black",
          "Black",
          "Black",
          "Black",
          "Black",
          "Black",
          "Black",
          "Black",
          "Black",
          "Black",
          "Black",
          "Black",
          "Black",
          "Black",
          "Black",
          "Black",
          "Black",
          "Black",
          "Black",
          "Black",
          "Black",
          "Black",
          "Black",
          "Black",
          "Black",
          "Black",
          "Black",
          "Black",
          "Black",
          "Black",
          "Black",
          "Black",
          "Black",
          "Black",
          "Black",
          "Black",
          "Black",
          "Black",
          "Black",
          "Black",
          "Black",
          "Black",
          "Black",
          "Black",
          "Black",
          "Black",
          "Black",
          "Black",
          "Black",
          "Black",
          "Black",
          "Black",
          "Black",
          "Black",
          "Black",
          "Black",
          "Black",
          "Black",
          "Black",
          "Black",
          "Black",
          "Black",
          "Black",
          "Black",
          "Black",
          "Black",
          "Black",
          "Black",
          "Black",
          "Black",
          "Black",
          "Black",
          "Black",
          "Black",
          "Black",
          "Black",
          "Black",
          "Black",
          "Black",
          "Black",
          "Black",
          "Black",
          "Black",
          "Black",
          "Black",
          "Black",
          "Black",
          "Black",
          "Black",
          "Black",
          "Black",
          "Black",
          "Black",
          "Black",
          "Black",
          "Black",
          "Black",
          "Black",
          "Black",
          "Black",
          "Black",
          "Black",
          "Black",
          "Black",
          "Black",
          "Black",
          "Black",
          "Black",
          "Black",
          "Black",
          "Black",
          "Black",
          "Black",
          "Black",
          "Black",
          "Black",
          "Black",
          "Black",
          "Black",
          "Black",
          "Black",
          "Black",
          "Black",
          "Black",
          "Black",
          "Black",
          "Black",
          "Black",
          "Black",
          "Black",
          "Black",
          "Black",
          "Black",
          "Black",
          "Black",
          "Black",
          "Black",
          "Black",
          "Black",
          "Black",
          "Black",
          "Black",
          "Black",
          "Black",
          "Black",
          "Black",
          "Black",
          "Black",
          "Black",
          "Black",
          "Black",
          "Black",
          "Black",
          "Black",
          "Black",
          "Black",
          "Black",
          "Black",
          "Black",
          "Black",
          "Black",
          "Black",
          "Black",
          "Black",
          "Black",
          "Black",
          "Black",
          "Black",
          "Black",
          "Black",
          "Black",
          "Black",
          "Black",
          "Black",
          "Black",
          "Black",
          "Black",
          "Black",
          "Black",
          "Black",
          "Black",
          "Black",
          "Black",
          "Black",
          "Black",
          "Black",
          "Black",
          "Black",
          "Black",
          "Black",
          "Black",
          "Black",
          "Black",
          "Black",
          "Black",
          "Black",
          "Black",
          "Black",
          "Black",
          "Black",
          "Black",
          "Black",
          "Black",
          "Black",
          "Black",
          "Black",
          "Black",
          "Black",
          "Black",
          "Black",
          "Black",
          "Black",
          "Black",
          "Black",
          "Black"
         ],
         "y0": " ",
         "yaxis": "y"
        },
        {
         "alignmentgroup": "True",
         "boxpoints": "all",
         "fillcolor": "rgba(255,255,255,0)",
         "hoveron": "points",
         "hovertemplate": "name=%{y}<br>price=%{x}<extra></extra>",
         "legendgroup": "UberPool",
         "line": {
          "color": "rgba(255,255,255,0)"
         },
         "marker": {
          "color": "#FF6692"
         },
         "name": "UberPool",
         "offsetgroup": "UberPool",
         "orientation": "h",
         "pointpos": 0,
         "showlegend": true,
         "type": "box",
         "x": [
          10,
          8.5,
          10,
          10,
          8,
          7.5,
          11,
          10,
          10,
          10,
          8.5,
          8,
          7.5,
          10,
          11,
          9.5,
          7.5,
          12,
          10,
          7,
          4.5,
          8.5,
          9,
          8.5,
          9.5,
          7.5,
          6.5,
          6.5,
          9,
          6.5,
          7.5,
          11,
          11,
          9,
          7,
          7,
          6.5,
          12.5,
          9,
          13.5,
          12,
          6.5,
          11,
          10,
          10,
          8.5,
          8.5,
          11,
          9.5,
          8,
          9.5,
          7.5,
          10,
          11,
          7,
          11,
          5.5,
          7.5,
          11,
          12,
          6.5,
          11,
          5.5,
          6.5,
          7,
          12.5,
          7.5,
          9,
          8,
          6.5,
          9,
          11,
          6.5,
          7.5,
          6.5,
          26.5,
          12,
          10,
          9.5,
          7.5,
          8,
          7.5,
          7.5,
          7.5,
          8,
          9,
          9,
          11,
          9,
          7.5,
          11,
          9,
          7.5,
          15.5,
          8.5,
          17,
          11,
          6.5,
          11,
          7,
          9,
          7,
          10,
          11,
          9,
          9,
          9,
          7.5,
          10,
          10,
          9.5,
          13,
          11,
          7.5,
          8,
          8.5,
          9,
          9,
          6.5,
          8.5,
          7.5,
          10,
          8,
          7,
          11,
          9,
          11,
          6.5,
          7.5,
          7.5,
          18,
          9,
          12,
          9.5,
          8,
          7.5,
          8,
          6.5,
          12,
          12,
          9,
          10,
          5.5,
          8,
          7.5,
          8,
          7,
          10,
          10,
          8,
          10,
          9,
          5.5,
          11,
          7.5,
          8,
          8.5,
          8,
          8,
          10,
          9,
          11,
          11,
          8,
          9,
          7.5,
          8,
          10,
          9,
          7.5,
          8,
          5.5,
          10,
          11,
          8,
          5.5,
          17,
          8,
          6.5,
          7,
          6.5,
          8.5,
          8.5,
          8.5,
          9,
          9,
          6.5,
          10,
          8.5,
          9.5,
          12,
          11,
          8.5,
          6.5,
          7,
          8,
          8.5,
          12,
          11,
          8.5,
          7.5,
          9,
          8,
          8.5,
          13,
          7.5,
          8.5,
          8,
          5.5,
          6.5,
          7,
          15.5,
          7.5,
          7.5,
          10,
          7.5,
          8.5,
          9,
          13.5,
          10,
          7,
          6.5,
          11.5,
          6.5,
          9,
          7,
          8,
          7.5,
          9.5,
          9,
          12,
          6.5,
          9,
          8.5,
          9,
          14.5,
          13.5,
          6.5,
          7.5,
          9,
          7.5,
          5.5,
          5.5,
          7,
          6.5,
          9,
          9,
          7.5,
          8.5,
          5.5,
          11,
          9,
          10,
          14,
          11,
          7.5,
          6.5,
          11,
          7.5,
          9,
          8.5,
          9,
          8.5,
          7.5,
          8.5,
          10,
          9,
          7.5,
          8.5,
          11,
          10,
          5.5,
          6.5,
          9,
          7.5,
          9,
          10,
          6.5,
          8,
          8.5
         ],
         "x0": " ",
         "xaxis": "x",
         "y": [
          "UberPool",
          "UberPool",
          "UberPool",
          "UberPool",
          "UberPool",
          "UberPool",
          "UberPool",
          "UberPool",
          "UberPool",
          "UberPool",
          "UberPool",
          "UberPool",
          "UberPool",
          "UberPool",
          "UberPool",
          "UberPool",
          "UberPool",
          "UberPool",
          "UberPool",
          "UberPool",
          "UberPool",
          "UberPool",
          "UberPool",
          "UberPool",
          "UberPool",
          "UberPool",
          "UberPool",
          "UberPool",
          "UberPool",
          "UberPool",
          "UberPool",
          "UberPool",
          "UberPool",
          "UberPool",
          "UberPool",
          "UberPool",
          "UberPool",
          "UberPool",
          "UberPool",
          "UberPool",
          "UberPool",
          "UberPool",
          "UberPool",
          "UberPool",
          "UberPool",
          "UberPool",
          "UberPool",
          "UberPool",
          "UberPool",
          "UberPool",
          "UberPool",
          "UberPool",
          "UberPool",
          "UberPool",
          "UberPool",
          "UberPool",
          "UberPool",
          "UberPool",
          "UberPool",
          "UberPool",
          "UberPool",
          "UberPool",
          "UberPool",
          "UberPool",
          "UberPool",
          "UberPool",
          "UberPool",
          "UberPool",
          "UberPool",
          "UberPool",
          "UberPool",
          "UberPool",
          "UberPool",
          "UberPool",
          "UberPool",
          "UberPool",
          "UberPool",
          "UberPool",
          "UberPool",
          "UberPool",
          "UberPool",
          "UberPool",
          "UberPool",
          "UberPool",
          "UberPool",
          "UberPool",
          "UberPool",
          "UberPool",
          "UberPool",
          "UberPool",
          "UberPool",
          "UberPool",
          "UberPool",
          "UberPool",
          "UberPool",
          "UberPool",
          "UberPool",
          "UberPool",
          "UberPool",
          "UberPool",
          "UberPool",
          "UberPool",
          "UberPool",
          "UberPool",
          "UberPool",
          "UberPool",
          "UberPool",
          "UberPool",
          "UberPool",
          "UberPool",
          "UberPool",
          "UberPool",
          "UberPool",
          "UberPool",
          "UberPool",
          "UberPool",
          "UberPool",
          "UberPool",
          "UberPool",
          "UberPool",
          "UberPool",
          "UberPool",
          "UberPool",
          "UberPool",
          "UberPool",
          "UberPool",
          "UberPool",
          "UberPool",
          "UberPool",
          "UberPool",
          "UberPool",
          "UberPool",
          "UberPool",
          "UberPool",
          "UberPool",
          "UberPool",
          "UberPool",
          "UberPool",
          "UberPool",
          "UberPool",
          "UberPool",
          "UberPool",
          "UberPool",
          "UberPool",
          "UberPool",
          "UberPool",
          "UberPool",
          "UberPool",
          "UberPool",
          "UberPool",
          "UberPool",
          "UberPool",
          "UberPool",
          "UberPool",
          "UberPool",
          "UberPool",
          "UberPool",
          "UberPool",
          "UberPool",
          "UberPool",
          "UberPool",
          "UberPool",
          "UberPool",
          "UberPool",
          "UberPool",
          "UberPool",
          "UberPool",
          "UberPool",
          "UberPool",
          "UberPool",
          "UberPool",
          "UberPool",
          "UberPool",
          "UberPool",
          "UberPool",
          "UberPool",
          "UberPool",
          "UberPool",
          "UberPool",
          "UberPool",
          "UberPool",
          "UberPool",
          "UberPool",
          "UberPool",
          "UberPool",
          "UberPool",
          "UberPool",
          "UberPool",
          "UberPool",
          "UberPool",
          "UberPool",
          "UberPool",
          "UberPool",
          "UberPool",
          "UberPool",
          "UberPool",
          "UberPool",
          "UberPool",
          "UberPool",
          "UberPool",
          "UberPool",
          "UberPool",
          "UberPool",
          "UberPool",
          "UberPool",
          "UberPool",
          "UberPool",
          "UberPool",
          "UberPool",
          "UberPool",
          "UberPool",
          "UberPool",
          "UberPool",
          "UberPool",
          "UberPool",
          "UberPool",
          "UberPool",
          "UberPool",
          "UberPool",
          "UberPool",
          "UberPool",
          "UberPool",
          "UberPool",
          "UberPool",
          "UberPool",
          "UberPool",
          "UberPool",
          "UberPool",
          "UberPool",
          "UberPool",
          "UberPool",
          "UberPool",
          "UberPool",
          "UberPool",
          "UberPool",
          "UberPool",
          "UberPool",
          "UberPool",
          "UberPool",
          "UberPool",
          "UberPool",
          "UberPool",
          "UberPool",
          "UberPool",
          "UberPool",
          "UberPool",
          "UberPool",
          "UberPool",
          "UberPool",
          "UberPool",
          "UberPool",
          "UberPool",
          "UberPool",
          "UberPool",
          "UberPool",
          "UberPool",
          "UberPool",
          "UberPool",
          "UberPool",
          "UberPool",
          "UberPool",
          "UberPool",
          "UberPool",
          "UberPool",
          "UberPool",
          "UberPool",
          "UberPool",
          "UberPool",
          "UberPool",
          "UberPool",
          "UberPool",
          "UberPool",
          "UberPool",
          "UberPool",
          "UberPool",
          "UberPool",
          "UberPool",
          "UberPool",
          "UberPool",
          "UberPool"
         ],
         "y0": " ",
         "yaxis": "y"
        }
       ],
       "layout": {
        "boxmode": "overlay",
        "legend": {
         "title": {
          "text": "name"
         },
         "tracegroupgap": 0
        },
        "margin": {
         "t": 60
        },
        "template": {
         "data": {
          "bar": [
           {
            "error_x": {
             "color": "#2a3f5f"
            },
            "error_y": {
             "color": "#2a3f5f"
            },
            "marker": {
             "line": {
              "color": "#E5ECF6",
              "width": 0.5
             },
             "pattern": {
              "fillmode": "overlay",
              "size": 10,
              "solidity": 0.2
             }
            },
            "type": "bar"
           }
          ],
          "barpolar": [
           {
            "marker": {
             "line": {
              "color": "#E5ECF6",
              "width": 0.5
             },
             "pattern": {
              "fillmode": "overlay",
              "size": 10,
              "solidity": 0.2
             }
            },
            "type": "barpolar"
           }
          ],
          "carpet": [
           {
            "aaxis": {
             "endlinecolor": "#2a3f5f",
             "gridcolor": "white",
             "linecolor": "white",
             "minorgridcolor": "white",
             "startlinecolor": "#2a3f5f"
            },
            "baxis": {
             "endlinecolor": "#2a3f5f",
             "gridcolor": "white",
             "linecolor": "white",
             "minorgridcolor": "white",
             "startlinecolor": "#2a3f5f"
            },
            "type": "carpet"
           }
          ],
          "choropleth": [
           {
            "colorbar": {
             "outlinewidth": 0,
             "ticks": ""
            },
            "type": "choropleth"
           }
          ],
          "contour": [
           {
            "colorbar": {
             "outlinewidth": 0,
             "ticks": ""
            },
            "colorscale": [
             [
              0,
              "#0d0887"
             ],
             [
              0.1111111111111111,
              "#46039f"
             ],
             [
              0.2222222222222222,
              "#7201a8"
             ],
             [
              0.3333333333333333,
              "#9c179e"
             ],
             [
              0.4444444444444444,
              "#bd3786"
             ],
             [
              0.5555555555555556,
              "#d8576b"
             ],
             [
              0.6666666666666666,
              "#ed7953"
             ],
             [
              0.7777777777777778,
              "#fb9f3a"
             ],
             [
              0.8888888888888888,
              "#fdca26"
             ],
             [
              1,
              "#f0f921"
             ]
            ],
            "type": "contour"
           }
          ],
          "contourcarpet": [
           {
            "colorbar": {
             "outlinewidth": 0,
             "ticks": ""
            },
            "type": "contourcarpet"
           }
          ],
          "heatmap": [
           {
            "colorbar": {
             "outlinewidth": 0,
             "ticks": ""
            },
            "colorscale": [
             [
              0,
              "#0d0887"
             ],
             [
              0.1111111111111111,
              "#46039f"
             ],
             [
              0.2222222222222222,
              "#7201a8"
             ],
             [
              0.3333333333333333,
              "#9c179e"
             ],
             [
              0.4444444444444444,
              "#bd3786"
             ],
             [
              0.5555555555555556,
              "#d8576b"
             ],
             [
              0.6666666666666666,
              "#ed7953"
             ],
             [
              0.7777777777777778,
              "#fb9f3a"
             ],
             [
              0.8888888888888888,
              "#fdca26"
             ],
             [
              1,
              "#f0f921"
             ]
            ],
            "type": "heatmap"
           }
          ],
          "heatmapgl": [
           {
            "colorbar": {
             "outlinewidth": 0,
             "ticks": ""
            },
            "colorscale": [
             [
              0,
              "#0d0887"
             ],
             [
              0.1111111111111111,
              "#46039f"
             ],
             [
              0.2222222222222222,
              "#7201a8"
             ],
             [
              0.3333333333333333,
              "#9c179e"
             ],
             [
              0.4444444444444444,
              "#bd3786"
             ],
             [
              0.5555555555555556,
              "#d8576b"
             ],
             [
              0.6666666666666666,
              "#ed7953"
             ],
             [
              0.7777777777777778,
              "#fb9f3a"
             ],
             [
              0.8888888888888888,
              "#fdca26"
             ],
             [
              1,
              "#f0f921"
             ]
            ],
            "type": "heatmapgl"
           }
          ],
          "histogram": [
           {
            "marker": {
             "pattern": {
              "fillmode": "overlay",
              "size": 10,
              "solidity": 0.2
             }
            },
            "type": "histogram"
           }
          ],
          "histogram2d": [
           {
            "colorbar": {
             "outlinewidth": 0,
             "ticks": ""
            },
            "colorscale": [
             [
              0,
              "#0d0887"
             ],
             [
              0.1111111111111111,
              "#46039f"
             ],
             [
              0.2222222222222222,
              "#7201a8"
             ],
             [
              0.3333333333333333,
              "#9c179e"
             ],
             [
              0.4444444444444444,
              "#bd3786"
             ],
             [
              0.5555555555555556,
              "#d8576b"
             ],
             [
              0.6666666666666666,
              "#ed7953"
             ],
             [
              0.7777777777777778,
              "#fb9f3a"
             ],
             [
              0.8888888888888888,
              "#fdca26"
             ],
             [
              1,
              "#f0f921"
             ]
            ],
            "type": "histogram2d"
           }
          ],
          "histogram2dcontour": [
           {
            "colorbar": {
             "outlinewidth": 0,
             "ticks": ""
            },
            "colorscale": [
             [
              0,
              "#0d0887"
             ],
             [
              0.1111111111111111,
              "#46039f"
             ],
             [
              0.2222222222222222,
              "#7201a8"
             ],
             [
              0.3333333333333333,
              "#9c179e"
             ],
             [
              0.4444444444444444,
              "#bd3786"
             ],
             [
              0.5555555555555556,
              "#d8576b"
             ],
             [
              0.6666666666666666,
              "#ed7953"
             ],
             [
              0.7777777777777778,
              "#fb9f3a"
             ],
             [
              0.8888888888888888,
              "#fdca26"
             ],
             [
              1,
              "#f0f921"
             ]
            ],
            "type": "histogram2dcontour"
           }
          ],
          "mesh3d": [
           {
            "colorbar": {
             "outlinewidth": 0,
             "ticks": ""
            },
            "type": "mesh3d"
           }
          ],
          "parcoords": [
           {
            "line": {
             "colorbar": {
              "outlinewidth": 0,
              "ticks": ""
             }
            },
            "type": "parcoords"
           }
          ],
          "pie": [
           {
            "automargin": true,
            "type": "pie"
           }
          ],
          "scatter": [
           {
            "marker": {
             "colorbar": {
              "outlinewidth": 0,
              "ticks": ""
             }
            },
            "type": "scatter"
           }
          ],
          "scatter3d": [
           {
            "line": {
             "colorbar": {
              "outlinewidth": 0,
              "ticks": ""
             }
            },
            "marker": {
             "colorbar": {
              "outlinewidth": 0,
              "ticks": ""
             }
            },
            "type": "scatter3d"
           }
          ],
          "scattercarpet": [
           {
            "marker": {
             "colorbar": {
              "outlinewidth": 0,
              "ticks": ""
             }
            },
            "type": "scattercarpet"
           }
          ],
          "scattergeo": [
           {
            "marker": {
             "colorbar": {
              "outlinewidth": 0,
              "ticks": ""
             }
            },
            "type": "scattergeo"
           }
          ],
          "scattergl": [
           {
            "marker": {
             "colorbar": {
              "outlinewidth": 0,
              "ticks": ""
             }
            },
            "type": "scattergl"
           }
          ],
          "scattermapbox": [
           {
            "marker": {
             "colorbar": {
              "outlinewidth": 0,
              "ticks": ""
             }
            },
            "type": "scattermapbox"
           }
          ],
          "scatterpolar": [
           {
            "marker": {
             "colorbar": {
              "outlinewidth": 0,
              "ticks": ""
             }
            },
            "type": "scatterpolar"
           }
          ],
          "scatterpolargl": [
           {
            "marker": {
             "colorbar": {
              "outlinewidth": 0,
              "ticks": ""
             }
            },
            "type": "scatterpolargl"
           }
          ],
          "scatterternary": [
           {
            "marker": {
             "colorbar": {
              "outlinewidth": 0,
              "ticks": ""
             }
            },
            "type": "scatterternary"
           }
          ],
          "surface": [
           {
            "colorbar": {
             "outlinewidth": 0,
             "ticks": ""
            },
            "colorscale": [
             [
              0,
              "#0d0887"
             ],
             [
              0.1111111111111111,
              "#46039f"
             ],
             [
              0.2222222222222222,
              "#7201a8"
             ],
             [
              0.3333333333333333,
              "#9c179e"
             ],
             [
              0.4444444444444444,
              "#bd3786"
             ],
             [
              0.5555555555555556,
              "#d8576b"
             ],
             [
              0.6666666666666666,
              "#ed7953"
             ],
             [
              0.7777777777777778,
              "#fb9f3a"
             ],
             [
              0.8888888888888888,
              "#fdca26"
             ],
             [
              1,
              "#f0f921"
             ]
            ],
            "type": "surface"
           }
          ],
          "table": [
           {
            "cells": {
             "fill": {
              "color": "#EBF0F8"
             },
             "line": {
              "color": "white"
             }
            },
            "header": {
             "fill": {
              "color": "#C8D4E3"
             },
             "line": {
              "color": "white"
             }
            },
            "type": "table"
           }
          ]
         },
         "layout": {
          "annotationdefaults": {
           "arrowcolor": "#2a3f5f",
           "arrowhead": 0,
           "arrowwidth": 1
          },
          "autotypenumbers": "strict",
          "coloraxis": {
           "colorbar": {
            "outlinewidth": 0,
            "ticks": ""
           }
          },
          "colorscale": {
           "diverging": [
            [
             0,
             "#8e0152"
            ],
            [
             0.1,
             "#c51b7d"
            ],
            [
             0.2,
             "#de77ae"
            ],
            [
             0.3,
             "#f1b6da"
            ],
            [
             0.4,
             "#fde0ef"
            ],
            [
             0.5,
             "#f7f7f7"
            ],
            [
             0.6,
             "#e6f5d0"
            ],
            [
             0.7,
             "#b8e186"
            ],
            [
             0.8,
             "#7fbc41"
            ],
            [
             0.9,
             "#4d9221"
            ],
            [
             1,
             "#276419"
            ]
           ],
           "sequential": [
            [
             0,
             "#0d0887"
            ],
            [
             0.1111111111111111,
             "#46039f"
            ],
            [
             0.2222222222222222,
             "#7201a8"
            ],
            [
             0.3333333333333333,
             "#9c179e"
            ],
            [
             0.4444444444444444,
             "#bd3786"
            ],
            [
             0.5555555555555556,
             "#d8576b"
            ],
            [
             0.6666666666666666,
             "#ed7953"
            ],
            [
             0.7777777777777778,
             "#fb9f3a"
            ],
            [
             0.8888888888888888,
             "#fdca26"
            ],
            [
             1,
             "#f0f921"
            ]
           ],
           "sequentialminus": [
            [
             0,
             "#0d0887"
            ],
            [
             0.1111111111111111,
             "#46039f"
            ],
            [
             0.2222222222222222,
             "#7201a8"
            ],
            [
             0.3333333333333333,
             "#9c179e"
            ],
            [
             0.4444444444444444,
             "#bd3786"
            ],
            [
             0.5555555555555556,
             "#d8576b"
            ],
            [
             0.6666666666666666,
             "#ed7953"
            ],
            [
             0.7777777777777778,
             "#fb9f3a"
            ],
            [
             0.8888888888888888,
             "#fdca26"
            ],
            [
             1,
             "#f0f921"
            ]
           ]
          },
          "colorway": [
           "#636efa",
           "#EF553B",
           "#00cc96",
           "#ab63fa",
           "#FFA15A",
           "#19d3f3",
           "#FF6692",
           "#B6E880",
           "#FF97FF",
           "#FECB52"
          ],
          "font": {
           "color": "#2a3f5f"
          },
          "geo": {
           "bgcolor": "white",
           "lakecolor": "white",
           "landcolor": "#E5ECF6",
           "showlakes": true,
           "showland": true,
           "subunitcolor": "white"
          },
          "hoverlabel": {
           "align": "left"
          },
          "hovermode": "closest",
          "mapbox": {
           "style": "light"
          },
          "paper_bgcolor": "white",
          "plot_bgcolor": "#E5ECF6",
          "polar": {
           "angularaxis": {
            "gridcolor": "white",
            "linecolor": "white",
            "ticks": ""
           },
           "bgcolor": "#E5ECF6",
           "radialaxis": {
            "gridcolor": "white",
            "linecolor": "white",
            "ticks": ""
           }
          },
          "scene": {
           "xaxis": {
            "backgroundcolor": "#E5ECF6",
            "gridcolor": "white",
            "gridwidth": 2,
            "linecolor": "white",
            "showbackground": true,
            "ticks": "",
            "zerolinecolor": "white"
           },
           "yaxis": {
            "backgroundcolor": "#E5ECF6",
            "gridcolor": "white",
            "gridwidth": 2,
            "linecolor": "white",
            "showbackground": true,
            "ticks": "",
            "zerolinecolor": "white"
           },
           "zaxis": {
            "backgroundcolor": "#E5ECF6",
            "gridcolor": "white",
            "gridwidth": 2,
            "linecolor": "white",
            "showbackground": true,
            "ticks": "",
            "zerolinecolor": "white"
           }
          },
          "shapedefaults": {
           "line": {
            "color": "#2a3f5f"
           }
          },
          "ternary": {
           "aaxis": {
            "gridcolor": "white",
            "linecolor": "white",
            "ticks": ""
           },
           "baxis": {
            "gridcolor": "white",
            "linecolor": "white",
            "ticks": ""
           },
           "bgcolor": "#E5ECF6",
           "caxis": {
            "gridcolor": "white",
            "linecolor": "white",
            "ticks": ""
           }
          },
          "title": {
           "x": 0.05
          },
          "xaxis": {
           "automargin": true,
           "gridcolor": "white",
           "linecolor": "white",
           "ticks": "",
           "title": {
            "standoff": 15
           },
           "zerolinecolor": "white",
           "zerolinewidth": 2
          },
          "yaxis": {
           "automargin": true,
           "gridcolor": "white",
           "linecolor": "white",
           "ticks": "",
           "title": {
            "standoff": 15
           },
           "zerolinecolor": "white",
           "zerolinewidth": 2
          }
         }
        },
        "xaxis": {
         "anchor": "y",
         "domain": [
          0,
          1
         ],
         "title": {
          "text": "price"
         }
        },
        "yaxis": {
         "anchor": "x",
         "categoryarray": [
          "UberPool",
          "Black",
          "Black SUV",
          "UberXL",
          "WAV",
          "Taxi",
          "UberX"
         ],
         "categoryorder": "array",
         "domain": [
          0,
          1
         ],
         "title": {
          "text": "name"
         }
        }
       }
      },
      "text/html": [
       "<div>                            <div id=\"f831a3b9-98b0-418a-b103-02cb57c1c705\" class=\"plotly-graph-div\" style=\"height:525px; width:100%;\"></div>            <script type=\"text/javascript\">                require([\"plotly\"], function(Plotly) {                    window.PLOTLYENV=window.PLOTLYENV || {};                                    if (document.getElementById(\"f831a3b9-98b0-418a-b103-02cb57c1c705\")) {                    Plotly.newPlot(                        \"f831a3b9-98b0-418a-b103-02cb57c1c705\",                        [{\"alignmentgroup\":\"True\",\"boxpoints\":\"all\",\"fillcolor\":\"rgba(255,255,255,0)\",\"hoveron\":\"points\",\"hovertemplate\":\"name=%{y}<br>price=%{x}<extra></extra>\",\"legendgroup\":\"UberX\",\"line\":{\"color\":\"rgba(255,255,255,0)\"},\"marker\":{\"color\":\"#636efa\"},\"name\":\"UberX\",\"offsetgroup\":\"UberX\",\"orientation\":\"h\",\"pointpos\":0,\"showlegend\":true,\"type\":\"box\",\"x\":[7.0,19.5,8.0,10.5,9.5,8.5,10.5,7.0,11.0,11.5,15.5,9.5,10.5,9.5,11.0,9.5,9.5,9.5,9.5,8.5,10.5,10.5,8.5,9.0,8.0,7.5,10.5,8.0,21.5,10.5,8.5,8.5,7.5,11.5,7.0,13.5,13.5,7.5,9.0,12.0,7.0,7.5,9.5,6.0,10.5,9.5,12.5,7.5,8.0,12.5,9.0,9.5,12.5,9.5,13.0,10.5,10.5,7.0,9.5,7.0,8.5,11.0,10.5,8.0,9.5,10.5,10.5,7.0,8.5,10.5,12.0,9.5,9.5,8.5,12.0,10.5,9.0,7.5,7.5,9.5,9.5,12.0,12.5,9.0,10.5,12.0,8.5,9.5,6.5,9.5,7.0,10.5,10.5,8.5,9.5,11.5,11.0,10.5,18.0,8.5,10.5,8.0,11.5,9.5,9.5,7.0,8.5,12.5,10.5,16.0,7.0,9.5,8.5,9.5,7.0,7.5,11.5,7.5,9.5,8.5,8.0,8.5,9.5,9.0,20.5,8.5,7.0,8.5,8.5,17.5,8.0,11.5,10.5,10.5,10.5,9.0,6.0,8.5,8.0,11.0,9.5,7.0,8.0,10.5,7.0,10.5,13.0,11.5,8.0,8.0,8.5,8.5,10.5,9.5,8.5,12.0,9.5,9.5,9.5,10.5,8.0,9.5,8.0,7.0,9.0,7.0,7.0,12.5,9.5,12.0,7.0,10.5,9.0,9.5,13.0,8.5,7.0,9.5,9.5,8.5,9.5,9.5,6.5,10.5,11.0,7.0,7.0,10.5,8.0,8.0,7.0,8.5,7.5,7.0,7.5,10.5,8.0,10.5,9.5,12.5,8.5,8.0,11.5,7.0,10.5,7.0,12.0,11.0,10.5,8.5,8.0,13.0,13.5,13.0,10.5,9.5,17.5,7.0,11.5,9.5,7.0,9.5,10.5,7.5,8.5,8.0,9.5,12.0,9.5,14.0,7.5,8.5,8.0,10.5,10.5,15.0,11.5,14.0,10.5,8.5,9.0,8.0,9.5,9.5,10.5,8.0,7.0,7.5,7.5,8.5,9.0,7.0,9.5,14.0,8.0,11.0,14.0,7.0,12.0,12.0,8.5,10.5,9.0,8.5,9.0,11.5,7.0,7.5,9.5,14.0,10.5,21.5,12.5,8.5,9.5,9.5,7.5,10.5,9.5,10.5,12.5,9.5,11.5,13.5,10.5],\"x0\":\" \",\"xaxis\":\"x\",\"y\":[\"UberX\",\"UberX\",\"UberX\",\"UberX\",\"UberX\",\"UberX\",\"UberX\",\"UberX\",\"UberX\",\"UberX\",\"UberX\",\"UberX\",\"UberX\",\"UberX\",\"UberX\",\"UberX\",\"UberX\",\"UberX\",\"UberX\",\"UberX\",\"UberX\",\"UberX\",\"UberX\",\"UberX\",\"UberX\",\"UberX\",\"UberX\",\"UberX\",\"UberX\",\"UberX\",\"UberX\",\"UberX\",\"UberX\",\"UberX\",\"UberX\",\"UberX\",\"UberX\",\"UberX\",\"UberX\",\"UberX\",\"UberX\",\"UberX\",\"UberX\",\"UberX\",\"UberX\",\"UberX\",\"UberX\",\"UberX\",\"UberX\",\"UberX\",\"UberX\",\"UberX\",\"UberX\",\"UberX\",\"UberX\",\"UberX\",\"UberX\",\"UberX\",\"UberX\",\"UberX\",\"UberX\",\"UberX\",\"UberX\",\"UberX\",\"UberX\",\"UberX\",\"UberX\",\"UberX\",\"UberX\",\"UberX\",\"UberX\",\"UberX\",\"UberX\",\"UberX\",\"UberX\",\"UberX\",\"UberX\",\"UberX\",\"UberX\",\"UberX\",\"UberX\",\"UberX\",\"UberX\",\"UberX\",\"UberX\",\"UberX\",\"UberX\",\"UberX\",\"UberX\",\"UberX\",\"UberX\",\"UberX\",\"UberX\",\"UberX\",\"UberX\",\"UberX\",\"UberX\",\"UberX\",\"UberX\",\"UberX\",\"UberX\",\"UberX\",\"UberX\",\"UberX\",\"UberX\",\"UberX\",\"UberX\",\"UberX\",\"UberX\",\"UberX\",\"UberX\",\"UberX\",\"UberX\",\"UberX\",\"UberX\",\"UberX\",\"UberX\",\"UberX\",\"UberX\",\"UberX\",\"UberX\",\"UberX\",\"UberX\",\"UberX\",\"UberX\",\"UberX\",\"UberX\",\"UberX\",\"UberX\",\"UberX\",\"UberX\",\"UberX\",\"UberX\",\"UberX\",\"UberX\",\"UberX\",\"UberX\",\"UberX\",\"UberX\",\"UberX\",\"UberX\",\"UberX\",\"UberX\",\"UberX\",\"UberX\",\"UberX\",\"UberX\",\"UberX\",\"UberX\",\"UberX\",\"UberX\",\"UberX\",\"UberX\",\"UberX\",\"UberX\",\"UberX\",\"UberX\",\"UberX\",\"UberX\",\"UberX\",\"UberX\",\"UberX\",\"UberX\",\"UberX\",\"UberX\",\"UberX\",\"UberX\",\"UberX\",\"UberX\",\"UberX\",\"UberX\",\"UberX\",\"UberX\",\"UberX\",\"UberX\",\"UberX\",\"UberX\",\"UberX\",\"UberX\",\"UberX\",\"UberX\",\"UberX\",\"UberX\",\"UberX\",\"UberX\",\"UberX\",\"UberX\",\"UberX\",\"UberX\",\"UberX\",\"UberX\",\"UberX\",\"UberX\",\"UberX\",\"UberX\",\"UberX\",\"UberX\",\"UberX\",\"UberX\",\"UberX\",\"UberX\",\"UberX\",\"UberX\",\"UberX\",\"UberX\",\"UberX\",\"UberX\",\"UberX\",\"UberX\",\"UberX\",\"UberX\",\"UberX\",\"UberX\",\"UberX\",\"UberX\",\"UberX\",\"UberX\",\"UberX\",\"UberX\",\"UberX\",\"UberX\",\"UberX\",\"UberX\",\"UberX\",\"UberX\",\"UberX\",\"UberX\",\"UberX\",\"UberX\",\"UberX\",\"UberX\",\"UberX\",\"UberX\",\"UberX\",\"UberX\",\"UberX\",\"UberX\",\"UberX\",\"UberX\",\"UberX\",\"UberX\",\"UberX\",\"UberX\",\"UberX\",\"UberX\",\"UberX\",\"UberX\",\"UberX\",\"UberX\",\"UberX\",\"UberX\",\"UberX\",\"UberX\",\"UberX\",\"UberX\",\"UberX\",\"UberX\",\"UberX\",\"UberX\",\"UberX\",\"UberX\",\"UberX\",\"UberX\",\"UberX\",\"UberX\",\"UberX\",\"UberX\",\"UberX\",\"UberX\",\"UberX\",\"UberX\",\"UberX\",\"UberX\",\"UberX\",\"UberX\",\"UberX\",\"UberX\",\"UberX\",\"UberX\",\"UberX\",\"UberX\",\"UberX\",\"UberX\",\"UberX\",\"UberX\"],\"y0\":\" \",\"yaxis\":\"y\"},{\"alignmentgroup\":\"True\",\"boxpoints\":\"all\",\"fillcolor\":\"rgba(255,255,255,0)\",\"hoveron\":\"points\",\"hovertemplate\":\"name=%{y}<br>price=%{x}<extra></extra>\",\"legendgroup\":\"Taxi\",\"line\":{\"color\":\"rgba(255,255,255,0)\"},\"marker\":{\"color\":\"#EF553B\"},\"name\":\"Taxi\",\"offsetgroup\":\"Taxi\",\"orientation\":\"h\",\"pointpos\":0,\"showlegend\":true,\"type\":\"box\",\"x\":[2.2765,3.9295,3.857,1.682,3.625,4.117999999999999,3.857,6.8585,3.596,3.944,4.5675,0.812,1.9575,1.8125,6.6265,3.364,2.465,0.783,4.6690000000000005,4.843,2.204,4.959,4.784999999999999,1.769,1.1889999999999998,2.7405,0.3915,2.61,1.769,5.2345,2.2765,3.1465,3.364,7.221,2.2765,8.062,1.7835,3.393,0.7105,8.062,3.857,2.668,3.944,4.784999999999999,1.9575,4.422499999999999,2.755,4.8865,3.103,1.4645,6.843999999999999,4.9155,1.7545,3.799,3.1465,3.944,4.6690000000000005,1.943,4.64,0.7105,1.45,4.6690000000000005,1.16,3.9295,4.06,3.625,2.5955,2.175,1.4645,0.5655,2.3345,1.044,2.0445,2.755,2.2765,5.7855,4.422499999999999,4.117999999999999,1.885,3.103,4.031,2.2765,2.262,0.9425,3.074,3.364,4.466,1.566,2.175,3.451,5.2345,6.843999999999999,1.044,4.06,0.5655,2.8565,1.334,2.2765,2.813,2.088,3.0304999999999995,0.7975,4.422499999999999,3.1755,4.321,3.712,0.812,3.538,0.812,3.7845,0.812,3.799,3.9295,6.496,2.117,3.7845,1.45,1.5515,1.682,3.944,4.3645,3.7845,1.044,6.496,1.885,4.466,0.812,1.044,8.265,0.783,1.885,2.5955,1.9575,1.4935,6.438000000000001,1.7545,5.4955,1.3195,3.5525,1.9575,4.8865,1.7545,1.4935,4.3645,4.9155,5.2345,1.9575,4.117999999999999,0.5655,1.7545,2.175,2.958,4.422499999999999,2.378,1.9575,4.292,3.538,3.944,2.3345,1.4355,2.2765,1.856,1.4355,2.436,3.741,2.262,4.2485,3.2915,0.7105,4.0455,3.7845,2.2765,5.2055,4.480499999999999,3.7845,1.682,4.5385,4.9155,3.393,3.596,4.117999999999999,4.466,0.7105,6.38,3.364,6.438000000000001,0.5655,3.596,6.438000000000001,4.0455,3.857,3.2915,6.843999999999999,3.364,4.321,1.566,1.885,4.422499999999999,2.0445,3.857,2.3345,3.3349999999999995,0.7975,4.988,2.5955,1.305,1.45,4.3645,4.146999999999999,1.566,4.784999999999999,0.5655,0.7975,4.9155,3.103,1.7545,10.1065,6.843999999999999,1.769,4.422499999999999,1.5515,1.769,1.9575,2.2185,3.8715,1.8125,1.508,0.9135,0.7975,9.0915,2.204,3.9585,2.4795,3.7845,1.885,2.3345,5.4955,2.1895,1.0585,1.682,2.7695,2.1025,6.409,4.784999999999999,4.321,6.873,3.3495,2.6825,1.8125,2.3345,4.146999999999999,3.741,4.422499999999999,1.595,2.61,1.8125,1.566,3.393,2.436,4.93,2.262,6.496,1.885,1.4355,2.0445,2.61,4.422499999999999,1.885,1.508,2.117,0.5655,3.857,6.597499999999999,2.61,1.682,1.943,2.0445,4.451499999999999,3.8715,2.0445,1.537,6.843999999999999,4.3645,1.6095000000000002,2.3345,4.3645,3.1465,4.0455,6.38,0.8845,1.943,4.451499999999999,0.9135,1.943,6.843999999999999,3.944,1.885,2.0155],\"x0\":\" \",\"xaxis\":\"x\",\"y\":[\"Taxi\",\"Taxi\",\"Taxi\",\"Taxi\",\"Taxi\",\"Taxi\",\"Taxi\",\"Taxi\",\"Taxi\",\"Taxi\",\"Taxi\",\"Taxi\",\"Taxi\",\"Taxi\",\"Taxi\",\"Taxi\",\"Taxi\",\"Taxi\",\"Taxi\",\"Taxi\",\"Taxi\",\"Taxi\",\"Taxi\",\"Taxi\",\"Taxi\",\"Taxi\",\"Taxi\",\"Taxi\",\"Taxi\",\"Taxi\",\"Taxi\",\"Taxi\",\"Taxi\",\"Taxi\",\"Taxi\",\"Taxi\",\"Taxi\",\"Taxi\",\"Taxi\",\"Taxi\",\"Taxi\",\"Taxi\",\"Taxi\",\"Taxi\",\"Taxi\",\"Taxi\",\"Taxi\",\"Taxi\",\"Taxi\",\"Taxi\",\"Taxi\",\"Taxi\",\"Taxi\",\"Taxi\",\"Taxi\",\"Taxi\",\"Taxi\",\"Taxi\",\"Taxi\",\"Taxi\",\"Taxi\",\"Taxi\",\"Taxi\",\"Taxi\",\"Taxi\",\"Taxi\",\"Taxi\",\"Taxi\",\"Taxi\",\"Taxi\",\"Taxi\",\"Taxi\",\"Taxi\",\"Taxi\",\"Taxi\",\"Taxi\",\"Taxi\",\"Taxi\",\"Taxi\",\"Taxi\",\"Taxi\",\"Taxi\",\"Taxi\",\"Taxi\",\"Taxi\",\"Taxi\",\"Taxi\",\"Taxi\",\"Taxi\",\"Taxi\",\"Taxi\",\"Taxi\",\"Taxi\",\"Taxi\",\"Taxi\",\"Taxi\",\"Taxi\",\"Taxi\",\"Taxi\",\"Taxi\",\"Taxi\",\"Taxi\",\"Taxi\",\"Taxi\",\"Taxi\",\"Taxi\",\"Taxi\",\"Taxi\",\"Taxi\",\"Taxi\",\"Taxi\",\"Taxi\",\"Taxi\",\"Taxi\",\"Taxi\",\"Taxi\",\"Taxi\",\"Taxi\",\"Taxi\",\"Taxi\",\"Taxi\",\"Taxi\",\"Taxi\",\"Taxi\",\"Taxi\",\"Taxi\",\"Taxi\",\"Taxi\",\"Taxi\",\"Taxi\",\"Taxi\",\"Taxi\",\"Taxi\",\"Taxi\",\"Taxi\",\"Taxi\",\"Taxi\",\"Taxi\",\"Taxi\",\"Taxi\",\"Taxi\",\"Taxi\",\"Taxi\",\"Taxi\",\"Taxi\",\"Taxi\",\"Taxi\",\"Taxi\",\"Taxi\",\"Taxi\",\"Taxi\",\"Taxi\",\"Taxi\",\"Taxi\",\"Taxi\",\"Taxi\",\"Taxi\",\"Taxi\",\"Taxi\",\"Taxi\",\"Taxi\",\"Taxi\",\"Taxi\",\"Taxi\",\"Taxi\",\"Taxi\",\"Taxi\",\"Taxi\",\"Taxi\",\"Taxi\",\"Taxi\",\"Taxi\",\"Taxi\",\"Taxi\",\"Taxi\",\"Taxi\",\"Taxi\",\"Taxi\",\"Taxi\",\"Taxi\",\"Taxi\",\"Taxi\",\"Taxi\",\"Taxi\",\"Taxi\",\"Taxi\",\"Taxi\",\"Taxi\",\"Taxi\",\"Taxi\",\"Taxi\",\"Taxi\",\"Taxi\",\"Taxi\",\"Taxi\",\"Taxi\",\"Taxi\",\"Taxi\",\"Taxi\",\"Taxi\",\"Taxi\",\"Taxi\",\"Taxi\",\"Taxi\",\"Taxi\",\"Taxi\",\"Taxi\",\"Taxi\",\"Taxi\",\"Taxi\",\"Taxi\",\"Taxi\",\"Taxi\",\"Taxi\",\"Taxi\",\"Taxi\",\"Taxi\",\"Taxi\",\"Taxi\",\"Taxi\",\"Taxi\",\"Taxi\",\"Taxi\",\"Taxi\",\"Taxi\",\"Taxi\",\"Taxi\",\"Taxi\",\"Taxi\",\"Taxi\",\"Taxi\",\"Taxi\",\"Taxi\",\"Taxi\",\"Taxi\",\"Taxi\",\"Taxi\",\"Taxi\",\"Taxi\",\"Taxi\",\"Taxi\",\"Taxi\",\"Taxi\",\"Taxi\",\"Taxi\",\"Taxi\",\"Taxi\",\"Taxi\",\"Taxi\",\"Taxi\",\"Taxi\",\"Taxi\",\"Taxi\",\"Taxi\",\"Taxi\",\"Taxi\",\"Taxi\",\"Taxi\",\"Taxi\",\"Taxi\",\"Taxi\",\"Taxi\",\"Taxi\",\"Taxi\",\"Taxi\",\"Taxi\",\"Taxi\",\"Taxi\",\"Taxi\",\"Taxi\",\"Taxi\",\"Taxi\",\"Taxi\",\"Taxi\",\"Taxi\",\"Taxi\",\"Taxi\",\"Taxi\",\"Taxi\",\"Taxi\",\"Taxi\",\"Taxi\",\"Taxi\",\"Taxi\",\"Taxi\",\"Taxi\",\"Taxi\",\"Taxi\",\"Taxi\",\"Taxi\",\"Taxi\",\"Taxi\",\"Taxi\",\"Taxi\",\"Taxi\",\"Taxi\",\"Taxi\",\"Taxi\"],\"y0\":\" \",\"yaxis\":\"y\"},{\"alignmentgroup\":\"True\",\"boxpoints\":\"all\",\"fillcolor\":\"rgba(255,255,255,0)\",\"hoveron\":\"points\",\"hovertemplate\":\"name=%{y}<br>price=%{x}<extra></extra>\",\"legendgroup\":\"WAV\",\"line\":{\"color\":\"rgba(255,255,255,0)\"},\"marker\":{\"color\":\"#00cc96\"},\"name\":\"WAV\",\"offsetgroup\":\"WAV\",\"orientation\":\"h\",\"pointpos\":0,\"showlegend\":true,\"type\":\"box\",\"x\":[10.5,9.5,10.5,8.5,7.0,11.0,7.0,20.5,7.0,9.0,9.5,11.5,8.0,9.5,8.5,9.5,11.0,10.5,7.5,8.5,13.5,8.5,9.5,9.5,8.5,11.5,9.5,9.0,10.5,8.5,10.5,10.5,8.5,9.5,7.0,10.5,8.0,9.5,10.5,7.0,9.0,7.0,7.5,13.5,13.5,9.5,10.5,12.0,10.5,14.0,9.5,9.5,10.5,6.0,9.5,12.5,8.5,8.5,9.5,8.5,12.5,9.5,8.5,13.0,10.5,10.5,10.5,17.0,7.0,10.5,14.0,10.5,9.5,8.0,7.5,8.5,7.0,10.5,8.5,8.0,9.5,11.5,11.5,10.5,12.0,9.0,10.5,12.0,8.0,7.5,6.0,8.5,12.0,6.5,9.5,12.0,9.5,7.5,8.5,8.5,7.0,8.5,10.5,8.0,8.5,10.5,8.0,9.5,8.5,8.5,9.0,9.5,8.0,7.5,7.0,10.5,10.5,10.5,8.5,11.5,16.0,14.0,11.5,7.0,9.5,11.5,7.0,10.5,9.5,9.5,8.5,7.5,9.5,9.5,20.5,8.5,8.5,9.0,7.0,10.5,8.5,8.5,11.5,17.5,8.5,8.0,10.5,9.5,9.5,7.5,10.5,12.0,6.0,7.0,7.0,9.5,7.0,8.0,7.0,16.0,9.5,8.5,8.5,8.5,9.5,11.5,10.5,12.0,12.5,8.5,7.0,9.5,8.5,7.0,10.5,8.0,9.5,11.5,9.5,11.5,7.0,8.0,11.0,9.5,10.5,8.5,11.5,7.0,19.0,9.0,10.5,8.5,8.5,13.0,13.0,7.0,11.0,9.5,9.5,8.5,9.5,10.5,6.5,8.5,10.5,7.0,10.5,7.0,10.5,7.5,10.5,8.0,7.5,8.0,10.5,8.5,12.0,7.0,12.5,7.0,11.5,10.5,11.0,10.5,12.5,15.0,9.5,9.5,7.5,17.5,9.5,11.5,15.0,9.5,10.5,7.0,7.0,10.5,9.5,7.5,10.5,10.5,7.0,11.5,12.5,8.0,8.5,10.5,13.0,15.0,14.0,17.0,8.0,8.0,9.0,8.0,7.0,8.0,9.5,10.5,7.0,12.0,7.5,7.5,9.0,9.5,9.5,11.0,11.5,9.5,7.0,12.0,7.0,7.5,8.5,8.5,9.0,14.0,9.5,10.5,7.5,10.5,8.5,9.5,21.5,7.5,8.5,12.0,7.5,10.5,7.5,11.5,7.5,7.0,8.5,10.5,9.5,9.5,8.5,11.5,11.5,11.0,18.0,9.5,8.5],\"x0\":\" \",\"xaxis\":\"x\",\"y\":[\"WAV\",\"WAV\",\"WAV\",\"WAV\",\"WAV\",\"WAV\",\"WAV\",\"WAV\",\"WAV\",\"WAV\",\"WAV\",\"WAV\",\"WAV\",\"WAV\",\"WAV\",\"WAV\",\"WAV\",\"WAV\",\"WAV\",\"WAV\",\"WAV\",\"WAV\",\"WAV\",\"WAV\",\"WAV\",\"WAV\",\"WAV\",\"WAV\",\"WAV\",\"WAV\",\"WAV\",\"WAV\",\"WAV\",\"WAV\",\"WAV\",\"WAV\",\"WAV\",\"WAV\",\"WAV\",\"WAV\",\"WAV\",\"WAV\",\"WAV\",\"WAV\",\"WAV\",\"WAV\",\"WAV\",\"WAV\",\"WAV\",\"WAV\",\"WAV\",\"WAV\",\"WAV\",\"WAV\",\"WAV\",\"WAV\",\"WAV\",\"WAV\",\"WAV\",\"WAV\",\"WAV\",\"WAV\",\"WAV\",\"WAV\",\"WAV\",\"WAV\",\"WAV\",\"WAV\",\"WAV\",\"WAV\",\"WAV\",\"WAV\",\"WAV\",\"WAV\",\"WAV\",\"WAV\",\"WAV\",\"WAV\",\"WAV\",\"WAV\",\"WAV\",\"WAV\",\"WAV\",\"WAV\",\"WAV\",\"WAV\",\"WAV\",\"WAV\",\"WAV\",\"WAV\",\"WAV\",\"WAV\",\"WAV\",\"WAV\",\"WAV\",\"WAV\",\"WAV\",\"WAV\",\"WAV\",\"WAV\",\"WAV\",\"WAV\",\"WAV\",\"WAV\",\"WAV\",\"WAV\",\"WAV\",\"WAV\",\"WAV\",\"WAV\",\"WAV\",\"WAV\",\"WAV\",\"WAV\",\"WAV\",\"WAV\",\"WAV\",\"WAV\",\"WAV\",\"WAV\",\"WAV\",\"WAV\",\"WAV\",\"WAV\",\"WAV\",\"WAV\",\"WAV\",\"WAV\",\"WAV\",\"WAV\",\"WAV\",\"WAV\",\"WAV\",\"WAV\",\"WAV\",\"WAV\",\"WAV\",\"WAV\",\"WAV\",\"WAV\",\"WAV\",\"WAV\",\"WAV\",\"WAV\",\"WAV\",\"WAV\",\"WAV\",\"WAV\",\"WAV\",\"WAV\",\"WAV\",\"WAV\",\"WAV\",\"WAV\",\"WAV\",\"WAV\",\"WAV\",\"WAV\",\"WAV\",\"WAV\",\"WAV\",\"WAV\",\"WAV\",\"WAV\",\"WAV\",\"WAV\",\"WAV\",\"WAV\",\"WAV\",\"WAV\",\"WAV\",\"WAV\",\"WAV\",\"WAV\",\"WAV\",\"WAV\",\"WAV\",\"WAV\",\"WAV\",\"WAV\",\"WAV\",\"WAV\",\"WAV\",\"WAV\",\"WAV\",\"WAV\",\"WAV\",\"WAV\",\"WAV\",\"WAV\",\"WAV\",\"WAV\",\"WAV\",\"WAV\",\"WAV\",\"WAV\",\"WAV\",\"WAV\",\"WAV\",\"WAV\",\"WAV\",\"WAV\",\"WAV\",\"WAV\",\"WAV\",\"WAV\",\"WAV\",\"WAV\",\"WAV\",\"WAV\",\"WAV\",\"WAV\",\"WAV\",\"WAV\",\"WAV\",\"WAV\",\"WAV\",\"WAV\",\"WAV\",\"WAV\",\"WAV\",\"WAV\",\"WAV\",\"WAV\",\"WAV\",\"WAV\",\"WAV\",\"WAV\",\"WAV\",\"WAV\",\"WAV\",\"WAV\",\"WAV\",\"WAV\",\"WAV\",\"WAV\",\"WAV\",\"WAV\",\"WAV\",\"WAV\",\"WAV\",\"WAV\",\"WAV\",\"WAV\",\"WAV\",\"WAV\",\"WAV\",\"WAV\",\"WAV\",\"WAV\",\"WAV\",\"WAV\",\"WAV\",\"WAV\",\"WAV\",\"WAV\",\"WAV\",\"WAV\",\"WAV\",\"WAV\",\"WAV\",\"WAV\",\"WAV\",\"WAV\",\"WAV\",\"WAV\",\"WAV\",\"WAV\",\"WAV\",\"WAV\",\"WAV\",\"WAV\",\"WAV\",\"WAV\",\"WAV\",\"WAV\",\"WAV\",\"WAV\",\"WAV\",\"WAV\",\"WAV\",\"WAV\",\"WAV\",\"WAV\",\"WAV\",\"WAV\",\"WAV\",\"WAV\",\"WAV\",\"WAV\",\"WAV\",\"WAV\",\"WAV\",\"WAV\",\"WAV\",\"WAV\",\"WAV\",\"WAV\",\"WAV\",\"WAV\",\"WAV\",\"WAV\",\"WAV\",\"WAV\",\"WAV\"],\"y0\":\" \",\"yaxis\":\"y\"},{\"alignmentgroup\":\"True\",\"boxpoints\":\"all\",\"fillcolor\":\"rgba(255,255,255,0)\",\"hoveron\":\"points\",\"hovertemplate\":\"name=%{y}<br>price=%{x}<extra></extra>\",\"legendgroup\":\"UberXL\",\"line\":{\"color\":\"rgba(255,255,255,0)\"},\"marker\":{\"color\":\"#ab63fa\"},\"name\":\"UberXL\",\"offsetgroup\":\"UberXL\",\"orientation\":\"h\",\"pointpos\":0,\"showlegend\":true,\"type\":\"box\",\"x\":[32.0,16.0,13.0,10.5,14.0,21.5,18.0,14.0,16.0,10.5,9.5,16.0,14.0,22.0,11.5,14.0,19.5,10.5,15.0,15.0,18.5,15.0,18.0,18.5,22.0,19.5,15.0,13.0,14.0,17.0,12.5,15.0,13.5,12.5,14.5,8.5,18.5,13.0,16.0,15.0,14.0,11.0,15.0,14.0,22.5,20.5,11.5,19.0,17.0,26.0,16.0,18.5,11.5,21.5,12.0,17.0,12.5,10.5,17.0,18.0,12.5,27.5,17.5,15.0,12.5,27.0,10.5,10.5,16.5,14.0,16.0,17.5,13.0,14.0,9.5,9.5,16.0,11.0,13.0,17.5,16.5,20.5,16.0,16.5,14.0,14.0,16.0,14.0,13.0,18.0,22.5,9.5,15.0,11.0,19.5,16.0,18.0,15.5,17.0,10.5,12.5,13.0,19.5,18.5,18.0,22.0,16.0,18.5,15.0,10.5,16.5,10.5,19.5,17.0,20.5,18.0,18.0,15.0,16.0,12.5,16.0,18.0,14.0,37.0,10.5,13.5,15.0,25.0,10.5,12.0,12.0,32.5,12.5,21.5,12.0,18.5,20.5,9.5,12.0,13.5,9.5,18.0,11.5,10.5,10.5,16.5,19.5,23.0,9.5,13.0,13.0,17.0,18.0,18.0,17.0,17.0,14.0,12.5,19.5,20.5,16.0,9.5,16.5,17.5,34.0,10.5,14.5,16.0,8.5,20.5,13.0,16.0,21.0,16.0,14.0,22.5,14.5,21.5,15.0,10.5,11.0,11.0,18.5,17.5,20.5,17.0,17.5,13.0,12.5,11.5,10.5,16.0,19.5,18.5,17.5,11.5,9.0,9.5,18.0,9.5,22.0,13.0,35.0,12.0,20.5,19.5,15.0,19.5,11.5,14.0,21.5,11.5,21.5,14.0,18.0,19.5,16.0,13.0,24.0,19.5,12.5,15.0,11.5,16.0,19.5,26.5,19.5,10.5,15.0,15.5,12.0,13.5,16.0,13.0,20.5,16.0,15.0,12.0,14.0,15.0,17.5,13.0,15.0,18.5,18.5,22.5,12.5,8.5,13.5,13.5,14.0,17.0,16.0,13.5,23.0,37.5,12.0,15.0,17.0,19.0,17.0,16.5,9.5,17.5,24.5,11.0,12.0,9.5,12.0,16.0,10.5,14.0,17.5,25.0],\"x0\":\" \",\"xaxis\":\"x\",\"y\":[\"UberXL\",\"UberXL\",\"UberXL\",\"UberXL\",\"UberXL\",\"UberXL\",\"UberXL\",\"UberXL\",\"UberXL\",\"UberXL\",\"UberXL\",\"UberXL\",\"UberXL\",\"UberXL\",\"UberXL\",\"UberXL\",\"UberXL\",\"UberXL\",\"UberXL\",\"UberXL\",\"UberXL\",\"UberXL\",\"UberXL\",\"UberXL\",\"UberXL\",\"UberXL\",\"UberXL\",\"UberXL\",\"UberXL\",\"UberXL\",\"UberXL\",\"UberXL\",\"UberXL\",\"UberXL\",\"UberXL\",\"UberXL\",\"UberXL\",\"UberXL\",\"UberXL\",\"UberXL\",\"UberXL\",\"UberXL\",\"UberXL\",\"UberXL\",\"UberXL\",\"UberXL\",\"UberXL\",\"UberXL\",\"UberXL\",\"UberXL\",\"UberXL\",\"UberXL\",\"UberXL\",\"UberXL\",\"UberXL\",\"UberXL\",\"UberXL\",\"UberXL\",\"UberXL\",\"UberXL\",\"UberXL\",\"UberXL\",\"UberXL\",\"UberXL\",\"UberXL\",\"UberXL\",\"UberXL\",\"UberXL\",\"UberXL\",\"UberXL\",\"UberXL\",\"UberXL\",\"UberXL\",\"UberXL\",\"UberXL\",\"UberXL\",\"UberXL\",\"UberXL\",\"UberXL\",\"UberXL\",\"UberXL\",\"UberXL\",\"UberXL\",\"UberXL\",\"UberXL\",\"UberXL\",\"UberXL\",\"UberXL\",\"UberXL\",\"UberXL\",\"UberXL\",\"UberXL\",\"UberXL\",\"UberXL\",\"UberXL\",\"UberXL\",\"UberXL\",\"UberXL\",\"UberXL\",\"UberXL\",\"UberXL\",\"UberXL\",\"UberXL\",\"UberXL\",\"UberXL\",\"UberXL\",\"UberXL\",\"UberXL\",\"UberXL\",\"UberXL\",\"UberXL\",\"UberXL\",\"UberXL\",\"UberXL\",\"UberXL\",\"UberXL\",\"UberXL\",\"UberXL\",\"UberXL\",\"UberXL\",\"UberXL\",\"UberXL\",\"UberXL\",\"UberXL\",\"UberXL\",\"UberXL\",\"UberXL\",\"UberXL\",\"UberXL\",\"UberXL\",\"UberXL\",\"UberXL\",\"UberXL\",\"UberXL\",\"UberXL\",\"UberXL\",\"UberXL\",\"UberXL\",\"UberXL\",\"UberXL\",\"UberXL\",\"UberXL\",\"UberXL\",\"UberXL\",\"UberXL\",\"UberXL\",\"UberXL\",\"UberXL\",\"UberXL\",\"UberXL\",\"UberXL\",\"UberXL\",\"UberXL\",\"UberXL\",\"UberXL\",\"UberXL\",\"UberXL\",\"UberXL\",\"UberXL\",\"UberXL\",\"UberXL\",\"UberXL\",\"UberXL\",\"UberXL\",\"UberXL\",\"UberXL\",\"UberXL\",\"UberXL\",\"UberXL\",\"UberXL\",\"UberXL\",\"UberXL\",\"UberXL\",\"UberXL\",\"UberXL\",\"UberXL\",\"UberXL\",\"UberXL\",\"UberXL\",\"UberXL\",\"UberXL\",\"UberXL\",\"UberXL\",\"UberXL\",\"UberXL\",\"UberXL\",\"UberXL\",\"UberXL\",\"UberXL\",\"UberXL\",\"UberXL\",\"UberXL\",\"UberXL\",\"UberXL\",\"UberXL\",\"UberXL\",\"UberXL\",\"UberXL\",\"UberXL\",\"UberXL\",\"UberXL\",\"UberXL\",\"UberXL\",\"UberXL\",\"UberXL\",\"UberXL\",\"UberXL\",\"UberXL\",\"UberXL\",\"UberXL\",\"UberXL\",\"UberXL\",\"UberXL\",\"UberXL\",\"UberXL\",\"UberXL\",\"UberXL\",\"UberXL\",\"UberXL\",\"UberXL\",\"UberXL\",\"UberXL\",\"UberXL\",\"UberXL\",\"UberXL\",\"UberXL\",\"UberXL\",\"UberXL\",\"UberXL\",\"UberXL\",\"UberXL\",\"UberXL\",\"UberXL\",\"UberXL\",\"UberXL\",\"UberXL\",\"UberXL\",\"UberXL\",\"UberXL\",\"UberXL\",\"UberXL\",\"UberXL\",\"UberXL\",\"UberXL\",\"UberXL\",\"UberXL\",\"UberXL\",\"UberXL\",\"UberXL\",\"UberXL\",\"UberXL\",\"UberXL\",\"UberXL\",\"UberXL\",\"UberXL\",\"UberXL\",\"UberXL\",\"UberXL\",\"UberXL\",\"UberXL\",\"UberXL\",\"UberXL\",\"UberXL\",\"UberXL\",\"UberXL\",\"UberXL\",\"UberXL\",\"UberXL\",\"UberXL\",\"UberXL\",\"UberXL\",\"UberXL\",\"UberXL\",\"UberXL\"],\"y0\":\" \",\"yaxis\":\"y\"},{\"alignmentgroup\":\"True\",\"boxpoints\":\"all\",\"fillcolor\":\"rgba(255,255,255,0)\",\"hoveron\":\"points\",\"hovertemplate\":\"name=%{y}<br>price=%{x}<extra></extra>\",\"legendgroup\":\"Black SUV\",\"line\":{\"color\":\"rgba(255,255,255,0)\"},\"marker\":{\"color\":\"#FFA15A\"},\"name\":\"Black SUV\",\"offsetgroup\":\"Black SUV\",\"orientation\":\"h\",\"pointpos\":0,\"showlegend\":true,\"type\":\"box\",\"x\":[27.5,28.5,26.0,35.0,29.5,26.0,33.0,36.0,27.0,29.0,27.5,27.5,30.5,38.5,31.0,27.5,29.5,37.0,30.5,35.0,30.5,27.0,27.0,31.5,43.5,27.0,26.5,30.5,27.5,26.5,30.5,32.5,27.5,27.5,32.5,39.0,25.0,30.0,42.0,48.0,26.0,37.0,34.0,32.5,31.5,32.0,28.5,31.5,27.0,31.5,27.5,27.5,26.5,39.5,26.5,31.5,32.0,30.5,30.5,27.5,48.0,27.5,32.0,27.5,32.5,29.5,27.5,27.0,26.0,28.5,26.0,44.0,26.5,26.5,27.0,35.0,33.0,27.5,26.0,32.5,27.5,25.0,26.0,26.0,26.0,28.0,39.5,27.5,32.5,28.5,27.5,27.5,39.5,26.5,29.0,30.5,26.5,29.5,36.0,27.5,32.0,27.5,27.5,33.0,44.0,26.0,37.5,26.5,26.5,26.5,28.5,29.5,26.5,33.0,28.5,32.0,26.5,27.0,32.0,26.5,26.5,27.5,33.0,31.5,43.0,27.0,27.5,29.5,27.5,26.0,26.5,35.0,26.5,26.0,35.0,33.0,37.0,27.0,27.0,34.0,27.5,29.5,26.5,27.5,27.5,35.0,32.5,36.0,27.5,27.0,28.5,27.0,24.0,26.5,28.0,29.5,33.0,36.5,34.0,25.0,36.0,33.5,29.5,29.5,30.5,26.0,37.0,27.5,29.5,26.5,31.5,25.0,30.5,43.0,30.5,26.5,26.0,28.5,29.0,29.5,27.5,26.0,30.5,26.0,28.5,30.5,28.5,35.0,27.5,35.0,32.5,27.5,26.0,26.5,26.0,26.0,26.5,27.0,27.5,29.0,26.0,32.5,37.0,26.5,36.0,28.5,35.5,34.0,41.5,31.5,39.0,38.5,27.0,34.0,40.5,27.5,26.5,35.0,27.0,27.5,27.5,27.0,31.5,30.5,27.5,32.5,27.0,27.5,27.5,37.5,37.0,34.0,32.5,31.5,32.5,40.5,31.0,26.0,28.0,26.0,27.5,27.5,33.5,26.0,32.5,27.0,27.0,32.0,29.5,29.5,27.0,31.5,31.0,32.5,39.0,34.0,35.0,27.5,26.0,28.5,31.5,27.5,26.0,41.0,27.5,31.0,36.0,28.5,27.0,28.5,33.5,34.0,26.5,31.5,23.0],\"x0\":\" \",\"xaxis\":\"x\",\"y\":[\"Black SUV\",\"Black SUV\",\"Black SUV\",\"Black SUV\",\"Black SUV\",\"Black SUV\",\"Black SUV\",\"Black SUV\",\"Black SUV\",\"Black SUV\",\"Black SUV\",\"Black SUV\",\"Black SUV\",\"Black SUV\",\"Black SUV\",\"Black SUV\",\"Black SUV\",\"Black SUV\",\"Black SUV\",\"Black SUV\",\"Black SUV\",\"Black SUV\",\"Black SUV\",\"Black SUV\",\"Black SUV\",\"Black SUV\",\"Black SUV\",\"Black SUV\",\"Black SUV\",\"Black SUV\",\"Black SUV\",\"Black SUV\",\"Black SUV\",\"Black SUV\",\"Black SUV\",\"Black SUV\",\"Black SUV\",\"Black SUV\",\"Black SUV\",\"Black SUV\",\"Black SUV\",\"Black SUV\",\"Black SUV\",\"Black SUV\",\"Black SUV\",\"Black SUV\",\"Black SUV\",\"Black SUV\",\"Black SUV\",\"Black SUV\",\"Black SUV\",\"Black SUV\",\"Black SUV\",\"Black SUV\",\"Black SUV\",\"Black SUV\",\"Black SUV\",\"Black SUV\",\"Black SUV\",\"Black SUV\",\"Black SUV\",\"Black SUV\",\"Black SUV\",\"Black SUV\",\"Black SUV\",\"Black SUV\",\"Black SUV\",\"Black SUV\",\"Black SUV\",\"Black SUV\",\"Black SUV\",\"Black SUV\",\"Black SUV\",\"Black SUV\",\"Black SUV\",\"Black SUV\",\"Black SUV\",\"Black SUV\",\"Black SUV\",\"Black SUV\",\"Black SUV\",\"Black SUV\",\"Black SUV\",\"Black SUV\",\"Black SUV\",\"Black SUV\",\"Black SUV\",\"Black SUV\",\"Black SUV\",\"Black SUV\",\"Black SUV\",\"Black SUV\",\"Black SUV\",\"Black SUV\",\"Black SUV\",\"Black SUV\",\"Black SUV\",\"Black SUV\",\"Black SUV\",\"Black SUV\",\"Black SUV\",\"Black SUV\",\"Black SUV\",\"Black SUV\",\"Black SUV\",\"Black SUV\",\"Black SUV\",\"Black SUV\",\"Black SUV\",\"Black SUV\",\"Black SUV\",\"Black SUV\",\"Black SUV\",\"Black SUV\",\"Black SUV\",\"Black SUV\",\"Black SUV\",\"Black SUV\",\"Black SUV\",\"Black SUV\",\"Black SUV\",\"Black SUV\",\"Black SUV\",\"Black SUV\",\"Black SUV\",\"Black SUV\",\"Black SUV\",\"Black SUV\",\"Black SUV\",\"Black SUV\",\"Black SUV\",\"Black SUV\",\"Black SUV\",\"Black SUV\",\"Black SUV\",\"Black SUV\",\"Black SUV\",\"Black SUV\",\"Black SUV\",\"Black SUV\",\"Black SUV\",\"Black SUV\",\"Black SUV\",\"Black SUV\",\"Black SUV\",\"Black SUV\",\"Black SUV\",\"Black SUV\",\"Black SUV\",\"Black SUV\",\"Black SUV\",\"Black SUV\",\"Black SUV\",\"Black SUV\",\"Black SUV\",\"Black SUV\",\"Black SUV\",\"Black SUV\",\"Black SUV\",\"Black SUV\",\"Black SUV\",\"Black SUV\",\"Black SUV\",\"Black SUV\",\"Black SUV\",\"Black SUV\",\"Black SUV\",\"Black SUV\",\"Black SUV\",\"Black SUV\",\"Black SUV\",\"Black SUV\",\"Black SUV\",\"Black SUV\",\"Black SUV\",\"Black SUV\",\"Black SUV\",\"Black SUV\",\"Black SUV\",\"Black SUV\",\"Black SUV\",\"Black SUV\",\"Black SUV\",\"Black SUV\",\"Black SUV\",\"Black SUV\",\"Black SUV\",\"Black SUV\",\"Black SUV\",\"Black SUV\",\"Black SUV\",\"Black SUV\",\"Black SUV\",\"Black SUV\",\"Black SUV\",\"Black SUV\",\"Black SUV\",\"Black SUV\",\"Black SUV\",\"Black SUV\",\"Black SUV\",\"Black SUV\",\"Black SUV\",\"Black SUV\",\"Black SUV\",\"Black SUV\",\"Black SUV\",\"Black SUV\",\"Black SUV\",\"Black SUV\",\"Black SUV\",\"Black SUV\",\"Black SUV\",\"Black SUV\",\"Black SUV\",\"Black SUV\",\"Black SUV\",\"Black SUV\",\"Black SUV\",\"Black SUV\",\"Black SUV\",\"Black SUV\",\"Black SUV\",\"Black SUV\",\"Black SUV\",\"Black SUV\",\"Black SUV\",\"Black SUV\",\"Black SUV\",\"Black SUV\",\"Black SUV\",\"Black SUV\",\"Black SUV\",\"Black SUV\",\"Black SUV\",\"Black SUV\",\"Black SUV\",\"Black SUV\",\"Black SUV\",\"Black SUV\",\"Black SUV\",\"Black SUV\",\"Black SUV\",\"Black SUV\",\"Black SUV\",\"Black SUV\",\"Black SUV\",\"Black SUV\",\"Black SUV\",\"Black SUV\",\"Black SUV\",\"Black SUV\",\"Black SUV\",\"Black SUV\",\"Black SUV\",\"Black SUV\",\"Black SUV\",\"Black SUV\",\"Black SUV\",\"Black SUV\",\"Black SUV\",\"Black SUV\",\"Black SUV\",\"Black SUV\",\"Black SUV\",\"Black SUV\",\"Black SUV\",\"Black SUV\",\"Black SUV\",\"Black SUV\",\"Black SUV\",\"Black SUV\",\"Black SUV\",\"Black SUV\",\"Black SUV\"],\"y0\":\" \",\"yaxis\":\"y\"},{\"alignmentgroup\":\"True\",\"boxpoints\":\"all\",\"fillcolor\":\"rgba(255,255,255,0)\",\"hoveron\":\"points\",\"hovertemplate\":\"name=%{y}<br>price=%{x}<extra></extra>\",\"legendgroup\":\"Black\",\"line\":{\"color\":\"rgba(255,255,255,0)\"},\"marker\":{\"color\":\"#19d3f3\"},\"name\":\"Black\",\"offsetgroup\":\"Black\",\"orientation\":\"h\",\"pointpos\":0,\"showlegend\":true,\"type\":\"box\",\"x\":[20.5,34.0,17.5,18.5,15.0,20.5,19.0,25.0,17.5,24.0,36.0,23.0,26.0,18.5,16.0,16.0,15.0,16.0,26.5,15.0,18.5,20.5,23.5,28.0,20.0,20.5,24.0,18.5,18.5,18.5,26.0,20.5,16.0,16.5,16.5,28.0,25.0,28.5,30.5,21.0,17.0,16.0,24.0,30.5,22.0,21.5,15.5,24.0,39.5,16.5,21.5,15.5,15.0,17.0,23.0,21.5,27.0,24.0,15.0,22.5,19.5,24.0,16.0,18.5,22.5,16.5,20.5,25.0,20.5,23.0,22.5,15.0,17.0,15.0,18.0,21.0,15.0,21.0,15.0,19.5,17.0,23.5,17.0,23.5,24.0,28.0,24.0,15.0,28.5,17.0,17.5,16.0,29.0,18.0,17.0,24.0,20.5,25.0,20.5,26.5,15.0,16.0,17.5,23.0,18.5,15.5,21.5,23.5,19.0,16.5,20.5,25.0,20.5,16.0,16.0,21.5,23.0,28.0,28.0,19.5,23.0,21.0,33.0,16.0,16.0,24.0,16.0,16.0,16.0,21.5,18.5,15.0,21.0,15.0,18.0,18.5,15.0,16.0,22.5,16.0,25.0,16.0,18.5,15.5,15.0,15.0,15.0,19.5,20.5,26.0,15.0,17.0,16.5,24.0,22.0,19.0,21.0,18.5,15.0,24.0,20.5,23.0,23.0,26.0,16.0,15.0,23.0,16.0,23.0,16.0,22.0,31.5,23.5,19.5,19.5,32.5,20.5,19.5,15.0,27.0,22.0,34.0,33.0,17.0,19.5,24.5,15.0,21.0,21.5,19.5,22.5,20.5,25.0,17.5,15.0,15.0,23.0,17.0,15.5,26.0,30.5,24.0,22.0,25.0,16.0,16.0,33.0,19.5,18.5,25.5,15.0,24.0,15.5,16.5,27.5,25.0,26.5,25.0,19.5,21.5,15.0,15.5,23.0,15.0,21.5,20.5,25.0,20.5,15.0,27.0,19.5,28.5,26.0,23.0,27.0,19.0,23.0,30.5,21.0,18.5,23.5,18.0,22.0,17.5,20.5,23.0,16.0,18.5,15.0,15.0,18.5,24.0,16.0,21.5,17.0,22.5,24.0,26.0,15.0,18.5,35.0,27.0,15.0,17.5,25.0,15.5,37.0,17.5,29.5,25.0,23.0,32.5,18.5,21.0,25.0,16.0,21.5,16.0,26.0,17.5,17.5,16.0,19.5],\"x0\":\" \",\"xaxis\":\"x\",\"y\":[\"Black\",\"Black\",\"Black\",\"Black\",\"Black\",\"Black\",\"Black\",\"Black\",\"Black\",\"Black\",\"Black\",\"Black\",\"Black\",\"Black\",\"Black\",\"Black\",\"Black\",\"Black\",\"Black\",\"Black\",\"Black\",\"Black\",\"Black\",\"Black\",\"Black\",\"Black\",\"Black\",\"Black\",\"Black\",\"Black\",\"Black\",\"Black\",\"Black\",\"Black\",\"Black\",\"Black\",\"Black\",\"Black\",\"Black\",\"Black\",\"Black\",\"Black\",\"Black\",\"Black\",\"Black\",\"Black\",\"Black\",\"Black\",\"Black\",\"Black\",\"Black\",\"Black\",\"Black\",\"Black\",\"Black\",\"Black\",\"Black\",\"Black\",\"Black\",\"Black\",\"Black\",\"Black\",\"Black\",\"Black\",\"Black\",\"Black\",\"Black\",\"Black\",\"Black\",\"Black\",\"Black\",\"Black\",\"Black\",\"Black\",\"Black\",\"Black\",\"Black\",\"Black\",\"Black\",\"Black\",\"Black\",\"Black\",\"Black\",\"Black\",\"Black\",\"Black\",\"Black\",\"Black\",\"Black\",\"Black\",\"Black\",\"Black\",\"Black\",\"Black\",\"Black\",\"Black\",\"Black\",\"Black\",\"Black\",\"Black\",\"Black\",\"Black\",\"Black\",\"Black\",\"Black\",\"Black\",\"Black\",\"Black\",\"Black\",\"Black\",\"Black\",\"Black\",\"Black\",\"Black\",\"Black\",\"Black\",\"Black\",\"Black\",\"Black\",\"Black\",\"Black\",\"Black\",\"Black\",\"Black\",\"Black\",\"Black\",\"Black\",\"Black\",\"Black\",\"Black\",\"Black\",\"Black\",\"Black\",\"Black\",\"Black\",\"Black\",\"Black\",\"Black\",\"Black\",\"Black\",\"Black\",\"Black\",\"Black\",\"Black\",\"Black\",\"Black\",\"Black\",\"Black\",\"Black\",\"Black\",\"Black\",\"Black\",\"Black\",\"Black\",\"Black\",\"Black\",\"Black\",\"Black\",\"Black\",\"Black\",\"Black\",\"Black\",\"Black\",\"Black\",\"Black\",\"Black\",\"Black\",\"Black\",\"Black\",\"Black\",\"Black\",\"Black\",\"Black\",\"Black\",\"Black\",\"Black\",\"Black\",\"Black\",\"Black\",\"Black\",\"Black\",\"Black\",\"Black\",\"Black\",\"Black\",\"Black\",\"Black\",\"Black\",\"Black\",\"Black\",\"Black\",\"Black\",\"Black\",\"Black\",\"Black\",\"Black\",\"Black\",\"Black\",\"Black\",\"Black\",\"Black\",\"Black\",\"Black\",\"Black\",\"Black\",\"Black\",\"Black\",\"Black\",\"Black\",\"Black\",\"Black\",\"Black\",\"Black\",\"Black\",\"Black\",\"Black\",\"Black\",\"Black\",\"Black\",\"Black\",\"Black\",\"Black\",\"Black\",\"Black\",\"Black\",\"Black\",\"Black\",\"Black\",\"Black\",\"Black\",\"Black\",\"Black\",\"Black\",\"Black\",\"Black\",\"Black\",\"Black\",\"Black\",\"Black\",\"Black\",\"Black\",\"Black\",\"Black\",\"Black\",\"Black\",\"Black\",\"Black\",\"Black\",\"Black\",\"Black\",\"Black\",\"Black\",\"Black\",\"Black\",\"Black\",\"Black\",\"Black\",\"Black\",\"Black\",\"Black\",\"Black\",\"Black\",\"Black\",\"Black\",\"Black\",\"Black\",\"Black\",\"Black\",\"Black\",\"Black\",\"Black\",\"Black\",\"Black\",\"Black\",\"Black\",\"Black\",\"Black\",\"Black\",\"Black\",\"Black\",\"Black\",\"Black\",\"Black\"],\"y0\":\" \",\"yaxis\":\"y\"},{\"alignmentgroup\":\"True\",\"boxpoints\":\"all\",\"fillcolor\":\"rgba(255,255,255,0)\",\"hoveron\":\"points\",\"hovertemplate\":\"name=%{y}<br>price=%{x}<extra></extra>\",\"legendgroup\":\"UberPool\",\"line\":{\"color\":\"rgba(255,255,255,0)\"},\"marker\":{\"color\":\"#FF6692\"},\"name\":\"UberPool\",\"offsetgroup\":\"UberPool\",\"orientation\":\"h\",\"pointpos\":0,\"showlegend\":true,\"type\":\"box\",\"x\":[10.0,8.5,10.0,10.0,8.0,7.5,11.0,10.0,10.0,10.0,8.5,8.0,7.5,10.0,11.0,9.5,7.5,12.0,10.0,7.0,4.5,8.5,9.0,8.5,9.5,7.5,6.5,6.5,9.0,6.5,7.5,11.0,11.0,9.0,7.0,7.0,6.5,12.5,9.0,13.5,12.0,6.5,11.0,10.0,10.0,8.5,8.5,11.0,9.5,8.0,9.5,7.5,10.0,11.0,7.0,11.0,5.5,7.5,11.0,12.0,6.5,11.0,5.5,6.5,7.0,12.5,7.5,9.0,8.0,6.5,9.0,11.0,6.5,7.5,6.5,26.5,12.0,10.0,9.5,7.5,8.0,7.5,7.5,7.5,8.0,9.0,9.0,11.0,9.0,7.5,11.0,9.0,7.5,15.5,8.5,17.0,11.0,6.5,11.0,7.0,9.0,7.0,10.0,11.0,9.0,9.0,9.0,7.5,10.0,10.0,9.5,13.0,11.0,7.5,8.0,8.5,9.0,9.0,6.5,8.5,7.5,10.0,8.0,7.0,11.0,9.0,11.0,6.5,7.5,7.5,18.0,9.0,12.0,9.5,8.0,7.5,8.0,6.5,12.0,12.0,9.0,10.0,5.5,8.0,7.5,8.0,7.0,10.0,10.0,8.0,10.0,9.0,5.5,11.0,7.5,8.0,8.5,8.0,8.0,10.0,9.0,11.0,11.0,8.0,9.0,7.5,8.0,10.0,9.0,7.5,8.0,5.5,10.0,11.0,8.0,5.5,17.0,8.0,6.5,7.0,6.5,8.5,8.5,8.5,9.0,9.0,6.5,10.0,8.5,9.5,12.0,11.0,8.5,6.5,7.0,8.0,8.5,12.0,11.0,8.5,7.5,9.0,8.0,8.5,13.0,7.5,8.5,8.0,5.5,6.5,7.0,15.5,7.5,7.5,10.0,7.5,8.5,9.0,13.5,10.0,7.0,6.5,11.5,6.5,9.0,7.0,8.0,7.5,9.5,9.0,12.0,6.5,9.0,8.5,9.0,14.5,13.5,6.5,7.5,9.0,7.5,5.5,5.5,7.0,6.5,9.0,9.0,7.5,8.5,5.5,11.0,9.0,10.0,14.0,11.0,7.5,6.5,11.0,7.5,9.0,8.5,9.0,8.5,7.5,8.5,10.0,9.0,7.5,8.5,11.0,10.0,5.5,6.5,9.0,7.5,9.0,10.0,6.5,8.0,8.5],\"x0\":\" \",\"xaxis\":\"x\",\"y\":[\"UberPool\",\"UberPool\",\"UberPool\",\"UberPool\",\"UberPool\",\"UberPool\",\"UberPool\",\"UberPool\",\"UberPool\",\"UberPool\",\"UberPool\",\"UberPool\",\"UberPool\",\"UberPool\",\"UberPool\",\"UberPool\",\"UberPool\",\"UberPool\",\"UberPool\",\"UberPool\",\"UberPool\",\"UberPool\",\"UberPool\",\"UberPool\",\"UberPool\",\"UberPool\",\"UberPool\",\"UberPool\",\"UberPool\",\"UberPool\",\"UberPool\",\"UberPool\",\"UberPool\",\"UberPool\",\"UberPool\",\"UberPool\",\"UberPool\",\"UberPool\",\"UberPool\",\"UberPool\",\"UberPool\",\"UberPool\",\"UberPool\",\"UberPool\",\"UberPool\",\"UberPool\",\"UberPool\",\"UberPool\",\"UberPool\",\"UberPool\",\"UberPool\",\"UberPool\",\"UberPool\",\"UberPool\",\"UberPool\",\"UberPool\",\"UberPool\",\"UberPool\",\"UberPool\",\"UberPool\",\"UberPool\",\"UberPool\",\"UberPool\",\"UberPool\",\"UberPool\",\"UberPool\",\"UberPool\",\"UberPool\",\"UberPool\",\"UberPool\",\"UberPool\",\"UberPool\",\"UberPool\",\"UberPool\",\"UberPool\",\"UberPool\",\"UberPool\",\"UberPool\",\"UberPool\",\"UberPool\",\"UberPool\",\"UberPool\",\"UberPool\",\"UberPool\",\"UberPool\",\"UberPool\",\"UberPool\",\"UberPool\",\"UberPool\",\"UberPool\",\"UberPool\",\"UberPool\",\"UberPool\",\"UberPool\",\"UberPool\",\"UberPool\",\"UberPool\",\"UberPool\",\"UberPool\",\"UberPool\",\"UberPool\",\"UberPool\",\"UberPool\",\"UberPool\",\"UberPool\",\"UberPool\",\"UberPool\",\"UberPool\",\"UberPool\",\"UberPool\",\"UberPool\",\"UberPool\",\"UberPool\",\"UberPool\",\"UberPool\",\"UberPool\",\"UberPool\",\"UberPool\",\"UberPool\",\"UberPool\",\"UberPool\",\"UberPool\",\"UberPool\",\"UberPool\",\"UberPool\",\"UberPool\",\"UberPool\",\"UberPool\",\"UberPool\",\"UberPool\",\"UberPool\",\"UberPool\",\"UberPool\",\"UberPool\",\"UberPool\",\"UberPool\",\"UberPool\",\"UberPool\",\"UberPool\",\"UberPool\",\"UberPool\",\"UberPool\",\"UberPool\",\"UberPool\",\"UberPool\",\"UberPool\",\"UberPool\",\"UberPool\",\"UberPool\",\"UberPool\",\"UberPool\",\"UberPool\",\"UberPool\",\"UberPool\",\"UberPool\",\"UberPool\",\"UberPool\",\"UberPool\",\"UberPool\",\"UberPool\",\"UberPool\",\"UberPool\",\"UberPool\",\"UberPool\",\"UberPool\",\"UberPool\",\"UberPool\",\"UberPool\",\"UberPool\",\"UberPool\",\"UberPool\",\"UberPool\",\"UberPool\",\"UberPool\",\"UberPool\",\"UberPool\",\"UberPool\",\"UberPool\",\"UberPool\",\"UberPool\",\"UberPool\",\"UberPool\",\"UberPool\",\"UberPool\",\"UberPool\",\"UberPool\",\"UberPool\",\"UberPool\",\"UberPool\",\"UberPool\",\"UberPool\",\"UberPool\",\"UberPool\",\"UberPool\",\"UberPool\",\"UberPool\",\"UberPool\",\"UberPool\",\"UberPool\",\"UberPool\",\"UberPool\",\"UberPool\",\"UberPool\",\"UberPool\",\"UberPool\",\"UberPool\",\"UberPool\",\"UberPool\",\"UberPool\",\"UberPool\",\"UberPool\",\"UberPool\",\"UberPool\",\"UberPool\",\"UberPool\",\"UberPool\",\"UberPool\",\"UberPool\",\"UberPool\",\"UberPool\",\"UberPool\",\"UberPool\",\"UberPool\",\"UberPool\",\"UberPool\",\"UberPool\",\"UberPool\",\"UberPool\",\"UberPool\",\"UberPool\",\"UberPool\",\"UberPool\",\"UberPool\",\"UberPool\",\"UberPool\",\"UberPool\",\"UberPool\",\"UberPool\",\"UberPool\",\"UberPool\",\"UberPool\",\"UberPool\",\"UberPool\",\"UberPool\",\"UberPool\",\"UberPool\",\"UberPool\",\"UberPool\",\"UberPool\",\"UberPool\",\"UberPool\",\"UberPool\",\"UberPool\",\"UberPool\",\"UberPool\",\"UberPool\",\"UberPool\",\"UberPool\",\"UberPool\",\"UberPool\",\"UberPool\",\"UberPool\",\"UberPool\",\"UberPool\",\"UberPool\",\"UberPool\",\"UberPool\",\"UberPool\",\"UberPool\",\"UberPool\",\"UberPool\",\"UberPool\",\"UberPool\",\"UberPool\",\"UberPool\",\"UberPool\",\"UberPool\",\"UberPool\",\"UberPool\",\"UberPool\"],\"y0\":\" \",\"yaxis\":\"y\"}],                        {\"boxmode\":\"overlay\",\"legend\":{\"title\":{\"text\":\"name\"},\"tracegroupgap\":0},\"margin\":{\"t\":60},\"template\":{\"data\":{\"bar\":[{\"error_x\":{\"color\":\"#2a3f5f\"},\"error_y\":{\"color\":\"#2a3f5f\"},\"marker\":{\"line\":{\"color\":\"#E5ECF6\",\"width\":0.5},\"pattern\":{\"fillmode\":\"overlay\",\"size\":10,\"solidity\":0.2}},\"type\":\"bar\"}],\"barpolar\":[{\"marker\":{\"line\":{\"color\":\"#E5ECF6\",\"width\":0.5},\"pattern\":{\"fillmode\":\"overlay\",\"size\":10,\"solidity\":0.2}},\"type\":\"barpolar\"}],\"carpet\":[{\"aaxis\":{\"endlinecolor\":\"#2a3f5f\",\"gridcolor\":\"white\",\"linecolor\":\"white\",\"minorgridcolor\":\"white\",\"startlinecolor\":\"#2a3f5f\"},\"baxis\":{\"endlinecolor\":\"#2a3f5f\",\"gridcolor\":\"white\",\"linecolor\":\"white\",\"minorgridcolor\":\"white\",\"startlinecolor\":\"#2a3f5f\"},\"type\":\"carpet\"}],\"choropleth\":[{\"colorbar\":{\"outlinewidth\":0,\"ticks\":\"\"},\"type\":\"choropleth\"}],\"contour\":[{\"colorbar\":{\"outlinewidth\":0,\"ticks\":\"\"},\"colorscale\":[[0.0,\"#0d0887\"],[0.1111111111111111,\"#46039f\"],[0.2222222222222222,\"#7201a8\"],[0.3333333333333333,\"#9c179e\"],[0.4444444444444444,\"#bd3786\"],[0.5555555555555556,\"#d8576b\"],[0.6666666666666666,\"#ed7953\"],[0.7777777777777778,\"#fb9f3a\"],[0.8888888888888888,\"#fdca26\"],[1.0,\"#f0f921\"]],\"type\":\"contour\"}],\"contourcarpet\":[{\"colorbar\":{\"outlinewidth\":0,\"ticks\":\"\"},\"type\":\"contourcarpet\"}],\"heatmap\":[{\"colorbar\":{\"outlinewidth\":0,\"ticks\":\"\"},\"colorscale\":[[0.0,\"#0d0887\"],[0.1111111111111111,\"#46039f\"],[0.2222222222222222,\"#7201a8\"],[0.3333333333333333,\"#9c179e\"],[0.4444444444444444,\"#bd3786\"],[0.5555555555555556,\"#d8576b\"],[0.6666666666666666,\"#ed7953\"],[0.7777777777777778,\"#fb9f3a\"],[0.8888888888888888,\"#fdca26\"],[1.0,\"#f0f921\"]],\"type\":\"heatmap\"}],\"heatmapgl\":[{\"colorbar\":{\"outlinewidth\":0,\"ticks\":\"\"},\"colorscale\":[[0.0,\"#0d0887\"],[0.1111111111111111,\"#46039f\"],[0.2222222222222222,\"#7201a8\"],[0.3333333333333333,\"#9c179e\"],[0.4444444444444444,\"#bd3786\"],[0.5555555555555556,\"#d8576b\"],[0.6666666666666666,\"#ed7953\"],[0.7777777777777778,\"#fb9f3a\"],[0.8888888888888888,\"#fdca26\"],[1.0,\"#f0f921\"]],\"type\":\"heatmapgl\"}],\"histogram\":[{\"marker\":{\"pattern\":{\"fillmode\":\"overlay\",\"size\":10,\"solidity\":0.2}},\"type\":\"histogram\"}],\"histogram2d\":[{\"colorbar\":{\"outlinewidth\":0,\"ticks\":\"\"},\"colorscale\":[[0.0,\"#0d0887\"],[0.1111111111111111,\"#46039f\"],[0.2222222222222222,\"#7201a8\"],[0.3333333333333333,\"#9c179e\"],[0.4444444444444444,\"#bd3786\"],[0.5555555555555556,\"#d8576b\"],[0.6666666666666666,\"#ed7953\"],[0.7777777777777778,\"#fb9f3a\"],[0.8888888888888888,\"#fdca26\"],[1.0,\"#f0f921\"]],\"type\":\"histogram2d\"}],\"histogram2dcontour\":[{\"colorbar\":{\"outlinewidth\":0,\"ticks\":\"\"},\"colorscale\":[[0.0,\"#0d0887\"],[0.1111111111111111,\"#46039f\"],[0.2222222222222222,\"#7201a8\"],[0.3333333333333333,\"#9c179e\"],[0.4444444444444444,\"#bd3786\"],[0.5555555555555556,\"#d8576b\"],[0.6666666666666666,\"#ed7953\"],[0.7777777777777778,\"#fb9f3a\"],[0.8888888888888888,\"#fdca26\"],[1.0,\"#f0f921\"]],\"type\":\"histogram2dcontour\"}],\"mesh3d\":[{\"colorbar\":{\"outlinewidth\":0,\"ticks\":\"\"},\"type\":\"mesh3d\"}],\"parcoords\":[{\"line\":{\"colorbar\":{\"outlinewidth\":0,\"ticks\":\"\"}},\"type\":\"parcoords\"}],\"pie\":[{\"automargin\":true,\"type\":\"pie\"}],\"scatter\":[{\"marker\":{\"colorbar\":{\"outlinewidth\":0,\"ticks\":\"\"}},\"type\":\"scatter\"}],\"scatter3d\":[{\"line\":{\"colorbar\":{\"outlinewidth\":0,\"ticks\":\"\"}},\"marker\":{\"colorbar\":{\"outlinewidth\":0,\"ticks\":\"\"}},\"type\":\"scatter3d\"}],\"scattercarpet\":[{\"marker\":{\"colorbar\":{\"outlinewidth\":0,\"ticks\":\"\"}},\"type\":\"scattercarpet\"}],\"scattergeo\":[{\"marker\":{\"colorbar\":{\"outlinewidth\":0,\"ticks\":\"\"}},\"type\":\"scattergeo\"}],\"scattergl\":[{\"marker\":{\"colorbar\":{\"outlinewidth\":0,\"ticks\":\"\"}},\"type\":\"scattergl\"}],\"scattermapbox\":[{\"marker\":{\"colorbar\":{\"outlinewidth\":0,\"ticks\":\"\"}},\"type\":\"scattermapbox\"}],\"scatterpolar\":[{\"marker\":{\"colorbar\":{\"outlinewidth\":0,\"ticks\":\"\"}},\"type\":\"scatterpolar\"}],\"scatterpolargl\":[{\"marker\":{\"colorbar\":{\"outlinewidth\":0,\"ticks\":\"\"}},\"type\":\"scatterpolargl\"}],\"scatterternary\":[{\"marker\":{\"colorbar\":{\"outlinewidth\":0,\"ticks\":\"\"}},\"type\":\"scatterternary\"}],\"surface\":[{\"colorbar\":{\"outlinewidth\":0,\"ticks\":\"\"},\"colorscale\":[[0.0,\"#0d0887\"],[0.1111111111111111,\"#46039f\"],[0.2222222222222222,\"#7201a8\"],[0.3333333333333333,\"#9c179e\"],[0.4444444444444444,\"#bd3786\"],[0.5555555555555556,\"#d8576b\"],[0.6666666666666666,\"#ed7953\"],[0.7777777777777778,\"#fb9f3a\"],[0.8888888888888888,\"#fdca26\"],[1.0,\"#f0f921\"]],\"type\":\"surface\"}],\"table\":[{\"cells\":{\"fill\":{\"color\":\"#EBF0F8\"},\"line\":{\"color\":\"white\"}},\"header\":{\"fill\":{\"color\":\"#C8D4E3\"},\"line\":{\"color\":\"white\"}},\"type\":\"table\"}]},\"layout\":{\"annotationdefaults\":{\"arrowcolor\":\"#2a3f5f\",\"arrowhead\":0,\"arrowwidth\":1},\"autotypenumbers\":\"strict\",\"coloraxis\":{\"colorbar\":{\"outlinewidth\":0,\"ticks\":\"\"}},\"colorscale\":{\"diverging\":[[0,\"#8e0152\"],[0.1,\"#c51b7d\"],[0.2,\"#de77ae\"],[0.3,\"#f1b6da\"],[0.4,\"#fde0ef\"],[0.5,\"#f7f7f7\"],[0.6,\"#e6f5d0\"],[0.7,\"#b8e186\"],[0.8,\"#7fbc41\"],[0.9,\"#4d9221\"],[1,\"#276419\"]],\"sequential\":[[0.0,\"#0d0887\"],[0.1111111111111111,\"#46039f\"],[0.2222222222222222,\"#7201a8\"],[0.3333333333333333,\"#9c179e\"],[0.4444444444444444,\"#bd3786\"],[0.5555555555555556,\"#d8576b\"],[0.6666666666666666,\"#ed7953\"],[0.7777777777777778,\"#fb9f3a\"],[0.8888888888888888,\"#fdca26\"],[1.0,\"#f0f921\"]],\"sequentialminus\":[[0.0,\"#0d0887\"],[0.1111111111111111,\"#46039f\"],[0.2222222222222222,\"#7201a8\"],[0.3333333333333333,\"#9c179e\"],[0.4444444444444444,\"#bd3786\"],[0.5555555555555556,\"#d8576b\"],[0.6666666666666666,\"#ed7953\"],[0.7777777777777778,\"#fb9f3a\"],[0.8888888888888888,\"#fdca26\"],[1.0,\"#f0f921\"]]},\"colorway\":[\"#636efa\",\"#EF553B\",\"#00cc96\",\"#ab63fa\",\"#FFA15A\",\"#19d3f3\",\"#FF6692\",\"#B6E880\",\"#FF97FF\",\"#FECB52\"],\"font\":{\"color\":\"#2a3f5f\"},\"geo\":{\"bgcolor\":\"white\",\"lakecolor\":\"white\",\"landcolor\":\"#E5ECF6\",\"showlakes\":true,\"showland\":true,\"subunitcolor\":\"white\"},\"hoverlabel\":{\"align\":\"left\"},\"hovermode\":\"closest\",\"mapbox\":{\"style\":\"light\"},\"paper_bgcolor\":\"white\",\"plot_bgcolor\":\"#E5ECF6\",\"polar\":{\"angularaxis\":{\"gridcolor\":\"white\",\"linecolor\":\"white\",\"ticks\":\"\"},\"bgcolor\":\"#E5ECF6\",\"radialaxis\":{\"gridcolor\":\"white\",\"linecolor\":\"white\",\"ticks\":\"\"}},\"scene\":{\"xaxis\":{\"backgroundcolor\":\"#E5ECF6\",\"gridcolor\":\"white\",\"gridwidth\":2,\"linecolor\":\"white\",\"showbackground\":true,\"ticks\":\"\",\"zerolinecolor\":\"white\"},\"yaxis\":{\"backgroundcolor\":\"#E5ECF6\",\"gridcolor\":\"white\",\"gridwidth\":2,\"linecolor\":\"white\",\"showbackground\":true,\"ticks\":\"\",\"zerolinecolor\":\"white\"},\"zaxis\":{\"backgroundcolor\":\"#E5ECF6\",\"gridcolor\":\"white\",\"gridwidth\":2,\"linecolor\":\"white\",\"showbackground\":true,\"ticks\":\"\",\"zerolinecolor\":\"white\"}},\"shapedefaults\":{\"line\":{\"color\":\"#2a3f5f\"}},\"ternary\":{\"aaxis\":{\"gridcolor\":\"white\",\"linecolor\":\"white\",\"ticks\":\"\"},\"baxis\":{\"gridcolor\":\"white\",\"linecolor\":\"white\",\"ticks\":\"\"},\"bgcolor\":\"#E5ECF6\",\"caxis\":{\"gridcolor\":\"white\",\"linecolor\":\"white\",\"ticks\":\"\"}},\"title\":{\"x\":0.05},\"xaxis\":{\"automargin\":true,\"gridcolor\":\"white\",\"linecolor\":\"white\",\"ticks\":\"\",\"title\":{\"standoff\":15},\"zerolinecolor\":\"white\",\"zerolinewidth\":2},\"yaxis\":{\"automargin\":true,\"gridcolor\":\"white\",\"linecolor\":\"white\",\"ticks\":\"\",\"title\":{\"standoff\":15},\"zerolinecolor\":\"white\",\"zerolinewidth\":2}}},\"xaxis\":{\"anchor\":\"y\",\"domain\":[0.0,1.0],\"title\":{\"text\":\"price\"}},\"yaxis\":{\"anchor\":\"x\",\"categoryarray\":[\"UberPool\",\"Black\",\"Black SUV\",\"UberXL\",\"WAV\",\"Taxi\",\"UberX\"],\"categoryorder\":\"array\",\"domain\":[0.0,1.0],\"title\":{\"text\":\"name\"}}},                        {\"responsive\": true}                    ).then(function(){\n",
       "                            \n",
       "var gd = document.getElementById('f831a3b9-98b0-418a-b103-02cb57c1c705');\n",
       "var x = new MutationObserver(function (mutations, observer) {{\n",
       "        var display = window.getComputedStyle(gd).display;\n",
       "        if (!display || display === 'none') {{\n",
       "            console.log([gd, 'removed!']);\n",
       "            Plotly.purge(gd);\n",
       "            observer.disconnect();\n",
       "        }}\n",
       "}});\n",
       "\n",
       "// Listen for the removal of the full notebook cells\n",
       "var notebookContainer = gd.closest('#notebook-container');\n",
       "if (notebookContainer) {{\n",
       "    x.observe(notebookContainer, {childList: true});\n",
       "}}\n",
       "\n",
       "// Listen for the clearing of the current output cell\n",
       "var outputEl = gd.closest('.output');\n",
       "if (outputEl) {{\n",
       "    x.observe(outputEl, {childList: true});\n",
       "}}\n",
       "\n",
       "                        })                };                });            </script>        </div>"
      ]
     },
     "metadata": {},
     "output_type": "display_data"
    }
   ],
   "source": [
    "fig = px.strip(uber_data.head(2000),x='price',y='name',color='name')\n",
    "fig.show()"
   ]
  },
  {
   "cell_type": "markdown",
   "id": "dd99b4b0",
   "metadata": {},
   "source": [
    "# Weather's effects on price"
   ]
  },
  {
   "cell_type": "code",
   "execution_count": 39,
   "id": "3d97905e",
   "metadata": {},
   "outputs": [
    {
     "data": {
      "text/plain": [
       "name              object\n",
       "price            float64\n",
       "distance         float64\n",
       "short_summary     object\n",
       "dtype: object"
      ]
     },
     "execution_count": 39,
     "metadata": {},
     "output_type": "execute_result"
    }
   ],
   "source": [
    "weather_uber_data=uber_data[['name','price','distance','short_summary']]\n",
    "weather_uber_data['short_summary'].value_counts()\n",
    "weather_uber_data.dtypes"
   ]
  },
  {
   "cell_type": "code",
   "execution_count": 40,
   "id": "3299c4b1",
   "metadata": {},
   "outputs": [
    {
     "data": {
      "text/html": [
       "<div>\n",
       "<style scoped>\n",
       "    .dataframe tbody tr th:only-of-type {\n",
       "        vertical-align: middle;\n",
       "    }\n",
       "\n",
       "    .dataframe tbody tr th {\n",
       "        vertical-align: top;\n",
       "    }\n",
       "\n",
       "    .dataframe thead th {\n",
       "        text-align: right;\n",
       "    }\n",
       "</style>\n",
       "<table border=\"1\" class=\"dataframe\">\n",
       "  <thead>\n",
       "    <tr style=\"text-align: right;\">\n",
       "      <th></th>\n",
       "      <th>name</th>\n",
       "      <th>price</th>\n",
       "      <th>distance</th>\n",
       "      <th>short_summary</th>\n",
       "    </tr>\n",
       "  </thead>\n",
       "  <tbody>\n",
       "    <tr>\n",
       "      <th>312790</th>\n",
       "      <td>WAV</td>\n",
       "      <td>16.0</td>\n",
       "      <td>7.46</td>\n",
       "      <td>Partly Cloudy</td>\n",
       "    </tr>\n",
       "    <tr>\n",
       "      <th>312867</th>\n",
       "      <td>WAV</td>\n",
       "      <td>16.0</td>\n",
       "      <td>7.46</td>\n",
       "      <td>Partly Cloudy</td>\n",
       "    </tr>\n",
       "    <tr>\n",
       "      <th>313067</th>\n",
       "      <td>WAV</td>\n",
       "      <td>15.0</td>\n",
       "      <td>7.46</td>\n",
       "      <td>Partly Cloudy</td>\n",
       "    </tr>\n",
       "    <tr>\n",
       "      <th>316293</th>\n",
       "      <td>WAV</td>\n",
       "      <td>20.5</td>\n",
       "      <td>7.46</td>\n",
       "      <td>Partly Cloudy</td>\n",
       "    </tr>\n",
       "    <tr>\n",
       "      <th>321298</th>\n",
       "      <td>WAV</td>\n",
       "      <td>17.5</td>\n",
       "      <td>7.46</td>\n",
       "      <td>Clear</td>\n",
       "    </tr>\n",
       "    <tr>\n",
       "      <th>323099</th>\n",
       "      <td>WAV</td>\n",
       "      <td>17.0</td>\n",
       "      <td>7.46</td>\n",
       "      <td>Partly Cloudy</td>\n",
       "    </tr>\n",
       "    <tr>\n",
       "      <th>323233</th>\n",
       "      <td>WAV</td>\n",
       "      <td>16.5</td>\n",
       "      <td>7.46</td>\n",
       "      <td>Partly Cloudy</td>\n",
       "    </tr>\n",
       "    <tr>\n",
       "      <th>323394</th>\n",
       "      <td>WAV</td>\n",
       "      <td>16.5</td>\n",
       "      <td>7.46</td>\n",
       "      <td>Partly Cloudy</td>\n",
       "    </tr>\n",
       "    <tr>\n",
       "      <th>324636</th>\n",
       "      <td>WAV</td>\n",
       "      <td>16.0</td>\n",
       "      <td>7.46</td>\n",
       "      <td>Mostly Cloudy</td>\n",
       "    </tr>\n",
       "    <tr>\n",
       "      <th>328389</th>\n",
       "      <td>WAV</td>\n",
       "      <td>16.0</td>\n",
       "      <td>7.46</td>\n",
       "      <td>Overcast</td>\n",
       "    </tr>\n",
       "    <tr>\n",
       "      <th>330408</th>\n",
       "      <td>WAV</td>\n",
       "      <td>17.5</td>\n",
       "      <td>7.46</td>\n",
       "      <td>Overcast</td>\n",
       "    </tr>\n",
       "    <tr>\n",
       "      <th>330558</th>\n",
       "      <td>WAV</td>\n",
       "      <td>16.5</td>\n",
       "      <td>7.46</td>\n",
       "      <td>Overcast</td>\n",
       "    </tr>\n",
       "    <tr>\n",
       "      <th>330989</th>\n",
       "      <td>WAV</td>\n",
       "      <td>15.5</td>\n",
       "      <td>7.46</td>\n",
       "      <td>Overcast</td>\n",
       "    </tr>\n",
       "    <tr>\n",
       "      <th>336145</th>\n",
       "      <td>WAV</td>\n",
       "      <td>17.0</td>\n",
       "      <td>7.46</td>\n",
       "      <td>Overcast</td>\n",
       "    </tr>\n",
       "    <tr>\n",
       "      <th>336770</th>\n",
       "      <td>WAV</td>\n",
       "      <td>15.0</td>\n",
       "      <td>7.46</td>\n",
       "      <td>Overcast</td>\n",
       "    </tr>\n",
       "    <tr>\n",
       "      <th>337841</th>\n",
       "      <td>WAV</td>\n",
       "      <td>16.0</td>\n",
       "      <td>7.46</td>\n",
       "      <td>Overcast</td>\n",
       "    </tr>\n",
       "    <tr>\n",
       "      <th>338574</th>\n",
       "      <td>WAV</td>\n",
       "      <td>18.0</td>\n",
       "      <td>7.46</td>\n",
       "      <td>Possible Drizzle</td>\n",
       "    </tr>\n",
       "    <tr>\n",
       "      <th>338659</th>\n",
       "      <td>WAV</td>\n",
       "      <td>16.0</td>\n",
       "      <td>7.46</td>\n",
       "      <td>Possible Drizzle</td>\n",
       "    </tr>\n",
       "    <tr>\n",
       "      <th>339086</th>\n",
       "      <td>WAV</td>\n",
       "      <td>15.0</td>\n",
       "      <td>7.46</td>\n",
       "      <td>Possible Drizzle</td>\n",
       "    </tr>\n",
       "    <tr>\n",
       "      <th>341129</th>\n",
       "      <td>WAV</td>\n",
       "      <td>15.5</td>\n",
       "      <td>7.46</td>\n",
       "      <td>Rain</td>\n",
       "    </tr>\n",
       "    <tr>\n",
       "      <th>342243</th>\n",
       "      <td>WAV</td>\n",
       "      <td>17.0</td>\n",
       "      <td>7.46</td>\n",
       "      <td>Light Rain</td>\n",
       "    </tr>\n",
       "    <tr>\n",
       "      <th>344058</th>\n",
       "      <td>WAV</td>\n",
       "      <td>16.5</td>\n",
       "      <td>7.46</td>\n",
       "      <td>Light Rain</td>\n",
       "    </tr>\n",
       "    <tr>\n",
       "      <th>348821</th>\n",
       "      <td>WAV</td>\n",
       "      <td>17.0</td>\n",
       "      <td>7.46</td>\n",
       "      <td>Light Rain</td>\n",
       "    </tr>\n",
       "    <tr>\n",
       "      <th>348960</th>\n",
       "      <td>WAV</td>\n",
       "      <td>17.0</td>\n",
       "      <td>7.46</td>\n",
       "      <td>Light Rain</td>\n",
       "    </tr>\n",
       "    <tr>\n",
       "      <th>350022</th>\n",
       "      <td>WAV</td>\n",
       "      <td>18.0</td>\n",
       "      <td>7.46</td>\n",
       "      <td>Drizzle</td>\n",
       "    </tr>\n",
       "    <tr>\n",
       "      <th>354820</th>\n",
       "      <td>WAV</td>\n",
       "      <td>18.5</td>\n",
       "      <td>7.46</td>\n",
       "      <td>Overcast</td>\n",
       "    </tr>\n",
       "    <tr>\n",
       "      <th>355924</th>\n",
       "      <td>WAV</td>\n",
       "      <td>17.0</td>\n",
       "      <td>7.46</td>\n",
       "      <td>Overcast</td>\n",
       "    </tr>\n",
       "    <tr>\n",
       "      <th>357486</th>\n",
       "      <td>WAV</td>\n",
       "      <td>14.5</td>\n",
       "      <td>7.46</td>\n",
       "      <td>Overcast</td>\n",
       "    </tr>\n",
       "    <tr>\n",
       "      <th>358305</th>\n",
       "      <td>WAV</td>\n",
       "      <td>16.0</td>\n",
       "      <td>7.46</td>\n",
       "      <td>Overcast</td>\n",
       "    </tr>\n",
       "    <tr>\n",
       "      <th>361285</th>\n",
       "      <td>WAV</td>\n",
       "      <td>17.5</td>\n",
       "      <td>7.46</td>\n",
       "      <td>Overcast</td>\n",
       "    </tr>\n",
       "    <tr>\n",
       "      <th>362828</th>\n",
       "      <td>WAV</td>\n",
       "      <td>17.5</td>\n",
       "      <td>7.46</td>\n",
       "      <td>Mostly Cloudy</td>\n",
       "    </tr>\n",
       "    <tr>\n",
       "      <th>363550</th>\n",
       "      <td>WAV</td>\n",
       "      <td>18.5</td>\n",
       "      <td>7.46</td>\n",
       "      <td>Overcast</td>\n",
       "    </tr>\n",
       "    <tr>\n",
       "      <th>366846</th>\n",
       "      <td>WAV</td>\n",
       "      <td>17.5</td>\n",
       "      <td>7.46</td>\n",
       "      <td>Mostly Cloudy</td>\n",
       "    </tr>\n",
       "    <tr>\n",
       "      <th>367122</th>\n",
       "      <td>WAV</td>\n",
       "      <td>16.5</td>\n",
       "      <td>7.46</td>\n",
       "      <td>Mostly Cloudy</td>\n",
       "    </tr>\n",
       "    <tr>\n",
       "      <th>367643</th>\n",
       "      <td>WAV</td>\n",
       "      <td>16.5</td>\n",
       "      <td>7.46</td>\n",
       "      <td>Mostly Cloudy</td>\n",
       "    </tr>\n",
       "    <tr>\n",
       "      <th>369139</th>\n",
       "      <td>WAV</td>\n",
       "      <td>16.5</td>\n",
       "      <td>7.46</td>\n",
       "      <td>Overcast</td>\n",
       "    </tr>\n",
       "    <tr>\n",
       "      <th>369649</th>\n",
       "      <td>WAV</td>\n",
       "      <td>18.0</td>\n",
       "      <td>7.46</td>\n",
       "      <td>Overcast</td>\n",
       "    </tr>\n",
       "    <tr>\n",
       "      <th>370060</th>\n",
       "      <td>WAV</td>\n",
       "      <td>15.0</td>\n",
       "      <td>7.46</td>\n",
       "      <td>Overcast</td>\n",
       "    </tr>\n",
       "    <tr>\n",
       "      <th>370210</th>\n",
       "      <td>WAV</td>\n",
       "      <td>16.0</td>\n",
       "      <td>7.46</td>\n",
       "      <td>Overcast</td>\n",
       "    </tr>\n",
       "    <tr>\n",
       "      <th>370939</th>\n",
       "      <td>WAV</td>\n",
       "      <td>17.5</td>\n",
       "      <td>7.46</td>\n",
       "      <td>Overcast</td>\n",
       "    </tr>\n",
       "    <tr>\n",
       "      <th>371175</th>\n",
       "      <td>WAV</td>\n",
       "      <td>16.5</td>\n",
       "      <td>7.46</td>\n",
       "      <td>Overcast</td>\n",
       "    </tr>\n",
       "    <tr>\n",
       "      <th>375965</th>\n",
       "      <td>WAV</td>\n",
       "      <td>16.0</td>\n",
       "      <td>7.46</td>\n",
       "      <td>Mostly Cloudy</td>\n",
       "    </tr>\n",
       "    <tr>\n",
       "      <th>376272</th>\n",
       "      <td>WAV</td>\n",
       "      <td>17.5</td>\n",
       "      <td>7.46</td>\n",
       "      <td>Mostly Cloudy</td>\n",
       "    </tr>\n",
       "    <tr>\n",
       "      <th>376971</th>\n",
       "      <td>WAV</td>\n",
       "      <td>19.5</td>\n",
       "      <td>7.46</td>\n",
       "      <td>Mostly Cloudy</td>\n",
       "    </tr>\n",
       "    <tr>\n",
       "      <th>384695</th>\n",
       "      <td>WAV</td>\n",
       "      <td>17.0</td>\n",
       "      <td>7.46</td>\n",
       "      <td>Clear</td>\n",
       "    </tr>\n",
       "    <tr>\n",
       "      <th>32619</th>\n",
       "      <td>WAV</td>\n",
       "      <td>17.0</td>\n",
       "      <td>7.50</td>\n",
       "      <td>Light Rain</td>\n",
       "    </tr>\n",
       "    <tr>\n",
       "      <th>59980</th>\n",
       "      <td>WAV</td>\n",
       "      <td>16.5</td>\n",
       "      <td>7.50</td>\n",
       "      <td>Clear</td>\n",
       "    </tr>\n",
       "    <tr>\n",
       "      <th>111089</th>\n",
       "      <td>WAV</td>\n",
       "      <td>18.5</td>\n",
       "      <td>7.50</td>\n",
       "      <td>Partly Cloudy</td>\n",
       "    </tr>\n",
       "    <tr>\n",
       "      <th>282331</th>\n",
       "      <td>WAV</td>\n",
       "      <td>17.0</td>\n",
       "      <td>7.62</td>\n",
       "      <td>Clear</td>\n",
       "    </tr>\n",
       "    <tr>\n",
       "      <th>295557</th>\n",
       "      <td>WAV</td>\n",
       "      <td>17.5</td>\n",
       "      <td>7.86</td>\n",
       "      <td>Overcast</td>\n",
       "    </tr>\n",
       "  </tbody>\n",
       "</table>\n",
       "</div>"
      ],
      "text/plain": [
       "       name  price  distance       short_summary\n",
       "312790  WAV   16.0      7.46      Partly Cloudy \n",
       "312867  WAV   16.0      7.46      Partly Cloudy \n",
       "313067  WAV   15.0      7.46      Partly Cloudy \n",
       "316293  WAV   20.5      7.46      Partly Cloudy \n",
       "321298  WAV   17.5      7.46              Clear \n",
       "323099  WAV   17.0      7.46      Partly Cloudy \n",
       "323233  WAV   16.5      7.46      Partly Cloudy \n",
       "323394  WAV   16.5      7.46      Partly Cloudy \n",
       "324636  WAV   16.0      7.46      Mostly Cloudy \n",
       "328389  WAV   16.0      7.46           Overcast \n",
       "330408  WAV   17.5      7.46           Overcast \n",
       "330558  WAV   16.5      7.46           Overcast \n",
       "330989  WAV   15.5      7.46           Overcast \n",
       "336145  WAV   17.0      7.46           Overcast \n",
       "336770  WAV   15.0      7.46           Overcast \n",
       "337841  WAV   16.0      7.46           Overcast \n",
       "338574  WAV   18.0      7.46   Possible Drizzle \n",
       "338659  WAV   16.0      7.46   Possible Drizzle \n",
       "339086  WAV   15.0      7.46   Possible Drizzle \n",
       "341129  WAV   15.5      7.46               Rain \n",
       "342243  WAV   17.0      7.46         Light Rain \n",
       "344058  WAV   16.5      7.46         Light Rain \n",
       "348821  WAV   17.0      7.46         Light Rain \n",
       "348960  WAV   17.0      7.46         Light Rain \n",
       "350022  WAV   18.0      7.46            Drizzle \n",
       "354820  WAV   18.5      7.46           Overcast \n",
       "355924  WAV   17.0      7.46           Overcast \n",
       "357486  WAV   14.5      7.46           Overcast \n",
       "358305  WAV   16.0      7.46           Overcast \n",
       "361285  WAV   17.5      7.46           Overcast \n",
       "362828  WAV   17.5      7.46      Mostly Cloudy \n",
       "363550  WAV   18.5      7.46           Overcast \n",
       "366846  WAV   17.5      7.46      Mostly Cloudy \n",
       "367122  WAV   16.5      7.46      Mostly Cloudy \n",
       "367643  WAV   16.5      7.46      Mostly Cloudy \n",
       "369139  WAV   16.5      7.46           Overcast \n",
       "369649  WAV   18.0      7.46           Overcast \n",
       "370060  WAV   15.0      7.46           Overcast \n",
       "370210  WAV   16.0      7.46           Overcast \n",
       "370939  WAV   17.5      7.46           Overcast \n",
       "371175  WAV   16.5      7.46           Overcast \n",
       "375965  WAV   16.0      7.46      Mostly Cloudy \n",
       "376272  WAV   17.5      7.46      Mostly Cloudy \n",
       "376971  WAV   19.5      7.46      Mostly Cloudy \n",
       "384695  WAV   17.0      7.46              Clear \n",
       "32619   WAV   17.0      7.50         Light Rain \n",
       "59980   WAV   16.5      7.50              Clear \n",
       "111089  WAV   18.5      7.50      Partly Cloudy \n",
       "282331  WAV   17.0      7.62              Clear \n",
       "295557  WAV   17.5      7.86           Overcast "
      ]
     },
     "execution_count": 40,
     "metadata": {},
     "output_type": "execute_result"
    }
   ],
   "source": [
    "weather_uber_data.sort_values(by=['name','distance']).tail(50)"
   ]
  },
  {
   "cell_type": "code",
   "execution_count": 41,
   "id": "a71dc148",
   "metadata": {},
   "outputs": [
    {
     "data": {
      "application/vnd.plotly.v1+json": {
       "config": {
        "plotlyServerURL": "https://plot.ly"
       },
       "data": [
        {
         "alignmentgroup": "True",
         "boxpoints": "all",
         "fillcolor": "rgba(255,255,255,0)",
         "hoveron": "points",
         "hovertemplate": "name=%{y}<br>price=%{x}<extra></extra>",
         "legendgroup": "UberX",
         "line": {
          "color": "rgba(255,255,255,0)"
         },
         "marker": {
          "color": "#636efa"
         },
         "name": "UberX",
         "offsetgroup": "UberX",
         "orientation": "h",
         "pointpos": 0,
         "showlegend": true,
         "type": "box",
         "x": [
          7,
          19.5,
          8,
          10.5,
          9.5,
          8.5,
          10.5,
          7,
          11,
          11.5,
          15.5,
          9.5,
          10.5,
          9.5,
          11,
          9.5,
          9.5,
          9.5,
          9.5,
          8.5,
          10.5,
          10.5,
          8.5,
          9,
          8,
          7.5,
          10.5,
          8,
          21.5,
          10.5,
          8.5,
          8.5,
          7.5,
          11.5,
          7,
          13.5,
          13.5,
          7.5,
          9,
          12,
          7,
          7.5,
          9.5,
          6,
          10.5,
          9.5,
          12.5,
          7.5,
          8,
          12.5,
          9,
          9.5,
          12.5,
          9.5,
          13,
          10.5,
          10.5,
          7,
          9.5,
          7,
          8.5,
          11,
          10.5,
          8,
          9.5,
          10.5,
          10.5,
          7,
          8.5,
          10.5,
          12,
          9.5,
          9.5,
          8.5,
          12,
          10.5,
          9,
          7.5,
          7.5,
          9.5,
          9.5,
          12,
          12.5,
          9,
          10.5,
          12,
          8.5,
          9.5,
          6.5,
          9.5,
          7,
          10.5,
          10.5,
          8.5,
          9.5,
          11.5,
          11,
          10.5,
          18,
          8.5,
          10.5,
          8,
          11.5,
          9.5,
          9.5,
          7,
          8.5,
          12.5,
          10.5,
          16,
          7,
          9.5,
          8.5,
          9.5,
          7,
          7.5,
          11.5,
          7.5,
          9.5,
          8.5,
          8,
          8.5,
          9.5,
          9,
          20.5,
          8.5,
          7,
          8.5,
          8.5,
          17.5,
          8,
          11.5,
          10.5,
          10.5,
          10.5,
          9,
          6,
          8.5,
          8,
          11,
          9.5,
          7,
          8,
          10.5,
          7,
          10.5,
          13,
          11.5,
          8,
          8,
          8.5,
          8.5,
          10.5,
          9.5,
          8.5,
          12,
          9.5,
          9.5,
          9.5,
          10.5,
          8,
          9.5,
          8,
          7,
          9,
          7,
          7,
          12.5,
          9.5,
          12,
          7,
          10.5,
          9,
          9.5,
          13,
          8.5,
          7,
          9.5,
          9.5,
          8.5,
          9.5,
          9.5,
          6.5,
          10.5,
          11,
          7,
          7,
          10.5,
          8,
          8,
          7,
          8.5,
          7.5,
          7,
          7.5,
          10.5,
          8,
          10.5,
          9.5,
          12.5,
          8.5,
          8,
          11.5,
          7,
          10.5,
          7,
          12,
          11,
          10.5,
          8.5,
          8,
          13,
          13.5,
          13,
          10.5,
          9.5,
          17.5,
          7,
          11.5,
          9.5,
          7,
          9.5,
          10.5,
          7.5,
          8.5,
          8,
          9.5,
          12,
          9.5,
          14,
          7.5,
          8.5,
          8,
          10.5,
          10.5,
          15,
          11.5,
          14,
          10.5,
          8.5,
          9,
          8,
          9.5,
          9.5,
          10.5,
          8,
          7,
          7.5,
          7.5,
          8.5,
          9,
          7,
          9.5,
          14,
          8,
          11,
          14,
          7,
          12,
          12,
          8.5,
          10.5,
          9,
          8.5,
          9,
          11.5,
          7,
          7.5,
          9.5,
          14,
          10.5,
          21.5,
          12.5,
          8.5,
          9.5,
          9.5,
          7.5,
          10.5,
          9.5,
          10.5,
          12.5,
          9.5,
          11.5,
          13.5,
          10.5
         ],
         "x0": " ",
         "xaxis": "x",
         "y": [
          "UberX",
          "UberX",
          "UberX",
          "UberX",
          "UberX",
          "UberX",
          "UberX",
          "UberX",
          "UberX",
          "UberX",
          "UberX",
          "UberX",
          "UberX",
          "UberX",
          "UberX",
          "UberX",
          "UberX",
          "UberX",
          "UberX",
          "UberX",
          "UberX",
          "UberX",
          "UberX",
          "UberX",
          "UberX",
          "UberX",
          "UberX",
          "UberX",
          "UberX",
          "UberX",
          "UberX",
          "UberX",
          "UberX",
          "UberX",
          "UberX",
          "UberX",
          "UberX",
          "UberX",
          "UberX",
          "UberX",
          "UberX",
          "UberX",
          "UberX",
          "UberX",
          "UberX",
          "UberX",
          "UberX",
          "UberX",
          "UberX",
          "UberX",
          "UberX",
          "UberX",
          "UberX",
          "UberX",
          "UberX",
          "UberX",
          "UberX",
          "UberX",
          "UberX",
          "UberX",
          "UberX",
          "UberX",
          "UberX",
          "UberX",
          "UberX",
          "UberX",
          "UberX",
          "UberX",
          "UberX",
          "UberX",
          "UberX",
          "UberX",
          "UberX",
          "UberX",
          "UberX",
          "UberX",
          "UberX",
          "UberX",
          "UberX",
          "UberX",
          "UberX",
          "UberX",
          "UberX",
          "UberX",
          "UberX",
          "UberX",
          "UberX",
          "UberX",
          "UberX",
          "UberX",
          "UberX",
          "UberX",
          "UberX",
          "UberX",
          "UberX",
          "UberX",
          "UberX",
          "UberX",
          "UberX",
          "UberX",
          "UberX",
          "UberX",
          "UberX",
          "UberX",
          "UberX",
          "UberX",
          "UberX",
          "UberX",
          "UberX",
          "UberX",
          "UberX",
          "UberX",
          "UberX",
          "UberX",
          "UberX",
          "UberX",
          "UberX",
          "UberX",
          "UberX",
          "UberX",
          "UberX",
          "UberX",
          "UberX",
          "UberX",
          "UberX",
          "UberX",
          "UberX",
          "UberX",
          "UberX",
          "UberX",
          "UberX",
          "UberX",
          "UberX",
          "UberX",
          "UberX",
          "UberX",
          "UberX",
          "UberX",
          "UberX",
          "UberX",
          "UberX",
          "UberX",
          "UberX",
          "UberX",
          "UberX",
          "UberX",
          "UberX",
          "UberX",
          "UberX",
          "UberX",
          "UberX",
          "UberX",
          "UberX",
          "UberX",
          "UberX",
          "UberX",
          "UberX",
          "UberX",
          "UberX",
          "UberX",
          "UberX",
          "UberX",
          "UberX",
          "UberX",
          "UberX",
          "UberX",
          "UberX",
          "UberX",
          "UberX",
          "UberX",
          "UberX",
          "UberX",
          "UberX",
          "UberX",
          "UberX",
          "UberX",
          "UberX",
          "UberX",
          "UberX",
          "UberX",
          "UberX",
          "UberX",
          "UberX",
          "UberX",
          "UberX",
          "UberX",
          "UberX",
          "UberX",
          "UberX",
          "UberX",
          "UberX",
          "UberX",
          "UberX",
          "UberX",
          "UberX",
          "UberX",
          "UberX",
          "UberX",
          "UberX",
          "UberX",
          "UberX",
          "UberX",
          "UberX",
          "UberX",
          "UberX",
          "UberX",
          "UberX",
          "UberX",
          "UberX",
          "UberX",
          "UberX",
          "UberX",
          "UberX",
          "UberX",
          "UberX",
          "UberX",
          "UberX",
          "UberX",
          "UberX",
          "UberX",
          "UberX",
          "UberX",
          "UberX",
          "UberX",
          "UberX",
          "UberX",
          "UberX",
          "UberX",
          "UberX",
          "UberX",
          "UberX",
          "UberX",
          "UberX",
          "UberX",
          "UberX",
          "UberX",
          "UberX",
          "UberX",
          "UberX",
          "UberX",
          "UberX",
          "UberX",
          "UberX",
          "UberX",
          "UberX",
          "UberX",
          "UberX",
          "UberX",
          "UberX",
          "UberX",
          "UberX",
          "UberX",
          "UberX",
          "UberX",
          "UberX",
          "UberX",
          "UberX",
          "UberX",
          "UberX",
          "UberX",
          "UberX",
          "UberX",
          "UberX",
          "UberX",
          "UberX",
          "UberX",
          "UberX",
          "UberX",
          "UberX",
          "UberX",
          "UberX",
          "UberX",
          "UberX",
          "UberX",
          "UberX",
          "UberX",
          "UberX",
          "UberX",
          "UberX",
          "UberX",
          "UberX",
          "UberX",
          "UberX",
          "UberX",
          "UberX"
         ],
         "y0": " ",
         "yaxis": "y"
        },
        {
         "alignmentgroup": "True",
         "boxpoints": "all",
         "fillcolor": "rgba(255,255,255,0)",
         "hoveron": "points",
         "hovertemplate": "name=%{y}<br>price=%{x}<extra></extra>",
         "legendgroup": "Taxi",
         "line": {
          "color": "rgba(255,255,255,0)"
         },
         "marker": {
          "color": "#EF553B"
         },
         "name": "Taxi",
         "offsetgroup": "Taxi",
         "orientation": "h",
         "pointpos": 0,
         "showlegend": true,
         "type": "box",
         "x": [
          2.2765,
          3.9295,
          3.857,
          1.682,
          3.625,
          4.117999999999999,
          3.857,
          6.8585,
          3.596,
          3.944,
          4.5675,
          0.812,
          1.9575,
          1.8125,
          6.6265,
          3.364,
          2.465,
          0.783,
          4.6690000000000005,
          4.843,
          2.204,
          4.959,
          4.784999999999999,
          1.769,
          1.1889999999999998,
          2.7405,
          0.3915,
          2.61,
          1.769,
          5.2345,
          2.2765,
          3.1465,
          3.364,
          7.221,
          2.2765,
          8.062,
          1.7835,
          3.393,
          0.7105,
          8.062,
          3.857,
          2.668,
          3.944,
          4.784999999999999,
          1.9575,
          4.422499999999999,
          2.755,
          4.8865,
          3.103,
          1.4645,
          6.843999999999999,
          4.9155,
          1.7545,
          3.799,
          3.1465,
          3.944,
          4.6690000000000005,
          1.943,
          4.64,
          0.7105,
          1.45,
          4.6690000000000005,
          1.16,
          3.9295,
          4.06,
          3.625,
          2.5955,
          2.175,
          1.4645,
          0.5655,
          2.3345,
          1.044,
          2.0445,
          2.755,
          2.2765,
          5.7855,
          4.422499999999999,
          4.117999999999999,
          1.885,
          3.103,
          4.031,
          2.2765,
          2.262,
          0.9425,
          3.074,
          3.364,
          4.466,
          1.566,
          2.175,
          3.451,
          5.2345,
          6.843999999999999,
          1.044,
          4.06,
          0.5655,
          2.8565,
          1.334,
          2.2765,
          2.813,
          2.088,
          3.0304999999999995,
          0.7975,
          4.422499999999999,
          3.1755,
          4.321,
          3.712,
          0.812,
          3.538,
          0.812,
          3.7845,
          0.812,
          3.799,
          3.9295,
          6.496,
          2.117,
          3.7845,
          1.45,
          1.5515,
          1.682,
          3.944,
          4.3645,
          3.7845,
          1.044,
          6.496,
          1.885,
          4.466,
          0.812,
          1.044,
          8.265,
          0.783,
          1.885,
          2.5955,
          1.9575,
          1.4935,
          6.438000000000001,
          1.7545,
          5.4955,
          1.3195,
          3.5525,
          1.9575,
          4.8865,
          1.7545,
          1.4935,
          4.3645,
          4.9155,
          5.2345,
          1.9575,
          4.117999999999999,
          0.5655,
          1.7545,
          2.175,
          2.958,
          4.422499999999999,
          2.378,
          1.9575,
          4.292,
          3.538,
          3.944,
          2.3345,
          1.4355,
          2.2765,
          1.856,
          1.4355,
          2.436,
          3.741,
          2.262,
          4.2485,
          3.2915,
          0.7105,
          4.0455,
          3.7845,
          2.2765,
          5.2055,
          4.480499999999999,
          3.7845,
          1.682,
          4.5385,
          4.9155,
          3.393,
          3.596,
          4.117999999999999,
          4.466,
          0.7105,
          6.38,
          3.364,
          6.438000000000001,
          0.5655,
          3.596,
          6.438000000000001,
          4.0455,
          3.857,
          3.2915,
          6.843999999999999,
          3.364,
          4.321,
          1.566,
          1.885,
          4.422499999999999,
          2.0445,
          3.857,
          2.3345,
          3.3349999999999995,
          0.7975,
          4.988,
          2.5955,
          1.305,
          1.45,
          4.3645,
          4.146999999999999,
          1.566,
          4.784999999999999,
          0.5655,
          0.7975,
          4.9155,
          3.103,
          1.7545,
          10.1065,
          6.843999999999999,
          1.769,
          4.422499999999999,
          1.5515,
          1.769,
          1.9575,
          2.2185,
          3.8715,
          1.8125,
          1.508,
          0.9135,
          0.7975,
          9.0915,
          2.204,
          3.9585,
          2.4795,
          3.7845,
          1.885,
          2.3345,
          5.4955,
          2.1895,
          1.0585,
          1.682,
          2.7695,
          2.1025,
          6.409,
          4.784999999999999,
          4.321,
          6.873,
          3.3495,
          2.6825,
          1.8125,
          2.3345,
          4.146999999999999,
          3.741,
          4.422499999999999,
          1.595,
          2.61,
          1.8125,
          1.566,
          3.393,
          2.436,
          4.93,
          2.262,
          6.496,
          1.885,
          1.4355,
          2.0445,
          2.61,
          4.422499999999999,
          1.885,
          1.508,
          2.117,
          0.5655,
          3.857,
          6.597499999999999,
          2.61,
          1.682,
          1.943,
          2.0445,
          4.451499999999999,
          3.8715,
          2.0445,
          1.537,
          6.843999999999999,
          4.3645,
          1.6095000000000002,
          2.3345,
          4.3645,
          3.1465,
          4.0455,
          6.38,
          0.8845,
          1.943,
          4.451499999999999,
          0.9135,
          1.943,
          6.843999999999999,
          3.944,
          1.885,
          2.0155
         ],
         "x0": " ",
         "xaxis": "x",
         "y": [
          "Taxi",
          "Taxi",
          "Taxi",
          "Taxi",
          "Taxi",
          "Taxi",
          "Taxi",
          "Taxi",
          "Taxi",
          "Taxi",
          "Taxi",
          "Taxi",
          "Taxi",
          "Taxi",
          "Taxi",
          "Taxi",
          "Taxi",
          "Taxi",
          "Taxi",
          "Taxi",
          "Taxi",
          "Taxi",
          "Taxi",
          "Taxi",
          "Taxi",
          "Taxi",
          "Taxi",
          "Taxi",
          "Taxi",
          "Taxi",
          "Taxi",
          "Taxi",
          "Taxi",
          "Taxi",
          "Taxi",
          "Taxi",
          "Taxi",
          "Taxi",
          "Taxi",
          "Taxi",
          "Taxi",
          "Taxi",
          "Taxi",
          "Taxi",
          "Taxi",
          "Taxi",
          "Taxi",
          "Taxi",
          "Taxi",
          "Taxi",
          "Taxi",
          "Taxi",
          "Taxi",
          "Taxi",
          "Taxi",
          "Taxi",
          "Taxi",
          "Taxi",
          "Taxi",
          "Taxi",
          "Taxi",
          "Taxi",
          "Taxi",
          "Taxi",
          "Taxi",
          "Taxi",
          "Taxi",
          "Taxi",
          "Taxi",
          "Taxi",
          "Taxi",
          "Taxi",
          "Taxi",
          "Taxi",
          "Taxi",
          "Taxi",
          "Taxi",
          "Taxi",
          "Taxi",
          "Taxi",
          "Taxi",
          "Taxi",
          "Taxi",
          "Taxi",
          "Taxi",
          "Taxi",
          "Taxi",
          "Taxi",
          "Taxi",
          "Taxi",
          "Taxi",
          "Taxi",
          "Taxi",
          "Taxi",
          "Taxi",
          "Taxi",
          "Taxi",
          "Taxi",
          "Taxi",
          "Taxi",
          "Taxi",
          "Taxi",
          "Taxi",
          "Taxi",
          "Taxi",
          "Taxi",
          "Taxi",
          "Taxi",
          "Taxi",
          "Taxi",
          "Taxi",
          "Taxi",
          "Taxi",
          "Taxi",
          "Taxi",
          "Taxi",
          "Taxi",
          "Taxi",
          "Taxi",
          "Taxi",
          "Taxi",
          "Taxi",
          "Taxi",
          "Taxi",
          "Taxi",
          "Taxi",
          "Taxi",
          "Taxi",
          "Taxi",
          "Taxi",
          "Taxi",
          "Taxi",
          "Taxi",
          "Taxi",
          "Taxi",
          "Taxi",
          "Taxi",
          "Taxi",
          "Taxi",
          "Taxi",
          "Taxi",
          "Taxi",
          "Taxi",
          "Taxi",
          "Taxi",
          "Taxi",
          "Taxi",
          "Taxi",
          "Taxi",
          "Taxi",
          "Taxi",
          "Taxi",
          "Taxi",
          "Taxi",
          "Taxi",
          "Taxi",
          "Taxi",
          "Taxi",
          "Taxi",
          "Taxi",
          "Taxi",
          "Taxi",
          "Taxi",
          "Taxi",
          "Taxi",
          "Taxi",
          "Taxi",
          "Taxi",
          "Taxi",
          "Taxi",
          "Taxi",
          "Taxi",
          "Taxi",
          "Taxi",
          "Taxi",
          "Taxi",
          "Taxi",
          "Taxi",
          "Taxi",
          "Taxi",
          "Taxi",
          "Taxi",
          "Taxi",
          "Taxi",
          "Taxi",
          "Taxi",
          "Taxi",
          "Taxi",
          "Taxi",
          "Taxi",
          "Taxi",
          "Taxi",
          "Taxi",
          "Taxi",
          "Taxi",
          "Taxi",
          "Taxi",
          "Taxi",
          "Taxi",
          "Taxi",
          "Taxi",
          "Taxi",
          "Taxi",
          "Taxi",
          "Taxi",
          "Taxi",
          "Taxi",
          "Taxi",
          "Taxi",
          "Taxi",
          "Taxi",
          "Taxi",
          "Taxi",
          "Taxi",
          "Taxi",
          "Taxi",
          "Taxi",
          "Taxi",
          "Taxi",
          "Taxi",
          "Taxi",
          "Taxi",
          "Taxi",
          "Taxi",
          "Taxi",
          "Taxi",
          "Taxi",
          "Taxi",
          "Taxi",
          "Taxi",
          "Taxi",
          "Taxi",
          "Taxi",
          "Taxi",
          "Taxi",
          "Taxi",
          "Taxi",
          "Taxi",
          "Taxi",
          "Taxi",
          "Taxi",
          "Taxi",
          "Taxi",
          "Taxi",
          "Taxi",
          "Taxi",
          "Taxi",
          "Taxi",
          "Taxi",
          "Taxi",
          "Taxi",
          "Taxi",
          "Taxi",
          "Taxi",
          "Taxi",
          "Taxi",
          "Taxi",
          "Taxi",
          "Taxi",
          "Taxi",
          "Taxi",
          "Taxi",
          "Taxi",
          "Taxi",
          "Taxi",
          "Taxi",
          "Taxi",
          "Taxi",
          "Taxi",
          "Taxi",
          "Taxi",
          "Taxi",
          "Taxi",
          "Taxi",
          "Taxi",
          "Taxi",
          "Taxi",
          "Taxi",
          "Taxi",
          "Taxi",
          "Taxi",
          "Taxi",
          "Taxi",
          "Taxi",
          "Taxi",
          "Taxi",
          "Taxi",
          "Taxi",
          "Taxi",
          "Taxi",
          "Taxi",
          "Taxi",
          "Taxi",
          "Taxi",
          "Taxi",
          "Taxi",
          "Taxi",
          "Taxi"
         ],
         "y0": " ",
         "yaxis": "y"
        },
        {
         "alignmentgroup": "True",
         "boxpoints": "all",
         "fillcolor": "rgba(255,255,255,0)",
         "hoveron": "points",
         "hovertemplate": "name=%{y}<br>price=%{x}<extra></extra>",
         "legendgroup": "WAV",
         "line": {
          "color": "rgba(255,255,255,0)"
         },
         "marker": {
          "color": "#00cc96"
         },
         "name": "WAV",
         "offsetgroup": "WAV",
         "orientation": "h",
         "pointpos": 0,
         "showlegend": true,
         "type": "box",
         "x": [
          10.5,
          9.5,
          10.5,
          8.5,
          7,
          11,
          7,
          20.5,
          7,
          9,
          9.5,
          11.5,
          8,
          9.5,
          8.5,
          9.5,
          11,
          10.5,
          7.5,
          8.5,
          13.5,
          8.5,
          9.5,
          9.5,
          8.5,
          11.5,
          9.5,
          9,
          10.5,
          8.5,
          10.5,
          10.5,
          8.5,
          9.5,
          7,
          10.5,
          8,
          9.5,
          10.5,
          7,
          9,
          7,
          7.5,
          13.5,
          13.5,
          9.5,
          10.5,
          12,
          10.5,
          14,
          9.5,
          9.5,
          10.5,
          6,
          9.5,
          12.5,
          8.5,
          8.5,
          9.5,
          8.5,
          12.5,
          9.5,
          8.5,
          13,
          10.5,
          10.5,
          10.5,
          17,
          7,
          10.5,
          14,
          10.5,
          9.5,
          8,
          7.5,
          8.5,
          7,
          10.5,
          8.5,
          8,
          9.5,
          11.5,
          11.5,
          10.5,
          12,
          9,
          10.5,
          12,
          8,
          7.5,
          6,
          8.5,
          12,
          6.5,
          9.5,
          12,
          9.5,
          7.5,
          8.5,
          8.5,
          7,
          8.5,
          10.5,
          8,
          8.5,
          10.5,
          8,
          9.5,
          8.5,
          8.5,
          9,
          9.5,
          8,
          7.5,
          7,
          10.5,
          10.5,
          10.5,
          8.5,
          11.5,
          16,
          14,
          11.5,
          7,
          9.5,
          11.5,
          7,
          10.5,
          9.5,
          9.5,
          8.5,
          7.5,
          9.5,
          9.5,
          20.5,
          8.5,
          8.5,
          9,
          7,
          10.5,
          8.5,
          8.5,
          11.5,
          17.5,
          8.5,
          8,
          10.5,
          9.5,
          9.5,
          7.5,
          10.5,
          12,
          6,
          7,
          7,
          9.5,
          7,
          8,
          7,
          16,
          9.5,
          8.5,
          8.5,
          8.5,
          9.5,
          11.5,
          10.5,
          12,
          12.5,
          8.5,
          7,
          9.5,
          8.5,
          7,
          10.5,
          8,
          9.5,
          11.5,
          9.5,
          11.5,
          7,
          8,
          11,
          9.5,
          10.5,
          8.5,
          11.5,
          7,
          19,
          9,
          10.5,
          8.5,
          8.5,
          13,
          13,
          7,
          11,
          9.5,
          9.5,
          8.5,
          9.5,
          10.5,
          6.5,
          8.5,
          10.5,
          7,
          10.5,
          7,
          10.5,
          7.5,
          10.5,
          8,
          7.5,
          8,
          10.5,
          8.5,
          12,
          7,
          12.5,
          7,
          11.5,
          10.5,
          11,
          10.5,
          12.5,
          15,
          9.5,
          9.5,
          7.5,
          17.5,
          9.5,
          11.5,
          15,
          9.5,
          10.5,
          7,
          7,
          10.5,
          9.5,
          7.5,
          10.5,
          10.5,
          7,
          11.5,
          12.5,
          8,
          8.5,
          10.5,
          13,
          15,
          14,
          17,
          8,
          8,
          9,
          8,
          7,
          8,
          9.5,
          10.5,
          7,
          12,
          7.5,
          7.5,
          9,
          9.5,
          9.5,
          11,
          11.5,
          9.5,
          7,
          12,
          7,
          7.5,
          8.5,
          8.5,
          9,
          14,
          9.5,
          10.5,
          7.5,
          10.5,
          8.5,
          9.5,
          21.5,
          7.5,
          8.5,
          12,
          7.5,
          10.5,
          7.5,
          11.5,
          7.5,
          7,
          8.5,
          10.5,
          9.5,
          9.5,
          8.5,
          11.5,
          11.5,
          11,
          18,
          9.5,
          8.5
         ],
         "x0": " ",
         "xaxis": "x",
         "y": [
          "WAV",
          "WAV",
          "WAV",
          "WAV",
          "WAV",
          "WAV",
          "WAV",
          "WAV",
          "WAV",
          "WAV",
          "WAV",
          "WAV",
          "WAV",
          "WAV",
          "WAV",
          "WAV",
          "WAV",
          "WAV",
          "WAV",
          "WAV",
          "WAV",
          "WAV",
          "WAV",
          "WAV",
          "WAV",
          "WAV",
          "WAV",
          "WAV",
          "WAV",
          "WAV",
          "WAV",
          "WAV",
          "WAV",
          "WAV",
          "WAV",
          "WAV",
          "WAV",
          "WAV",
          "WAV",
          "WAV",
          "WAV",
          "WAV",
          "WAV",
          "WAV",
          "WAV",
          "WAV",
          "WAV",
          "WAV",
          "WAV",
          "WAV",
          "WAV",
          "WAV",
          "WAV",
          "WAV",
          "WAV",
          "WAV",
          "WAV",
          "WAV",
          "WAV",
          "WAV",
          "WAV",
          "WAV",
          "WAV",
          "WAV",
          "WAV",
          "WAV",
          "WAV",
          "WAV",
          "WAV",
          "WAV",
          "WAV",
          "WAV",
          "WAV",
          "WAV",
          "WAV",
          "WAV",
          "WAV",
          "WAV",
          "WAV",
          "WAV",
          "WAV",
          "WAV",
          "WAV",
          "WAV",
          "WAV",
          "WAV",
          "WAV",
          "WAV",
          "WAV",
          "WAV",
          "WAV",
          "WAV",
          "WAV",
          "WAV",
          "WAV",
          "WAV",
          "WAV",
          "WAV",
          "WAV",
          "WAV",
          "WAV",
          "WAV",
          "WAV",
          "WAV",
          "WAV",
          "WAV",
          "WAV",
          "WAV",
          "WAV",
          "WAV",
          "WAV",
          "WAV",
          "WAV",
          "WAV",
          "WAV",
          "WAV",
          "WAV",
          "WAV",
          "WAV",
          "WAV",
          "WAV",
          "WAV",
          "WAV",
          "WAV",
          "WAV",
          "WAV",
          "WAV",
          "WAV",
          "WAV",
          "WAV",
          "WAV",
          "WAV",
          "WAV",
          "WAV",
          "WAV",
          "WAV",
          "WAV",
          "WAV",
          "WAV",
          "WAV",
          "WAV",
          "WAV",
          "WAV",
          "WAV",
          "WAV",
          "WAV",
          "WAV",
          "WAV",
          "WAV",
          "WAV",
          "WAV",
          "WAV",
          "WAV",
          "WAV",
          "WAV",
          "WAV",
          "WAV",
          "WAV",
          "WAV",
          "WAV",
          "WAV",
          "WAV",
          "WAV",
          "WAV",
          "WAV",
          "WAV",
          "WAV",
          "WAV",
          "WAV",
          "WAV",
          "WAV",
          "WAV",
          "WAV",
          "WAV",
          "WAV",
          "WAV",
          "WAV",
          "WAV",
          "WAV",
          "WAV",
          "WAV",
          "WAV",
          "WAV",
          "WAV",
          "WAV",
          "WAV",
          "WAV",
          "WAV",
          "WAV",
          "WAV",
          "WAV",
          "WAV",
          "WAV",
          "WAV",
          "WAV",
          "WAV",
          "WAV",
          "WAV",
          "WAV",
          "WAV",
          "WAV",
          "WAV",
          "WAV",
          "WAV",
          "WAV",
          "WAV",
          "WAV",
          "WAV",
          "WAV",
          "WAV",
          "WAV",
          "WAV",
          "WAV",
          "WAV",
          "WAV",
          "WAV",
          "WAV",
          "WAV",
          "WAV",
          "WAV",
          "WAV",
          "WAV",
          "WAV",
          "WAV",
          "WAV",
          "WAV",
          "WAV",
          "WAV",
          "WAV",
          "WAV",
          "WAV",
          "WAV",
          "WAV",
          "WAV",
          "WAV",
          "WAV",
          "WAV",
          "WAV",
          "WAV",
          "WAV",
          "WAV",
          "WAV",
          "WAV",
          "WAV",
          "WAV",
          "WAV",
          "WAV",
          "WAV",
          "WAV",
          "WAV",
          "WAV",
          "WAV",
          "WAV",
          "WAV",
          "WAV",
          "WAV",
          "WAV",
          "WAV",
          "WAV",
          "WAV",
          "WAV",
          "WAV",
          "WAV",
          "WAV",
          "WAV",
          "WAV",
          "WAV",
          "WAV",
          "WAV",
          "WAV",
          "WAV",
          "WAV",
          "WAV",
          "WAV",
          "WAV",
          "WAV",
          "WAV",
          "WAV",
          "WAV",
          "WAV",
          "WAV",
          "WAV",
          "WAV",
          "WAV",
          "WAV",
          "WAV",
          "WAV",
          "WAV",
          "WAV",
          "WAV",
          "WAV",
          "WAV",
          "WAV",
          "WAV",
          "WAV",
          "WAV",
          "WAV",
          "WAV",
          "WAV",
          "WAV",
          "WAV",
          "WAV",
          "WAV",
          "WAV",
          "WAV"
         ],
         "y0": " ",
         "yaxis": "y"
        },
        {
         "alignmentgroup": "True",
         "boxpoints": "all",
         "fillcolor": "rgba(255,255,255,0)",
         "hoveron": "points",
         "hovertemplate": "name=%{y}<br>price=%{x}<extra></extra>",
         "legendgroup": "UberXL",
         "line": {
          "color": "rgba(255,255,255,0)"
         },
         "marker": {
          "color": "#ab63fa"
         },
         "name": "UberXL",
         "offsetgroup": "UberXL",
         "orientation": "h",
         "pointpos": 0,
         "showlegend": true,
         "type": "box",
         "x": [
          32,
          16,
          13,
          10.5,
          14,
          21.5,
          18,
          14,
          16,
          10.5,
          9.5,
          16,
          14,
          22,
          11.5,
          14,
          19.5,
          10.5,
          15,
          15,
          18.5,
          15,
          18,
          18.5,
          22,
          19.5,
          15,
          13,
          14,
          17,
          12.5,
          15,
          13.5,
          12.5,
          14.5,
          8.5,
          18.5,
          13,
          16,
          15,
          14,
          11,
          15,
          14,
          22.5,
          20.5,
          11.5,
          19,
          17,
          26,
          16,
          18.5,
          11.5,
          21.5,
          12,
          17,
          12.5,
          10.5,
          17,
          18,
          12.5,
          27.5,
          17.5,
          15,
          12.5,
          27,
          10.5,
          10.5,
          16.5,
          14,
          16,
          17.5,
          13,
          14,
          9.5,
          9.5,
          16,
          11,
          13,
          17.5,
          16.5,
          20.5,
          16,
          16.5,
          14,
          14,
          16,
          14,
          13,
          18,
          22.5,
          9.5,
          15,
          11,
          19.5,
          16,
          18,
          15.5,
          17,
          10.5,
          12.5,
          13,
          19.5,
          18.5,
          18,
          22,
          16,
          18.5,
          15,
          10.5,
          16.5,
          10.5,
          19.5,
          17,
          20.5,
          18,
          18,
          15,
          16,
          12.5,
          16,
          18,
          14,
          37,
          10.5,
          13.5,
          15,
          25,
          10.5,
          12,
          12,
          32.5,
          12.5,
          21.5,
          12,
          18.5,
          20.5,
          9.5,
          12,
          13.5,
          9.5,
          18,
          11.5,
          10.5,
          10.5,
          16.5,
          19.5,
          23,
          9.5,
          13,
          13,
          17,
          18,
          18,
          17,
          17,
          14,
          12.5,
          19.5,
          20.5,
          16,
          9.5,
          16.5,
          17.5,
          34,
          10.5,
          14.5,
          16,
          8.5,
          20.5,
          13,
          16,
          21,
          16,
          14,
          22.5,
          14.5,
          21.5,
          15,
          10.5,
          11,
          11,
          18.5,
          17.5,
          20.5,
          17,
          17.5,
          13,
          12.5,
          11.5,
          10.5,
          16,
          19.5,
          18.5,
          17.5,
          11.5,
          9,
          9.5,
          18,
          9.5,
          22,
          13,
          35,
          12,
          20.5,
          19.5,
          15,
          19.5,
          11.5,
          14,
          21.5,
          11.5,
          21.5,
          14,
          18,
          19.5,
          16,
          13,
          24,
          19.5,
          12.5,
          15,
          11.5,
          16,
          19.5,
          26.5,
          19.5,
          10.5,
          15,
          15.5,
          12,
          13.5,
          16,
          13,
          20.5,
          16,
          15,
          12,
          14,
          15,
          17.5,
          13,
          15,
          18.5,
          18.5,
          22.5,
          12.5,
          8.5,
          13.5,
          13.5,
          14,
          17,
          16,
          13.5,
          23,
          37.5,
          12,
          15,
          17,
          19,
          17,
          16.5,
          9.5,
          17.5,
          24.5,
          11,
          12,
          9.5,
          12,
          16,
          10.5,
          14,
          17.5,
          25
         ],
         "x0": " ",
         "xaxis": "x",
         "y": [
          "UberXL",
          "UberXL",
          "UberXL",
          "UberXL",
          "UberXL",
          "UberXL",
          "UberXL",
          "UberXL",
          "UberXL",
          "UberXL",
          "UberXL",
          "UberXL",
          "UberXL",
          "UberXL",
          "UberXL",
          "UberXL",
          "UberXL",
          "UberXL",
          "UberXL",
          "UberXL",
          "UberXL",
          "UberXL",
          "UberXL",
          "UberXL",
          "UberXL",
          "UberXL",
          "UberXL",
          "UberXL",
          "UberXL",
          "UberXL",
          "UberXL",
          "UberXL",
          "UberXL",
          "UberXL",
          "UberXL",
          "UberXL",
          "UberXL",
          "UberXL",
          "UberXL",
          "UberXL",
          "UberXL",
          "UberXL",
          "UberXL",
          "UberXL",
          "UberXL",
          "UberXL",
          "UberXL",
          "UberXL",
          "UberXL",
          "UberXL",
          "UberXL",
          "UberXL",
          "UberXL",
          "UberXL",
          "UberXL",
          "UberXL",
          "UberXL",
          "UberXL",
          "UberXL",
          "UberXL",
          "UberXL",
          "UberXL",
          "UberXL",
          "UberXL",
          "UberXL",
          "UberXL",
          "UberXL",
          "UberXL",
          "UberXL",
          "UberXL",
          "UberXL",
          "UberXL",
          "UberXL",
          "UberXL",
          "UberXL",
          "UberXL",
          "UberXL",
          "UberXL",
          "UberXL",
          "UberXL",
          "UberXL",
          "UberXL",
          "UberXL",
          "UberXL",
          "UberXL",
          "UberXL",
          "UberXL",
          "UberXL",
          "UberXL",
          "UberXL",
          "UberXL",
          "UberXL",
          "UberXL",
          "UberXL",
          "UberXL",
          "UberXL",
          "UberXL",
          "UberXL",
          "UberXL",
          "UberXL",
          "UberXL",
          "UberXL",
          "UberXL",
          "UberXL",
          "UberXL",
          "UberXL",
          "UberXL",
          "UberXL",
          "UberXL",
          "UberXL",
          "UberXL",
          "UberXL",
          "UberXL",
          "UberXL",
          "UberXL",
          "UberXL",
          "UberXL",
          "UberXL",
          "UberXL",
          "UberXL",
          "UberXL",
          "UberXL",
          "UberXL",
          "UberXL",
          "UberXL",
          "UberXL",
          "UberXL",
          "UberXL",
          "UberXL",
          "UberXL",
          "UberXL",
          "UberXL",
          "UberXL",
          "UberXL",
          "UberXL",
          "UberXL",
          "UberXL",
          "UberXL",
          "UberXL",
          "UberXL",
          "UberXL",
          "UberXL",
          "UberXL",
          "UberXL",
          "UberXL",
          "UberXL",
          "UberXL",
          "UberXL",
          "UberXL",
          "UberXL",
          "UberXL",
          "UberXL",
          "UberXL",
          "UberXL",
          "UberXL",
          "UberXL",
          "UberXL",
          "UberXL",
          "UberXL",
          "UberXL",
          "UberXL",
          "UberXL",
          "UberXL",
          "UberXL",
          "UberXL",
          "UberXL",
          "UberXL",
          "UberXL",
          "UberXL",
          "UberXL",
          "UberXL",
          "UberXL",
          "UberXL",
          "UberXL",
          "UberXL",
          "UberXL",
          "UberXL",
          "UberXL",
          "UberXL",
          "UberXL",
          "UberXL",
          "UberXL",
          "UberXL",
          "UberXL",
          "UberXL",
          "UberXL",
          "UberXL",
          "UberXL",
          "UberXL",
          "UberXL",
          "UberXL",
          "UberXL",
          "UberXL",
          "UberXL",
          "UberXL",
          "UberXL",
          "UberXL",
          "UberXL",
          "UberXL",
          "UberXL",
          "UberXL",
          "UberXL",
          "UberXL",
          "UberXL",
          "UberXL",
          "UberXL",
          "UberXL",
          "UberXL",
          "UberXL",
          "UberXL",
          "UberXL",
          "UberXL",
          "UberXL",
          "UberXL",
          "UberXL",
          "UberXL",
          "UberXL",
          "UberXL",
          "UberXL",
          "UberXL",
          "UberXL",
          "UberXL",
          "UberXL",
          "UberXL",
          "UberXL",
          "UberXL",
          "UberXL",
          "UberXL",
          "UberXL",
          "UberXL",
          "UberXL",
          "UberXL",
          "UberXL",
          "UberXL",
          "UberXL",
          "UberXL",
          "UberXL",
          "UberXL",
          "UberXL",
          "UberXL",
          "UberXL",
          "UberXL",
          "UberXL",
          "UberXL",
          "UberXL",
          "UberXL",
          "UberXL",
          "UberXL",
          "UberXL",
          "UberXL",
          "UberXL",
          "UberXL",
          "UberXL",
          "UberXL",
          "UberXL",
          "UberXL",
          "UberXL",
          "UberXL",
          "UberXL",
          "UberXL",
          "UberXL",
          "UberXL",
          "UberXL",
          "UberXL",
          "UberXL",
          "UberXL",
          "UberXL",
          "UberXL",
          "UberXL",
          "UberXL",
          "UberXL",
          "UberXL",
          "UberXL",
          "UberXL"
         ],
         "y0": " ",
         "yaxis": "y"
        },
        {
         "alignmentgroup": "True",
         "boxpoints": "all",
         "fillcolor": "rgba(255,255,255,0)",
         "hoveron": "points",
         "hovertemplate": "name=%{y}<br>price=%{x}<extra></extra>",
         "legendgroup": "Black SUV",
         "line": {
          "color": "rgba(255,255,255,0)"
         },
         "marker": {
          "color": "#FFA15A"
         },
         "name": "Black SUV",
         "offsetgroup": "Black SUV",
         "orientation": "h",
         "pointpos": 0,
         "showlegend": true,
         "type": "box",
         "x": [
          27.5,
          28.5,
          26,
          35,
          29.5,
          26,
          33,
          36,
          27,
          29,
          27.5,
          27.5,
          30.5,
          38.5,
          31,
          27.5,
          29.5,
          37,
          30.5,
          35,
          30.5,
          27,
          27,
          31.5,
          43.5,
          27,
          26.5,
          30.5,
          27.5,
          26.5,
          30.5,
          32.5,
          27.5,
          27.5,
          32.5,
          39,
          25,
          30,
          42,
          48,
          26,
          37,
          34,
          32.5,
          31.5,
          32,
          28.5,
          31.5,
          27,
          31.5,
          27.5,
          27.5,
          26.5,
          39.5,
          26.5,
          31.5,
          32,
          30.5,
          30.5,
          27.5,
          48,
          27.5,
          32,
          27.5,
          32.5,
          29.5,
          27.5,
          27,
          26,
          28.5,
          26,
          44,
          26.5,
          26.5,
          27,
          35,
          33,
          27.5,
          26,
          32.5,
          27.5,
          25,
          26,
          26,
          26,
          28,
          39.5,
          27.5,
          32.5,
          28.5,
          27.5,
          27.5,
          39.5,
          26.5,
          29,
          30.5,
          26.5,
          29.5,
          36,
          27.5,
          32,
          27.5,
          27.5,
          33,
          44,
          26,
          37.5,
          26.5,
          26.5,
          26.5,
          28.5,
          29.5,
          26.5,
          33,
          28.5,
          32,
          26.5,
          27,
          32,
          26.5,
          26.5,
          27.5,
          33,
          31.5,
          43,
          27,
          27.5,
          29.5,
          27.5,
          26,
          26.5,
          35,
          26.5,
          26,
          35,
          33,
          37,
          27,
          27,
          34,
          27.5,
          29.5,
          26.5,
          27.5,
          27.5,
          35,
          32.5,
          36,
          27.5,
          27,
          28.5,
          27,
          24,
          26.5,
          28,
          29.5,
          33,
          36.5,
          34,
          25,
          36,
          33.5,
          29.5,
          29.5,
          30.5,
          26,
          37,
          27.5,
          29.5,
          26.5,
          31.5,
          25,
          30.5,
          43,
          30.5,
          26.5,
          26,
          28.5,
          29,
          29.5,
          27.5,
          26,
          30.5,
          26,
          28.5,
          30.5,
          28.5,
          35,
          27.5,
          35,
          32.5,
          27.5,
          26,
          26.5,
          26,
          26,
          26.5,
          27,
          27.5,
          29,
          26,
          32.5,
          37,
          26.5,
          36,
          28.5,
          35.5,
          34,
          41.5,
          31.5,
          39,
          38.5,
          27,
          34,
          40.5,
          27.5,
          26.5,
          35,
          27,
          27.5,
          27.5,
          27,
          31.5,
          30.5,
          27.5,
          32.5,
          27,
          27.5,
          27.5,
          37.5,
          37,
          34,
          32.5,
          31.5,
          32.5,
          40.5,
          31,
          26,
          28,
          26,
          27.5,
          27.5,
          33.5,
          26,
          32.5,
          27,
          27,
          32,
          29.5,
          29.5,
          27,
          31.5,
          31,
          32.5,
          39,
          34,
          35,
          27.5,
          26,
          28.5,
          31.5,
          27.5,
          26,
          41,
          27.5,
          31,
          36,
          28.5,
          27,
          28.5,
          33.5,
          34,
          26.5,
          31.5,
          23
         ],
         "x0": " ",
         "xaxis": "x",
         "y": [
          "Black SUV",
          "Black SUV",
          "Black SUV",
          "Black SUV",
          "Black SUV",
          "Black SUV",
          "Black SUV",
          "Black SUV",
          "Black SUV",
          "Black SUV",
          "Black SUV",
          "Black SUV",
          "Black SUV",
          "Black SUV",
          "Black SUV",
          "Black SUV",
          "Black SUV",
          "Black SUV",
          "Black SUV",
          "Black SUV",
          "Black SUV",
          "Black SUV",
          "Black SUV",
          "Black SUV",
          "Black SUV",
          "Black SUV",
          "Black SUV",
          "Black SUV",
          "Black SUV",
          "Black SUV",
          "Black SUV",
          "Black SUV",
          "Black SUV",
          "Black SUV",
          "Black SUV",
          "Black SUV",
          "Black SUV",
          "Black SUV",
          "Black SUV",
          "Black SUV",
          "Black SUV",
          "Black SUV",
          "Black SUV",
          "Black SUV",
          "Black SUV",
          "Black SUV",
          "Black SUV",
          "Black SUV",
          "Black SUV",
          "Black SUV",
          "Black SUV",
          "Black SUV",
          "Black SUV",
          "Black SUV",
          "Black SUV",
          "Black SUV",
          "Black SUV",
          "Black SUV",
          "Black SUV",
          "Black SUV",
          "Black SUV",
          "Black SUV",
          "Black SUV",
          "Black SUV",
          "Black SUV",
          "Black SUV",
          "Black SUV",
          "Black SUV",
          "Black SUV",
          "Black SUV",
          "Black SUV",
          "Black SUV",
          "Black SUV",
          "Black SUV",
          "Black SUV",
          "Black SUV",
          "Black SUV",
          "Black SUV",
          "Black SUV",
          "Black SUV",
          "Black SUV",
          "Black SUV",
          "Black SUV",
          "Black SUV",
          "Black SUV",
          "Black SUV",
          "Black SUV",
          "Black SUV",
          "Black SUV",
          "Black SUV",
          "Black SUV",
          "Black SUV",
          "Black SUV",
          "Black SUV",
          "Black SUV",
          "Black SUV",
          "Black SUV",
          "Black SUV",
          "Black SUV",
          "Black SUV",
          "Black SUV",
          "Black SUV",
          "Black SUV",
          "Black SUV",
          "Black SUV",
          "Black SUV",
          "Black SUV",
          "Black SUV",
          "Black SUV",
          "Black SUV",
          "Black SUV",
          "Black SUV",
          "Black SUV",
          "Black SUV",
          "Black SUV",
          "Black SUV",
          "Black SUV",
          "Black SUV",
          "Black SUV",
          "Black SUV",
          "Black SUV",
          "Black SUV",
          "Black SUV",
          "Black SUV",
          "Black SUV",
          "Black SUV",
          "Black SUV",
          "Black SUV",
          "Black SUV",
          "Black SUV",
          "Black SUV",
          "Black SUV",
          "Black SUV",
          "Black SUV",
          "Black SUV",
          "Black SUV",
          "Black SUV",
          "Black SUV",
          "Black SUV",
          "Black SUV",
          "Black SUV",
          "Black SUV",
          "Black SUV",
          "Black SUV",
          "Black SUV",
          "Black SUV",
          "Black SUV",
          "Black SUV",
          "Black SUV",
          "Black SUV",
          "Black SUV",
          "Black SUV",
          "Black SUV",
          "Black SUV",
          "Black SUV",
          "Black SUV",
          "Black SUV",
          "Black SUV",
          "Black SUV",
          "Black SUV",
          "Black SUV",
          "Black SUV",
          "Black SUV",
          "Black SUV",
          "Black SUV",
          "Black SUV",
          "Black SUV",
          "Black SUV",
          "Black SUV",
          "Black SUV",
          "Black SUV",
          "Black SUV",
          "Black SUV",
          "Black SUV",
          "Black SUV",
          "Black SUV",
          "Black SUV",
          "Black SUV",
          "Black SUV",
          "Black SUV",
          "Black SUV",
          "Black SUV",
          "Black SUV",
          "Black SUV",
          "Black SUV",
          "Black SUV",
          "Black SUV",
          "Black SUV",
          "Black SUV",
          "Black SUV",
          "Black SUV",
          "Black SUV",
          "Black SUV",
          "Black SUV",
          "Black SUV",
          "Black SUV",
          "Black SUV",
          "Black SUV",
          "Black SUV",
          "Black SUV",
          "Black SUV",
          "Black SUV",
          "Black SUV",
          "Black SUV",
          "Black SUV",
          "Black SUV",
          "Black SUV",
          "Black SUV",
          "Black SUV",
          "Black SUV",
          "Black SUV",
          "Black SUV",
          "Black SUV",
          "Black SUV",
          "Black SUV",
          "Black SUV",
          "Black SUV",
          "Black SUV",
          "Black SUV",
          "Black SUV",
          "Black SUV",
          "Black SUV",
          "Black SUV",
          "Black SUV",
          "Black SUV",
          "Black SUV",
          "Black SUV",
          "Black SUV",
          "Black SUV",
          "Black SUV",
          "Black SUV",
          "Black SUV",
          "Black SUV",
          "Black SUV",
          "Black SUV",
          "Black SUV",
          "Black SUV",
          "Black SUV",
          "Black SUV",
          "Black SUV",
          "Black SUV",
          "Black SUV",
          "Black SUV",
          "Black SUV",
          "Black SUV",
          "Black SUV",
          "Black SUV",
          "Black SUV",
          "Black SUV",
          "Black SUV",
          "Black SUV",
          "Black SUV",
          "Black SUV",
          "Black SUV",
          "Black SUV",
          "Black SUV",
          "Black SUV",
          "Black SUV",
          "Black SUV",
          "Black SUV",
          "Black SUV",
          "Black SUV",
          "Black SUV",
          "Black SUV",
          "Black SUV",
          "Black SUV",
          "Black SUV",
          "Black SUV",
          "Black SUV",
          "Black SUV",
          "Black SUV",
          "Black SUV",
          "Black SUV",
          "Black SUV",
          "Black SUV"
         ],
         "y0": " ",
         "yaxis": "y"
        },
        {
         "alignmentgroup": "True",
         "boxpoints": "all",
         "fillcolor": "rgba(255,255,255,0)",
         "hoveron": "points",
         "hovertemplate": "name=%{y}<br>price=%{x}<extra></extra>",
         "legendgroup": "Black",
         "line": {
          "color": "rgba(255,255,255,0)"
         },
         "marker": {
          "color": "#19d3f3"
         },
         "name": "Black",
         "offsetgroup": "Black",
         "orientation": "h",
         "pointpos": 0,
         "showlegend": true,
         "type": "box",
         "x": [
          20.5,
          34,
          17.5,
          18.5,
          15,
          20.5,
          19,
          25,
          17.5,
          24,
          36,
          23,
          26,
          18.5,
          16,
          16,
          15,
          16,
          26.5,
          15,
          18.5,
          20.5,
          23.5,
          28,
          20,
          20.5,
          24,
          18.5,
          18.5,
          18.5,
          26,
          20.5,
          16,
          16.5,
          16.5,
          28,
          25,
          28.5,
          30.5,
          21,
          17,
          16,
          24,
          30.5,
          22,
          21.5,
          15.5,
          24,
          39.5,
          16.5,
          21.5,
          15.5,
          15,
          17,
          23,
          21.5,
          27,
          24,
          15,
          22.5,
          19.5,
          24,
          16,
          18.5,
          22.5,
          16.5,
          20.5,
          25,
          20.5,
          23,
          22.5,
          15,
          17,
          15,
          18,
          21,
          15,
          21,
          15,
          19.5,
          17,
          23.5,
          17,
          23.5,
          24,
          28,
          24,
          15,
          28.5,
          17,
          17.5,
          16,
          29,
          18,
          17,
          24,
          20.5,
          25,
          20.5,
          26.5,
          15,
          16,
          17.5,
          23,
          18.5,
          15.5,
          21.5,
          23.5,
          19,
          16.5,
          20.5,
          25,
          20.5,
          16,
          16,
          21.5,
          23,
          28,
          28,
          19.5,
          23,
          21,
          33,
          16,
          16,
          24,
          16,
          16,
          16,
          21.5,
          18.5,
          15,
          21,
          15,
          18,
          18.5,
          15,
          16,
          22.5,
          16,
          25,
          16,
          18.5,
          15.5,
          15,
          15,
          15,
          19.5,
          20.5,
          26,
          15,
          17,
          16.5,
          24,
          22,
          19,
          21,
          18.5,
          15,
          24,
          20.5,
          23,
          23,
          26,
          16,
          15,
          23,
          16,
          23,
          16,
          22,
          31.5,
          23.5,
          19.5,
          19.5,
          32.5,
          20.5,
          19.5,
          15,
          27,
          22,
          34,
          33,
          17,
          19.5,
          24.5,
          15,
          21,
          21.5,
          19.5,
          22.5,
          20.5,
          25,
          17.5,
          15,
          15,
          23,
          17,
          15.5,
          26,
          30.5,
          24,
          22,
          25,
          16,
          16,
          33,
          19.5,
          18.5,
          25.5,
          15,
          24,
          15.5,
          16.5,
          27.5,
          25,
          26.5,
          25,
          19.5,
          21.5,
          15,
          15.5,
          23,
          15,
          21.5,
          20.5,
          25,
          20.5,
          15,
          27,
          19.5,
          28.5,
          26,
          23,
          27,
          19,
          23,
          30.5,
          21,
          18.5,
          23.5,
          18,
          22,
          17.5,
          20.5,
          23,
          16,
          18.5,
          15,
          15,
          18.5,
          24,
          16,
          21.5,
          17,
          22.5,
          24,
          26,
          15,
          18.5,
          35,
          27,
          15,
          17.5,
          25,
          15.5,
          37,
          17.5,
          29.5,
          25,
          23,
          32.5,
          18.5,
          21,
          25,
          16,
          21.5,
          16,
          26,
          17.5,
          17.5,
          16,
          19.5
         ],
         "x0": " ",
         "xaxis": "x",
         "y": [
          "Black",
          "Black",
          "Black",
          "Black",
          "Black",
          "Black",
          "Black",
          "Black",
          "Black",
          "Black",
          "Black",
          "Black",
          "Black",
          "Black",
          "Black",
          "Black",
          "Black",
          "Black",
          "Black",
          "Black",
          "Black",
          "Black",
          "Black",
          "Black",
          "Black",
          "Black",
          "Black",
          "Black",
          "Black",
          "Black",
          "Black",
          "Black",
          "Black",
          "Black",
          "Black",
          "Black",
          "Black",
          "Black",
          "Black",
          "Black",
          "Black",
          "Black",
          "Black",
          "Black",
          "Black",
          "Black",
          "Black",
          "Black",
          "Black",
          "Black",
          "Black",
          "Black",
          "Black",
          "Black",
          "Black",
          "Black",
          "Black",
          "Black",
          "Black",
          "Black",
          "Black",
          "Black",
          "Black",
          "Black",
          "Black",
          "Black",
          "Black",
          "Black",
          "Black",
          "Black",
          "Black",
          "Black",
          "Black",
          "Black",
          "Black",
          "Black",
          "Black",
          "Black",
          "Black",
          "Black",
          "Black",
          "Black",
          "Black",
          "Black",
          "Black",
          "Black",
          "Black",
          "Black",
          "Black",
          "Black",
          "Black",
          "Black",
          "Black",
          "Black",
          "Black",
          "Black",
          "Black",
          "Black",
          "Black",
          "Black",
          "Black",
          "Black",
          "Black",
          "Black",
          "Black",
          "Black",
          "Black",
          "Black",
          "Black",
          "Black",
          "Black",
          "Black",
          "Black",
          "Black",
          "Black",
          "Black",
          "Black",
          "Black",
          "Black",
          "Black",
          "Black",
          "Black",
          "Black",
          "Black",
          "Black",
          "Black",
          "Black",
          "Black",
          "Black",
          "Black",
          "Black",
          "Black",
          "Black",
          "Black",
          "Black",
          "Black",
          "Black",
          "Black",
          "Black",
          "Black",
          "Black",
          "Black",
          "Black",
          "Black",
          "Black",
          "Black",
          "Black",
          "Black",
          "Black",
          "Black",
          "Black",
          "Black",
          "Black",
          "Black",
          "Black",
          "Black",
          "Black",
          "Black",
          "Black",
          "Black",
          "Black",
          "Black",
          "Black",
          "Black",
          "Black",
          "Black",
          "Black",
          "Black",
          "Black",
          "Black",
          "Black",
          "Black",
          "Black",
          "Black",
          "Black",
          "Black",
          "Black",
          "Black",
          "Black",
          "Black",
          "Black",
          "Black",
          "Black",
          "Black",
          "Black",
          "Black",
          "Black",
          "Black",
          "Black",
          "Black",
          "Black",
          "Black",
          "Black",
          "Black",
          "Black",
          "Black",
          "Black",
          "Black",
          "Black",
          "Black",
          "Black",
          "Black",
          "Black",
          "Black",
          "Black",
          "Black",
          "Black",
          "Black",
          "Black",
          "Black",
          "Black",
          "Black",
          "Black",
          "Black",
          "Black",
          "Black",
          "Black",
          "Black",
          "Black",
          "Black",
          "Black",
          "Black",
          "Black",
          "Black",
          "Black",
          "Black",
          "Black",
          "Black",
          "Black",
          "Black",
          "Black",
          "Black",
          "Black",
          "Black",
          "Black",
          "Black",
          "Black",
          "Black",
          "Black",
          "Black",
          "Black",
          "Black",
          "Black",
          "Black",
          "Black",
          "Black",
          "Black",
          "Black",
          "Black",
          "Black",
          "Black",
          "Black",
          "Black",
          "Black",
          "Black",
          "Black",
          "Black",
          "Black",
          "Black",
          "Black",
          "Black",
          "Black",
          "Black",
          "Black",
          "Black",
          "Black",
          "Black",
          "Black",
          "Black",
          "Black",
          "Black",
          "Black",
          "Black",
          "Black",
          "Black",
          "Black",
          "Black",
          "Black",
          "Black",
          "Black",
          "Black",
          "Black",
          "Black"
         ],
         "y0": " ",
         "yaxis": "y"
        },
        {
         "alignmentgroup": "True",
         "boxpoints": "all",
         "fillcolor": "rgba(255,255,255,0)",
         "hoveron": "points",
         "hovertemplate": "name=%{y}<br>price=%{x}<extra></extra>",
         "legendgroup": "UberPool",
         "line": {
          "color": "rgba(255,255,255,0)"
         },
         "marker": {
          "color": "#FF6692"
         },
         "name": "UberPool",
         "offsetgroup": "UberPool",
         "orientation": "h",
         "pointpos": 0,
         "showlegend": true,
         "type": "box",
         "x": [
          10,
          8.5,
          10,
          10,
          8,
          7.5,
          11,
          10,
          10,
          10,
          8.5,
          8,
          7.5,
          10,
          11,
          9.5,
          7.5,
          12,
          10,
          7,
          4.5,
          8.5,
          9,
          8.5,
          9.5,
          7.5,
          6.5,
          6.5,
          9,
          6.5,
          7.5,
          11,
          11,
          9,
          7,
          7,
          6.5,
          12.5,
          9,
          13.5,
          12,
          6.5,
          11,
          10,
          10,
          8.5,
          8.5,
          11,
          9.5,
          8,
          9.5,
          7.5,
          10,
          11,
          7,
          11,
          5.5,
          7.5,
          11,
          12,
          6.5,
          11,
          5.5,
          6.5,
          7,
          12.5,
          7.5,
          9,
          8,
          6.5,
          9,
          11,
          6.5,
          7.5,
          6.5,
          26.5,
          12,
          10,
          9.5,
          7.5,
          8,
          7.5,
          7.5,
          7.5,
          8,
          9,
          9,
          11,
          9,
          7.5,
          11,
          9,
          7.5,
          15.5,
          8.5,
          17,
          11,
          6.5,
          11,
          7,
          9,
          7,
          10,
          11,
          9,
          9,
          9,
          7.5,
          10,
          10,
          9.5,
          13,
          11,
          7.5,
          8,
          8.5,
          9,
          9,
          6.5,
          8.5,
          7.5,
          10,
          8,
          7,
          11,
          9,
          11,
          6.5,
          7.5,
          7.5,
          18,
          9,
          12,
          9.5,
          8,
          7.5,
          8,
          6.5,
          12,
          12,
          9,
          10,
          5.5,
          8,
          7.5,
          8,
          7,
          10,
          10,
          8,
          10,
          9,
          5.5,
          11,
          7.5,
          8,
          8.5,
          8,
          8,
          10,
          9,
          11,
          11,
          8,
          9,
          7.5,
          8,
          10,
          9,
          7.5,
          8,
          5.5,
          10,
          11,
          8,
          5.5,
          17,
          8,
          6.5,
          7,
          6.5,
          8.5,
          8.5,
          8.5,
          9,
          9,
          6.5,
          10,
          8.5,
          9.5,
          12,
          11,
          8.5,
          6.5,
          7,
          8,
          8.5,
          12,
          11,
          8.5,
          7.5,
          9,
          8,
          8.5,
          13,
          7.5,
          8.5,
          8,
          5.5,
          6.5,
          7,
          15.5,
          7.5,
          7.5,
          10,
          7.5,
          8.5,
          9,
          13.5,
          10,
          7,
          6.5,
          11.5,
          6.5,
          9,
          7,
          8,
          7.5,
          9.5,
          9,
          12,
          6.5,
          9,
          8.5,
          9,
          14.5,
          13.5,
          6.5,
          7.5,
          9,
          7.5,
          5.5,
          5.5,
          7,
          6.5,
          9,
          9,
          7.5,
          8.5,
          5.5,
          11,
          9,
          10,
          14,
          11,
          7.5,
          6.5,
          11,
          7.5,
          9,
          8.5,
          9,
          8.5,
          7.5,
          8.5,
          10,
          9,
          7.5,
          8.5,
          11,
          10,
          5.5,
          6.5,
          9,
          7.5,
          9,
          10,
          6.5,
          8,
          8.5
         ],
         "x0": " ",
         "xaxis": "x",
         "y": [
          "UberPool",
          "UberPool",
          "UberPool",
          "UberPool",
          "UberPool",
          "UberPool",
          "UberPool",
          "UberPool",
          "UberPool",
          "UberPool",
          "UberPool",
          "UberPool",
          "UberPool",
          "UberPool",
          "UberPool",
          "UberPool",
          "UberPool",
          "UberPool",
          "UberPool",
          "UberPool",
          "UberPool",
          "UberPool",
          "UberPool",
          "UberPool",
          "UberPool",
          "UberPool",
          "UberPool",
          "UberPool",
          "UberPool",
          "UberPool",
          "UberPool",
          "UberPool",
          "UberPool",
          "UberPool",
          "UberPool",
          "UberPool",
          "UberPool",
          "UberPool",
          "UberPool",
          "UberPool",
          "UberPool",
          "UberPool",
          "UberPool",
          "UberPool",
          "UberPool",
          "UberPool",
          "UberPool",
          "UberPool",
          "UberPool",
          "UberPool",
          "UberPool",
          "UberPool",
          "UberPool",
          "UberPool",
          "UberPool",
          "UberPool",
          "UberPool",
          "UberPool",
          "UberPool",
          "UberPool",
          "UberPool",
          "UberPool",
          "UberPool",
          "UberPool",
          "UberPool",
          "UberPool",
          "UberPool",
          "UberPool",
          "UberPool",
          "UberPool",
          "UberPool",
          "UberPool",
          "UberPool",
          "UberPool",
          "UberPool",
          "UberPool",
          "UberPool",
          "UberPool",
          "UberPool",
          "UberPool",
          "UberPool",
          "UberPool",
          "UberPool",
          "UberPool",
          "UberPool",
          "UberPool",
          "UberPool",
          "UberPool",
          "UberPool",
          "UberPool",
          "UberPool",
          "UberPool",
          "UberPool",
          "UberPool",
          "UberPool",
          "UberPool",
          "UberPool",
          "UberPool",
          "UberPool",
          "UberPool",
          "UberPool",
          "UberPool",
          "UberPool",
          "UberPool",
          "UberPool",
          "UberPool",
          "UberPool",
          "UberPool",
          "UberPool",
          "UberPool",
          "UberPool",
          "UberPool",
          "UberPool",
          "UberPool",
          "UberPool",
          "UberPool",
          "UberPool",
          "UberPool",
          "UberPool",
          "UberPool",
          "UberPool",
          "UberPool",
          "UberPool",
          "UberPool",
          "UberPool",
          "UberPool",
          "UberPool",
          "UberPool",
          "UberPool",
          "UberPool",
          "UberPool",
          "UberPool",
          "UberPool",
          "UberPool",
          "UberPool",
          "UberPool",
          "UberPool",
          "UberPool",
          "UberPool",
          "UberPool",
          "UberPool",
          "UberPool",
          "UberPool",
          "UberPool",
          "UberPool",
          "UberPool",
          "UberPool",
          "UberPool",
          "UberPool",
          "UberPool",
          "UberPool",
          "UberPool",
          "UberPool",
          "UberPool",
          "UberPool",
          "UberPool",
          "UberPool",
          "UberPool",
          "UberPool",
          "UberPool",
          "UberPool",
          "UberPool",
          "UberPool",
          "UberPool",
          "UberPool",
          "UberPool",
          "UberPool",
          "UberPool",
          "UberPool",
          "UberPool",
          "UberPool",
          "UberPool",
          "UberPool",
          "UberPool",
          "UberPool",
          "UberPool",
          "UberPool",
          "UberPool",
          "UberPool",
          "UberPool",
          "UberPool",
          "UberPool",
          "UberPool",
          "UberPool",
          "UberPool",
          "UberPool",
          "UberPool",
          "UberPool",
          "UberPool",
          "UberPool",
          "UberPool",
          "UberPool",
          "UberPool",
          "UberPool",
          "UberPool",
          "UberPool",
          "UberPool",
          "UberPool",
          "UberPool",
          "UberPool",
          "UberPool",
          "UberPool",
          "UberPool",
          "UberPool",
          "UberPool",
          "UberPool",
          "UberPool",
          "UberPool",
          "UberPool",
          "UberPool",
          "UberPool",
          "UberPool",
          "UberPool",
          "UberPool",
          "UberPool",
          "UberPool",
          "UberPool",
          "UberPool",
          "UberPool",
          "UberPool",
          "UberPool",
          "UberPool",
          "UberPool",
          "UberPool",
          "UberPool",
          "UberPool",
          "UberPool",
          "UberPool",
          "UberPool",
          "UberPool",
          "UberPool",
          "UberPool",
          "UberPool",
          "UberPool",
          "UberPool",
          "UberPool",
          "UberPool",
          "UberPool",
          "UberPool",
          "UberPool",
          "UberPool",
          "UberPool",
          "UberPool",
          "UberPool",
          "UberPool",
          "UberPool",
          "UberPool",
          "UberPool",
          "UberPool",
          "UberPool",
          "UberPool",
          "UberPool",
          "UberPool",
          "UberPool",
          "UberPool",
          "UberPool",
          "UberPool",
          "UberPool",
          "UberPool",
          "UberPool",
          "UberPool",
          "UberPool",
          "UberPool",
          "UberPool",
          "UberPool",
          "UberPool",
          "UberPool",
          "UberPool",
          "UberPool",
          "UberPool",
          "UberPool",
          "UberPool",
          "UberPool",
          "UberPool",
          "UberPool",
          "UberPool",
          "UberPool",
          "UberPool",
          "UberPool",
          "UberPool"
         ],
         "y0": " ",
         "yaxis": "y"
        }
       ],
       "layout": {
        "boxmode": "overlay",
        "legend": {
         "title": {
          "text": "name"
         },
         "tracegroupgap": 0
        },
        "margin": {
         "t": 60
        },
        "template": {
         "data": {
          "bar": [
           {
            "error_x": {
             "color": "#2a3f5f"
            },
            "error_y": {
             "color": "#2a3f5f"
            },
            "marker": {
             "line": {
              "color": "#E5ECF6",
              "width": 0.5
             },
             "pattern": {
              "fillmode": "overlay",
              "size": 10,
              "solidity": 0.2
             }
            },
            "type": "bar"
           }
          ],
          "barpolar": [
           {
            "marker": {
             "line": {
              "color": "#E5ECF6",
              "width": 0.5
             },
             "pattern": {
              "fillmode": "overlay",
              "size": 10,
              "solidity": 0.2
             }
            },
            "type": "barpolar"
           }
          ],
          "carpet": [
           {
            "aaxis": {
             "endlinecolor": "#2a3f5f",
             "gridcolor": "white",
             "linecolor": "white",
             "minorgridcolor": "white",
             "startlinecolor": "#2a3f5f"
            },
            "baxis": {
             "endlinecolor": "#2a3f5f",
             "gridcolor": "white",
             "linecolor": "white",
             "minorgridcolor": "white",
             "startlinecolor": "#2a3f5f"
            },
            "type": "carpet"
           }
          ],
          "choropleth": [
           {
            "colorbar": {
             "outlinewidth": 0,
             "ticks": ""
            },
            "type": "choropleth"
           }
          ],
          "contour": [
           {
            "colorbar": {
             "outlinewidth": 0,
             "ticks": ""
            },
            "colorscale": [
             [
              0,
              "#0d0887"
             ],
             [
              0.1111111111111111,
              "#46039f"
             ],
             [
              0.2222222222222222,
              "#7201a8"
             ],
             [
              0.3333333333333333,
              "#9c179e"
             ],
             [
              0.4444444444444444,
              "#bd3786"
             ],
             [
              0.5555555555555556,
              "#d8576b"
             ],
             [
              0.6666666666666666,
              "#ed7953"
             ],
             [
              0.7777777777777778,
              "#fb9f3a"
             ],
             [
              0.8888888888888888,
              "#fdca26"
             ],
             [
              1,
              "#f0f921"
             ]
            ],
            "type": "contour"
           }
          ],
          "contourcarpet": [
           {
            "colorbar": {
             "outlinewidth": 0,
             "ticks": ""
            },
            "type": "contourcarpet"
           }
          ],
          "heatmap": [
           {
            "colorbar": {
             "outlinewidth": 0,
             "ticks": ""
            },
            "colorscale": [
             [
              0,
              "#0d0887"
             ],
             [
              0.1111111111111111,
              "#46039f"
             ],
             [
              0.2222222222222222,
              "#7201a8"
             ],
             [
              0.3333333333333333,
              "#9c179e"
             ],
             [
              0.4444444444444444,
              "#bd3786"
             ],
             [
              0.5555555555555556,
              "#d8576b"
             ],
             [
              0.6666666666666666,
              "#ed7953"
             ],
             [
              0.7777777777777778,
              "#fb9f3a"
             ],
             [
              0.8888888888888888,
              "#fdca26"
             ],
             [
              1,
              "#f0f921"
             ]
            ],
            "type": "heatmap"
           }
          ],
          "heatmapgl": [
           {
            "colorbar": {
             "outlinewidth": 0,
             "ticks": ""
            },
            "colorscale": [
             [
              0,
              "#0d0887"
             ],
             [
              0.1111111111111111,
              "#46039f"
             ],
             [
              0.2222222222222222,
              "#7201a8"
             ],
             [
              0.3333333333333333,
              "#9c179e"
             ],
             [
              0.4444444444444444,
              "#bd3786"
             ],
             [
              0.5555555555555556,
              "#d8576b"
             ],
             [
              0.6666666666666666,
              "#ed7953"
             ],
             [
              0.7777777777777778,
              "#fb9f3a"
             ],
             [
              0.8888888888888888,
              "#fdca26"
             ],
             [
              1,
              "#f0f921"
             ]
            ],
            "type": "heatmapgl"
           }
          ],
          "histogram": [
           {
            "marker": {
             "pattern": {
              "fillmode": "overlay",
              "size": 10,
              "solidity": 0.2
             }
            },
            "type": "histogram"
           }
          ],
          "histogram2d": [
           {
            "colorbar": {
             "outlinewidth": 0,
             "ticks": ""
            },
            "colorscale": [
             [
              0,
              "#0d0887"
             ],
             [
              0.1111111111111111,
              "#46039f"
             ],
             [
              0.2222222222222222,
              "#7201a8"
             ],
             [
              0.3333333333333333,
              "#9c179e"
             ],
             [
              0.4444444444444444,
              "#bd3786"
             ],
             [
              0.5555555555555556,
              "#d8576b"
             ],
             [
              0.6666666666666666,
              "#ed7953"
             ],
             [
              0.7777777777777778,
              "#fb9f3a"
             ],
             [
              0.8888888888888888,
              "#fdca26"
             ],
             [
              1,
              "#f0f921"
             ]
            ],
            "type": "histogram2d"
           }
          ],
          "histogram2dcontour": [
           {
            "colorbar": {
             "outlinewidth": 0,
             "ticks": ""
            },
            "colorscale": [
             [
              0,
              "#0d0887"
             ],
             [
              0.1111111111111111,
              "#46039f"
             ],
             [
              0.2222222222222222,
              "#7201a8"
             ],
             [
              0.3333333333333333,
              "#9c179e"
             ],
             [
              0.4444444444444444,
              "#bd3786"
             ],
             [
              0.5555555555555556,
              "#d8576b"
             ],
             [
              0.6666666666666666,
              "#ed7953"
             ],
             [
              0.7777777777777778,
              "#fb9f3a"
             ],
             [
              0.8888888888888888,
              "#fdca26"
             ],
             [
              1,
              "#f0f921"
             ]
            ],
            "type": "histogram2dcontour"
           }
          ],
          "mesh3d": [
           {
            "colorbar": {
             "outlinewidth": 0,
             "ticks": ""
            },
            "type": "mesh3d"
           }
          ],
          "parcoords": [
           {
            "line": {
             "colorbar": {
              "outlinewidth": 0,
              "ticks": ""
             }
            },
            "type": "parcoords"
           }
          ],
          "pie": [
           {
            "automargin": true,
            "type": "pie"
           }
          ],
          "scatter": [
           {
            "marker": {
             "colorbar": {
              "outlinewidth": 0,
              "ticks": ""
             }
            },
            "type": "scatter"
           }
          ],
          "scatter3d": [
           {
            "line": {
             "colorbar": {
              "outlinewidth": 0,
              "ticks": ""
             }
            },
            "marker": {
             "colorbar": {
              "outlinewidth": 0,
              "ticks": ""
             }
            },
            "type": "scatter3d"
           }
          ],
          "scattercarpet": [
           {
            "marker": {
             "colorbar": {
              "outlinewidth": 0,
              "ticks": ""
             }
            },
            "type": "scattercarpet"
           }
          ],
          "scattergeo": [
           {
            "marker": {
             "colorbar": {
              "outlinewidth": 0,
              "ticks": ""
             }
            },
            "type": "scattergeo"
           }
          ],
          "scattergl": [
           {
            "marker": {
             "colorbar": {
              "outlinewidth": 0,
              "ticks": ""
             }
            },
            "type": "scattergl"
           }
          ],
          "scattermapbox": [
           {
            "marker": {
             "colorbar": {
              "outlinewidth": 0,
              "ticks": ""
             }
            },
            "type": "scattermapbox"
           }
          ],
          "scatterpolar": [
           {
            "marker": {
             "colorbar": {
              "outlinewidth": 0,
              "ticks": ""
             }
            },
            "type": "scatterpolar"
           }
          ],
          "scatterpolargl": [
           {
            "marker": {
             "colorbar": {
              "outlinewidth": 0,
              "ticks": ""
             }
            },
            "type": "scatterpolargl"
           }
          ],
          "scatterternary": [
           {
            "marker": {
             "colorbar": {
              "outlinewidth": 0,
              "ticks": ""
             }
            },
            "type": "scatterternary"
           }
          ],
          "surface": [
           {
            "colorbar": {
             "outlinewidth": 0,
             "ticks": ""
            },
            "colorscale": [
             [
              0,
              "#0d0887"
             ],
             [
              0.1111111111111111,
              "#46039f"
             ],
             [
              0.2222222222222222,
              "#7201a8"
             ],
             [
              0.3333333333333333,
              "#9c179e"
             ],
             [
              0.4444444444444444,
              "#bd3786"
             ],
             [
              0.5555555555555556,
              "#d8576b"
             ],
             [
              0.6666666666666666,
              "#ed7953"
             ],
             [
              0.7777777777777778,
              "#fb9f3a"
             ],
             [
              0.8888888888888888,
              "#fdca26"
             ],
             [
              1,
              "#f0f921"
             ]
            ],
            "type": "surface"
           }
          ],
          "table": [
           {
            "cells": {
             "fill": {
              "color": "#EBF0F8"
             },
             "line": {
              "color": "white"
             }
            },
            "header": {
             "fill": {
              "color": "#C8D4E3"
             },
             "line": {
              "color": "white"
             }
            },
            "type": "table"
           }
          ]
         },
         "layout": {
          "annotationdefaults": {
           "arrowcolor": "#2a3f5f",
           "arrowhead": 0,
           "arrowwidth": 1
          },
          "autotypenumbers": "strict",
          "coloraxis": {
           "colorbar": {
            "outlinewidth": 0,
            "ticks": ""
           }
          },
          "colorscale": {
           "diverging": [
            [
             0,
             "#8e0152"
            ],
            [
             0.1,
             "#c51b7d"
            ],
            [
             0.2,
             "#de77ae"
            ],
            [
             0.3,
             "#f1b6da"
            ],
            [
             0.4,
             "#fde0ef"
            ],
            [
             0.5,
             "#f7f7f7"
            ],
            [
             0.6,
             "#e6f5d0"
            ],
            [
             0.7,
             "#b8e186"
            ],
            [
             0.8,
             "#7fbc41"
            ],
            [
             0.9,
             "#4d9221"
            ],
            [
             1,
             "#276419"
            ]
           ],
           "sequential": [
            [
             0,
             "#0d0887"
            ],
            [
             0.1111111111111111,
             "#46039f"
            ],
            [
             0.2222222222222222,
             "#7201a8"
            ],
            [
             0.3333333333333333,
             "#9c179e"
            ],
            [
             0.4444444444444444,
             "#bd3786"
            ],
            [
             0.5555555555555556,
             "#d8576b"
            ],
            [
             0.6666666666666666,
             "#ed7953"
            ],
            [
             0.7777777777777778,
             "#fb9f3a"
            ],
            [
             0.8888888888888888,
             "#fdca26"
            ],
            [
             1,
             "#f0f921"
            ]
           ],
           "sequentialminus": [
            [
             0,
             "#0d0887"
            ],
            [
             0.1111111111111111,
             "#46039f"
            ],
            [
             0.2222222222222222,
             "#7201a8"
            ],
            [
             0.3333333333333333,
             "#9c179e"
            ],
            [
             0.4444444444444444,
             "#bd3786"
            ],
            [
             0.5555555555555556,
             "#d8576b"
            ],
            [
             0.6666666666666666,
             "#ed7953"
            ],
            [
             0.7777777777777778,
             "#fb9f3a"
            ],
            [
             0.8888888888888888,
             "#fdca26"
            ],
            [
             1,
             "#f0f921"
            ]
           ]
          },
          "colorway": [
           "#636efa",
           "#EF553B",
           "#00cc96",
           "#ab63fa",
           "#FFA15A",
           "#19d3f3",
           "#FF6692",
           "#B6E880",
           "#FF97FF",
           "#FECB52"
          ],
          "font": {
           "color": "#2a3f5f"
          },
          "geo": {
           "bgcolor": "white",
           "lakecolor": "white",
           "landcolor": "#E5ECF6",
           "showlakes": true,
           "showland": true,
           "subunitcolor": "white"
          },
          "hoverlabel": {
           "align": "left"
          },
          "hovermode": "closest",
          "mapbox": {
           "style": "light"
          },
          "paper_bgcolor": "white",
          "plot_bgcolor": "#E5ECF6",
          "polar": {
           "angularaxis": {
            "gridcolor": "white",
            "linecolor": "white",
            "ticks": ""
           },
           "bgcolor": "#E5ECF6",
           "radialaxis": {
            "gridcolor": "white",
            "linecolor": "white",
            "ticks": ""
           }
          },
          "scene": {
           "xaxis": {
            "backgroundcolor": "#E5ECF6",
            "gridcolor": "white",
            "gridwidth": 2,
            "linecolor": "white",
            "showbackground": true,
            "ticks": "",
            "zerolinecolor": "white"
           },
           "yaxis": {
            "backgroundcolor": "#E5ECF6",
            "gridcolor": "white",
            "gridwidth": 2,
            "linecolor": "white",
            "showbackground": true,
            "ticks": "",
            "zerolinecolor": "white"
           },
           "zaxis": {
            "backgroundcolor": "#E5ECF6",
            "gridcolor": "white",
            "gridwidth": 2,
            "linecolor": "white",
            "showbackground": true,
            "ticks": "",
            "zerolinecolor": "white"
           }
          },
          "shapedefaults": {
           "line": {
            "color": "#2a3f5f"
           }
          },
          "ternary": {
           "aaxis": {
            "gridcolor": "white",
            "linecolor": "white",
            "ticks": ""
           },
           "baxis": {
            "gridcolor": "white",
            "linecolor": "white",
            "ticks": ""
           },
           "bgcolor": "#E5ECF6",
           "caxis": {
            "gridcolor": "white",
            "linecolor": "white",
            "ticks": ""
           }
          },
          "title": {
           "x": 0.05
          },
          "xaxis": {
           "automargin": true,
           "gridcolor": "white",
           "linecolor": "white",
           "ticks": "",
           "title": {
            "standoff": 15
           },
           "zerolinecolor": "white",
           "zerolinewidth": 2
          },
          "yaxis": {
           "automargin": true,
           "gridcolor": "white",
           "linecolor": "white",
           "ticks": "",
           "title": {
            "standoff": 15
           },
           "zerolinecolor": "white",
           "zerolinewidth": 2
          }
         }
        },
        "xaxis": {
         "anchor": "y",
         "domain": [
          0,
          1
         ],
         "title": {
          "text": "price"
         }
        },
        "yaxis": {
         "anchor": "x",
         "categoryarray": [
          "UberPool",
          "Black",
          "Black SUV",
          "UberXL",
          "WAV",
          "Taxi",
          "UberX"
         ],
         "categoryorder": "array",
         "domain": [
          0,
          1
         ],
         "title": {
          "text": "name"
         }
        }
       }
      },
      "text/html": [
       "<div>                            <div id=\"fa68ccd7-fb86-403a-b27c-b06adf310834\" class=\"plotly-graph-div\" style=\"height:525px; width:100%;\"></div>            <script type=\"text/javascript\">                require([\"plotly\"], function(Plotly) {                    window.PLOTLYENV=window.PLOTLYENV || {};                                    if (document.getElementById(\"fa68ccd7-fb86-403a-b27c-b06adf310834\")) {                    Plotly.newPlot(                        \"fa68ccd7-fb86-403a-b27c-b06adf310834\",                        [{\"alignmentgroup\":\"True\",\"boxpoints\":\"all\",\"fillcolor\":\"rgba(255,255,255,0)\",\"hoveron\":\"points\",\"hovertemplate\":\"name=%{y}<br>price=%{x}<extra></extra>\",\"legendgroup\":\"UberX\",\"line\":{\"color\":\"rgba(255,255,255,0)\"},\"marker\":{\"color\":\"#636efa\"},\"name\":\"UberX\",\"offsetgroup\":\"UberX\",\"orientation\":\"h\",\"pointpos\":0,\"showlegend\":true,\"type\":\"box\",\"x\":[7.0,19.5,8.0,10.5,9.5,8.5,10.5,7.0,11.0,11.5,15.5,9.5,10.5,9.5,11.0,9.5,9.5,9.5,9.5,8.5,10.5,10.5,8.5,9.0,8.0,7.5,10.5,8.0,21.5,10.5,8.5,8.5,7.5,11.5,7.0,13.5,13.5,7.5,9.0,12.0,7.0,7.5,9.5,6.0,10.5,9.5,12.5,7.5,8.0,12.5,9.0,9.5,12.5,9.5,13.0,10.5,10.5,7.0,9.5,7.0,8.5,11.0,10.5,8.0,9.5,10.5,10.5,7.0,8.5,10.5,12.0,9.5,9.5,8.5,12.0,10.5,9.0,7.5,7.5,9.5,9.5,12.0,12.5,9.0,10.5,12.0,8.5,9.5,6.5,9.5,7.0,10.5,10.5,8.5,9.5,11.5,11.0,10.5,18.0,8.5,10.5,8.0,11.5,9.5,9.5,7.0,8.5,12.5,10.5,16.0,7.0,9.5,8.5,9.5,7.0,7.5,11.5,7.5,9.5,8.5,8.0,8.5,9.5,9.0,20.5,8.5,7.0,8.5,8.5,17.5,8.0,11.5,10.5,10.5,10.5,9.0,6.0,8.5,8.0,11.0,9.5,7.0,8.0,10.5,7.0,10.5,13.0,11.5,8.0,8.0,8.5,8.5,10.5,9.5,8.5,12.0,9.5,9.5,9.5,10.5,8.0,9.5,8.0,7.0,9.0,7.0,7.0,12.5,9.5,12.0,7.0,10.5,9.0,9.5,13.0,8.5,7.0,9.5,9.5,8.5,9.5,9.5,6.5,10.5,11.0,7.0,7.0,10.5,8.0,8.0,7.0,8.5,7.5,7.0,7.5,10.5,8.0,10.5,9.5,12.5,8.5,8.0,11.5,7.0,10.5,7.0,12.0,11.0,10.5,8.5,8.0,13.0,13.5,13.0,10.5,9.5,17.5,7.0,11.5,9.5,7.0,9.5,10.5,7.5,8.5,8.0,9.5,12.0,9.5,14.0,7.5,8.5,8.0,10.5,10.5,15.0,11.5,14.0,10.5,8.5,9.0,8.0,9.5,9.5,10.5,8.0,7.0,7.5,7.5,8.5,9.0,7.0,9.5,14.0,8.0,11.0,14.0,7.0,12.0,12.0,8.5,10.5,9.0,8.5,9.0,11.5,7.0,7.5,9.5,14.0,10.5,21.5,12.5,8.5,9.5,9.5,7.5,10.5,9.5,10.5,12.5,9.5,11.5,13.5,10.5],\"x0\":\" \",\"xaxis\":\"x\",\"y\":[\"UberX\",\"UberX\",\"UberX\",\"UberX\",\"UberX\",\"UberX\",\"UberX\",\"UberX\",\"UberX\",\"UberX\",\"UberX\",\"UberX\",\"UberX\",\"UberX\",\"UberX\",\"UberX\",\"UberX\",\"UberX\",\"UberX\",\"UberX\",\"UberX\",\"UberX\",\"UberX\",\"UberX\",\"UberX\",\"UberX\",\"UberX\",\"UberX\",\"UberX\",\"UberX\",\"UberX\",\"UberX\",\"UberX\",\"UberX\",\"UberX\",\"UberX\",\"UberX\",\"UberX\",\"UberX\",\"UberX\",\"UberX\",\"UberX\",\"UberX\",\"UberX\",\"UberX\",\"UberX\",\"UberX\",\"UberX\",\"UberX\",\"UberX\",\"UberX\",\"UberX\",\"UberX\",\"UberX\",\"UberX\",\"UberX\",\"UberX\",\"UberX\",\"UberX\",\"UberX\",\"UberX\",\"UberX\",\"UberX\",\"UberX\",\"UberX\",\"UberX\",\"UberX\",\"UberX\",\"UberX\",\"UberX\",\"UberX\",\"UberX\",\"UberX\",\"UberX\",\"UberX\",\"UberX\",\"UberX\",\"UberX\",\"UberX\",\"UberX\",\"UberX\",\"UberX\",\"UberX\",\"UberX\",\"UberX\",\"UberX\",\"UberX\",\"UberX\",\"UberX\",\"UberX\",\"UberX\",\"UberX\",\"UberX\",\"UberX\",\"UberX\",\"UberX\",\"UberX\",\"UberX\",\"UberX\",\"UberX\",\"UberX\",\"UberX\",\"UberX\",\"UberX\",\"UberX\",\"UberX\",\"UberX\",\"UberX\",\"UberX\",\"UberX\",\"UberX\",\"UberX\",\"UberX\",\"UberX\",\"UberX\",\"UberX\",\"UberX\",\"UberX\",\"UberX\",\"UberX\",\"UberX\",\"UberX\",\"UberX\",\"UberX\",\"UberX\",\"UberX\",\"UberX\",\"UberX\",\"UberX\",\"UberX\",\"UberX\",\"UberX\",\"UberX\",\"UberX\",\"UberX\",\"UberX\",\"UberX\",\"UberX\",\"UberX\",\"UberX\",\"UberX\",\"UberX\",\"UberX\",\"UberX\",\"UberX\",\"UberX\",\"UberX\",\"UberX\",\"UberX\",\"UberX\",\"UberX\",\"UberX\",\"UberX\",\"UberX\",\"UberX\",\"UberX\",\"UberX\",\"UberX\",\"UberX\",\"UberX\",\"UberX\",\"UberX\",\"UberX\",\"UberX\",\"UberX\",\"UberX\",\"UberX\",\"UberX\",\"UberX\",\"UberX\",\"UberX\",\"UberX\",\"UberX\",\"UberX\",\"UberX\",\"UberX\",\"UberX\",\"UberX\",\"UberX\",\"UberX\",\"UberX\",\"UberX\",\"UberX\",\"UberX\",\"UberX\",\"UberX\",\"UberX\",\"UberX\",\"UberX\",\"UberX\",\"UberX\",\"UberX\",\"UberX\",\"UberX\",\"UberX\",\"UberX\",\"UberX\",\"UberX\",\"UberX\",\"UberX\",\"UberX\",\"UberX\",\"UberX\",\"UberX\",\"UberX\",\"UberX\",\"UberX\",\"UberX\",\"UberX\",\"UberX\",\"UberX\",\"UberX\",\"UberX\",\"UberX\",\"UberX\",\"UberX\",\"UberX\",\"UberX\",\"UberX\",\"UberX\",\"UberX\",\"UberX\",\"UberX\",\"UberX\",\"UberX\",\"UberX\",\"UberX\",\"UberX\",\"UberX\",\"UberX\",\"UberX\",\"UberX\",\"UberX\",\"UberX\",\"UberX\",\"UberX\",\"UberX\",\"UberX\",\"UberX\",\"UberX\",\"UberX\",\"UberX\",\"UberX\",\"UberX\",\"UberX\",\"UberX\",\"UberX\",\"UberX\",\"UberX\",\"UberX\",\"UberX\",\"UberX\",\"UberX\",\"UberX\",\"UberX\",\"UberX\",\"UberX\",\"UberX\",\"UberX\",\"UberX\",\"UberX\",\"UberX\",\"UberX\",\"UberX\",\"UberX\",\"UberX\",\"UberX\",\"UberX\",\"UberX\",\"UberX\",\"UberX\",\"UberX\",\"UberX\",\"UberX\",\"UberX\",\"UberX\",\"UberX\",\"UberX\",\"UberX\",\"UberX\",\"UberX\",\"UberX\",\"UberX\",\"UberX\",\"UberX\"],\"y0\":\" \",\"yaxis\":\"y\"},{\"alignmentgroup\":\"True\",\"boxpoints\":\"all\",\"fillcolor\":\"rgba(255,255,255,0)\",\"hoveron\":\"points\",\"hovertemplate\":\"name=%{y}<br>price=%{x}<extra></extra>\",\"legendgroup\":\"Taxi\",\"line\":{\"color\":\"rgba(255,255,255,0)\"},\"marker\":{\"color\":\"#EF553B\"},\"name\":\"Taxi\",\"offsetgroup\":\"Taxi\",\"orientation\":\"h\",\"pointpos\":0,\"showlegend\":true,\"type\":\"box\",\"x\":[2.2765,3.9295,3.857,1.682,3.625,4.117999999999999,3.857,6.8585,3.596,3.944,4.5675,0.812,1.9575,1.8125,6.6265,3.364,2.465,0.783,4.6690000000000005,4.843,2.204,4.959,4.784999999999999,1.769,1.1889999999999998,2.7405,0.3915,2.61,1.769,5.2345,2.2765,3.1465,3.364,7.221,2.2765,8.062,1.7835,3.393,0.7105,8.062,3.857,2.668,3.944,4.784999999999999,1.9575,4.422499999999999,2.755,4.8865,3.103,1.4645,6.843999999999999,4.9155,1.7545,3.799,3.1465,3.944,4.6690000000000005,1.943,4.64,0.7105,1.45,4.6690000000000005,1.16,3.9295,4.06,3.625,2.5955,2.175,1.4645,0.5655,2.3345,1.044,2.0445,2.755,2.2765,5.7855,4.422499999999999,4.117999999999999,1.885,3.103,4.031,2.2765,2.262,0.9425,3.074,3.364,4.466,1.566,2.175,3.451,5.2345,6.843999999999999,1.044,4.06,0.5655,2.8565,1.334,2.2765,2.813,2.088,3.0304999999999995,0.7975,4.422499999999999,3.1755,4.321,3.712,0.812,3.538,0.812,3.7845,0.812,3.799,3.9295,6.496,2.117,3.7845,1.45,1.5515,1.682,3.944,4.3645,3.7845,1.044,6.496,1.885,4.466,0.812,1.044,8.265,0.783,1.885,2.5955,1.9575,1.4935,6.438000000000001,1.7545,5.4955,1.3195,3.5525,1.9575,4.8865,1.7545,1.4935,4.3645,4.9155,5.2345,1.9575,4.117999999999999,0.5655,1.7545,2.175,2.958,4.422499999999999,2.378,1.9575,4.292,3.538,3.944,2.3345,1.4355,2.2765,1.856,1.4355,2.436,3.741,2.262,4.2485,3.2915,0.7105,4.0455,3.7845,2.2765,5.2055,4.480499999999999,3.7845,1.682,4.5385,4.9155,3.393,3.596,4.117999999999999,4.466,0.7105,6.38,3.364,6.438000000000001,0.5655,3.596,6.438000000000001,4.0455,3.857,3.2915,6.843999999999999,3.364,4.321,1.566,1.885,4.422499999999999,2.0445,3.857,2.3345,3.3349999999999995,0.7975,4.988,2.5955,1.305,1.45,4.3645,4.146999999999999,1.566,4.784999999999999,0.5655,0.7975,4.9155,3.103,1.7545,10.1065,6.843999999999999,1.769,4.422499999999999,1.5515,1.769,1.9575,2.2185,3.8715,1.8125,1.508,0.9135,0.7975,9.0915,2.204,3.9585,2.4795,3.7845,1.885,2.3345,5.4955,2.1895,1.0585,1.682,2.7695,2.1025,6.409,4.784999999999999,4.321,6.873,3.3495,2.6825,1.8125,2.3345,4.146999999999999,3.741,4.422499999999999,1.595,2.61,1.8125,1.566,3.393,2.436,4.93,2.262,6.496,1.885,1.4355,2.0445,2.61,4.422499999999999,1.885,1.508,2.117,0.5655,3.857,6.597499999999999,2.61,1.682,1.943,2.0445,4.451499999999999,3.8715,2.0445,1.537,6.843999999999999,4.3645,1.6095000000000002,2.3345,4.3645,3.1465,4.0455,6.38,0.8845,1.943,4.451499999999999,0.9135,1.943,6.843999999999999,3.944,1.885,2.0155],\"x0\":\" \",\"xaxis\":\"x\",\"y\":[\"Taxi\",\"Taxi\",\"Taxi\",\"Taxi\",\"Taxi\",\"Taxi\",\"Taxi\",\"Taxi\",\"Taxi\",\"Taxi\",\"Taxi\",\"Taxi\",\"Taxi\",\"Taxi\",\"Taxi\",\"Taxi\",\"Taxi\",\"Taxi\",\"Taxi\",\"Taxi\",\"Taxi\",\"Taxi\",\"Taxi\",\"Taxi\",\"Taxi\",\"Taxi\",\"Taxi\",\"Taxi\",\"Taxi\",\"Taxi\",\"Taxi\",\"Taxi\",\"Taxi\",\"Taxi\",\"Taxi\",\"Taxi\",\"Taxi\",\"Taxi\",\"Taxi\",\"Taxi\",\"Taxi\",\"Taxi\",\"Taxi\",\"Taxi\",\"Taxi\",\"Taxi\",\"Taxi\",\"Taxi\",\"Taxi\",\"Taxi\",\"Taxi\",\"Taxi\",\"Taxi\",\"Taxi\",\"Taxi\",\"Taxi\",\"Taxi\",\"Taxi\",\"Taxi\",\"Taxi\",\"Taxi\",\"Taxi\",\"Taxi\",\"Taxi\",\"Taxi\",\"Taxi\",\"Taxi\",\"Taxi\",\"Taxi\",\"Taxi\",\"Taxi\",\"Taxi\",\"Taxi\",\"Taxi\",\"Taxi\",\"Taxi\",\"Taxi\",\"Taxi\",\"Taxi\",\"Taxi\",\"Taxi\",\"Taxi\",\"Taxi\",\"Taxi\",\"Taxi\",\"Taxi\",\"Taxi\",\"Taxi\",\"Taxi\",\"Taxi\",\"Taxi\",\"Taxi\",\"Taxi\",\"Taxi\",\"Taxi\",\"Taxi\",\"Taxi\",\"Taxi\",\"Taxi\",\"Taxi\",\"Taxi\",\"Taxi\",\"Taxi\",\"Taxi\",\"Taxi\",\"Taxi\",\"Taxi\",\"Taxi\",\"Taxi\",\"Taxi\",\"Taxi\",\"Taxi\",\"Taxi\",\"Taxi\",\"Taxi\",\"Taxi\",\"Taxi\",\"Taxi\",\"Taxi\",\"Taxi\",\"Taxi\",\"Taxi\",\"Taxi\",\"Taxi\",\"Taxi\",\"Taxi\",\"Taxi\",\"Taxi\",\"Taxi\",\"Taxi\",\"Taxi\",\"Taxi\",\"Taxi\",\"Taxi\",\"Taxi\",\"Taxi\",\"Taxi\",\"Taxi\",\"Taxi\",\"Taxi\",\"Taxi\",\"Taxi\",\"Taxi\",\"Taxi\",\"Taxi\",\"Taxi\",\"Taxi\",\"Taxi\",\"Taxi\",\"Taxi\",\"Taxi\",\"Taxi\",\"Taxi\",\"Taxi\",\"Taxi\",\"Taxi\",\"Taxi\",\"Taxi\",\"Taxi\",\"Taxi\",\"Taxi\",\"Taxi\",\"Taxi\",\"Taxi\",\"Taxi\",\"Taxi\",\"Taxi\",\"Taxi\",\"Taxi\",\"Taxi\",\"Taxi\",\"Taxi\",\"Taxi\",\"Taxi\",\"Taxi\",\"Taxi\",\"Taxi\",\"Taxi\",\"Taxi\",\"Taxi\",\"Taxi\",\"Taxi\",\"Taxi\",\"Taxi\",\"Taxi\",\"Taxi\",\"Taxi\",\"Taxi\",\"Taxi\",\"Taxi\",\"Taxi\",\"Taxi\",\"Taxi\",\"Taxi\",\"Taxi\",\"Taxi\",\"Taxi\",\"Taxi\",\"Taxi\",\"Taxi\",\"Taxi\",\"Taxi\",\"Taxi\",\"Taxi\",\"Taxi\",\"Taxi\",\"Taxi\",\"Taxi\",\"Taxi\",\"Taxi\",\"Taxi\",\"Taxi\",\"Taxi\",\"Taxi\",\"Taxi\",\"Taxi\",\"Taxi\",\"Taxi\",\"Taxi\",\"Taxi\",\"Taxi\",\"Taxi\",\"Taxi\",\"Taxi\",\"Taxi\",\"Taxi\",\"Taxi\",\"Taxi\",\"Taxi\",\"Taxi\",\"Taxi\",\"Taxi\",\"Taxi\",\"Taxi\",\"Taxi\",\"Taxi\",\"Taxi\",\"Taxi\",\"Taxi\",\"Taxi\",\"Taxi\",\"Taxi\",\"Taxi\",\"Taxi\",\"Taxi\",\"Taxi\",\"Taxi\",\"Taxi\",\"Taxi\",\"Taxi\",\"Taxi\",\"Taxi\",\"Taxi\",\"Taxi\",\"Taxi\",\"Taxi\",\"Taxi\",\"Taxi\",\"Taxi\",\"Taxi\",\"Taxi\",\"Taxi\",\"Taxi\",\"Taxi\",\"Taxi\",\"Taxi\",\"Taxi\",\"Taxi\",\"Taxi\",\"Taxi\",\"Taxi\",\"Taxi\",\"Taxi\",\"Taxi\",\"Taxi\",\"Taxi\",\"Taxi\",\"Taxi\",\"Taxi\",\"Taxi\",\"Taxi\",\"Taxi\",\"Taxi\",\"Taxi\",\"Taxi\",\"Taxi\",\"Taxi\",\"Taxi\",\"Taxi\",\"Taxi\",\"Taxi\",\"Taxi\",\"Taxi\",\"Taxi\",\"Taxi\",\"Taxi\",\"Taxi\",\"Taxi\"],\"y0\":\" \",\"yaxis\":\"y\"},{\"alignmentgroup\":\"True\",\"boxpoints\":\"all\",\"fillcolor\":\"rgba(255,255,255,0)\",\"hoveron\":\"points\",\"hovertemplate\":\"name=%{y}<br>price=%{x}<extra></extra>\",\"legendgroup\":\"WAV\",\"line\":{\"color\":\"rgba(255,255,255,0)\"},\"marker\":{\"color\":\"#00cc96\"},\"name\":\"WAV\",\"offsetgroup\":\"WAV\",\"orientation\":\"h\",\"pointpos\":0,\"showlegend\":true,\"type\":\"box\",\"x\":[10.5,9.5,10.5,8.5,7.0,11.0,7.0,20.5,7.0,9.0,9.5,11.5,8.0,9.5,8.5,9.5,11.0,10.5,7.5,8.5,13.5,8.5,9.5,9.5,8.5,11.5,9.5,9.0,10.5,8.5,10.5,10.5,8.5,9.5,7.0,10.5,8.0,9.5,10.5,7.0,9.0,7.0,7.5,13.5,13.5,9.5,10.5,12.0,10.5,14.0,9.5,9.5,10.5,6.0,9.5,12.5,8.5,8.5,9.5,8.5,12.5,9.5,8.5,13.0,10.5,10.5,10.5,17.0,7.0,10.5,14.0,10.5,9.5,8.0,7.5,8.5,7.0,10.5,8.5,8.0,9.5,11.5,11.5,10.5,12.0,9.0,10.5,12.0,8.0,7.5,6.0,8.5,12.0,6.5,9.5,12.0,9.5,7.5,8.5,8.5,7.0,8.5,10.5,8.0,8.5,10.5,8.0,9.5,8.5,8.5,9.0,9.5,8.0,7.5,7.0,10.5,10.5,10.5,8.5,11.5,16.0,14.0,11.5,7.0,9.5,11.5,7.0,10.5,9.5,9.5,8.5,7.5,9.5,9.5,20.5,8.5,8.5,9.0,7.0,10.5,8.5,8.5,11.5,17.5,8.5,8.0,10.5,9.5,9.5,7.5,10.5,12.0,6.0,7.0,7.0,9.5,7.0,8.0,7.0,16.0,9.5,8.5,8.5,8.5,9.5,11.5,10.5,12.0,12.5,8.5,7.0,9.5,8.5,7.0,10.5,8.0,9.5,11.5,9.5,11.5,7.0,8.0,11.0,9.5,10.5,8.5,11.5,7.0,19.0,9.0,10.5,8.5,8.5,13.0,13.0,7.0,11.0,9.5,9.5,8.5,9.5,10.5,6.5,8.5,10.5,7.0,10.5,7.0,10.5,7.5,10.5,8.0,7.5,8.0,10.5,8.5,12.0,7.0,12.5,7.0,11.5,10.5,11.0,10.5,12.5,15.0,9.5,9.5,7.5,17.5,9.5,11.5,15.0,9.5,10.5,7.0,7.0,10.5,9.5,7.5,10.5,10.5,7.0,11.5,12.5,8.0,8.5,10.5,13.0,15.0,14.0,17.0,8.0,8.0,9.0,8.0,7.0,8.0,9.5,10.5,7.0,12.0,7.5,7.5,9.0,9.5,9.5,11.0,11.5,9.5,7.0,12.0,7.0,7.5,8.5,8.5,9.0,14.0,9.5,10.5,7.5,10.5,8.5,9.5,21.5,7.5,8.5,12.0,7.5,10.5,7.5,11.5,7.5,7.0,8.5,10.5,9.5,9.5,8.5,11.5,11.5,11.0,18.0,9.5,8.5],\"x0\":\" \",\"xaxis\":\"x\",\"y\":[\"WAV\",\"WAV\",\"WAV\",\"WAV\",\"WAV\",\"WAV\",\"WAV\",\"WAV\",\"WAV\",\"WAV\",\"WAV\",\"WAV\",\"WAV\",\"WAV\",\"WAV\",\"WAV\",\"WAV\",\"WAV\",\"WAV\",\"WAV\",\"WAV\",\"WAV\",\"WAV\",\"WAV\",\"WAV\",\"WAV\",\"WAV\",\"WAV\",\"WAV\",\"WAV\",\"WAV\",\"WAV\",\"WAV\",\"WAV\",\"WAV\",\"WAV\",\"WAV\",\"WAV\",\"WAV\",\"WAV\",\"WAV\",\"WAV\",\"WAV\",\"WAV\",\"WAV\",\"WAV\",\"WAV\",\"WAV\",\"WAV\",\"WAV\",\"WAV\",\"WAV\",\"WAV\",\"WAV\",\"WAV\",\"WAV\",\"WAV\",\"WAV\",\"WAV\",\"WAV\",\"WAV\",\"WAV\",\"WAV\",\"WAV\",\"WAV\",\"WAV\",\"WAV\",\"WAV\",\"WAV\",\"WAV\",\"WAV\",\"WAV\",\"WAV\",\"WAV\",\"WAV\",\"WAV\",\"WAV\",\"WAV\",\"WAV\",\"WAV\",\"WAV\",\"WAV\",\"WAV\",\"WAV\",\"WAV\",\"WAV\",\"WAV\",\"WAV\",\"WAV\",\"WAV\",\"WAV\",\"WAV\",\"WAV\",\"WAV\",\"WAV\",\"WAV\",\"WAV\",\"WAV\",\"WAV\",\"WAV\",\"WAV\",\"WAV\",\"WAV\",\"WAV\",\"WAV\",\"WAV\",\"WAV\",\"WAV\",\"WAV\",\"WAV\",\"WAV\",\"WAV\",\"WAV\",\"WAV\",\"WAV\",\"WAV\",\"WAV\",\"WAV\",\"WAV\",\"WAV\",\"WAV\",\"WAV\",\"WAV\",\"WAV\",\"WAV\",\"WAV\",\"WAV\",\"WAV\",\"WAV\",\"WAV\",\"WAV\",\"WAV\",\"WAV\",\"WAV\",\"WAV\",\"WAV\",\"WAV\",\"WAV\",\"WAV\",\"WAV\",\"WAV\",\"WAV\",\"WAV\",\"WAV\",\"WAV\",\"WAV\",\"WAV\",\"WAV\",\"WAV\",\"WAV\",\"WAV\",\"WAV\",\"WAV\",\"WAV\",\"WAV\",\"WAV\",\"WAV\",\"WAV\",\"WAV\",\"WAV\",\"WAV\",\"WAV\",\"WAV\",\"WAV\",\"WAV\",\"WAV\",\"WAV\",\"WAV\",\"WAV\",\"WAV\",\"WAV\",\"WAV\",\"WAV\",\"WAV\",\"WAV\",\"WAV\",\"WAV\",\"WAV\",\"WAV\",\"WAV\",\"WAV\",\"WAV\",\"WAV\",\"WAV\",\"WAV\",\"WAV\",\"WAV\",\"WAV\",\"WAV\",\"WAV\",\"WAV\",\"WAV\",\"WAV\",\"WAV\",\"WAV\",\"WAV\",\"WAV\",\"WAV\",\"WAV\",\"WAV\",\"WAV\",\"WAV\",\"WAV\",\"WAV\",\"WAV\",\"WAV\",\"WAV\",\"WAV\",\"WAV\",\"WAV\",\"WAV\",\"WAV\",\"WAV\",\"WAV\",\"WAV\",\"WAV\",\"WAV\",\"WAV\",\"WAV\",\"WAV\",\"WAV\",\"WAV\",\"WAV\",\"WAV\",\"WAV\",\"WAV\",\"WAV\",\"WAV\",\"WAV\",\"WAV\",\"WAV\",\"WAV\",\"WAV\",\"WAV\",\"WAV\",\"WAV\",\"WAV\",\"WAV\",\"WAV\",\"WAV\",\"WAV\",\"WAV\",\"WAV\",\"WAV\",\"WAV\",\"WAV\",\"WAV\",\"WAV\",\"WAV\",\"WAV\",\"WAV\",\"WAV\",\"WAV\",\"WAV\",\"WAV\",\"WAV\",\"WAV\",\"WAV\",\"WAV\",\"WAV\",\"WAV\",\"WAV\",\"WAV\",\"WAV\",\"WAV\",\"WAV\",\"WAV\",\"WAV\",\"WAV\",\"WAV\",\"WAV\",\"WAV\",\"WAV\",\"WAV\",\"WAV\",\"WAV\",\"WAV\",\"WAV\",\"WAV\",\"WAV\",\"WAV\",\"WAV\",\"WAV\",\"WAV\",\"WAV\",\"WAV\",\"WAV\",\"WAV\",\"WAV\",\"WAV\",\"WAV\",\"WAV\",\"WAV\",\"WAV\",\"WAV\",\"WAV\",\"WAV\",\"WAV\",\"WAV\",\"WAV\",\"WAV\",\"WAV\",\"WAV\",\"WAV\",\"WAV\"],\"y0\":\" \",\"yaxis\":\"y\"},{\"alignmentgroup\":\"True\",\"boxpoints\":\"all\",\"fillcolor\":\"rgba(255,255,255,0)\",\"hoveron\":\"points\",\"hovertemplate\":\"name=%{y}<br>price=%{x}<extra></extra>\",\"legendgroup\":\"UberXL\",\"line\":{\"color\":\"rgba(255,255,255,0)\"},\"marker\":{\"color\":\"#ab63fa\"},\"name\":\"UberXL\",\"offsetgroup\":\"UberXL\",\"orientation\":\"h\",\"pointpos\":0,\"showlegend\":true,\"type\":\"box\",\"x\":[32.0,16.0,13.0,10.5,14.0,21.5,18.0,14.0,16.0,10.5,9.5,16.0,14.0,22.0,11.5,14.0,19.5,10.5,15.0,15.0,18.5,15.0,18.0,18.5,22.0,19.5,15.0,13.0,14.0,17.0,12.5,15.0,13.5,12.5,14.5,8.5,18.5,13.0,16.0,15.0,14.0,11.0,15.0,14.0,22.5,20.5,11.5,19.0,17.0,26.0,16.0,18.5,11.5,21.5,12.0,17.0,12.5,10.5,17.0,18.0,12.5,27.5,17.5,15.0,12.5,27.0,10.5,10.5,16.5,14.0,16.0,17.5,13.0,14.0,9.5,9.5,16.0,11.0,13.0,17.5,16.5,20.5,16.0,16.5,14.0,14.0,16.0,14.0,13.0,18.0,22.5,9.5,15.0,11.0,19.5,16.0,18.0,15.5,17.0,10.5,12.5,13.0,19.5,18.5,18.0,22.0,16.0,18.5,15.0,10.5,16.5,10.5,19.5,17.0,20.5,18.0,18.0,15.0,16.0,12.5,16.0,18.0,14.0,37.0,10.5,13.5,15.0,25.0,10.5,12.0,12.0,32.5,12.5,21.5,12.0,18.5,20.5,9.5,12.0,13.5,9.5,18.0,11.5,10.5,10.5,16.5,19.5,23.0,9.5,13.0,13.0,17.0,18.0,18.0,17.0,17.0,14.0,12.5,19.5,20.5,16.0,9.5,16.5,17.5,34.0,10.5,14.5,16.0,8.5,20.5,13.0,16.0,21.0,16.0,14.0,22.5,14.5,21.5,15.0,10.5,11.0,11.0,18.5,17.5,20.5,17.0,17.5,13.0,12.5,11.5,10.5,16.0,19.5,18.5,17.5,11.5,9.0,9.5,18.0,9.5,22.0,13.0,35.0,12.0,20.5,19.5,15.0,19.5,11.5,14.0,21.5,11.5,21.5,14.0,18.0,19.5,16.0,13.0,24.0,19.5,12.5,15.0,11.5,16.0,19.5,26.5,19.5,10.5,15.0,15.5,12.0,13.5,16.0,13.0,20.5,16.0,15.0,12.0,14.0,15.0,17.5,13.0,15.0,18.5,18.5,22.5,12.5,8.5,13.5,13.5,14.0,17.0,16.0,13.5,23.0,37.5,12.0,15.0,17.0,19.0,17.0,16.5,9.5,17.5,24.5,11.0,12.0,9.5,12.0,16.0,10.5,14.0,17.5,25.0],\"x0\":\" \",\"xaxis\":\"x\",\"y\":[\"UberXL\",\"UberXL\",\"UberXL\",\"UberXL\",\"UberXL\",\"UberXL\",\"UberXL\",\"UberXL\",\"UberXL\",\"UberXL\",\"UberXL\",\"UberXL\",\"UberXL\",\"UberXL\",\"UberXL\",\"UberXL\",\"UberXL\",\"UberXL\",\"UberXL\",\"UberXL\",\"UberXL\",\"UberXL\",\"UberXL\",\"UberXL\",\"UberXL\",\"UberXL\",\"UberXL\",\"UberXL\",\"UberXL\",\"UberXL\",\"UberXL\",\"UberXL\",\"UberXL\",\"UberXL\",\"UberXL\",\"UberXL\",\"UberXL\",\"UberXL\",\"UberXL\",\"UberXL\",\"UberXL\",\"UberXL\",\"UberXL\",\"UberXL\",\"UberXL\",\"UberXL\",\"UberXL\",\"UberXL\",\"UberXL\",\"UberXL\",\"UberXL\",\"UberXL\",\"UberXL\",\"UberXL\",\"UberXL\",\"UberXL\",\"UberXL\",\"UberXL\",\"UberXL\",\"UberXL\",\"UberXL\",\"UberXL\",\"UberXL\",\"UberXL\",\"UberXL\",\"UberXL\",\"UberXL\",\"UberXL\",\"UberXL\",\"UberXL\",\"UberXL\",\"UberXL\",\"UberXL\",\"UberXL\",\"UberXL\",\"UberXL\",\"UberXL\",\"UberXL\",\"UberXL\",\"UberXL\",\"UberXL\",\"UberXL\",\"UberXL\",\"UberXL\",\"UberXL\",\"UberXL\",\"UberXL\",\"UberXL\",\"UberXL\",\"UberXL\",\"UberXL\",\"UberXL\",\"UberXL\",\"UberXL\",\"UberXL\",\"UberXL\",\"UberXL\",\"UberXL\",\"UberXL\",\"UberXL\",\"UberXL\",\"UberXL\",\"UberXL\",\"UberXL\",\"UberXL\",\"UberXL\",\"UberXL\",\"UberXL\",\"UberXL\",\"UberXL\",\"UberXL\",\"UberXL\",\"UberXL\",\"UberXL\",\"UberXL\",\"UberXL\",\"UberXL\",\"UberXL\",\"UberXL\",\"UberXL\",\"UberXL\",\"UberXL\",\"UberXL\",\"UberXL\",\"UberXL\",\"UberXL\",\"UberXL\",\"UberXL\",\"UberXL\",\"UberXL\",\"UberXL\",\"UberXL\",\"UberXL\",\"UberXL\",\"UberXL\",\"UberXL\",\"UberXL\",\"UberXL\",\"UberXL\",\"UberXL\",\"UberXL\",\"UberXL\",\"UberXL\",\"UberXL\",\"UberXL\",\"UberXL\",\"UberXL\",\"UberXL\",\"UberXL\",\"UberXL\",\"UberXL\",\"UberXL\",\"UberXL\",\"UberXL\",\"UberXL\",\"UberXL\",\"UberXL\",\"UberXL\",\"UberXL\",\"UberXL\",\"UberXL\",\"UberXL\",\"UberXL\",\"UberXL\",\"UberXL\",\"UberXL\",\"UberXL\",\"UberXL\",\"UberXL\",\"UberXL\",\"UberXL\",\"UberXL\",\"UberXL\",\"UberXL\",\"UberXL\",\"UberXL\",\"UberXL\",\"UberXL\",\"UberXL\",\"UberXL\",\"UberXL\",\"UberXL\",\"UberXL\",\"UberXL\",\"UberXL\",\"UberXL\",\"UberXL\",\"UberXL\",\"UberXL\",\"UberXL\",\"UberXL\",\"UberXL\",\"UberXL\",\"UberXL\",\"UberXL\",\"UberXL\",\"UberXL\",\"UberXL\",\"UberXL\",\"UberXL\",\"UberXL\",\"UberXL\",\"UberXL\",\"UberXL\",\"UberXL\",\"UberXL\",\"UberXL\",\"UberXL\",\"UberXL\",\"UberXL\",\"UberXL\",\"UberXL\",\"UberXL\",\"UberXL\",\"UberXL\",\"UberXL\",\"UberXL\",\"UberXL\",\"UberXL\",\"UberXL\",\"UberXL\",\"UberXL\",\"UberXL\",\"UberXL\",\"UberXL\",\"UberXL\",\"UberXL\",\"UberXL\",\"UberXL\",\"UberXL\",\"UberXL\",\"UberXL\",\"UberXL\",\"UberXL\",\"UberXL\",\"UberXL\",\"UberXL\",\"UberXL\",\"UberXL\",\"UberXL\",\"UberXL\",\"UberXL\",\"UberXL\",\"UberXL\",\"UberXL\",\"UberXL\",\"UberXL\",\"UberXL\",\"UberXL\",\"UberXL\",\"UberXL\",\"UberXL\",\"UberXL\",\"UberXL\",\"UberXL\",\"UberXL\",\"UberXL\",\"UberXL\",\"UberXL\",\"UberXL\",\"UberXL\",\"UberXL\",\"UberXL\",\"UberXL\",\"UberXL\",\"UberXL\",\"UberXL\",\"UberXL\",\"UberXL\",\"UberXL\",\"UberXL\",\"UberXL\",\"UberXL\",\"UberXL\"],\"y0\":\" \",\"yaxis\":\"y\"},{\"alignmentgroup\":\"True\",\"boxpoints\":\"all\",\"fillcolor\":\"rgba(255,255,255,0)\",\"hoveron\":\"points\",\"hovertemplate\":\"name=%{y}<br>price=%{x}<extra></extra>\",\"legendgroup\":\"Black SUV\",\"line\":{\"color\":\"rgba(255,255,255,0)\"},\"marker\":{\"color\":\"#FFA15A\"},\"name\":\"Black SUV\",\"offsetgroup\":\"Black SUV\",\"orientation\":\"h\",\"pointpos\":0,\"showlegend\":true,\"type\":\"box\",\"x\":[27.5,28.5,26.0,35.0,29.5,26.0,33.0,36.0,27.0,29.0,27.5,27.5,30.5,38.5,31.0,27.5,29.5,37.0,30.5,35.0,30.5,27.0,27.0,31.5,43.5,27.0,26.5,30.5,27.5,26.5,30.5,32.5,27.5,27.5,32.5,39.0,25.0,30.0,42.0,48.0,26.0,37.0,34.0,32.5,31.5,32.0,28.5,31.5,27.0,31.5,27.5,27.5,26.5,39.5,26.5,31.5,32.0,30.5,30.5,27.5,48.0,27.5,32.0,27.5,32.5,29.5,27.5,27.0,26.0,28.5,26.0,44.0,26.5,26.5,27.0,35.0,33.0,27.5,26.0,32.5,27.5,25.0,26.0,26.0,26.0,28.0,39.5,27.5,32.5,28.5,27.5,27.5,39.5,26.5,29.0,30.5,26.5,29.5,36.0,27.5,32.0,27.5,27.5,33.0,44.0,26.0,37.5,26.5,26.5,26.5,28.5,29.5,26.5,33.0,28.5,32.0,26.5,27.0,32.0,26.5,26.5,27.5,33.0,31.5,43.0,27.0,27.5,29.5,27.5,26.0,26.5,35.0,26.5,26.0,35.0,33.0,37.0,27.0,27.0,34.0,27.5,29.5,26.5,27.5,27.5,35.0,32.5,36.0,27.5,27.0,28.5,27.0,24.0,26.5,28.0,29.5,33.0,36.5,34.0,25.0,36.0,33.5,29.5,29.5,30.5,26.0,37.0,27.5,29.5,26.5,31.5,25.0,30.5,43.0,30.5,26.5,26.0,28.5,29.0,29.5,27.5,26.0,30.5,26.0,28.5,30.5,28.5,35.0,27.5,35.0,32.5,27.5,26.0,26.5,26.0,26.0,26.5,27.0,27.5,29.0,26.0,32.5,37.0,26.5,36.0,28.5,35.5,34.0,41.5,31.5,39.0,38.5,27.0,34.0,40.5,27.5,26.5,35.0,27.0,27.5,27.5,27.0,31.5,30.5,27.5,32.5,27.0,27.5,27.5,37.5,37.0,34.0,32.5,31.5,32.5,40.5,31.0,26.0,28.0,26.0,27.5,27.5,33.5,26.0,32.5,27.0,27.0,32.0,29.5,29.5,27.0,31.5,31.0,32.5,39.0,34.0,35.0,27.5,26.0,28.5,31.5,27.5,26.0,41.0,27.5,31.0,36.0,28.5,27.0,28.5,33.5,34.0,26.5,31.5,23.0],\"x0\":\" \",\"xaxis\":\"x\",\"y\":[\"Black SUV\",\"Black SUV\",\"Black SUV\",\"Black SUV\",\"Black SUV\",\"Black SUV\",\"Black SUV\",\"Black SUV\",\"Black SUV\",\"Black SUV\",\"Black SUV\",\"Black SUV\",\"Black SUV\",\"Black SUV\",\"Black SUV\",\"Black SUV\",\"Black SUV\",\"Black SUV\",\"Black SUV\",\"Black SUV\",\"Black SUV\",\"Black SUV\",\"Black SUV\",\"Black SUV\",\"Black SUV\",\"Black SUV\",\"Black SUV\",\"Black SUV\",\"Black SUV\",\"Black SUV\",\"Black SUV\",\"Black SUV\",\"Black SUV\",\"Black SUV\",\"Black SUV\",\"Black SUV\",\"Black SUV\",\"Black SUV\",\"Black SUV\",\"Black SUV\",\"Black SUV\",\"Black SUV\",\"Black SUV\",\"Black SUV\",\"Black SUV\",\"Black SUV\",\"Black SUV\",\"Black SUV\",\"Black SUV\",\"Black SUV\",\"Black SUV\",\"Black SUV\",\"Black SUV\",\"Black SUV\",\"Black SUV\",\"Black SUV\",\"Black SUV\",\"Black SUV\",\"Black SUV\",\"Black SUV\",\"Black SUV\",\"Black SUV\",\"Black SUV\",\"Black SUV\",\"Black SUV\",\"Black SUV\",\"Black SUV\",\"Black SUV\",\"Black SUV\",\"Black SUV\",\"Black SUV\",\"Black SUV\",\"Black SUV\",\"Black SUV\",\"Black SUV\",\"Black SUV\",\"Black SUV\",\"Black SUV\",\"Black SUV\",\"Black SUV\",\"Black SUV\",\"Black SUV\",\"Black SUV\",\"Black SUV\",\"Black SUV\",\"Black SUV\",\"Black SUV\",\"Black SUV\",\"Black SUV\",\"Black SUV\",\"Black SUV\",\"Black SUV\",\"Black SUV\",\"Black SUV\",\"Black SUV\",\"Black SUV\",\"Black SUV\",\"Black SUV\",\"Black SUV\",\"Black SUV\",\"Black SUV\",\"Black SUV\",\"Black SUV\",\"Black SUV\",\"Black SUV\",\"Black SUV\",\"Black SUV\",\"Black SUV\",\"Black SUV\",\"Black SUV\",\"Black SUV\",\"Black SUV\",\"Black SUV\",\"Black SUV\",\"Black SUV\",\"Black SUV\",\"Black SUV\",\"Black SUV\",\"Black SUV\",\"Black SUV\",\"Black SUV\",\"Black SUV\",\"Black SUV\",\"Black SUV\",\"Black SUV\",\"Black SUV\",\"Black SUV\",\"Black SUV\",\"Black SUV\",\"Black SUV\",\"Black SUV\",\"Black SUV\",\"Black SUV\",\"Black SUV\",\"Black SUV\",\"Black SUV\",\"Black SUV\",\"Black SUV\",\"Black SUV\",\"Black SUV\",\"Black SUV\",\"Black SUV\",\"Black SUV\",\"Black SUV\",\"Black SUV\",\"Black SUV\",\"Black SUV\",\"Black SUV\",\"Black SUV\",\"Black SUV\",\"Black SUV\",\"Black SUV\",\"Black SUV\",\"Black SUV\",\"Black SUV\",\"Black SUV\",\"Black SUV\",\"Black SUV\",\"Black SUV\",\"Black SUV\",\"Black SUV\",\"Black SUV\",\"Black SUV\",\"Black SUV\",\"Black SUV\",\"Black SUV\",\"Black SUV\",\"Black SUV\",\"Black SUV\",\"Black SUV\",\"Black SUV\",\"Black SUV\",\"Black SUV\",\"Black SUV\",\"Black SUV\",\"Black SUV\",\"Black SUV\",\"Black SUV\",\"Black SUV\",\"Black SUV\",\"Black SUV\",\"Black SUV\",\"Black SUV\",\"Black SUV\",\"Black SUV\",\"Black SUV\",\"Black SUV\",\"Black SUV\",\"Black SUV\",\"Black SUV\",\"Black SUV\",\"Black SUV\",\"Black SUV\",\"Black SUV\",\"Black SUV\",\"Black SUV\",\"Black SUV\",\"Black SUV\",\"Black SUV\",\"Black SUV\",\"Black SUV\",\"Black SUV\",\"Black SUV\",\"Black SUV\",\"Black SUV\",\"Black SUV\",\"Black SUV\",\"Black SUV\",\"Black SUV\",\"Black SUV\",\"Black SUV\",\"Black SUV\",\"Black SUV\",\"Black SUV\",\"Black SUV\",\"Black SUV\",\"Black SUV\",\"Black SUV\",\"Black SUV\",\"Black SUV\",\"Black SUV\",\"Black SUV\",\"Black SUV\",\"Black SUV\",\"Black SUV\",\"Black SUV\",\"Black SUV\",\"Black SUV\",\"Black SUV\",\"Black SUV\",\"Black SUV\",\"Black SUV\",\"Black SUV\",\"Black SUV\",\"Black SUV\",\"Black SUV\",\"Black SUV\",\"Black SUV\",\"Black SUV\",\"Black SUV\",\"Black SUV\",\"Black SUV\",\"Black SUV\",\"Black SUV\",\"Black SUV\",\"Black SUV\",\"Black SUV\",\"Black SUV\",\"Black SUV\",\"Black SUV\",\"Black SUV\",\"Black SUV\",\"Black SUV\",\"Black SUV\",\"Black SUV\",\"Black SUV\",\"Black SUV\",\"Black SUV\",\"Black SUV\",\"Black SUV\",\"Black SUV\",\"Black SUV\",\"Black SUV\",\"Black SUV\",\"Black SUV\",\"Black SUV\",\"Black SUV\",\"Black SUV\",\"Black SUV\",\"Black SUV\",\"Black SUV\",\"Black SUV\",\"Black SUV\",\"Black SUV\",\"Black SUV\"],\"y0\":\" \",\"yaxis\":\"y\"},{\"alignmentgroup\":\"True\",\"boxpoints\":\"all\",\"fillcolor\":\"rgba(255,255,255,0)\",\"hoveron\":\"points\",\"hovertemplate\":\"name=%{y}<br>price=%{x}<extra></extra>\",\"legendgroup\":\"Black\",\"line\":{\"color\":\"rgba(255,255,255,0)\"},\"marker\":{\"color\":\"#19d3f3\"},\"name\":\"Black\",\"offsetgroup\":\"Black\",\"orientation\":\"h\",\"pointpos\":0,\"showlegend\":true,\"type\":\"box\",\"x\":[20.5,34.0,17.5,18.5,15.0,20.5,19.0,25.0,17.5,24.0,36.0,23.0,26.0,18.5,16.0,16.0,15.0,16.0,26.5,15.0,18.5,20.5,23.5,28.0,20.0,20.5,24.0,18.5,18.5,18.5,26.0,20.5,16.0,16.5,16.5,28.0,25.0,28.5,30.5,21.0,17.0,16.0,24.0,30.5,22.0,21.5,15.5,24.0,39.5,16.5,21.5,15.5,15.0,17.0,23.0,21.5,27.0,24.0,15.0,22.5,19.5,24.0,16.0,18.5,22.5,16.5,20.5,25.0,20.5,23.0,22.5,15.0,17.0,15.0,18.0,21.0,15.0,21.0,15.0,19.5,17.0,23.5,17.0,23.5,24.0,28.0,24.0,15.0,28.5,17.0,17.5,16.0,29.0,18.0,17.0,24.0,20.5,25.0,20.5,26.5,15.0,16.0,17.5,23.0,18.5,15.5,21.5,23.5,19.0,16.5,20.5,25.0,20.5,16.0,16.0,21.5,23.0,28.0,28.0,19.5,23.0,21.0,33.0,16.0,16.0,24.0,16.0,16.0,16.0,21.5,18.5,15.0,21.0,15.0,18.0,18.5,15.0,16.0,22.5,16.0,25.0,16.0,18.5,15.5,15.0,15.0,15.0,19.5,20.5,26.0,15.0,17.0,16.5,24.0,22.0,19.0,21.0,18.5,15.0,24.0,20.5,23.0,23.0,26.0,16.0,15.0,23.0,16.0,23.0,16.0,22.0,31.5,23.5,19.5,19.5,32.5,20.5,19.5,15.0,27.0,22.0,34.0,33.0,17.0,19.5,24.5,15.0,21.0,21.5,19.5,22.5,20.5,25.0,17.5,15.0,15.0,23.0,17.0,15.5,26.0,30.5,24.0,22.0,25.0,16.0,16.0,33.0,19.5,18.5,25.5,15.0,24.0,15.5,16.5,27.5,25.0,26.5,25.0,19.5,21.5,15.0,15.5,23.0,15.0,21.5,20.5,25.0,20.5,15.0,27.0,19.5,28.5,26.0,23.0,27.0,19.0,23.0,30.5,21.0,18.5,23.5,18.0,22.0,17.5,20.5,23.0,16.0,18.5,15.0,15.0,18.5,24.0,16.0,21.5,17.0,22.5,24.0,26.0,15.0,18.5,35.0,27.0,15.0,17.5,25.0,15.5,37.0,17.5,29.5,25.0,23.0,32.5,18.5,21.0,25.0,16.0,21.5,16.0,26.0,17.5,17.5,16.0,19.5],\"x0\":\" \",\"xaxis\":\"x\",\"y\":[\"Black\",\"Black\",\"Black\",\"Black\",\"Black\",\"Black\",\"Black\",\"Black\",\"Black\",\"Black\",\"Black\",\"Black\",\"Black\",\"Black\",\"Black\",\"Black\",\"Black\",\"Black\",\"Black\",\"Black\",\"Black\",\"Black\",\"Black\",\"Black\",\"Black\",\"Black\",\"Black\",\"Black\",\"Black\",\"Black\",\"Black\",\"Black\",\"Black\",\"Black\",\"Black\",\"Black\",\"Black\",\"Black\",\"Black\",\"Black\",\"Black\",\"Black\",\"Black\",\"Black\",\"Black\",\"Black\",\"Black\",\"Black\",\"Black\",\"Black\",\"Black\",\"Black\",\"Black\",\"Black\",\"Black\",\"Black\",\"Black\",\"Black\",\"Black\",\"Black\",\"Black\",\"Black\",\"Black\",\"Black\",\"Black\",\"Black\",\"Black\",\"Black\",\"Black\",\"Black\",\"Black\",\"Black\",\"Black\",\"Black\",\"Black\",\"Black\",\"Black\",\"Black\",\"Black\",\"Black\",\"Black\",\"Black\",\"Black\",\"Black\",\"Black\",\"Black\",\"Black\",\"Black\",\"Black\",\"Black\",\"Black\",\"Black\",\"Black\",\"Black\",\"Black\",\"Black\",\"Black\",\"Black\",\"Black\",\"Black\",\"Black\",\"Black\",\"Black\",\"Black\",\"Black\",\"Black\",\"Black\",\"Black\",\"Black\",\"Black\",\"Black\",\"Black\",\"Black\",\"Black\",\"Black\",\"Black\",\"Black\",\"Black\",\"Black\",\"Black\",\"Black\",\"Black\",\"Black\",\"Black\",\"Black\",\"Black\",\"Black\",\"Black\",\"Black\",\"Black\",\"Black\",\"Black\",\"Black\",\"Black\",\"Black\",\"Black\",\"Black\",\"Black\",\"Black\",\"Black\",\"Black\",\"Black\",\"Black\",\"Black\",\"Black\",\"Black\",\"Black\",\"Black\",\"Black\",\"Black\",\"Black\",\"Black\",\"Black\",\"Black\",\"Black\",\"Black\",\"Black\",\"Black\",\"Black\",\"Black\",\"Black\",\"Black\",\"Black\",\"Black\",\"Black\",\"Black\",\"Black\",\"Black\",\"Black\",\"Black\",\"Black\",\"Black\",\"Black\",\"Black\",\"Black\",\"Black\",\"Black\",\"Black\",\"Black\",\"Black\",\"Black\",\"Black\",\"Black\",\"Black\",\"Black\",\"Black\",\"Black\",\"Black\",\"Black\",\"Black\",\"Black\",\"Black\",\"Black\",\"Black\",\"Black\",\"Black\",\"Black\",\"Black\",\"Black\",\"Black\",\"Black\",\"Black\",\"Black\",\"Black\",\"Black\",\"Black\",\"Black\",\"Black\",\"Black\",\"Black\",\"Black\",\"Black\",\"Black\",\"Black\",\"Black\",\"Black\",\"Black\",\"Black\",\"Black\",\"Black\",\"Black\",\"Black\",\"Black\",\"Black\",\"Black\",\"Black\",\"Black\",\"Black\",\"Black\",\"Black\",\"Black\",\"Black\",\"Black\",\"Black\",\"Black\",\"Black\",\"Black\",\"Black\",\"Black\",\"Black\",\"Black\",\"Black\",\"Black\",\"Black\",\"Black\",\"Black\",\"Black\",\"Black\",\"Black\",\"Black\",\"Black\",\"Black\",\"Black\",\"Black\",\"Black\",\"Black\",\"Black\",\"Black\",\"Black\",\"Black\",\"Black\",\"Black\",\"Black\",\"Black\",\"Black\",\"Black\",\"Black\",\"Black\",\"Black\",\"Black\",\"Black\",\"Black\",\"Black\",\"Black\",\"Black\",\"Black\",\"Black\",\"Black\",\"Black\",\"Black\",\"Black\",\"Black\",\"Black\"],\"y0\":\" \",\"yaxis\":\"y\"},{\"alignmentgroup\":\"True\",\"boxpoints\":\"all\",\"fillcolor\":\"rgba(255,255,255,0)\",\"hoveron\":\"points\",\"hovertemplate\":\"name=%{y}<br>price=%{x}<extra></extra>\",\"legendgroup\":\"UberPool\",\"line\":{\"color\":\"rgba(255,255,255,0)\"},\"marker\":{\"color\":\"#FF6692\"},\"name\":\"UberPool\",\"offsetgroup\":\"UberPool\",\"orientation\":\"h\",\"pointpos\":0,\"showlegend\":true,\"type\":\"box\",\"x\":[10.0,8.5,10.0,10.0,8.0,7.5,11.0,10.0,10.0,10.0,8.5,8.0,7.5,10.0,11.0,9.5,7.5,12.0,10.0,7.0,4.5,8.5,9.0,8.5,9.5,7.5,6.5,6.5,9.0,6.5,7.5,11.0,11.0,9.0,7.0,7.0,6.5,12.5,9.0,13.5,12.0,6.5,11.0,10.0,10.0,8.5,8.5,11.0,9.5,8.0,9.5,7.5,10.0,11.0,7.0,11.0,5.5,7.5,11.0,12.0,6.5,11.0,5.5,6.5,7.0,12.5,7.5,9.0,8.0,6.5,9.0,11.0,6.5,7.5,6.5,26.5,12.0,10.0,9.5,7.5,8.0,7.5,7.5,7.5,8.0,9.0,9.0,11.0,9.0,7.5,11.0,9.0,7.5,15.5,8.5,17.0,11.0,6.5,11.0,7.0,9.0,7.0,10.0,11.0,9.0,9.0,9.0,7.5,10.0,10.0,9.5,13.0,11.0,7.5,8.0,8.5,9.0,9.0,6.5,8.5,7.5,10.0,8.0,7.0,11.0,9.0,11.0,6.5,7.5,7.5,18.0,9.0,12.0,9.5,8.0,7.5,8.0,6.5,12.0,12.0,9.0,10.0,5.5,8.0,7.5,8.0,7.0,10.0,10.0,8.0,10.0,9.0,5.5,11.0,7.5,8.0,8.5,8.0,8.0,10.0,9.0,11.0,11.0,8.0,9.0,7.5,8.0,10.0,9.0,7.5,8.0,5.5,10.0,11.0,8.0,5.5,17.0,8.0,6.5,7.0,6.5,8.5,8.5,8.5,9.0,9.0,6.5,10.0,8.5,9.5,12.0,11.0,8.5,6.5,7.0,8.0,8.5,12.0,11.0,8.5,7.5,9.0,8.0,8.5,13.0,7.5,8.5,8.0,5.5,6.5,7.0,15.5,7.5,7.5,10.0,7.5,8.5,9.0,13.5,10.0,7.0,6.5,11.5,6.5,9.0,7.0,8.0,7.5,9.5,9.0,12.0,6.5,9.0,8.5,9.0,14.5,13.5,6.5,7.5,9.0,7.5,5.5,5.5,7.0,6.5,9.0,9.0,7.5,8.5,5.5,11.0,9.0,10.0,14.0,11.0,7.5,6.5,11.0,7.5,9.0,8.5,9.0,8.5,7.5,8.5,10.0,9.0,7.5,8.5,11.0,10.0,5.5,6.5,9.0,7.5,9.0,10.0,6.5,8.0,8.5],\"x0\":\" \",\"xaxis\":\"x\",\"y\":[\"UberPool\",\"UberPool\",\"UberPool\",\"UberPool\",\"UberPool\",\"UberPool\",\"UberPool\",\"UberPool\",\"UberPool\",\"UberPool\",\"UberPool\",\"UberPool\",\"UberPool\",\"UberPool\",\"UberPool\",\"UberPool\",\"UberPool\",\"UberPool\",\"UberPool\",\"UberPool\",\"UberPool\",\"UberPool\",\"UberPool\",\"UberPool\",\"UberPool\",\"UberPool\",\"UberPool\",\"UberPool\",\"UberPool\",\"UberPool\",\"UberPool\",\"UberPool\",\"UberPool\",\"UberPool\",\"UberPool\",\"UberPool\",\"UberPool\",\"UberPool\",\"UberPool\",\"UberPool\",\"UberPool\",\"UberPool\",\"UberPool\",\"UberPool\",\"UberPool\",\"UberPool\",\"UberPool\",\"UberPool\",\"UberPool\",\"UberPool\",\"UberPool\",\"UberPool\",\"UberPool\",\"UberPool\",\"UberPool\",\"UberPool\",\"UberPool\",\"UberPool\",\"UberPool\",\"UberPool\",\"UberPool\",\"UberPool\",\"UberPool\",\"UberPool\",\"UberPool\",\"UberPool\",\"UberPool\",\"UberPool\",\"UberPool\",\"UberPool\",\"UberPool\",\"UberPool\",\"UberPool\",\"UberPool\",\"UberPool\",\"UberPool\",\"UberPool\",\"UberPool\",\"UberPool\",\"UberPool\",\"UberPool\",\"UberPool\",\"UberPool\",\"UberPool\",\"UberPool\",\"UberPool\",\"UberPool\",\"UberPool\",\"UberPool\",\"UberPool\",\"UberPool\",\"UberPool\",\"UberPool\",\"UberPool\",\"UberPool\",\"UberPool\",\"UberPool\",\"UberPool\",\"UberPool\",\"UberPool\",\"UberPool\",\"UberPool\",\"UberPool\",\"UberPool\",\"UberPool\",\"UberPool\",\"UberPool\",\"UberPool\",\"UberPool\",\"UberPool\",\"UberPool\",\"UberPool\",\"UberPool\",\"UberPool\",\"UberPool\",\"UberPool\",\"UberPool\",\"UberPool\",\"UberPool\",\"UberPool\",\"UberPool\",\"UberPool\",\"UberPool\",\"UberPool\",\"UberPool\",\"UberPool\",\"UberPool\",\"UberPool\",\"UberPool\",\"UberPool\",\"UberPool\",\"UberPool\",\"UberPool\",\"UberPool\",\"UberPool\",\"UberPool\",\"UberPool\",\"UberPool\",\"UberPool\",\"UberPool\",\"UberPool\",\"UberPool\",\"UberPool\",\"UberPool\",\"UberPool\",\"UberPool\",\"UberPool\",\"UberPool\",\"UberPool\",\"UberPool\",\"UberPool\",\"UberPool\",\"UberPool\",\"UberPool\",\"UberPool\",\"UberPool\",\"UberPool\",\"UberPool\",\"UberPool\",\"UberPool\",\"UberPool\",\"UberPool\",\"UberPool\",\"UberPool\",\"UberPool\",\"UberPool\",\"UberPool\",\"UberPool\",\"UberPool\",\"UberPool\",\"UberPool\",\"UberPool\",\"UberPool\",\"UberPool\",\"UberPool\",\"UberPool\",\"UberPool\",\"UberPool\",\"UberPool\",\"UberPool\",\"UberPool\",\"UberPool\",\"UberPool\",\"UberPool\",\"UberPool\",\"UberPool\",\"UberPool\",\"UberPool\",\"UberPool\",\"UberPool\",\"UberPool\",\"UberPool\",\"UberPool\",\"UberPool\",\"UberPool\",\"UberPool\",\"UberPool\",\"UberPool\",\"UberPool\",\"UberPool\",\"UberPool\",\"UberPool\",\"UberPool\",\"UberPool\",\"UberPool\",\"UberPool\",\"UberPool\",\"UberPool\",\"UberPool\",\"UberPool\",\"UberPool\",\"UberPool\",\"UberPool\",\"UberPool\",\"UberPool\",\"UberPool\",\"UberPool\",\"UberPool\",\"UberPool\",\"UberPool\",\"UberPool\",\"UberPool\",\"UberPool\",\"UberPool\",\"UberPool\",\"UberPool\",\"UberPool\",\"UberPool\",\"UberPool\",\"UberPool\",\"UberPool\",\"UberPool\",\"UberPool\",\"UberPool\",\"UberPool\",\"UberPool\",\"UberPool\",\"UberPool\",\"UberPool\",\"UberPool\",\"UberPool\",\"UberPool\",\"UberPool\",\"UberPool\",\"UberPool\",\"UberPool\",\"UberPool\",\"UberPool\",\"UberPool\",\"UberPool\",\"UberPool\",\"UberPool\",\"UberPool\",\"UberPool\",\"UberPool\",\"UberPool\",\"UberPool\",\"UberPool\",\"UberPool\",\"UberPool\",\"UberPool\",\"UberPool\",\"UberPool\",\"UberPool\",\"UberPool\",\"UberPool\",\"UberPool\",\"UberPool\",\"UberPool\",\"UberPool\",\"UberPool\",\"UberPool\",\"UberPool\",\"UberPool\",\"UberPool\",\"UberPool\",\"UberPool\",\"UberPool\",\"UberPool\",\"UberPool\"],\"y0\":\" \",\"yaxis\":\"y\"}],                        {\"boxmode\":\"overlay\",\"legend\":{\"title\":{\"text\":\"name\"},\"tracegroupgap\":0},\"margin\":{\"t\":60},\"template\":{\"data\":{\"bar\":[{\"error_x\":{\"color\":\"#2a3f5f\"},\"error_y\":{\"color\":\"#2a3f5f\"},\"marker\":{\"line\":{\"color\":\"#E5ECF6\",\"width\":0.5},\"pattern\":{\"fillmode\":\"overlay\",\"size\":10,\"solidity\":0.2}},\"type\":\"bar\"}],\"barpolar\":[{\"marker\":{\"line\":{\"color\":\"#E5ECF6\",\"width\":0.5},\"pattern\":{\"fillmode\":\"overlay\",\"size\":10,\"solidity\":0.2}},\"type\":\"barpolar\"}],\"carpet\":[{\"aaxis\":{\"endlinecolor\":\"#2a3f5f\",\"gridcolor\":\"white\",\"linecolor\":\"white\",\"minorgridcolor\":\"white\",\"startlinecolor\":\"#2a3f5f\"},\"baxis\":{\"endlinecolor\":\"#2a3f5f\",\"gridcolor\":\"white\",\"linecolor\":\"white\",\"minorgridcolor\":\"white\",\"startlinecolor\":\"#2a3f5f\"},\"type\":\"carpet\"}],\"choropleth\":[{\"colorbar\":{\"outlinewidth\":0,\"ticks\":\"\"},\"type\":\"choropleth\"}],\"contour\":[{\"colorbar\":{\"outlinewidth\":0,\"ticks\":\"\"},\"colorscale\":[[0.0,\"#0d0887\"],[0.1111111111111111,\"#46039f\"],[0.2222222222222222,\"#7201a8\"],[0.3333333333333333,\"#9c179e\"],[0.4444444444444444,\"#bd3786\"],[0.5555555555555556,\"#d8576b\"],[0.6666666666666666,\"#ed7953\"],[0.7777777777777778,\"#fb9f3a\"],[0.8888888888888888,\"#fdca26\"],[1.0,\"#f0f921\"]],\"type\":\"contour\"}],\"contourcarpet\":[{\"colorbar\":{\"outlinewidth\":0,\"ticks\":\"\"},\"type\":\"contourcarpet\"}],\"heatmap\":[{\"colorbar\":{\"outlinewidth\":0,\"ticks\":\"\"},\"colorscale\":[[0.0,\"#0d0887\"],[0.1111111111111111,\"#46039f\"],[0.2222222222222222,\"#7201a8\"],[0.3333333333333333,\"#9c179e\"],[0.4444444444444444,\"#bd3786\"],[0.5555555555555556,\"#d8576b\"],[0.6666666666666666,\"#ed7953\"],[0.7777777777777778,\"#fb9f3a\"],[0.8888888888888888,\"#fdca26\"],[1.0,\"#f0f921\"]],\"type\":\"heatmap\"}],\"heatmapgl\":[{\"colorbar\":{\"outlinewidth\":0,\"ticks\":\"\"},\"colorscale\":[[0.0,\"#0d0887\"],[0.1111111111111111,\"#46039f\"],[0.2222222222222222,\"#7201a8\"],[0.3333333333333333,\"#9c179e\"],[0.4444444444444444,\"#bd3786\"],[0.5555555555555556,\"#d8576b\"],[0.6666666666666666,\"#ed7953\"],[0.7777777777777778,\"#fb9f3a\"],[0.8888888888888888,\"#fdca26\"],[1.0,\"#f0f921\"]],\"type\":\"heatmapgl\"}],\"histogram\":[{\"marker\":{\"pattern\":{\"fillmode\":\"overlay\",\"size\":10,\"solidity\":0.2}},\"type\":\"histogram\"}],\"histogram2d\":[{\"colorbar\":{\"outlinewidth\":0,\"ticks\":\"\"},\"colorscale\":[[0.0,\"#0d0887\"],[0.1111111111111111,\"#46039f\"],[0.2222222222222222,\"#7201a8\"],[0.3333333333333333,\"#9c179e\"],[0.4444444444444444,\"#bd3786\"],[0.5555555555555556,\"#d8576b\"],[0.6666666666666666,\"#ed7953\"],[0.7777777777777778,\"#fb9f3a\"],[0.8888888888888888,\"#fdca26\"],[1.0,\"#f0f921\"]],\"type\":\"histogram2d\"}],\"histogram2dcontour\":[{\"colorbar\":{\"outlinewidth\":0,\"ticks\":\"\"},\"colorscale\":[[0.0,\"#0d0887\"],[0.1111111111111111,\"#46039f\"],[0.2222222222222222,\"#7201a8\"],[0.3333333333333333,\"#9c179e\"],[0.4444444444444444,\"#bd3786\"],[0.5555555555555556,\"#d8576b\"],[0.6666666666666666,\"#ed7953\"],[0.7777777777777778,\"#fb9f3a\"],[0.8888888888888888,\"#fdca26\"],[1.0,\"#f0f921\"]],\"type\":\"histogram2dcontour\"}],\"mesh3d\":[{\"colorbar\":{\"outlinewidth\":0,\"ticks\":\"\"},\"type\":\"mesh3d\"}],\"parcoords\":[{\"line\":{\"colorbar\":{\"outlinewidth\":0,\"ticks\":\"\"}},\"type\":\"parcoords\"}],\"pie\":[{\"automargin\":true,\"type\":\"pie\"}],\"scatter\":[{\"marker\":{\"colorbar\":{\"outlinewidth\":0,\"ticks\":\"\"}},\"type\":\"scatter\"}],\"scatter3d\":[{\"line\":{\"colorbar\":{\"outlinewidth\":0,\"ticks\":\"\"}},\"marker\":{\"colorbar\":{\"outlinewidth\":0,\"ticks\":\"\"}},\"type\":\"scatter3d\"}],\"scattercarpet\":[{\"marker\":{\"colorbar\":{\"outlinewidth\":0,\"ticks\":\"\"}},\"type\":\"scattercarpet\"}],\"scattergeo\":[{\"marker\":{\"colorbar\":{\"outlinewidth\":0,\"ticks\":\"\"}},\"type\":\"scattergeo\"}],\"scattergl\":[{\"marker\":{\"colorbar\":{\"outlinewidth\":0,\"ticks\":\"\"}},\"type\":\"scattergl\"}],\"scattermapbox\":[{\"marker\":{\"colorbar\":{\"outlinewidth\":0,\"ticks\":\"\"}},\"type\":\"scattermapbox\"}],\"scatterpolar\":[{\"marker\":{\"colorbar\":{\"outlinewidth\":0,\"ticks\":\"\"}},\"type\":\"scatterpolar\"}],\"scatterpolargl\":[{\"marker\":{\"colorbar\":{\"outlinewidth\":0,\"ticks\":\"\"}},\"type\":\"scatterpolargl\"}],\"scatterternary\":[{\"marker\":{\"colorbar\":{\"outlinewidth\":0,\"ticks\":\"\"}},\"type\":\"scatterternary\"}],\"surface\":[{\"colorbar\":{\"outlinewidth\":0,\"ticks\":\"\"},\"colorscale\":[[0.0,\"#0d0887\"],[0.1111111111111111,\"#46039f\"],[0.2222222222222222,\"#7201a8\"],[0.3333333333333333,\"#9c179e\"],[0.4444444444444444,\"#bd3786\"],[0.5555555555555556,\"#d8576b\"],[0.6666666666666666,\"#ed7953\"],[0.7777777777777778,\"#fb9f3a\"],[0.8888888888888888,\"#fdca26\"],[1.0,\"#f0f921\"]],\"type\":\"surface\"}],\"table\":[{\"cells\":{\"fill\":{\"color\":\"#EBF0F8\"},\"line\":{\"color\":\"white\"}},\"header\":{\"fill\":{\"color\":\"#C8D4E3\"},\"line\":{\"color\":\"white\"}},\"type\":\"table\"}]},\"layout\":{\"annotationdefaults\":{\"arrowcolor\":\"#2a3f5f\",\"arrowhead\":0,\"arrowwidth\":1},\"autotypenumbers\":\"strict\",\"coloraxis\":{\"colorbar\":{\"outlinewidth\":0,\"ticks\":\"\"}},\"colorscale\":{\"diverging\":[[0,\"#8e0152\"],[0.1,\"#c51b7d\"],[0.2,\"#de77ae\"],[0.3,\"#f1b6da\"],[0.4,\"#fde0ef\"],[0.5,\"#f7f7f7\"],[0.6,\"#e6f5d0\"],[0.7,\"#b8e186\"],[0.8,\"#7fbc41\"],[0.9,\"#4d9221\"],[1,\"#276419\"]],\"sequential\":[[0.0,\"#0d0887\"],[0.1111111111111111,\"#46039f\"],[0.2222222222222222,\"#7201a8\"],[0.3333333333333333,\"#9c179e\"],[0.4444444444444444,\"#bd3786\"],[0.5555555555555556,\"#d8576b\"],[0.6666666666666666,\"#ed7953\"],[0.7777777777777778,\"#fb9f3a\"],[0.8888888888888888,\"#fdca26\"],[1.0,\"#f0f921\"]],\"sequentialminus\":[[0.0,\"#0d0887\"],[0.1111111111111111,\"#46039f\"],[0.2222222222222222,\"#7201a8\"],[0.3333333333333333,\"#9c179e\"],[0.4444444444444444,\"#bd3786\"],[0.5555555555555556,\"#d8576b\"],[0.6666666666666666,\"#ed7953\"],[0.7777777777777778,\"#fb9f3a\"],[0.8888888888888888,\"#fdca26\"],[1.0,\"#f0f921\"]]},\"colorway\":[\"#636efa\",\"#EF553B\",\"#00cc96\",\"#ab63fa\",\"#FFA15A\",\"#19d3f3\",\"#FF6692\",\"#B6E880\",\"#FF97FF\",\"#FECB52\"],\"font\":{\"color\":\"#2a3f5f\"},\"geo\":{\"bgcolor\":\"white\",\"lakecolor\":\"white\",\"landcolor\":\"#E5ECF6\",\"showlakes\":true,\"showland\":true,\"subunitcolor\":\"white\"},\"hoverlabel\":{\"align\":\"left\"},\"hovermode\":\"closest\",\"mapbox\":{\"style\":\"light\"},\"paper_bgcolor\":\"white\",\"plot_bgcolor\":\"#E5ECF6\",\"polar\":{\"angularaxis\":{\"gridcolor\":\"white\",\"linecolor\":\"white\",\"ticks\":\"\"},\"bgcolor\":\"#E5ECF6\",\"radialaxis\":{\"gridcolor\":\"white\",\"linecolor\":\"white\",\"ticks\":\"\"}},\"scene\":{\"xaxis\":{\"backgroundcolor\":\"#E5ECF6\",\"gridcolor\":\"white\",\"gridwidth\":2,\"linecolor\":\"white\",\"showbackground\":true,\"ticks\":\"\",\"zerolinecolor\":\"white\"},\"yaxis\":{\"backgroundcolor\":\"#E5ECF6\",\"gridcolor\":\"white\",\"gridwidth\":2,\"linecolor\":\"white\",\"showbackground\":true,\"ticks\":\"\",\"zerolinecolor\":\"white\"},\"zaxis\":{\"backgroundcolor\":\"#E5ECF6\",\"gridcolor\":\"white\",\"gridwidth\":2,\"linecolor\":\"white\",\"showbackground\":true,\"ticks\":\"\",\"zerolinecolor\":\"white\"}},\"shapedefaults\":{\"line\":{\"color\":\"#2a3f5f\"}},\"ternary\":{\"aaxis\":{\"gridcolor\":\"white\",\"linecolor\":\"white\",\"ticks\":\"\"},\"baxis\":{\"gridcolor\":\"white\",\"linecolor\":\"white\",\"ticks\":\"\"},\"bgcolor\":\"#E5ECF6\",\"caxis\":{\"gridcolor\":\"white\",\"linecolor\":\"white\",\"ticks\":\"\"}},\"title\":{\"x\":0.05},\"xaxis\":{\"automargin\":true,\"gridcolor\":\"white\",\"linecolor\":\"white\",\"ticks\":\"\",\"title\":{\"standoff\":15},\"zerolinecolor\":\"white\",\"zerolinewidth\":2},\"yaxis\":{\"automargin\":true,\"gridcolor\":\"white\",\"linecolor\":\"white\",\"ticks\":\"\",\"title\":{\"standoff\":15},\"zerolinecolor\":\"white\",\"zerolinewidth\":2}}},\"xaxis\":{\"anchor\":\"y\",\"domain\":[0.0,1.0],\"title\":{\"text\":\"price\"}},\"yaxis\":{\"anchor\":\"x\",\"categoryarray\":[\"UberPool\",\"Black\",\"Black SUV\",\"UberXL\",\"WAV\",\"Taxi\",\"UberX\"],\"categoryorder\":\"array\",\"domain\":[0.0,1.0],\"title\":{\"text\":\"name\"}}},                        {\"responsive\": true}                    ).then(function(){\n",
       "                            \n",
       "var gd = document.getElementById('fa68ccd7-fb86-403a-b27c-b06adf310834');\n",
       "var x = new MutationObserver(function (mutations, observer) {{\n",
       "        var display = window.getComputedStyle(gd).display;\n",
       "        if (!display || display === 'none') {{\n",
       "            console.log([gd, 'removed!']);\n",
       "            Plotly.purge(gd);\n",
       "            observer.disconnect();\n",
       "        }}\n",
       "}});\n",
       "\n",
       "// Listen for the removal of the full notebook cells\n",
       "var notebookContainer = gd.closest('#notebook-container');\n",
       "if (notebookContainer) {{\n",
       "    x.observe(notebookContainer, {childList: true});\n",
       "}}\n",
       "\n",
       "// Listen for the clearing of the current output cell\n",
       "var outputEl = gd.closest('.output');\n",
       "if (outputEl) {{\n",
       "    x.observe(outputEl, {childList: true});\n",
       "}}\n",
       "\n",
       "                        })                };                });            </script>        </div>"
      ]
     },
     "metadata": {},
     "output_type": "display_data"
    }
   ],
   "source": [
    "fig = px.strip(weather_uber_data.head(2000),x='price',y='name',color='name')\n",
    "fig.show()"
   ]
  },
  {
   "cell_type": "code",
   "execution_count": 42,
   "id": "1b47d1e8",
   "metadata": {},
   "outputs": [
    {
     "data": {
      "text/plain": [
       "UberXL       55096\n",
       "Black SUV    55096\n",
       "WAV          55096\n",
       "Black        55095\n",
       "Taxi         55095\n",
       "UberX        55094\n",
       "UberPool     55091\n",
       "Name: name, dtype: int64"
      ]
     },
     "execution_count": 42,
     "metadata": {},
     "output_type": "execute_result"
    }
   ],
   "source": [
    "weather_uber_data['name'].value_counts()"
   ]
  },
  {
   "cell_type": "code",
   "execution_count": null,
   "id": "cf282e50",
   "metadata": {},
   "outputs": [],
   "source": []
  }
 ],
 "metadata": {
  "kernelspec": {
   "display_name": "Python 3",
   "language": "python",
   "name": "python3"
  },
  "language_info": {
   "codemirror_mode": {
    "name": "ipython",
    "version": 3
   },
   "file_extension": ".py",
   "mimetype": "text/x-python",
   "name": "python",
   "nbconvert_exporter": "python",
   "pygments_lexer": "ipython3",
   "version": "3.8.8"
  }
 },
 "nbformat": 4,
 "nbformat_minor": 5
}
